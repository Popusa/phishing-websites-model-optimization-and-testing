{
 "cells": [
  {
   "cell_type": "raw",
   "id": "020113d3",
   "metadata": {},
   "source": [
    "#ENSEMBLES"
   ]
  },
  {
   "cell_type": "code",
   "execution_count": 1,
   "id": "04776ab2",
   "metadata": {},
   "outputs": [
    {
     "name": "stdout",
     "output_type": "stream",
     "text": [
      "Requirement already satisfied: imblearn in d:\\anaconda\\lib\\site-packages (0.0)\n",
      "Requirement already satisfied: imbalanced-learn in d:\\anaconda\\lib\\site-packages (from imblearn) (0.9.1)\n",
      "Requirement already satisfied: numpy>=1.17.3 in d:\\anaconda\\lib\\site-packages (from imbalanced-learn->imblearn) (1.20.3)\n",
      "Requirement already satisfied: threadpoolctl>=2.0.0 in d:\\anaconda\\lib\\site-packages (from imbalanced-learn->imblearn) (2.2.0)\n",
      "Requirement already satisfied: scipy>=1.3.2 in d:\\anaconda\\lib\\site-packages (from imbalanced-learn->imblearn) (1.7.1)\n",
      "Requirement already satisfied: joblib>=1.0.0 in d:\\anaconda\\lib\\site-packages (from imbalanced-learn->imblearn) (1.1.0)\n",
      "Requirement already satisfied: scikit-learn>=1.1.0 in d:\\anaconda\\lib\\site-packages (from imbalanced-learn->imblearn) (1.1.3)\n"
     ]
    }
   ],
   "source": [
    "!pip install imblearn"
   ]
  },
  {
   "cell_type": "code",
   "execution_count": 2,
   "id": "f53389ae",
   "metadata": {},
   "outputs": [],
   "source": [
    "#import all the libraries i'll be using here\n",
    "import pandas as pd\n",
    "from scipy.io import arff #For import the arff file\n",
    "import numpy as np\n",
    "import matplotlib.pyplot as plt\n",
    "import seaborn as sns\n",
    "from sklearn import preprocessing\n",
    "from sklearn.preprocessing import StandardScaler,LabelEncoder\n",
    "##from google.colab import drive\n",
    "##drive.mount('/content/drive') \n",
    "from sklearn.covariance import EllipticEnvelope\n",
    "from sklearn.neighbors import LocalOutlierFactor\n",
    "from sklearn.ensemble import RandomForestClassifier,IsolationForest\n",
    "from imblearn.over_sampling import SMOTE,RandomOverSampler\n",
    "from imblearn.under_sampling import RandomUnderSampler\n",
    "from sklearn.model_selection import train_test_split\n",
    "\n",
    "from sklearn.cluster import KMeans\n",
    "import matplotlib.pyplot as plt\n",
    "from sklearn.svm import SVC\n",
    "from sklearn.model_selection import learning_curve\n",
    "from sklearn.metrics import plot_confusion_matrix\n",
    "from sklearn import metrics\n",
    "from sklearn.metrics import classification_report\n",
    "from mlxtend.evaluate import bias_variance_decomp\n",
    "from sklearn.ensemble import AdaBoostClassifier\n",
    "from sklearn.tree import DecisionTreeClassifier\n",
    "from sklearn.metrics import accuracy_score,plot_confusion_matrix\n",
    "from imblearn.pipeline import Pipeline as imbPipeline"
   ]
  },
  {
   "cell_type": "code",
   "execution_count": 3,
   "id": "6e01a52e",
   "metadata": {},
   "outputs": [
    {
     "data": {
      "text/html": [
       "<div>\n",
       "<style scoped>\n",
       "    .dataframe tbody tr th:only-of-type {\n",
       "        vertical-align: middle;\n",
       "    }\n",
       "\n",
       "    .dataframe tbody tr th {\n",
       "        vertical-align: top;\n",
       "    }\n",
       "\n",
       "    .dataframe thead th {\n",
       "        text-align: right;\n",
       "    }\n",
       "</style>\n",
       "<table border=\"1\" class=\"dataframe\">\n",
       "  <thead>\n",
       "    <tr style=\"text-align: right;\">\n",
       "      <th></th>\n",
       "      <th>click</th>\n",
       "      <th>impression</th>\n",
       "      <th>url_hash</th>\n",
       "      <th>ad_id</th>\n",
       "      <th>advertiser_id</th>\n",
       "      <th>depth</th>\n",
       "      <th>position</th>\n",
       "      <th>query_id</th>\n",
       "      <th>keyword_id</th>\n",
       "      <th>title_id</th>\n",
       "      <th>description_id</th>\n",
       "      <th>user_id</th>\n",
       "    </tr>\n",
       "  </thead>\n",
       "  <tbody>\n",
       "    <tr>\n",
       "      <th>0</th>\n",
       "      <td>b'0'</td>\n",
       "      <td>1.0</td>\n",
       "      <td>1.071003e+19</td>\n",
       "      <td>8343295.0</td>\n",
       "      <td>11700.0</td>\n",
       "      <td>3.0</td>\n",
       "      <td>3.0</td>\n",
       "      <td>7702266.0</td>\n",
       "      <td>21264.0</td>\n",
       "      <td>27892.0</td>\n",
       "      <td>1559.0</td>\n",
       "      <td>0.0</td>\n",
       "    </tr>\n",
       "    <tr>\n",
       "      <th>1</th>\n",
       "      <td>b'1'</td>\n",
       "      <td>1.0</td>\n",
       "      <td>1.736385e+19</td>\n",
       "      <td>20017077.0</td>\n",
       "      <td>23798.0</td>\n",
       "      <td>1.0</td>\n",
       "      <td>1.0</td>\n",
       "      <td>93079.0</td>\n",
       "      <td>35498.0</td>\n",
       "      <td>4.0</td>\n",
       "      <td>36476.0</td>\n",
       "      <td>562934.0</td>\n",
       "    </tr>\n",
       "    <tr>\n",
       "      <th>2</th>\n",
       "      <td>b'0'</td>\n",
       "      <td>1.0</td>\n",
       "      <td>8.915473e+18</td>\n",
       "      <td>21348354.0</td>\n",
       "      <td>36654.0</td>\n",
       "      <td>1.0</td>\n",
       "      <td>1.0</td>\n",
       "      <td>10981.0</td>\n",
       "      <td>19975.0</td>\n",
       "      <td>36105.0</td>\n",
       "      <td>33292.0</td>\n",
       "      <td>11621116.0</td>\n",
       "    </tr>\n",
       "    <tr>\n",
       "      <th>3</th>\n",
       "      <td>b'0'</td>\n",
       "      <td>1.0</td>\n",
       "      <td>4.426693e+18</td>\n",
       "      <td>20366086.0</td>\n",
       "      <td>33280.0</td>\n",
       "      <td>3.0</td>\n",
       "      <td>3.0</td>\n",
       "      <td>0.0</td>\n",
       "      <td>5942.0</td>\n",
       "      <td>4057.0</td>\n",
       "      <td>4390.0</td>\n",
       "      <td>8778348.0</td>\n",
       "    </tr>\n",
       "    <tr>\n",
       "      <th>4</th>\n",
       "      <td>b'0'</td>\n",
       "      <td>1.0</td>\n",
       "      <td>1.157260e+19</td>\n",
       "      <td>6803526.0</td>\n",
       "      <td>10790.0</td>\n",
       "      <td>2.0</td>\n",
       "      <td>1.0</td>\n",
       "      <td>9881978.0</td>\n",
       "      <td>60593.0</td>\n",
       "      <td>25242.0</td>\n",
       "      <td>1679.0</td>\n",
       "      <td>12118311.0</td>\n",
       "    </tr>\n",
       "  </tbody>\n",
       "</table>\n",
       "</div>"
      ],
      "text/plain": [
       "  click  impression      url_hash       ad_id  advertiser_id  depth  position  \\\n",
       "0  b'0'         1.0  1.071003e+19   8343295.0        11700.0    3.0       3.0   \n",
       "1  b'1'         1.0  1.736385e+19  20017077.0        23798.0    1.0       1.0   \n",
       "2  b'0'         1.0  8.915473e+18  21348354.0        36654.0    1.0       1.0   \n",
       "3  b'0'         1.0  4.426693e+18  20366086.0        33280.0    3.0       3.0   \n",
       "4  b'0'         1.0  1.157260e+19   6803526.0        10790.0    2.0       1.0   \n",
       "\n",
       "    query_id  keyword_id  title_id  description_id     user_id  \n",
       "0  7702266.0     21264.0   27892.0          1559.0         0.0  \n",
       "1    93079.0     35498.0       4.0         36476.0    562934.0  \n",
       "2    10981.0     19975.0   36105.0         33292.0  11621116.0  \n",
       "3        0.0      5942.0    4057.0          4390.0   8778348.0  \n",
       "4  9881978.0     60593.0   25242.0          1679.0  12118311.0  "
      ]
     },
     "execution_count": 3,
     "metadata": {},
     "output_type": "execute_result"
    }
   ],
   "source": [
    "data = arff.loadarff('phpfGCaQC.arff')\n",
    "data= pd.DataFrame(data[0])\n",
    "data.head()"
   ]
  },
  {
   "cell_type": "code",
   "execution_count": 4,
   "id": "c9c10471",
   "metadata": {},
   "outputs": [
    {
     "data": {
      "text/plain": [
       "(39948, 12)"
      ]
     },
     "execution_count": 4,
     "metadata": {},
     "output_type": "execute_result"
    }
   ],
   "source": [
    "data.shape"
   ]
  },
  {
   "cell_type": "code",
   "execution_count": 5,
   "id": "26e65b5e",
   "metadata": {
    "scrolled": true
   },
   "outputs": [
    {
     "name": "stdout",
     "output_type": "stream",
     "text": [
      "<class 'pandas.core.frame.DataFrame'>\n",
      "RangeIndex: 39948 entries, 0 to 39947\n",
      "Data columns (total 12 columns):\n",
      " #   Column          Non-Null Count  Dtype  \n",
      "---  ------          --------------  -----  \n",
      " 0   click           39948 non-null  object \n",
      " 1   impression      39948 non-null  float64\n",
      " 2   url_hash        39948 non-null  float64\n",
      " 3   ad_id           39948 non-null  float64\n",
      " 4   advertiser_id   39948 non-null  float64\n",
      " 5   depth           39948 non-null  float64\n",
      " 6   position        39948 non-null  float64\n",
      " 7   query_id        39948 non-null  float64\n",
      " 8   keyword_id      39948 non-null  float64\n",
      " 9   title_id        39948 non-null  float64\n",
      " 10  description_id  39948 non-null  float64\n",
      " 11  user_id         39948 non-null  float64\n",
      "dtypes: float64(11), object(1)\n",
      "memory usage: 3.7+ MB\n"
     ]
    }
   ],
   "source": [
    "data.info()"
   ]
  },
  {
   "cell_type": "code",
   "execution_count": 6,
   "id": "eaa13064",
   "metadata": {
    "scrolled": true
   },
   "outputs": [
    {
     "data": {
      "text/plain": [
       "click               int32\n",
       "impression        float64\n",
       "url_hash          float64\n",
       "ad_id             float64\n",
       "advertiser_id     float64\n",
       "depth             float64\n",
       "position          float64\n",
       "query_id          float64\n",
       "keyword_id        float64\n",
       "title_id          float64\n",
       "description_id    float64\n",
       "user_id           float64\n",
       "dtype: object"
      ]
     },
     "execution_count": 6,
     "metadata": {},
     "output_type": "execute_result"
    }
   ],
   "source": [
    "label=LabelEncoder()\n",
    "data['click']=label.fit_transform(data['click'])\n",
    "data.tail()\n",
    "data.dtypes "
   ]
  },
  {
   "cell_type": "code",
   "execution_count": 7,
   "id": "c4cba9c7",
   "metadata": {},
   "outputs": [
    {
     "data": {
      "text/plain": [
       "22"
      ]
     },
     "execution_count": 7,
     "metadata": {},
     "output_type": "execute_result"
    }
   ],
   "source": [
    "data.duplicated().sum() "
   ]
  },
  {
   "cell_type": "code",
   "execution_count": 8,
   "id": "202174f7",
   "metadata": {},
   "outputs": [],
   "source": [
    "data=data.drop_duplicates(keep='first')"
   ]
  },
  {
   "cell_type": "code",
   "execution_count": 9,
   "id": "e5b4de9e",
   "metadata": {
    "scrolled": true
   },
   "outputs": [
    {
     "data": {
      "image/png": "[encoded data removed]",
      "text/plain": [
       "<Figure size 1440x1080 with 12 Axes>"
      ]
     },
     "metadata": {
      "needs_background": "light"
     },
     "output_type": "display_data"
    }
   ],
   "source": [
    "data.iloc[:,:-1].hist(figsize=(20, 15))\n",
    "plt.show()"
   ]
  },
  {
   "cell_type": "code",
   "execution_count": 10,
   "id": "8281ce2c",
   "metadata": {},
   "outputs": [
    {
     "data": {
      "image/png": "[encoded data removed]",
      "text/plain": [
       "<Figure size 288x216 with 1 Axes>"
      ]
     },
     "metadata": {
      "needs_background": "light"
     },
     "output_type": "display_data"
    },
    {
     "data": {
      "image/png": "[encoded data removed]",
      "text/plain": [
       "<Figure size 288x216 with 1 Axes>"
      ]
     },
     "metadata": {
      "needs_background": "light"
     },
     "output_type": "display_data"
    },
    {
     "data": {
      "image/png": "[encoded data removed]",
      "text/plain": [
       "<Figure size 288x216 with 1 Axes>"
      ]
     },
     "metadata": {
      "needs_background": "light"
     },
     "output_type": "display_data"
    },
    {
     "data": {
      "image/png": "[encoded data removed]",
      "text/plain": [
       "<Figure size 288x216 with 1 Axes>"
      ]
     },
     "metadata": {
      "needs_background": "light"
     },
     "output_type": "display_data"
    },
    {
     "data": {
      "image/png": "[encoded data removed]",
      "text/plain": [
       "<Figure size 288x216 with 1 Axes>"
      ]
     },
     "metadata": {
      "needs_background": "light"
     },
     "output_type": "display_data"
    },
    {
     "data": {
      "image/png": "[encoded data removed]",
      "text/plain": [
       "<Figure size 288x216 with 1 Axes>"
      ]
     },
     "metadata": {
      "needs_background": "light"
     },
     "output_type": "display_data"
    },
    {
     "data": {
      "image/png": "[encoded data removed]",
      "text/plain": [
       "<Figure size 288x216 with 1 Axes>"
      ]
     },
     "metadata": {
      "needs_background": "light"
     },
     "output_type": "display_data"
    },
    {
     "data": {
      "image/png": "[encoded data removed]",
      "text/plain": [
       "<Figure size 288x216 with 1 Axes>"
      ]
     },
     "metadata": {
      "needs_background": "light"
     },
     "output_type": "display_data"
    },
    {
     "data": {
      "image/png": "[encoded data removed]",
      "text/plain": [
       "<Figure size 288x216 with 1 Axes>"
      ]
     },
     "metadata": {
      "needs_background": "light"
     },
     "output_type": "display_data"
    },
    {
     "data": {
      "image/png": "[encoded data removed]",
      "text/plain": [
       "<Figure size 288x216 with 1 Axes>"
      ]
     },
     "metadata": {
      "needs_background": "light"
     },
     "output_type": "display_data"
    },
    {
     "data": {
      "image/png": "[encoded data removed]",
      "text/plain": [
       "<Figure size 288x216 with 1 Axes>"
      ]
     },
     "metadata": {
      "needs_background": "light"
     },
     "output_type": "display_data"
    }
   ],
   "source": [
    "for i in data.columns:\n",
    "    if i==\"click\":\n",
    "        continue\n",
    "    plt.figure(figsize=(4,3))\n",
    "    ax = sns.boxplot(x=data[i],palette=\"cool\")\n",
    "    ax.set_xlabel(i,fontsize=10)\n",
    "    plt.show()"
   ]
  },
  {
   "cell_type": "code",
   "execution_count": 11,
   "id": "66bb26b8",
   "metadata": {},
   "outputs": [],
   "source": [
    "## Splitting the dataset to x and y\n",
    "X=data[['impression', 'url_hash', 'ad_id', 'advertiser_id', 'depth', 'position', 'query_id', 'keyword_id', 'title_id', 'description_id', 'user_id']] \n",
    "Y=data['click']"
   ]
  },
  {
   "cell_type": "code",
   "execution_count": 12,
   "id": "ba8b9bf0",
   "metadata": {},
   "outputs": [
    {
     "data": {
      "image/png": "[encoded data removed]",
      "text/plain": [
       "<Figure size 432x288 with 1 Axes>"
      ]
     },
     "metadata": {
      "needs_background": "light"
     },
     "output_type": "display_data"
    }
   ],
   "source": [
    "unique, counts = np.unique(Y, return_counts=True)\n",
    "CountOfClasses=dict(zip(unique, counts))\n",
    "fig, ax = plt.subplots()\n",
    "bar=ax.bar(*zip(*CountOfClasses.items()))\n",
    "plt.xticks([False,True])\n",
    "plt.xlabel(\"good or bad customer\")\n",
    "plt.ylabel(\"Number of customers\")\n",
    "for i in ax.containers:\n",
    "    ax.bar_label(i,)\n",
    "plt.show()"
   ]
  },
  {
   "cell_type": "code",
   "execution_count": 13,
   "id": "5173e70c",
   "metadata": {
    "scrolled": true
   },
   "outputs": [
    {
     "name": "stderr",
     "output_type": "stream",
     "text": [
      "D:\\Anaconda\\lib\\site-packages\\sklearn\\covariance\\_robust_covariance.py:183: RuntimeWarning: Determinant has increased; this should not happen: log(det) > log(previous_det) (265.400908425420425 > 265.380400334834519). You may want to try with a higher value of support_fraction (current value: 0.503).\n",
      "  warnings.warn(\n",
      "D:\\Anaconda\\lib\\site-packages\\sklearn\\covariance\\_robust_covariance.py:183: RuntimeWarning: Determinant has increased; this should not happen: log(det) > log(previous_det) (262.392782173410694 > 262.094843483985244). You may want to try with a higher value of support_fraction (current value: 0.503).\n",
      "  warnings.warn(\n",
      "D:\\Anaconda\\lib\\site-packages\\sklearn\\covariance\\_robust_covariance.py:183: RuntimeWarning: Determinant has increased; this should not happen: log(det) > log(previous_det) (275.290380653949342 > 270.537581314680097). You may want to try with a higher value of support_fraction (current value: 0.503).\n",
      "  warnings.warn(\n",
      "D:\\Anaconda\\lib\\site-packages\\sklearn\\covariance\\_robust_covariance.py:183: RuntimeWarning: Determinant has increased; this should not happen: log(det) > log(previous_det) (275.122003216876692 > 270.160114108020025). You may want to try with a higher value of support_fraction (current value: 0.503).\n",
      "  warnings.warn(\n",
      "D:\\Anaconda\\lib\\site-packages\\sklearn\\covariance\\_robust_covariance.py:183: RuntimeWarning: Determinant has increased; this should not happen: log(det) > log(previous_det) (275.292613794564375 > 269.328631958494839). You may want to try with a higher value of support_fraction (current value: 0.503).\n",
      "  warnings.warn(\n",
      "D:\\Anaconda\\lib\\site-packages\\sklearn\\covariance\\_robust_covariance.py:183: RuntimeWarning: Determinant has increased; this should not happen: log(det) > log(previous_det) (275.232210238589118 > 272.322364123996635). You may want to try with a higher value of support_fraction (current value: 0.503).\n",
      "  warnings.warn(\n",
      "D:\\Anaconda\\lib\\site-packages\\sklearn\\covariance\\_robust_covariance.py:183: RuntimeWarning: Determinant has increased; this should not happen: log(det) > log(previous_det) (275.152895075372157 > 271.805740737773249). You may want to try with a higher value of support_fraction (current value: 0.503).\n",
      "  warnings.warn(\n",
      "D:\\Anaconda\\lib\\site-packages\\sklearn\\covariance\\_robust_covariance.py:183: RuntimeWarning: Determinant has increased; this should not happen: log(det) > log(previous_det) (275.350052219588406 > 271.682498876000921). You may want to try with a higher value of support_fraction (current value: 0.503).\n",
      "  warnings.warn(\n",
      "D:\\Anaconda\\lib\\site-packages\\sklearn\\covariance\\_robust_covariance.py:183: RuntimeWarning: Determinant has increased; this should not happen: log(det) > log(previous_det) (275.198260841161925 > 272.031903588292607). You may want to try with a higher value of support_fraction (current value: 0.503).\n",
      "  warnings.warn(\n",
      "D:\\Anaconda\\lib\\site-packages\\sklearn\\covariance\\_robust_covariance.py:183: RuntimeWarning: Determinant has increased; this should not happen: log(det) > log(previous_det) (267.073888591237051 > 266.182241351356708). You may want to try with a higher value of support_fraction (current value: 0.503).\n",
      "  warnings.warn(\n",
      "D:\\Anaconda\\lib\\site-packages\\sklearn\\covariance\\_robust_covariance.py:183: RuntimeWarning: Determinant has increased; this should not happen: log(det) > log(previous_det) (267.162159798598225 > 267.004041848234635). You may want to try with a higher value of support_fraction (current value: 0.503).\n",
      "  warnings.warn(\n",
      "D:\\Anaconda\\lib\\site-packages\\sklearn\\covariance\\_robust_covariance.py:183: RuntimeWarning: Determinant has increased; this should not happen: log(det) > log(previous_det) (267.166135998082041 > 267.073888591237051). You may want to try with a higher value of support_fraction (current value: 0.503).\n",
      "  warnings.warn(\n",
      "D:\\Anaconda\\lib\\site-packages\\sklearn\\covariance\\_robust_covariance.py:183: RuntimeWarning: Determinant has increased; this should not happen: log(det) > log(previous_det) (267.672189390178232 > 266.712972760592208). You may want to try with a higher value of support_fraction (current value: 0.503).\n",
      "  warnings.warn(\n",
      "D:\\Anaconda\\lib\\site-packages\\sklearn\\covariance\\_robust_covariance.py:183: RuntimeWarning: Determinant has increased; this should not happen: log(det) > log(previous_det) (267.004041848234635 > 266.994739380990211). You may want to try with a higher value of support_fraction (current value: 0.503).\n",
      "  warnings.warn(\n",
      "D:\\Anaconda\\lib\\site-packages\\sklearn\\covariance\\_robust_covariance.py:183: RuntimeWarning: Determinant has increased; this should not happen: log(det) > log(previous_det) (267.168341608189280 > 267.099244860538647). You may want to try with a higher value of support_fraction (current value: 0.503).\n",
      "  warnings.warn(\n",
      "D:\\Anaconda\\lib\\site-packages\\sklearn\\covariance\\_robust_covariance.py:183: RuntimeWarning: Determinant has increased; this should not happen: log(det) > log(previous_det) (270.439666373059026 > 270.046758354167309). You may want to try with a higher value of support_fraction (current value: 0.503).\n",
      "  warnings.warn(\n",
      "D:\\Anaconda\\lib\\site-packages\\sklearn\\covariance\\_robust_covariance.py:183: RuntimeWarning: Determinant has increased; this should not happen: log(det) > log(previous_det) (270.293443339289809 > 268.959186001809428). You may want to try with a higher value of support_fraction (current value: 0.503).\n",
      "  warnings.warn(\n",
      "D:\\Anaconda\\lib\\site-packages\\sklearn\\covariance\\_robust_covariance.py:183: RuntimeWarning: Determinant has increased; this should not happen: log(det) > log(previous_det) (270.293443339289809 > 270.036820315437694). You may want to try with a higher value of support_fraction (current value: 0.503).\n",
      "  warnings.warn(\n",
      "D:\\Anaconda\\lib\\site-packages\\sklearn\\covariance\\_robust_covariance.py:183: RuntimeWarning: Determinant has increased; this should not happen: log(det) > log(previous_det) (266.884860774511594 > 266.788470077187924). You may want to try with a higher value of support_fraction (current value: 0.503).\n",
      "  warnings.warn(\n",
      "D:\\Anaconda\\lib\\site-packages\\sklearn\\covariance\\_robust_covariance.py:183: RuntimeWarning: Determinant has increased; this should not happen: log(det) > log(previous_det) (266.881668069804505 > 266.204603417458713). You may want to try with a higher value of support_fraction (current value: 0.503).\n",
      "  warnings.warn(\n",
      "D:\\Anaconda\\lib\\site-packages\\sklearn\\covariance\\_robust_covariance.py:183: RuntimeWarning: Determinant has increased; this should not happen: log(det) > log(previous_det) (266.740979695270823 > 266.423077362944184). You may want to try with a higher value of support_fraction (current value: 0.503).\n",
      "  warnings.warn(\n",
      "D:\\Anaconda\\lib\\site-packages\\sklearn\\covariance\\_robust_covariance.py:183: RuntimeWarning: Determinant has increased; this should not happen: log(det) > log(previous_det) (265.992416128788193 > 265.709073473860542). You may want to try with a higher value of support_fraction (current value: 0.503).\n",
      "  warnings.warn(\n",
      "D:\\Anaconda\\lib\\site-packages\\sklearn\\covariance\\_robust_covariance.py:183: RuntimeWarning: Determinant has increased; this should not happen: log(det) > log(previous_det) (266.591377622560515 > 266.363926282224895). You may want to try with a higher value of support_fraction (current value: 0.503).\n",
      "  warnings.warn(\n",
      "D:\\Anaconda\\lib\\site-packages\\sklearn\\covariance\\_robust_covariance.py:183: RuntimeWarning: Determinant has increased; this should not happen: log(det) > log(previous_det) (266.591377622560515 > 266.368831732523347). You may want to try with a higher value of support_fraction (current value: 0.503).\n",
      "  warnings.warn(\n",
      "D:\\Anaconda\\lib\\site-packages\\sklearn\\covariance\\_robust_covariance.py:183: RuntimeWarning: Determinant has increased; this should not happen: log(det) > log(previous_det) (265.992416128788193 > 265.824405791369259). You may want to try with a higher value of support_fraction (current value: 0.503).\n",
      "  warnings.warn(\n",
      "D:\\Anaconda\\lib\\site-packages\\sklearn\\covariance\\_robust_covariance.py:183: RuntimeWarning: Determinant has increased; this should not happen: log(det) > log(previous_det) (266.795052524941241 > 266.754383745601103). You may want to try with a higher value of support_fraction (current value: 0.503).\n",
      "  warnings.warn(\n",
      "D:\\Anaconda\\lib\\site-packages\\sklearn\\covariance\\_robust_covariance.py:183: RuntimeWarning: Determinant has increased; this should not happen: log(det) > log(previous_det) (267.177124894312328 > 267.115561936309064). You may want to try with a higher value of support_fraction (current value: 0.503).\n",
      "  warnings.warn(\n",
      "D:\\Anaconda\\lib\\site-packages\\sklearn\\covariance\\_robust_covariance.py:183: RuntimeWarning: Determinant has increased; this should not happen: log(det) > log(previous_det) (267.234354804577833 > 266.873232968487230). You may want to try with a higher value of support_fraction (current value: 0.503).\n",
      "  warnings.warn(\n",
      "D:\\Anaconda\\lib\\site-packages\\sklearn\\covariance\\_robust_covariance.py:183: RuntimeWarning: Determinant has increased; this should not happen: log(det) > log(previous_det) (265.702579815953925 > 264.631258499747503). You may want to try with a higher value of support_fraction (current value: 0.503).\n",
      "  warnings.warn(\n",
      "D:\\Anaconda\\lib\\site-packages\\sklearn\\covariance\\_robust_covariance.py:183: RuntimeWarning: Determinant has increased; this should not happen: log(det) > log(previous_det) (269.985644245563094 > 267.641651874975992). You may want to try with a higher value of support_fraction (current value: 0.503).\n",
      "  warnings.warn(\n",
      "D:\\Anaconda\\lib\\site-packages\\sklearn\\covariance\\_robust_covariance.py:183: RuntimeWarning: Determinant has increased; this should not happen: log(det) > log(previous_det) (269.787455739556890 > 269.618278315206965). You may want to try with a higher value of support_fraction (current value: 0.503).\n",
      "  warnings.warn(\n",
      "D:\\Anaconda\\lib\\site-packages\\sklearn\\covariance\\_robust_covariance.py:183: RuntimeWarning: Determinant has increased; this should not happen: log(det) > log(previous_det) (269.834097778441674 > 267.926571169599129). You may want to try with a higher value of support_fraction (current value: 0.503).\n",
      "  warnings.warn(\n",
      "D:\\Anaconda\\lib\\site-packages\\sklearn\\covariance\\_robust_covariance.py:183: RuntimeWarning: Determinant has increased; this should not happen: log(det) > log(previous_det) (269.786495217793345 > 266.318667753316390). You may want to try with a higher value of support_fraction (current value: 0.503).\n",
      "  warnings.warn(\n",
      "D:\\Anaconda\\lib\\site-packages\\sklearn\\covariance\\_robust_covariance.py:183: RuntimeWarning: Determinant has increased; this should not happen: log(det) > log(previous_det) (269.787455739556890 > 266.334472664262535). You may want to try with a higher value of support_fraction (current value: 0.503).\n",
      "  warnings.warn(\n",
      "D:\\Anaconda\\lib\\site-packages\\sklearn\\covariance\\_robust_covariance.py:183: RuntimeWarning: Determinant has increased; this should not happen: log(det) > log(previous_det) (269.782931656862502 > 268.455876293718291). You may want to try with a higher value of support_fraction (current value: 0.503).\n",
      "  warnings.warn(\n",
      "D:\\Anaconda\\lib\\site-packages\\sklearn\\covariance\\_robust_covariance.py:183: RuntimeWarning: Determinant has increased; this should not happen: log(det) > log(previous_det) (269.772705505767647 > 268.376450579505274). You may want to try with a higher value of support_fraction (current value: 0.503).\n",
      "  warnings.warn(\n",
      "D:\\Anaconda\\lib\\site-packages\\sklearn\\covariance\\_robust_covariance.py:183: RuntimeWarning: Determinant has increased; this should not happen: log(det) > log(previous_det) (265.289743581656523 > 265.190071910963468). You may want to try with a higher value of support_fraction (current value: 0.503).\n",
      "  warnings.warn(\n",
      "D:\\Anaconda\\lib\\site-packages\\sklearn\\covariance\\_robust_covariance.py:183: RuntimeWarning: Determinant has increased; this should not happen: log(det) > log(previous_det) (265.976942806310944 > 265.937633114331675). You may want to try with a higher value of support_fraction (current value: 0.503).\n",
      "  warnings.warn(\n",
      "D:\\Anaconda\\lib\\site-packages\\sklearn\\covariance\\_robust_covariance.py:183: RuntimeWarning: Determinant has increased; this should not happen: log(det) > log(previous_det) (264.898021107725356 > 264.271518569314310). You may want to try with a higher value of support_fraction (current value: 0.503).\n",
      "  warnings.warn(\n",
      "D:\\Anaconda\\lib\\site-packages\\sklearn\\covariance\\_robust_covariance.py:183: RuntimeWarning: Determinant has increased; this should not happen: log(det) > log(previous_det) (267.631239683620947 > 265.959453946303086). You may want to try with a higher value of support_fraction (current value: 0.503).\n",
      "  warnings.warn(\n",
      "D:\\Anaconda\\lib\\site-packages\\sklearn\\covariance\\_robust_covariance.py:183: RuntimeWarning: Determinant has increased; this should not happen: log(det) > log(previous_det) (268.484669719435374 > 268.404454901014390). You may want to try with a higher value of support_fraction (current value: 0.503).\n",
      "  warnings.warn(\n",
      "D:\\Anaconda\\lib\\site-packages\\sklearn\\covariance\\_robust_covariance.py:183: RuntimeWarning: Determinant has increased; this should not happen: log(det) > log(previous_det) (268.484669719435374 > 266.318472033765772). You may want to try with a higher value of support_fraction (current value: 0.503).\n",
      "  warnings.warn(\n",
      "D:\\Anaconda\\lib\\site-packages\\sklearn\\covariance\\_robust_covariance.py:183: RuntimeWarning: Determinant has increased; this should not happen: log(det) > log(previous_det) (268.519398341446390 > 268.169758440154737). You may want to try with a higher value of support_fraction (current value: 0.503).\n",
      "  warnings.warn(\n",
      "D:\\Anaconda\\lib\\site-packages\\sklearn\\covariance\\_robust_covariance.py:183: RuntimeWarning: Determinant has increased; this should not happen: log(det) > log(previous_det) (268.139900406043864 > 268.104086148841077). You may want to try with a higher value of support_fraction (current value: 0.503).\n",
      "  warnings.warn(\n",
      "D:\\Anaconda\\lib\\site-packages\\sklearn\\covariance\\_robust_covariance.py:183: RuntimeWarning: Determinant has increased; this should not happen: log(det) > log(previous_det) (268.051708580379625 > 267.914859306218545). You may want to try with a higher value of support_fraction (current value: 0.503).\n",
      "  warnings.warn(\n",
      "D:\\Anaconda\\lib\\site-packages\\sklearn\\covariance\\_robust_covariance.py:183: RuntimeWarning: Determinant has increased; this should not happen: log(det) > log(previous_det) (274.114730418742454 > 273.637106143441599). You may want to try with a higher value of support_fraction (current value: 0.503).\n",
      "  warnings.warn(\n",
      "D:\\Anaconda\\lib\\site-packages\\sklearn\\covariance\\_robust_covariance.py:183: RuntimeWarning: Determinant has increased; this should not happen: log(det) > log(previous_det) (274.095741991940884 > 273.779549261949228). You may want to try with a higher value of support_fraction (current value: 0.503).\n",
      "  warnings.warn(\n",
      "D:\\Anaconda\\lib\\site-packages\\sklearn\\covariance\\_robust_covariance.py:183: RuntimeWarning: Determinant has increased; this should not happen: log(det) > log(previous_det) (273.877857188192991 > 272.142917057364400). You may want to try with a higher value of support_fraction (current value: 0.503).\n",
      "  warnings.warn(\n",
      "D:\\Anaconda\\lib\\site-packages\\sklearn\\covariance\\_robust_covariance.py:183: RuntimeWarning: Determinant has increased; this should not happen: log(det) > log(previous_det) (273.877857188192991 > 273.685861461847765). You may want to try with a higher value of support_fraction (current value: 0.503).\n",
      "  warnings.warn(\n",
      "D:\\Anaconda\\lib\\site-packages\\sklearn\\covariance\\_robust_covariance.py:183: RuntimeWarning: Determinant has increased; this should not happen: log(det) > log(previous_det) (274.114730418742454 > 273.657482562566543). You may want to try with a higher value of support_fraction (current value: 0.503).\n",
      "  warnings.warn(\n",
      "D:\\Anaconda\\lib\\site-packages\\sklearn\\covariance\\_robust_covariance.py:183: RuntimeWarning: Determinant has increased; this should not happen: log(det) > log(previous_det) (274.168910806241627 > 273.711412045704265). You may want to try with a higher value of support_fraction (current value: 0.503).\n",
      "  warnings.warn(\n",
      "D:\\Anaconda\\lib\\site-packages\\sklearn\\covariance\\_robust_covariance.py:183: RuntimeWarning: Determinant has increased; this should not happen: log(det) > log(previous_det) (274.095741991940884 > 273.791872398959356). You may want to try with a higher value of support_fraction (current value: 0.503).\n",
      "  warnings.warn(\n",
      "D:\\Anaconda\\lib\\site-packages\\sklearn\\covariance\\_robust_covariance.py:183: RuntimeWarning: Determinant has increased; this should not happen: log(det) > log(previous_det) (273.653051628592038 > 268.436070309429340). You may want to try with a higher value of support_fraction (current value: 0.503).\n",
      "  warnings.warn(\n",
      "D:\\Anaconda\\lib\\site-packages\\sklearn\\covariance\\_robust_covariance.py:183: RuntimeWarning: Determinant has increased; this should not happen: log(det) > log(previous_det) (268.416512883740040 > 268.232293820310701). You may want to try with a higher value of support_fraction (current value: 0.503).\n",
      "  warnings.warn(\n",
      "D:\\Anaconda\\lib\\site-packages\\sklearn\\covariance\\_robust_covariance.py:183: RuntimeWarning: Determinant has increased; this should not happen: log(det) > log(previous_det) (268.307335095426026 > 266.735104072162699). You may want to try with a higher value of support_fraction (current value: 0.503).\n",
      "  warnings.warn(\n",
      "D:\\Anaconda\\lib\\site-packages\\sklearn\\covariance\\_robust_covariance.py:183: RuntimeWarning: Determinant has increased; this should not happen: log(det) > log(previous_det) (268.243005949437020 > 267.757752200870584). You may want to try with a higher value of support_fraction (current value: 0.503).\n",
      "  warnings.warn(\n",
      "D:\\Anaconda\\lib\\site-packages\\sklearn\\covariance\\_robust_covariance.py:183: RuntimeWarning: Determinant has increased; this should not happen: log(det) > log(previous_det) (266.019719876724935 > 265.668948645332080). You may want to try with a higher value of support_fraction (current value: 0.503).\n",
      "  warnings.warn(\n",
      "D:\\Anaconda\\lib\\site-packages\\sklearn\\covariance\\_robust_covariance.py:183: RuntimeWarning: Determinant has increased; this should not happen: log(det) > log(previous_det) (266.626955347836144 > 265.938604125887593). You may want to try with a higher value of support_fraction (current value: 0.503).\n",
      "  warnings.warn(\n",
      "D:\\Anaconda\\lib\\site-packages\\sklearn\\covariance\\_robust_covariance.py:183: RuntimeWarning: Determinant has increased; this should not happen: log(det) > log(previous_det) (267.121158303258881 > 266.097550823513700). You may want to try with a higher value of support_fraction (current value: 0.503).\n",
      "  warnings.warn(\n",
      "D:\\Anaconda\\lib\\site-packages\\sklearn\\covariance\\_robust_covariance.py:183: RuntimeWarning: Determinant has increased; this should not happen: log(det) > log(previous_det) (268.391482592148463 > 266.323775437484755). You may want to try with a higher value of support_fraction (current value: 0.503).\n",
      "  warnings.warn(\n",
      "D:\\Anaconda\\lib\\site-packages\\sklearn\\covariance\\_robust_covariance.py:183: RuntimeWarning: Determinant has increased; this should not happen: log(det) > log(previous_det) (268.387426136315526 > 266.885640974065609). You may want to try with a higher value of support_fraction (current value: 0.503).\n",
      "  warnings.warn(\n",
      "D:\\Anaconda\\lib\\site-packages\\sklearn\\covariance\\_robust_covariance.py:183: RuntimeWarning: Determinant has increased; this should not happen: log(det) > log(previous_det) (267.334741489413204 > 265.552698190193553). You may want to try with a higher value of support_fraction (current value: 0.503).\n",
      "  warnings.warn(\n",
      "D:\\Anaconda\\lib\\site-packages\\sklearn\\covariance\\_robust_covariance.py:183: RuntimeWarning: Determinant has increased; this should not happen: log(det) > log(previous_det) (267.704628640198507 > 267.344131412539355). You may want to try with a higher value of support_fraction (current value: 0.503).\n",
      "  warnings.warn(\n",
      "D:\\Anaconda\\lib\\site-packages\\sklearn\\covariance\\_robust_covariance.py:183: RuntimeWarning: Determinant has increased; this should not happen: log(det) > log(previous_det) (267.773526013076605 > 266.835430330983513). You may want to try with a higher value of support_fraction (current value: 0.503).\n",
      "  warnings.warn(\n",
      "D:\\Anaconda\\lib\\site-packages\\sklearn\\covariance\\_robust_covariance.py:183: RuntimeWarning: Determinant has increased; this should not happen: log(det) > log(previous_det) (268.684342462844029 > 266.508991250727604). You may want to try with a higher value of support_fraction (current value: 0.503).\n",
      "  warnings.warn(\n",
      "D:\\Anaconda\\lib\\site-packages\\sklearn\\covariance\\_robust_covariance.py:183: RuntimeWarning: Determinant has increased; this should not happen: log(det) > log(previous_det) (268.649079057592985 > 266.513861822775766). You may want to try with a higher value of support_fraction (current value: 0.503).\n",
      "  warnings.warn(\n",
      "D:\\Anaconda\\lib\\site-packages\\sklearn\\covariance\\_robust_covariance.py:183: RuntimeWarning: Determinant has increased; this should not happen: log(det) > log(previous_det) (268.248505910141546 > 267.147845822990632). You may want to try with a higher value of support_fraction (current value: 0.503).\n",
      "  warnings.warn(\n",
      "D:\\Anaconda\\lib\\site-packages\\sklearn\\covariance\\_robust_covariance.py:183: RuntimeWarning: Determinant has increased; this should not happen: log(det) > log(previous_det) (266.594166576773034 > 266.061722894235004). You may want to try with a higher value of support_fraction (current value: 0.503).\n",
      "  warnings.warn(\n",
      "D:\\Anaconda\\lib\\site-packages\\sklearn\\covariance\\_robust_covariance.py:183: RuntimeWarning: Determinant has increased; this should not happen: log(det) > log(previous_det) (265.983716756085585 > 265.204071435877268). You may want to try with a higher value of support_fraction (current value: 0.503).\n",
      "  warnings.warn(\n",
      "D:\\Anaconda\\lib\\site-packages\\sklearn\\covariance\\_robust_covariance.py:183: RuntimeWarning: Determinant has increased; this should not happen: log(det) > log(previous_det) (265.961517312315266 > 265.895195153310510). You may want to try with a higher value of support_fraction (current value: 0.503).\n",
      "  warnings.warn(\n",
      "D:\\Anaconda\\lib\\site-packages\\sklearn\\covariance\\_robust_covariance.py:183: RuntimeWarning: Determinant has increased; this should not happen: log(det) > log(previous_det) (268.181124469514089 > 268.135983018432682). You may want to try with a higher value of support_fraction (current value: 0.503).\n",
      "  warnings.warn(\n",
      "D:\\Anaconda\\lib\\site-packages\\sklearn\\covariance\\_robust_covariance.py:183: RuntimeWarning: Determinant has increased; this should not happen: log(det) > log(previous_det) (268.171415722011488 > 267.985806112897308). You may want to try with a higher value of support_fraction (current value: 0.503).\n",
      "  warnings.warn(\n",
      "D:\\Anaconda\\lib\\site-packages\\sklearn\\covariance\\_robust_covariance.py:183: RuntimeWarning: Determinant has increased; this should not happen: log(det) > log(previous_det) (268.209382551241617 > 267.994838126157504). You may want to try with a higher value of support_fraction (current value: 0.503).\n",
      "  warnings.warn(\n",
      "D:\\Anaconda\\lib\\site-packages\\sklearn\\covariance\\_robust_covariance.py:183: RuntimeWarning: Determinant has increased; this should not happen: log(det) > log(previous_det) (268.155923414687152 > 267.661078604729653). You may want to try with a higher value of support_fraction (current value: 0.503).\n",
      "  warnings.warn(\n",
      "D:\\Anaconda\\lib\\site-packages\\sklearn\\covariance\\_robust_covariance.py:183: RuntimeWarning: Determinant has increased; this should not happen: log(det) > log(previous_det) (268.100504435271603 > 267.040920446145549). You may want to try with a higher value of support_fraction (current value: 0.503).\n",
      "  warnings.warn(\n",
      "D:\\Anaconda\\lib\\site-packages\\sklearn\\covariance\\_robust_covariance.py:183: RuntimeWarning: Determinant has increased; this should not happen: log(det) > log(previous_det) (268.207962530757470 > 266.498154397736528). You may want to try with a higher value of support_fraction (current value: 0.503).\n",
      "  warnings.warn(\n",
      "D:\\Anaconda\\lib\\site-packages\\sklearn\\covariance\\_robust_covariance.py:183: RuntimeWarning: Determinant has increased; this should not happen: log(det) > log(previous_det) (268.321050198371324 > 268.181124469514089). You may want to try with a higher value of support_fraction (current value: 0.503).\n",
      "  warnings.warn(\n",
      "D:\\Anaconda\\lib\\site-packages\\sklearn\\covariance\\_robust_covariance.py:183: RuntimeWarning: Determinant has increased; this should not happen: log(det) > log(previous_det) (267.140761453883329 > 267.137196723558361). You may want to try with a higher value of support_fraction (current value: 0.503).\n",
      "  warnings.warn(\n",
      "D:\\Anaconda\\lib\\site-packages\\sklearn\\covariance\\_robust_covariance.py:183: RuntimeWarning: Determinant has increased; this should not happen: log(det) > log(previous_det) (266.910706361645111 > 266.847308836247748). You may want to try with a higher value of support_fraction (current value: 0.503).\n",
      "  warnings.warn(\n",
      "D:\\Anaconda\\lib\\site-packages\\sklearn\\covariance\\_robust_covariance.py:183: RuntimeWarning: Determinant has increased; this should not happen: log(det) > log(previous_det) (266.804955796142508 > 266.727073316957501). You may want to try with a higher value of support_fraction (current value: 0.503).\n",
      "  warnings.warn(\n",
      "D:\\Anaconda\\lib\\site-packages\\sklearn\\covariance\\_robust_covariance.py:183: RuntimeWarning: Determinant has increased; this should not happen: log(det) > log(previous_det) (271.489721262949502 > 269.775179371006345). You may want to try with a higher value of support_fraction (current value: 0.503).\n",
      "  warnings.warn(\n",
      "D:\\Anaconda\\lib\\site-packages\\sklearn\\covariance\\_robust_covariance.py:183: RuntimeWarning: Determinant has increased; this should not happen: log(det) > log(previous_det) (270.136100370107329 > 267.260034156971756). You may want to try with a higher value of support_fraction (current value: 0.503).\n",
      "  warnings.warn(\n",
      "D:\\Anaconda\\lib\\site-packages\\sklearn\\covariance\\_robust_covariance.py:183: RuntimeWarning: Determinant has increased; this should not happen: log(det) > log(previous_det) (271.632788733728319 > 269.522725247581093). You may want to try with a higher value of support_fraction (current value: 0.503).\n",
      "  warnings.warn(\n",
      "D:\\Anaconda\\lib\\site-packages\\sklearn\\covariance\\_robust_covariance.py:183: RuntimeWarning: Determinant has increased; this should not happen: log(det) > log(previous_det) (270.130354464317236 > 268.665970435134284). You may want to try with a higher value of support_fraction (current value: 0.503).\n",
      "  warnings.warn(\n",
      "D:\\Anaconda\\lib\\site-packages\\sklearn\\covariance\\_robust_covariance.py:183: RuntimeWarning: Determinant has increased; this should not happen: log(det) > log(previous_det) (271.459608942416253 > 271.317111608281948). You may want to try with a higher value of support_fraction (current value: 0.503).\n",
      "  warnings.warn(\n",
      "D:\\Anaconda\\lib\\site-packages\\sklearn\\covariance\\_robust_covariance.py:183: RuntimeWarning: Determinant has increased; this should not happen: log(det) > log(previous_det) (271.632788733728319 > 268.009784349083930). You may want to try with a higher value of support_fraction (current value: 0.503).\n",
      "  warnings.warn(\n",
      "D:\\Anaconda\\lib\\site-packages\\sklearn\\covariance\\_robust_covariance.py:183: RuntimeWarning: Determinant has increased; this should not happen: log(det) > log(previous_det) (266.045973611051409 > 265.899754995783553). You may want to try with a higher value of support_fraction (current value: 0.503).\n",
      "  warnings.warn(\n",
      "D:\\Anaconda\\lib\\site-packages\\sklearn\\covariance\\_robust_covariance.py:183: RuntimeWarning: Determinant has increased; this should not happen: log(det) > log(previous_det) (266.038910901969587 > 266.025057459818640). You may want to try with a higher value of support_fraction (current value: 0.503).\n",
      "  warnings.warn(\n",
      "D:\\Anaconda\\lib\\site-packages\\sklearn\\covariance\\_robust_covariance.py:183: RuntimeWarning: Determinant has increased; this should not happen: log(det) > log(previous_det) (271.808534230454143 > 267.750027196688904). You may want to try with a higher value of support_fraction (current value: 0.503).\n",
      "  warnings.warn(\n",
      "D:\\Anaconda\\lib\\site-packages\\sklearn\\covariance\\_robust_covariance.py:183: RuntimeWarning: Determinant has increased; this should not happen: log(det) > log(previous_det) (272.394943962881371 > 271.808534230454143). You may want to try with a higher value of support_fraction (current value: 0.503).\n",
      "  warnings.warn(\n",
      "D:\\Anaconda\\lib\\site-packages\\sklearn\\covariance\\_robust_covariance.py:183: RuntimeWarning: Determinant has increased; this should not happen: log(det) > log(previous_det) (272.544406536122551 > 272.341378089080763). You may want to try with a higher value of support_fraction (current value: 0.503).\n",
      "  warnings.warn(\n",
      "D:\\Anaconda\\lib\\site-packages\\sklearn\\covariance\\_robust_covariance.py:183: RuntimeWarning: Determinant has increased; this should not happen: log(det) > log(previous_det) (272.552568292046260 > 272.452320698187805). You may want to try with a higher value of support_fraction (current value: 0.503).\n",
      "  warnings.warn(\n",
      "D:\\Anaconda\\lib\\site-packages\\sklearn\\covariance\\_robust_covariance.py:183: RuntimeWarning: Determinant has increased; this should not happen: log(det) > log(previous_det) (271.974611566799297 > 268.874568078050970). You may want to try with a higher value of support_fraction (current value: 0.503).\n",
      "  warnings.warn(\n",
      "D:\\Anaconda\\lib\\site-packages\\sklearn\\covariance\\_robust_covariance.py:183: RuntimeWarning: Determinant has increased; this should not happen: log(det) > log(previous_det) (271.817835489170250 > 268.012599637207700). You may want to try with a higher value of support_fraction (current value: 0.503).\n",
      "  warnings.warn(\n",
      "D:\\Anaconda\\lib\\site-packages\\sklearn\\covariance\\_robust_covariance.py:183: RuntimeWarning: Determinant has increased; this should not happen: log(det) > log(previous_det) (272.544406536122551 > 268.824032923242555). You may want to try with a higher value of support_fraction (current value: 0.503).\n",
      "  warnings.warn(\n",
      "D:\\Anaconda\\lib\\site-packages\\sklearn\\covariance\\_robust_covariance.py:183: RuntimeWarning: Determinant has increased; this should not happen: log(det) > log(previous_det) (267.297689150483791 > 266.321313366642983). You may want to try with a higher value of support_fraction (current value: 0.503).\n",
      "  warnings.warn(\n",
      "D:\\Anaconda\\lib\\site-packages\\sklearn\\covariance\\_robust_covariance.py:183: RuntimeWarning: Determinant has increased; this should not happen: log(det) > log(previous_det) (267.322877519351266 > 267.097149704062247). You may want to try with a higher value of support_fraction (current value: 0.503).\n",
      "  warnings.warn(\n",
      "D:\\Anaconda\\lib\\site-packages\\sklearn\\covariance\\_robust_covariance.py:183: RuntimeWarning: Determinant has increased; this should not happen: log(det) > log(previous_det) (266.737871328281699 > 266.636085312930845). You may want to try with a higher value of support_fraction (current value: 0.503).\n",
      "  warnings.warn(\n",
      "D:\\Anaconda\\lib\\site-packages\\sklearn\\covariance\\_robust_covariance.py:183: RuntimeWarning: Determinant has increased; this should not happen: log(det) > log(previous_det) (265.905101212019076 > 265.542975570247961). You may want to try with a higher value of support_fraction (current value: 0.503).\n",
      "  warnings.warn(\n",
      "D:\\Anaconda\\lib\\site-packages\\sklearn\\covariance\\_robust_covariance.py:183: RuntimeWarning: Determinant has increased; this should not happen: log(det) > log(previous_det) (267.229241798073360 > 266.184229345439803). You may want to try with a higher value of support_fraction (current value: 0.503).\n",
      "  warnings.warn(\n",
      "D:\\Anaconda\\lib\\site-packages\\sklearn\\covariance\\_robust_covariance.py:183: RuntimeWarning: Determinant has increased; this should not happen: log(det) > log(previous_det) (267.450727517366943 > 267.425655415888968). You may want to try with a higher value of support_fraction (current value: 0.503).\n",
      "  warnings.warn(\n",
      "D:\\Anaconda\\lib\\site-packages\\sklearn\\covariance\\_robust_covariance.py:183: RuntimeWarning: Determinant has increased; this should not happen: log(det) > log(previous_det) (267.446642274692920 > 266.448876044094561). You may want to try with a higher value of support_fraction (current value: 0.503).\n",
      "  warnings.warn(\n",
      "D:\\Anaconda\\lib\\site-packages\\sklearn\\covariance\\_robust_covariance.py:183: RuntimeWarning: Determinant has increased; this should not happen: log(det) > log(previous_det) (272.334368661168071 > 266.532006070753425). You may want to try with a higher value of support_fraction (current value: 0.503).\n",
      "  warnings.warn(\n",
      "D:\\Anaconda\\lib\\site-packages\\sklearn\\covariance\\_robust_covariance.py:183: RuntimeWarning: Determinant has increased; this should not happen: log(det) > log(previous_det) (272.479121738570768 > 271.009062671574725). You may want to try with a higher value of support_fraction (current value: 0.503).\n",
      "  warnings.warn(\n",
      "D:\\Anaconda\\lib\\site-packages\\sklearn\\covariance\\_robust_covariance.py:183: RuntimeWarning: Determinant has increased; this should not happen: log(det) > log(previous_det) (271.887661347750168 > 271.519610907229435). You may want to try with a higher value of support_fraction (current value: 0.503).\n",
      "  warnings.warn(\n",
      "D:\\Anaconda\\lib\\site-packages\\sklearn\\covariance\\_robust_covariance.py:183: RuntimeWarning: Determinant has increased; this should not happen: log(det) > log(previous_det) (272.291543721664254 > 269.550956524400306). You may want to try with a higher value of support_fraction (current value: 0.503).\n",
      "  warnings.warn(\n",
      "D:\\Anaconda\\lib\\site-packages\\sklearn\\covariance\\_robust_covariance.py:183: RuntimeWarning: Determinant has increased; this should not happen: log(det) > log(previous_det) (272.506464354735613 > 268.894577904643427). You may want to try with a higher value of support_fraction (current value: 0.503).\n",
      "  warnings.warn(\n",
      "D:\\Anaconda\\lib\\site-packages\\sklearn\\covariance\\_robust_covariance.py:183: RuntimeWarning: Determinant has increased; this should not happen: log(det) > log(previous_det) (271.804054872081679 > 269.386291835273767). You may want to try with a higher value of support_fraction (current value: 0.503).\n",
      "  warnings.warn(\n",
      "D:\\Anaconda\\lib\\site-packages\\sklearn\\covariance\\_robust_covariance.py:183: RuntimeWarning: Determinant has increased; this should not happen: log(det) > log(previous_det) (272.596752129162724 > 270.626124606839653). You may want to try with a higher value of support_fraction (current value: 0.503).\n",
      "  warnings.warn(\n",
      "D:\\Anaconda\\lib\\site-packages\\sklearn\\covariance\\_robust_covariance.py:183: RuntimeWarning: Determinant has increased; this should not happen: log(det) > log(previous_det) (267.964554839244670 > 267.944671034831345). You may want to try with a higher value of support_fraction (current value: 0.503).\n",
      "  warnings.warn(\n",
      "D:\\Anaconda\\lib\\site-packages\\sklearn\\covariance\\_robust_covariance.py:183: RuntimeWarning: Determinant has increased; this should not happen: log(det) > log(previous_det) (268.051320333950457 > 267.977362086801975). You may want to try with a higher value of support_fraction (current value: 0.503).\n",
      "  warnings.warn(\n",
      "D:\\Anaconda\\lib\\site-packages\\sklearn\\covariance\\_robust_covariance.py:183: RuntimeWarning: Determinant has increased; this should not happen: log(det) > log(previous_det) (267.964554839244670 > 267.939279451743005). You may want to try with a higher value of support_fraction (current value: 0.503).\n",
      "  warnings.warn(\n",
      "D:\\Anaconda\\lib\\site-packages\\sklearn\\covariance\\_robust_covariance.py:183: RuntimeWarning: Determinant has increased; this should not happen: log(det) > log(previous_det) (267.990629899545411 > 267.987645792903834). You may want to try with a higher value of support_fraction (current value: 0.503).\n",
      "  warnings.warn(\n",
      "D:\\Anaconda\\lib\\site-packages\\sklearn\\covariance\\_robust_covariance.py:183: RuntimeWarning: Determinant has increased; this should not happen: log(det) > log(previous_det) (267.998674988173718 > 267.917660559021442). You may want to try with a higher value of support_fraction (current value: 0.503).\n",
      "  warnings.warn(\n",
      "D:\\Anaconda\\lib\\site-packages\\sklearn\\covariance\\_robust_covariance.py:183: RuntimeWarning: Determinant has increased; this should not happen: log(det) > log(previous_det) (267.983871264316861 > 266.533760415532811). You may want to try with a higher value of support_fraction (current value: 0.503).\n",
      "  warnings.warn(\n",
      "D:\\Anaconda\\lib\\site-packages\\sklearn\\covariance\\_robust_covariance.py:183: RuntimeWarning: Determinant has increased; this should not happen: log(det) > log(previous_det) (268.029585872490543 > 267.960846343046626). You may want to try with a higher value of support_fraction (current value: 0.503).\n",
      "  warnings.warn(\n",
      "D:\\Anaconda\\lib\\site-packages\\sklearn\\covariance\\_robust_covariance.py:183: RuntimeWarning: Determinant has increased; this should not happen: log(det) > log(previous_det) (269.111836381135220 > 267.774241610460422). You may want to try with a higher value of support_fraction (current value: 0.503).\n",
      "  warnings.warn(\n",
      "D:\\Anaconda\\lib\\site-packages\\sklearn\\covariance\\_robust_covariance.py:183: RuntimeWarning: Determinant has increased; this should not happen: log(det) > log(previous_det) (269.186776399153189 > 267.851108778824994). You may want to try with a higher value of support_fraction (current value: 0.503).\n",
      "  warnings.warn(\n",
      "D:\\Anaconda\\lib\\site-packages\\sklearn\\covariance\\_robust_covariance.py:183: RuntimeWarning: Determinant has increased; this should not happen: log(det) > log(previous_det) (269.220748635989821 > 268.548886620023836). You may want to try with a higher value of support_fraction (current value: 0.503).\n",
      "  warnings.warn(\n",
      "D:\\Anaconda\\lib\\site-packages\\sklearn\\covariance\\_robust_covariance.py:183: RuntimeWarning: Determinant has increased; this should not happen: log(det) > log(previous_det) (269.220748635989821 > 266.650609407145510). You may want to try with a higher value of support_fraction (current value: 0.503).\n",
      "  warnings.warn(\n",
      "D:\\Anaconda\\lib\\site-packages\\sklearn\\covariance\\_robust_covariance.py:183: RuntimeWarning: Determinant has increased; this should not happen: log(det) > log(previous_det) (268.263145019559204 > 266.036564338658820). You may want to try with a higher value of support_fraction (current value: 0.503).\n",
      "  warnings.warn(\n",
      "D:\\Anaconda\\lib\\site-packages\\sklearn\\covariance\\_robust_covariance.py:183: RuntimeWarning: Determinant has increased; this should not happen: log(det) > log(previous_det) (265.971016436052594 > 265.955775743969582). You may want to try with a higher value of support_fraction (current value: 0.503).\n",
      "  warnings.warn(\n",
      "D:\\Anaconda\\lib\\site-packages\\sklearn\\covariance\\_robust_covariance.py:183: RuntimeWarning: Determinant has increased; this should not happen: log(det) > log(previous_det) (267.090238604258445 > 267.025774904590946). You may want to try with a higher value of support_fraction (current value: 0.503).\n",
      "  warnings.warn(\n",
      "D:\\Anaconda\\lib\\site-packages\\sklearn\\covariance\\_robust_covariance.py:183: RuntimeWarning: Determinant has increased; this should not happen: log(det) > log(previous_det) (266.307059380378178 > 265.999808941783840). You may want to try with a higher value of support_fraction (current value: 0.503).\n",
      "  warnings.warn(\n",
      "D:\\Anaconda\\lib\\site-packages\\sklearn\\covariance\\_robust_covariance.py:183: RuntimeWarning: Determinant has increased; this should not happen: log(det) > log(previous_det) (268.263145019559204 > 266.095321622499966). You may want to try with a higher value of support_fraction (current value: 0.503).\n",
      "  warnings.warn(\n",
      "D:\\Anaconda\\lib\\site-packages\\sklearn\\covariance\\_robust_covariance.py:183: RuntimeWarning: Determinant has increased; this should not happen: log(det) > log(previous_det) (268.247474421440359 > 266.000362060749865). You may want to try with a higher value of support_fraction (current value: 0.503).\n",
      "  warnings.warn(\n",
      "D:\\Anaconda\\lib\\site-packages\\sklearn\\covariance\\_robust_covariance.py:183: RuntimeWarning: Determinant has increased; this should not happen: log(det) > log(previous_det) (268.263145019559204 > 266.180061361325954). You may want to try with a higher value of support_fraction (current value: 0.503).\n",
      "  warnings.warn(\n",
      "D:\\Anaconda\\lib\\site-packages\\sklearn\\covariance\\_robust_covariance.py:183: RuntimeWarning: Determinant has increased; this should not happen: log(det) > log(previous_det) (275.503988153076421 > 268.111819914009629). You may want to try with a higher value of support_fraction (current value: 0.503).\n",
      "  warnings.warn(\n",
      "D:\\Anaconda\\lib\\site-packages\\sklearn\\covariance\\_robust_covariance.py:183: RuntimeWarning: Determinant has increased; this should not happen: log(det) > log(previous_det) (275.400462604309894 > 268.202557495140184). You may want to try with a higher value of support_fraction (current value: 0.503).\n",
      "  warnings.warn(\n",
      "D:\\Anaconda\\lib\\site-packages\\sklearn\\covariance\\_robust_covariance.py:183: RuntimeWarning: Determinant has increased; this should not happen: log(det) > log(previous_det) (275.503988153076421 > 269.177245332459165). You may want to try with a higher value of support_fraction (current value: 0.503).\n",
      "  warnings.warn(\n",
      "D:\\Anaconda\\lib\\site-packages\\sklearn\\covariance\\_robust_covariance.py:183: RuntimeWarning: Determinant has increased; this should not happen: log(det) > log(previous_det) (275.544055866282463 > 275.332774096069102). You may want to try with a higher value of support_fraction (current value: 0.503).\n",
      "  warnings.warn(\n",
      "D:\\Anaconda\\lib\\site-packages\\sklearn\\covariance\\_robust_covariance.py:183: RuntimeWarning: Determinant has increased; this should not happen: log(det) > log(previous_det) (275.945771229310367 > 275.940394592843347). You may want to try with a higher value of support_fraction (current value: 0.503).\n",
      "  warnings.warn(\n",
      "D:\\Anaconda\\lib\\site-packages\\sklearn\\covariance\\_robust_covariance.py:183: RuntimeWarning: Determinant has increased; this should not happen: log(det) > log(previous_det) (275.940394592843347 > 267.952390853319685). You may want to try with a higher value of support_fraction (current value: 0.503).\n",
      "  warnings.warn(\n",
      "D:\\Anaconda\\lib\\site-packages\\sklearn\\covariance\\_robust_covariance.py:183: RuntimeWarning: Determinant has increased; this should not happen: log(det) > log(previous_det) (267.465070229156709 > 266.671534967705270). You may want to try with a higher value of support_fraction (current value: 0.503).\n",
      "  warnings.warn(\n",
      "D:\\Anaconda\\lib\\site-packages\\sklearn\\covariance\\_robust_covariance.py:183: RuntimeWarning: Determinant has increased; this should not happen: log(det) > log(previous_det) (267.474200929928088 > 267.454507002256832). You may want to try with a higher value of support_fraction (current value: 0.503).\n",
      "  warnings.warn(\n",
      "D:\\Anaconda\\lib\\site-packages\\sklearn\\covariance\\_robust_covariance.py:183: RuntimeWarning: Determinant has increased; this should not happen: log(det) > log(previous_det) (268.079748340209846 > 267.423835823766979). You may want to try with a higher value of support_fraction (current value: 0.503).\n",
      "  warnings.warn(\n",
      "D:\\Anaconda\\lib\\site-packages\\sklearn\\covariance\\_robust_covariance.py:183: RuntimeWarning: Determinant has increased; this should not happen: log(det) > log(previous_det) (267.474200929928088 > 267.441084498097325). You may want to try with a higher value of support_fraction (current value: 0.503).\n",
      "  warnings.warn(\n",
      "D:\\Anaconda\\lib\\site-packages\\sklearn\\covariance\\_robust_covariance.py:183: RuntimeWarning: Determinant has increased; this should not happen: log(det) > log(previous_det) (268.098753529376040 > 267.401984102151857). You may want to try with a higher value of support_fraction (current value: 0.503).\n",
      "  warnings.warn(\n",
      "D:\\Anaconda\\lib\\site-packages\\sklearn\\covariance\\_robust_covariance.py:183: RuntimeWarning: Determinant has increased; this should not happen: log(det) > log(previous_det) (265.819220863817975 > 265.810543407411558). You may want to try with a higher value of support_fraction (current value: 0.503).\n",
      "  warnings.warn(\n",
      "D:\\Anaconda\\lib\\site-packages\\sklearn\\covariance\\_robust_covariance.py:183: RuntimeWarning: Determinant has increased; this should not happen: log(det) > log(previous_det) (265.856323793963838 > 265.791955109295372). You may want to try with a higher value of support_fraction (current value: 0.503).\n",
      "  warnings.warn(\n",
      "D:\\Anaconda\\lib\\site-packages\\sklearn\\covariance\\_robust_covariance.py:183: RuntimeWarning: Determinant has increased; this should not happen: log(det) > log(previous_det) (265.892272326301509 > 265.819220863817975). You may want to try with a higher value of support_fraction (current value: 0.503).\n",
      "  warnings.warn(\n",
      "D:\\Anaconda\\lib\\site-packages\\sklearn\\covariance\\_robust_covariance.py:183: RuntimeWarning: Determinant has increased; this should not happen: log(det) > log(previous_det) (263.536252135734003 > 263.257714898884728). You may want to try with a higher value of support_fraction (current value: 0.503).\n",
      "  warnings.warn(\n",
      "D:\\Anaconda\\lib\\site-packages\\sklearn\\covariance\\_robust_covariance.py:183: RuntimeWarning: Determinant has increased; this should not happen: log(det) > log(previous_det) (265.906755457418910 > 265.100587438673301). You may want to try with a higher value of support_fraction (current value: 0.503).\n",
      "  warnings.warn(\n",
      "D:\\Anaconda\\lib\\site-packages\\sklearn\\covariance\\_robust_covariance.py:183: RuntimeWarning: Determinant has increased; this should not happen: log(det) > log(previous_det) (266.439516294178702 > 266.410736954857953). You may want to try with a higher value of support_fraction (current value: 0.503).\n",
      "  warnings.warn(\n",
      "D:\\Anaconda\\lib\\site-packages\\sklearn\\covariance\\_robust_covariance.py:183: RuntimeWarning: Determinant has increased; this should not happen: log(det) > log(previous_det) (266.503104531583460 > 266.493048868358642). You may want to try with a higher value of support_fraction (current value: 0.503).\n",
      "  warnings.warn(\n",
      "D:\\Anaconda\\lib\\site-packages\\sklearn\\covariance\\_robust_covariance.py:183: RuntimeWarning: Determinant has increased; this should not happen: log(det) > log(previous_det) (274.607604425499687 > 268.444418207648198). You may want to try with a higher value of support_fraction (current value: 0.503).\n",
      "  warnings.warn(\n"
     ]
    },
    {
     "name": "stderr",
     "output_type": "stream",
     "text": [
      "D:\\Anaconda\\lib\\site-packages\\sklearn\\covariance\\_robust_covariance.py:183: RuntimeWarning: Determinant has increased; this should not happen: log(det) > log(previous_det) (274.664664056489187 > 267.480356342366747). You may want to try with a higher value of support_fraction (current value: 0.503).\n",
      "  warnings.warn(\n",
      "D:\\Anaconda\\lib\\site-packages\\sklearn\\covariance\\_robust_covariance.py:183: RuntimeWarning: Determinant has increased; this should not happen: log(det) > log(previous_det) (273.904405448965122 > 272.882067327424238). You may want to try with a higher value of support_fraction (current value: 0.503).\n",
      "  warnings.warn(\n",
      "D:\\Anaconda\\lib\\site-packages\\sklearn\\covariance\\_robust_covariance.py:183: RuntimeWarning: Determinant has increased; this should not happen: log(det) > log(previous_det) (274.545705075387900 > 268.613899264042288). You may want to try with a higher value of support_fraction (current value: 0.503).\n",
      "  warnings.warn(\n",
      "D:\\Anaconda\\lib\\site-packages\\sklearn\\covariance\\_robust_covariance.py:183: RuntimeWarning: Determinant has increased; this should not happen: log(det) > log(previous_det) (274.664664056489187 > 273.246452477621574). You may want to try with a higher value of support_fraction (current value: 0.503).\n",
      "  warnings.warn(\n",
      "D:\\Anaconda\\lib\\site-packages\\sklearn\\covariance\\_robust_covariance.py:183: RuntimeWarning: Determinant has increased; this should not happen: log(det) > log(previous_det) (274.471478622725158 > 274.330681005860868). You may want to try with a higher value of support_fraction (current value: 0.503).\n",
      "  warnings.warn(\n",
      "D:\\Anaconda\\lib\\site-packages\\sklearn\\covariance\\_robust_covariance.py:183: RuntimeWarning: Determinant has increased; this should not happen: log(det) > log(previous_det) (274.493187660733440 > 273.952335761265431). You may want to try with a higher value of support_fraction (current value: 0.503).\n",
      "  warnings.warn(\n",
      "D:\\Anaconda\\lib\\site-packages\\sklearn\\covariance\\_robust_covariance.py:183: RuntimeWarning: Determinant has increased; this should not happen: log(det) > log(previous_det) (273.904405448965122 > 268.426983197952552). You may want to try with a higher value of support_fraction (current value: 0.503).\n",
      "  warnings.warn(\n",
      "D:\\Anaconda\\lib\\site-packages\\sklearn\\covariance\\_robust_covariance.py:183: RuntimeWarning: Determinant has increased; this should not happen: log(det) > log(previous_det) (268.294746432264901 > 266.212831208461921). You may want to try with a higher value of support_fraction (current value: 0.503).\n",
      "  warnings.warn(\n",
      "D:\\Anaconda\\lib\\site-packages\\sklearn\\covariance\\_robust_covariance.py:183: RuntimeWarning: Determinant has increased; this should not happen: log(det) > log(previous_det) (267.630646337286237 > 265.853171458406791). You may want to try with a higher value of support_fraction (current value: 0.503).\n",
      "  warnings.warn(\n",
      "D:\\Anaconda\\lib\\site-packages\\sklearn\\covariance\\_robust_covariance.py:183: RuntimeWarning: Determinant has increased; this should not happen: log(det) > log(previous_det) (267.835922360092923 > 264.604710779722382). You may want to try with a higher value of support_fraction (current value: 0.503).\n",
      "  warnings.warn(\n",
      "D:\\Anaconda\\lib\\site-packages\\sklearn\\covariance\\_robust_covariance.py:183: RuntimeWarning: Determinant has increased; this should not happen: log(det) > log(previous_det) (264.817589896525931 > 264.798354703394239). You may want to try with a higher value of support_fraction (current value: 0.503).\n",
      "  warnings.warn(\n",
      "D:\\Anaconda\\lib\\site-packages\\sklearn\\covariance\\_robust_covariance.py:183: RuntimeWarning: Determinant has increased; this should not happen: log(det) > log(previous_det) (264.671424293992004 > 264.622468724259420). You may want to try with a higher value of support_fraction (current value: 0.503).\n",
      "  warnings.warn(\n",
      "D:\\Anaconda\\lib\\site-packages\\sklearn\\covariance\\_robust_covariance.py:183: RuntimeWarning: Determinant has increased; this should not happen: log(det) > log(previous_det) (268.069809753887398 > 267.879490669961683). You may want to try with a higher value of support_fraction (current value: 0.503).\n",
      "  warnings.warn(\n",
      "D:\\Anaconda\\lib\\site-packages\\sklearn\\covariance\\_robust_covariance.py:183: RuntimeWarning: Determinant has increased; this should not happen: log(det) > log(previous_det) (269.523419305584639 > 266.649562202689935). You may want to try with a higher value of support_fraction (current value: 0.503).\n",
      "  warnings.warn(\n",
      "D:\\Anaconda\\lib\\site-packages\\sklearn\\covariance\\_robust_covariance.py:183: RuntimeWarning: Determinant has increased; this should not happen: log(det) > log(previous_det) (269.451494418485083 > 269.021297415378456). You may want to try with a higher value of support_fraction (current value: 0.503).\n",
      "  warnings.warn(\n",
      "D:\\Anaconda\\lib\\site-packages\\sklearn\\covariance\\_robust_covariance.py:183: RuntimeWarning: Determinant has increased; this should not happen: log(det) > log(previous_det) (269.451494418485083 > 269.074955313294254). You may want to try with a higher value of support_fraction (current value: 0.503).\n",
      "  warnings.warn(\n",
      "D:\\Anaconda\\lib\\site-packages\\sklearn\\covariance\\_robust_covariance.py:183: RuntimeWarning: Determinant has increased; this should not happen: log(det) > log(previous_det) (269.451494418485083 > 269.371489447033639). You may want to try with a higher value of support_fraction (current value: 0.503).\n",
      "  warnings.warn(\n",
      "D:\\Anaconda\\lib\\site-packages\\sklearn\\covariance\\_robust_covariance.py:183: RuntimeWarning: Determinant has increased; this should not happen: log(det) > log(previous_det) (269.464133165184933 > 267.646046732521654). You may want to try with a higher value of support_fraction (current value: 0.503).\n",
      "  warnings.warn(\n",
      "D:\\Anaconda\\lib\\site-packages\\sklearn\\covariance\\_robust_covariance.py:183: RuntimeWarning: Determinant has increased; this should not happen: log(det) > log(previous_det) (269.464133165184933 > 269.451494418485083). You may want to try with a higher value of support_fraction (current value: 0.503).\n",
      "  warnings.warn(\n",
      "D:\\Anaconda\\lib\\site-packages\\sklearn\\covariance\\_robust_covariance.py:183: RuntimeWarning: Determinant has increased; this should not happen: log(det) > log(previous_det) (265.436698689894683 > 265.137668439431820). You may want to try with a higher value of support_fraction (current value: 0.503).\n",
      "  warnings.warn(\n",
      "D:\\Anaconda\\lib\\site-packages\\sklearn\\covariance\\_robust_covariance.py:183: RuntimeWarning: Determinant has increased; this should not happen: log(det) > log(previous_det) (265.101158300675763 > 264.537712250991945). You may want to try with a higher value of support_fraction (current value: 0.503).\n",
      "  warnings.warn(\n",
      "D:\\Anaconda\\lib\\site-packages\\sklearn\\covariance\\_robust_covariance.py:183: RuntimeWarning: Determinant has increased; this should not happen: log(det) > log(previous_det) (269.235545052613872 > 267.949017238020701). You may want to try with a higher value of support_fraction (current value: 0.503).\n",
      "  warnings.warn(\n",
      "D:\\Anaconda\\lib\\site-packages\\sklearn\\covariance\\_robust_covariance.py:183: RuntimeWarning: Determinant has increased; this should not happen: log(det) > log(previous_det) (268.520953873793417 > 268.514556108506497). You may want to try with a higher value of support_fraction (current value: 0.503).\n",
      "  warnings.warn(\n",
      "D:\\Anaconda\\lib\\site-packages\\sklearn\\covariance\\_robust_covariance.py:183: RuntimeWarning: Determinant has increased; this should not happen: log(det) > log(previous_det) (268.524189228887224 > 268.477981075285186). You may want to try with a higher value of support_fraction (current value: 0.503).\n",
      "  warnings.warn(\n",
      "D:\\Anaconda\\lib\\site-packages\\sklearn\\covariance\\_robust_covariance.py:183: RuntimeWarning: Determinant has increased; this should not happen: log(det) > log(previous_det) (269.000397115528415 > 268.550593466260125). You may want to try with a higher value of support_fraction (current value: 0.503).\n",
      "  warnings.warn(\n",
      "D:\\Anaconda\\lib\\site-packages\\sklearn\\covariance\\_robust_covariance.py:183: RuntimeWarning: Determinant has increased; this should not happen: log(det) > log(previous_det) (266.381751394905336 > 266.136235504767285). You may want to try with a higher value of support_fraction (current value: 0.503).\n",
      "  warnings.warn(\n",
      "D:\\Anaconda\\lib\\site-packages\\sklearn\\covariance\\_robust_covariance.py:183: RuntimeWarning: Determinant has increased; this should not happen: log(det) > log(previous_det) (266.380716826141963 > 266.249608081483757). You may want to try with a higher value of support_fraction (current value: 0.503).\n",
      "  warnings.warn(\n",
      "D:\\Anaconda\\lib\\site-packages\\sklearn\\covariance\\_robust_covariance.py:183: RuntimeWarning: Determinant has increased; this should not happen: log(det) > log(previous_det) (266.204937796633033 > 266.202211732926287). You may want to try with a higher value of support_fraction (current value: 0.503).\n",
      "  warnings.warn(\n",
      "D:\\Anaconda\\lib\\site-packages\\sklearn\\covariance\\_robust_covariance.py:183: RuntimeWarning: Determinant has increased; this should not happen: log(det) > log(previous_det) (266.381751394905336 > 266.115468973601594). You may want to try with a higher value of support_fraction (current value: 0.503).\n",
      "  warnings.warn(\n",
      "D:\\Anaconda\\lib\\site-packages\\sklearn\\covariance\\_robust_covariance.py:183: RuntimeWarning: Determinant has increased; this should not happen: log(det) > log(previous_det) (268.364115640708235 > 268.358086899702755). You may want to try with a higher value of support_fraction (current value: 0.503).\n",
      "  warnings.warn(\n",
      "D:\\Anaconda\\lib\\site-packages\\sklearn\\covariance\\_robust_covariance.py:183: RuntimeWarning: Determinant has increased; this should not happen: log(det) > log(previous_det) (268.691791904278887 > 266.790410513827510). You may want to try with a higher value of support_fraction (current value: 0.503).\n",
      "  warnings.warn(\n",
      "D:\\Anaconda\\lib\\site-packages\\sklearn\\covariance\\_robust_covariance.py:183: RuntimeWarning: Determinant has increased; this should not happen: log(det) > log(previous_det) (268.208134984223989 > 265.306859740409436). You may want to try with a higher value of support_fraction (current value: 0.503).\n",
      "  warnings.warn(\n",
      "D:\\Anaconda\\lib\\site-packages\\sklearn\\covariance\\_robust_covariance.py:183: RuntimeWarning: Determinant has increased; this should not happen: log(det) > log(previous_det) (268.691791904278887 > 267.227774770326960). You may want to try with a higher value of support_fraction (current value: 0.503).\n",
      "  warnings.warn(\n",
      "D:\\Anaconda\\lib\\site-packages\\sklearn\\covariance\\_robust_covariance.py:183: RuntimeWarning: Determinant has increased; this should not happen: log(det) > log(previous_det) (267.598756578307416 > 265.234019018799074). You may want to try with a higher value of support_fraction (current value: 0.503).\n",
      "  warnings.warn(\n",
      "D:\\Anaconda\\lib\\site-packages\\sklearn\\covariance\\_robust_covariance.py:183: RuntimeWarning: Determinant has increased; this should not happen: log(det) > log(previous_det) (268.212067731794377 > 267.963988055938671). You may want to try with a higher value of support_fraction (current value: 0.503).\n",
      "  warnings.warn(\n",
      "D:\\Anaconda\\lib\\site-packages\\sklearn\\covariance\\_robust_covariance.py:183: RuntimeWarning: Determinant has increased; this should not happen: log(det) > log(previous_det) (263.235197179587715 > 262.973944572727191). You may want to try with a higher value of support_fraction (current value: 0.503).\n",
      "  warnings.warn(\n",
      "D:\\Anaconda\\lib\\site-packages\\sklearn\\covariance\\_robust_covariance.py:183: RuntimeWarning: Determinant has increased; this should not happen: log(det) > log(previous_det) (268.198441620149651 > 265.925596604678105). You may want to try with a higher value of support_fraction (current value: 0.503).\n",
      "  warnings.warn(\n",
      "D:\\Anaconda\\lib\\site-packages\\sklearn\\covariance\\_robust_covariance.py:183: RuntimeWarning: Determinant has increased; this should not happen: log(det) > log(previous_det) (267.568047812082568 > 265.872240592595176). You may want to try with a higher value of support_fraction (current value: 0.503).\n",
      "  warnings.warn(\n",
      "D:\\Anaconda\\lib\\site-packages\\sklearn\\covariance\\_robust_covariance.py:183: RuntimeWarning: Determinant has increased; this should not happen: log(det) > log(previous_det) (263.173433835621779 > 262.957306290335680). You may want to try with a higher value of support_fraction (current value: 0.503).\n",
      "  warnings.warn(\n",
      "D:\\Anaconda\\lib\\site-packages\\sklearn\\covariance\\_robust_covariance.py:183: RuntimeWarning: Determinant has increased; this should not happen: log(det) > log(previous_det) (267.569632918256616 > 267.050370023407595). You may want to try with a higher value of support_fraction (current value: 0.503).\n",
      "  warnings.warn(\n",
      "D:\\Anaconda\\lib\\site-packages\\sklearn\\covariance\\_robust_covariance.py:183: RuntimeWarning: Determinant has increased; this should not happen: log(det) > log(previous_det) (268.139909972123633 > 268.007585104597183). You may want to try with a higher value of support_fraction (current value: 0.503).\n",
      "  warnings.warn(\n",
      "D:\\Anaconda\\lib\\site-packages\\sklearn\\covariance\\_robust_covariance.py:183: RuntimeWarning: Determinant has increased; this should not happen: log(det) > log(previous_det) (268.168442795818748 > 267.432706705598491). You may want to try with a higher value of support_fraction (current value: 0.503).\n",
      "  warnings.warn(\n",
      "D:\\Anaconda\\lib\\site-packages\\sklearn\\covariance\\_robust_covariance.py:183: RuntimeWarning: Determinant has increased; this should not happen: log(det) > log(previous_det) (268.168442795818748 > 267.663949335279767). You may want to try with a higher value of support_fraction (current value: 0.503).\n",
      "  warnings.warn(\n",
      "D:\\Anaconda\\lib\\site-packages\\sklearn\\covariance\\_robust_covariance.py:183: RuntimeWarning: Determinant has increased; this should not happen: log(det) > log(previous_det) (267.907826107625112 > 267.305879680946873). You may want to try with a higher value of support_fraction (current value: 0.503).\n",
      "  warnings.warn(\n",
      "D:\\Anaconda\\lib\\site-packages\\sklearn\\covariance\\_robust_covariance.py:183: RuntimeWarning: Determinant has increased; this should not happen: log(det) > log(previous_det) (268.168442795818748 > 266.333492010287046). You may want to try with a higher value of support_fraction (current value: 0.503).\n",
      "  warnings.warn(\n",
      "D:\\Anaconda\\lib\\site-packages\\sklearn\\covariance\\_robust_covariance.py:183: RuntimeWarning: Determinant has increased; this should not happen: log(det) > log(previous_det) (271.973470420565036 > 270.547304864595105). You may want to try with a higher value of support_fraction (current value: 0.503).\n",
      "  warnings.warn(\n",
      "D:\\Anaconda\\lib\\site-packages\\sklearn\\covariance\\_robust_covariance.py:183: RuntimeWarning: Determinant has increased; this should not happen: log(det) > log(previous_det) (271.975029341972345 > 265.735105289172679). You may want to try with a higher value of support_fraction (current value: 0.503).\n",
      "  warnings.warn(\n",
      "D:\\Anaconda\\lib\\site-packages\\sklearn\\covariance\\_robust_covariance.py:183: RuntimeWarning: Determinant has increased; this should not happen: log(det) > log(previous_det) (271.672452461364628 > 271.616530114255625). You may want to try with a higher value of support_fraction (current value: 0.503).\n",
      "  warnings.warn(\n",
      "D:\\Anaconda\\lib\\site-packages\\sklearn\\covariance\\_robust_covariance.py:183: RuntimeWarning: Determinant has increased; this should not happen: log(det) > log(previous_det) (271.588193820973288 > 267.295878514314609). You may want to try with a higher value of support_fraction (current value: 0.503).\n",
      "  warnings.warn(\n",
      "D:\\Anaconda\\lib\\site-packages\\sklearn\\covariance\\_robust_covariance.py:183: RuntimeWarning: Determinant has increased; this should not happen: log(det) > log(previous_det) (272.040384616299548 > 272.018702086144344). You may want to try with a higher value of support_fraction (current value: 0.503).\n",
      "  warnings.warn(\n",
      "D:\\Anaconda\\lib\\site-packages\\sklearn\\covariance\\_robust_covariance.py:183: RuntimeWarning: Determinant has increased; this should not happen: log(det) > log(previous_det) (271.992850000438693 > 270.835014157904197). You may want to try with a higher value of support_fraction (current value: 0.503).\n",
      "  warnings.warn(\n",
      "D:\\Anaconda\\lib\\site-packages\\sklearn\\covariance\\_robust_covariance.py:183: RuntimeWarning: Determinant has increased; this should not happen: log(det) > log(previous_det) (271.583916859902843 > 271.310149726828968). You may want to try with a higher value of support_fraction (current value: 0.503).\n",
      "  warnings.warn(\n",
      "D:\\Anaconda\\lib\\site-packages\\sklearn\\covariance\\_robust_covariance.py:183: RuntimeWarning: Determinant has increased; this should not happen: log(det) > log(previous_det) (275.090757427597907 > 268.499391734103881). You may want to try with a higher value of support_fraction (current value: 0.503).\n",
      "  warnings.warn(\n",
      "D:\\Anaconda\\lib\\site-packages\\sklearn\\covariance\\_robust_covariance.py:183: RuntimeWarning: Determinant has increased; this should not happen: log(det) > log(previous_det) (275.079630237887272 > 268.908099405407427). You may want to try with a higher value of support_fraction (current value: 0.503).\n",
      "  warnings.warn(\n",
      "D:\\Anaconda\\lib\\site-packages\\sklearn\\covariance\\_robust_covariance.py:183: RuntimeWarning: Determinant has increased; this should not happen: log(det) > log(previous_det) (274.926658399190558 > 267.990665776937362). You may want to try with a higher value of support_fraction (current value: 0.503).\n",
      "  warnings.warn(\n",
      "D:\\Anaconda\\lib\\site-packages\\sklearn\\covariance\\_robust_covariance.py:183: RuntimeWarning: Determinant has increased; this should not happen: log(det) > log(previous_det) (274.144372471842871 > 267.606400856481514). You may want to try with a higher value of support_fraction (current value: 0.503).\n",
      "  warnings.warn(\n",
      "D:\\Anaconda\\lib\\site-packages\\sklearn\\covariance\\_robust_covariance.py:183: RuntimeWarning: Determinant has increased; this should not happen: log(det) > log(previous_det) (275.079630237887272 > 268.134547557126211). You may want to try with a higher value of support_fraction (current value: 0.503).\n",
      "  warnings.warn(\n",
      "D:\\Anaconda\\lib\\site-packages\\sklearn\\covariance\\_robust_covariance.py:183: RuntimeWarning: Determinant has increased; this should not happen: log(det) > log(previous_det) (274.077376248611245 > 267.565323249208689). You may want to try with a higher value of support_fraction (current value: 0.503).\n",
      "  warnings.warn(\n",
      "D:\\Anaconda\\lib\\site-packages\\sklearn\\covariance\\_robust_covariance.py:183: RuntimeWarning: Determinant has increased; this should not happen: log(det) > log(previous_det) (266.311092262713430 > 266.152322928600199). You may want to try with a higher value of support_fraction (current value: 0.503).\n",
      "  warnings.warn(\n",
      "D:\\Anaconda\\lib\\site-packages\\sklearn\\covariance\\_robust_covariance.py:183: RuntimeWarning: Determinant has increased; this should not happen: log(det) > log(previous_det) (266.984102895828528 > 266.979158047746807). You may want to try with a higher value of support_fraction (current value: 0.503).\n",
      "  warnings.warn(\n",
      "D:\\Anaconda\\lib\\site-packages\\sklearn\\covariance\\_robust_covariance.py:183: RuntimeWarning: Determinant has increased; this should not happen: log(det) > log(previous_det) (266.984102895828528 > 266.970428597803732). You may want to try with a higher value of support_fraction (current value: 0.503).\n",
      "  warnings.warn(\n",
      "D:\\Anaconda\\lib\\site-packages\\sklearn\\covariance\\_robust_covariance.py:183: RuntimeWarning: Determinant has increased; this should not happen: log(det) > log(previous_det) (266.979158047746807 > 266.890801762533613). You may want to try with a higher value of support_fraction (current value: 0.503).\n",
      "  warnings.warn(\n",
      "D:\\Anaconda\\lib\\site-packages\\sklearn\\covariance\\_robust_covariance.py:183: RuntimeWarning: Determinant has increased; this should not happen: log(det) > log(previous_det) (268.492981786695054 > 268.438475736337864). You may want to try with a higher value of support_fraction (current value: 0.503).\n",
      "  warnings.warn(\n",
      "D:\\Anaconda\\lib\\site-packages\\sklearn\\covariance\\_robust_covariance.py:183: RuntimeWarning: Determinant has increased; this should not happen: log(det) > log(previous_det) (268.447642878106535 > 268.428496451919955). You may want to try with a higher value of support_fraction (current value: 0.503).\n",
      "  warnings.warn(\n",
      "D:\\Anaconda\\lib\\site-packages\\sklearn\\covariance\\_robust_covariance.py:183: RuntimeWarning: Determinant has increased; this should not happen: log(det) > log(previous_det) (266.855848757204228 > 266.798242179602710). You may want to try with a higher value of support_fraction (current value: 0.503).\n",
      "  warnings.warn(\n",
      "D:\\Anaconda\\lib\\site-packages\\sklearn\\covariance\\_robust_covariance.py:183: RuntimeWarning: Determinant has increased; this should not happen: log(det) > log(previous_det) (267.612785047370721 > 267.502711386779822). You may want to try with a higher value of support_fraction (current value: 0.503).\n",
      "  warnings.warn(\n",
      "D:\\Anaconda\\lib\\site-packages\\sklearn\\covariance\\_robust_covariance.py:183: RuntimeWarning: Determinant has increased; this should not happen: log(det) > log(previous_det) (267.641835107571751 > 267.553496332478119). You may want to try with a higher value of support_fraction (current value: 0.503).\n",
      "  warnings.warn(\n",
      "D:\\Anaconda\\lib\\site-packages\\sklearn\\covariance\\_robust_covariance.py:183: RuntimeWarning: Determinant has increased; this should not happen: log(det) > log(previous_det) (267.663219158415359 > 267.261092521592218). You may want to try with a higher value of support_fraction (current value: 0.503).\n",
      "  warnings.warn(\n",
      "D:\\Anaconda\\lib\\site-packages\\sklearn\\covariance\\_robust_covariance.py:183: RuntimeWarning: Determinant has increased; this should not happen: log(det) > log(previous_det) (267.651270548441119 > 266.851559815352800). You may want to try with a higher value of support_fraction (current value: 0.503).\n",
      "  warnings.warn(\n",
      "D:\\Anaconda\\lib\\site-packages\\sklearn\\covariance\\_robust_covariance.py:183: RuntimeWarning: Determinant has increased; this should not happen: log(det) > log(previous_det) (267.556914297733783 > 267.375054336502672). You may want to try with a higher value of support_fraction (current value: 0.503).\n",
      "  warnings.warn(\n",
      "D:\\Anaconda\\lib\\site-packages\\sklearn\\covariance\\_robust_covariance.py:183: RuntimeWarning: Determinant has increased; this should not happen: log(det) > log(previous_det) (267.989131878864839 > 265.114653713841960). You may want to try with a higher value of support_fraction (current value: 0.503).\n",
      "  warnings.warn(\n",
      "D:\\Anaconda\\lib\\site-packages\\sklearn\\covariance\\_robust_covariance.py:183: RuntimeWarning: Determinant has increased; this should not happen: log(det) > log(previous_det) (268.025275898167195 > 267.989131878864839). You may want to try with a higher value of support_fraction (current value: 0.503).\n",
      "  warnings.warn(\n",
      "D:\\Anaconda\\lib\\site-packages\\sklearn\\covariance\\_robust_covariance.py:183: RuntimeWarning: Determinant has increased; this should not happen: log(det) > log(previous_det) (268.304745746452284 > 268.016210519675326). You may want to try with a higher value of support_fraction (current value: 0.503).\n",
      "  warnings.warn(\n",
      "D:\\Anaconda\\lib\\site-packages\\sklearn\\covariance\\_robust_covariance.py:183: RuntimeWarning: Determinant has increased; this should not happen: log(det) > log(previous_det) (268.264361877529325 > 267.945660233535989). You may want to try with a higher value of support_fraction (current value: 0.503).\n",
      "  warnings.warn(\n",
      "D:\\Anaconda\\lib\\site-packages\\sklearn\\covariance\\_robust_covariance.py:183: RuntimeWarning: Determinant has increased; this should not happen: log(det) > log(previous_det) (268.326640024510766 > 268.304745746452284). You may want to try with a higher value of support_fraction (current value: 0.503).\n",
      "  warnings.warn(\n",
      "D:\\Anaconda\\lib\\site-packages\\sklearn\\covariance\\_robust_covariance.py:183: RuntimeWarning: Determinant has increased; this should not happen: log(det) > log(previous_det) (267.644803564921858 > 267.329532262573196). You may want to try with a higher value of support_fraction (current value: 0.503).\n",
      "  warnings.warn(\n",
      "D:\\Anaconda\\lib\\site-packages\\sklearn\\covariance\\_robust_covariance.py:183: RuntimeWarning: Determinant has increased; this should not happen: log(det) > log(previous_det) (268.365150672492803 > 268.025275898167195). You may want to try with a higher value of support_fraction (current value: 0.503).\n",
      "  warnings.warn(\n",
      "D:\\Anaconda\\lib\\site-packages\\sklearn\\covariance\\_robust_covariance.py:183: RuntimeWarning: Determinant has increased; this should not happen: log(det) > log(previous_det) (267.970803753366283 > 267.644803564921858). You may want to try with a higher value of support_fraction (current value: 0.503).\n",
      "  warnings.warn(\n",
      "D:\\Anaconda\\lib\\site-packages\\sklearn\\covariance\\_robust_covariance.py:183: RuntimeWarning: Determinant has increased; this should not happen: log(det) > log(previous_det) (268.016210519675326 > 267.784351866103520). You may want to try with a higher value of support_fraction (current value: 0.503).\n",
      "  warnings.warn(\n",
      "D:\\Anaconda\\lib\\site-packages\\sklearn\\covariance\\_robust_covariance.py:183: RuntimeWarning: Determinant has increased; this should not happen: log(det) > log(previous_det) (273.665915439101695 > 267.119927680802618). You may want to try with a higher value of support_fraction (current value: 0.503).\n",
      "  warnings.warn(\n",
      "D:\\Anaconda\\lib\\site-packages\\sklearn\\covariance\\_robust_covariance.py:183: RuntimeWarning: Determinant has increased; this should not happen: log(det) > log(previous_det) (274.520627499540183 > 267.565551086111270). You may want to try with a higher value of support_fraction (current value: 0.503).\n",
      "  warnings.warn(\n",
      "D:\\Anaconda\\lib\\site-packages\\sklearn\\covariance\\_robust_covariance.py:183: RuntimeWarning: Determinant has increased; this should not happen: log(det) > log(previous_det) (274.520627499540183 > 268.367537320759254). You may want to try with a higher value of support_fraction (current value: 0.503).\n",
      "  warnings.warn(\n",
      "D:\\Anaconda\\lib\\site-packages\\sklearn\\covariance\\_robust_covariance.py:183: RuntimeWarning: Determinant has increased; this should not happen: log(det) > log(previous_det) (273.936941457914486 > 268.039109280725711). You may want to try with a higher value of support_fraction (current value: 0.503).\n",
      "  warnings.warn(\n",
      "D:\\Anaconda\\lib\\site-packages\\sklearn\\covariance\\_robust_covariance.py:183: RuntimeWarning: Determinant has increased; this should not happen: log(det) > log(previous_det) (273.936941457914486 > 269.822077303793606). You may want to try with a higher value of support_fraction (current value: 0.503).\n",
      "  warnings.warn(\n",
      "D:\\Anaconda\\lib\\site-packages\\sklearn\\covariance\\_robust_covariance.py:183: RuntimeWarning: Determinant has increased; this should not happen: log(det) > log(previous_det) (275.046946632014567 > 267.320496605430435). You may want to try with a higher value of support_fraction (current value: 0.503).\n",
      "  warnings.warn(\n",
      "D:\\Anaconda\\lib\\site-packages\\sklearn\\covariance\\_robust_covariance.py:183: RuntimeWarning: Determinant has increased; this should not happen: log(det) > log(previous_det) (273.816168353623368 > 267.468161398462087). You may want to try with a higher value of support_fraction (current value: 0.503).\n",
      "  warnings.warn(\n",
      "D:\\Anaconda\\lib\\site-packages\\sklearn\\covariance\\_robust_covariance.py:183: RuntimeWarning: Determinant has increased; this should not happen: log(det) > log(previous_det) (262.580240823281940 > 261.643396863491830). You may want to try with a higher value of support_fraction (current value: 0.503).\n",
      "  warnings.warn(\n",
      "D:\\Anaconda\\lib\\site-packages\\sklearn\\covariance\\_robust_covariance.py:183: RuntimeWarning: Determinant has increased; this should not happen: log(det) > log(previous_det) (260.449444672340974 > 260.228958415601767). You may want to try with a higher value of support_fraction (current value: 0.503).\n",
      "  warnings.warn(\n",
      "D:\\Anaconda\\lib\\site-packages\\sklearn\\covariance\\_robust_covariance.py:183: RuntimeWarning: Determinant has increased; this should not happen: log(det) > log(previous_det) (262.579986916511359 > 262.569745882678433). You may want to try with a higher value of support_fraction (current value: 0.503).\n",
      "  warnings.warn(\n",
      "D:\\Anaconda\\lib\\site-packages\\sklearn\\covariance\\_robust_covariance.py:183: RuntimeWarning: Determinant has increased; this should not happen: log(det) > log(previous_det) (261.665282254659360 > 261.657796283846665). You may want to try with a higher value of support_fraction (current value: 0.503).\n",
      "  warnings.warn(\n",
      "D:\\Anaconda\\lib\\site-packages\\sklearn\\covariance\\_robust_covariance.py:183: RuntimeWarning: Determinant has increased; this should not happen: log(det) > log(previous_det) (261.667114514464743 > 260.422861055282738). You may want to try with a higher value of support_fraction (current value: 0.503).\n",
      "  warnings.warn(\n",
      "D:\\Anaconda\\lib\\site-packages\\sklearn\\covariance\\_robust_covariance.py:183: RuntimeWarning: Determinant has increased; this should not happen: log(det) > log(previous_det) (261.643524025852798 > 260.444012190598187). You may want to try with a higher value of support_fraction (current value: 0.503).\n",
      "  warnings.warn(\n",
      "D:\\Anaconda\\lib\\site-packages\\sklearn\\covariance\\_robust_covariance.py:183: RuntimeWarning: Determinant has increased; this should not happen: log(det) > log(previous_det) (262.580240823281940 > 261.667114514464743). You may want to try with a higher value of support_fraction (current value: 0.503).\n",
      "  warnings.warn(\n",
      "D:\\Anaconda\\lib\\site-packages\\sklearn\\covariance\\_robust_covariance.py:183: RuntimeWarning: Determinant has increased; this should not happen: log(det) > log(previous_det) (271.688453712883700 > 271.631666203287693). You may want to try with a higher value of support_fraction (current value: 0.503).\n",
      "  warnings.warn(\n",
      "D:\\Anaconda\\lib\\site-packages\\sklearn\\covariance\\_robust_covariance.py:183: RuntimeWarning: Determinant has increased; this should not happen: log(det) > log(previous_det) (271.269918567018578 > 270.689077458113957). You may want to try with a higher value of support_fraction (current value: 0.503).\n",
      "  warnings.warn(\n",
      "D:\\Anaconda\\lib\\site-packages\\sklearn\\covariance\\_robust_covariance.py:183: RuntimeWarning: Determinant has increased; this should not happen: log(det) > log(previous_det) (271.688453712883700 > 271.668756000306075). You may want to try with a higher value of support_fraction (current value: 0.503).\n",
      "  warnings.warn(\n",
      "D:\\Anaconda\\lib\\site-packages\\sklearn\\covariance\\_robust_covariance.py:183: RuntimeWarning: Determinant has increased; this should not happen: log(det) > log(previous_det) (271.647347049097732 > 269.109460830592923). You may want to try with a higher value of support_fraction (current value: 0.503).\n",
      "  warnings.warn(\n",
      "D:\\Anaconda\\lib\\site-packages\\sklearn\\covariance\\_robust_covariance.py:183: RuntimeWarning: Determinant has increased; this should not happen: log(det) > log(previous_det) (271.230280587722575 > 270.524407343400412). You may want to try with a higher value of support_fraction (current value: 0.503).\n",
      "  warnings.warn(\n",
      "D:\\Anaconda\\lib\\site-packages\\sklearn\\covariance\\_robust_covariance.py:183: RuntimeWarning: Determinant has increased; this should not happen: log(det) > log(previous_det) (271.752684084757618 > 270.066118221828390). You may want to try with a higher value of support_fraction (current value: 0.503).\n",
      "  warnings.warn(\n",
      "D:\\Anaconda\\lib\\site-packages\\sklearn\\covariance\\_robust_covariance.py:183: RuntimeWarning: Determinant has increased; this should not happen: log(det) > log(previous_det) (271.590685571647668 > 271.167443663536915). You may want to try with a higher value of support_fraction (current value: 0.503).\n",
      "  warnings.warn(\n",
      "D:\\Anaconda\\lib\\site-packages\\sklearn\\covariance\\_robust_covariance.py:183: RuntimeWarning: Determinant has increased; this should not happen: log(det) > log(previous_det) (268.920468819561563 > 268.820261767813577). You may want to try with a higher value of support_fraction (current value: 0.503).\n",
      "  warnings.warn(\n",
      "D:\\Anaconda\\lib\\site-packages\\sklearn\\covariance\\_robust_covariance.py:183: RuntimeWarning: Determinant has increased; this should not happen: log(det) > log(previous_det) (268.611441066893576 > 268.298855556188528). You may want to try with a higher value of support_fraction (current value: 0.503).\n",
      "  warnings.warn(\n",
      "D:\\Anaconda\\lib\\site-packages\\sklearn\\covariance\\_robust_covariance.py:183: RuntimeWarning: Determinant has increased; this should not happen: log(det) > log(previous_det) (268.789296721444657 > 267.564970489035431). You may want to try with a higher value of support_fraction (current value: 0.503).\n",
      "  warnings.warn(\n",
      "D:\\Anaconda\\lib\\site-packages\\sklearn\\covariance\\_robust_covariance.py:183: RuntimeWarning: Determinant has increased; this should not happen: log(det) > log(previous_det) (271.055609607225279 > 269.970989312883376). You may want to try with a higher value of support_fraction (current value: 0.503).\n",
      "  warnings.warn(\n",
      "D:\\Anaconda\\lib\\site-packages\\sklearn\\covariance\\_robust_covariance.py:183: RuntimeWarning: Determinant has increased; this should not happen: log(det) > log(previous_det) (271.558102893987837 > 270.772338858365572). You may want to try with a higher value of support_fraction (current value: 0.503).\n",
      "  warnings.warn(\n",
      "D:\\Anaconda\\lib\\site-packages\\sklearn\\covariance\\_robust_covariance.py:183: RuntimeWarning: Determinant has increased; this should not happen: log(det) > log(previous_det) (271.558102893987837 > 267.811390146087774). You may want to try with a higher value of support_fraction (current value: 0.503).\n",
      "  warnings.warn(\n",
      "D:\\Anaconda\\lib\\site-packages\\sklearn\\covariance\\_robust_covariance.py:183: RuntimeWarning: Determinant has increased; this should not happen: log(det) > log(previous_det) (271.590651305690130 > 269.496114737925950). You may want to try with a higher value of support_fraction (current value: 0.503).\n",
      "  warnings.warn(\n",
      "D:\\Anaconda\\lib\\site-packages\\sklearn\\covariance\\_robust_covariance.py:183: RuntimeWarning: Determinant has increased; this should not happen: log(det) > log(previous_det) (267.361739371753970 > 266.769304276416506). You may want to try with a higher value of support_fraction (current value: 0.503).\n",
      "  warnings.warn(\n",
      "D:\\Anaconda\\lib\\site-packages\\sklearn\\covariance\\_robust_covariance.py:183: RuntimeWarning: Determinant has increased; this should not happen: log(det) > log(previous_det) (268.231974053731449 > 266.238820912708263). You may want to try with a higher value of support_fraction (current value: 0.503).\n",
      "  warnings.warn(\n",
      "D:\\Anaconda\\lib\\site-packages\\sklearn\\covariance\\_robust_covariance.py:183: RuntimeWarning: Determinant has increased; this should not happen: log(det) > log(previous_det) (268.040204167907632 > 267.450114966727881). You may want to try with a higher value of support_fraction (current value: 0.503).\n",
      "  warnings.warn(\n",
      "D:\\Anaconda\\lib\\site-packages\\sklearn\\covariance\\_robust_covariance.py:183: RuntimeWarning: Determinant has increased; this should not happen: log(det) > log(previous_det) (268.040204167907632 > 267.281885051379106). You may want to try with a higher value of support_fraction (current value: 0.503).\n",
      "  warnings.warn(\n",
      "D:\\Anaconda\\lib\\site-packages\\sklearn\\covariance\\_robust_covariance.py:183: RuntimeWarning: Determinant has increased; this should not happen: log(det) > log(previous_det) (268.047962105471470 > 268.014810286615784). You may want to try with a higher value of support_fraction (current value: 0.503).\n",
      "  warnings.warn(\n",
      "D:\\Anaconda\\lib\\site-packages\\sklearn\\covariance\\_robust_covariance.py:183: RuntimeWarning: Determinant has increased; this should not happen: log(det) > log(previous_det) (267.450114966727881 > 266.762719286759136). You may want to try with a higher value of support_fraction (current value: 0.503).\n",
      "  warnings.warn(\n",
      "D:\\Anaconda\\lib\\site-packages\\sklearn\\covariance\\_robust_covariance.py:183: RuntimeWarning: Determinant has increased; this should not happen: log(det) > log(previous_det) (268.373170243644040 > 267.937911543338259). You may want to try with a higher value of support_fraction (current value: 0.503).\n",
      "  warnings.warn(\n",
      "D:\\Anaconda\\lib\\site-packages\\sklearn\\covariance\\_robust_covariance.py:183: RuntimeWarning: Determinant has increased; this should not happen: log(det) > log(previous_det) (268.708065038228426 > 268.688198852741550). You may want to try with a higher value of support_fraction (current value: 0.503).\n",
      "  warnings.warn(\n",
      "D:\\Anaconda\\lib\\site-packages\\sklearn\\covariance\\_robust_covariance.py:183: RuntimeWarning: Determinant has increased; this should not happen: log(det) > log(previous_det) (268.729421136060864 > 268.710132081016866). You may want to try with a higher value of support_fraction (current value: 0.503).\n",
      "  warnings.warn(\n",
      "D:\\Anaconda\\lib\\site-packages\\sklearn\\covariance\\_robust_covariance.py:183: RuntimeWarning: Determinant has increased; this should not happen: log(det) > log(previous_det) (268.710132081016866 > 268.389219940755709). You may want to try with a higher value of support_fraction (current value: 0.503).\n",
      "  warnings.warn(\n",
      "D:\\Anaconda\\lib\\site-packages\\sklearn\\covariance\\_robust_covariance.py:183: RuntimeWarning: Determinant has increased; this should not happen: log(det) > log(previous_det) (268.729421136060864 > 268.710306895361668). You may want to try with a higher value of support_fraction (current value: 0.503).\n",
      "  warnings.warn(\n",
      "D:\\Anaconda\\lib\\site-packages\\sklearn\\covariance\\_robust_covariance.py:183: RuntimeWarning: Determinant has increased; this should not happen: log(det) > log(previous_det) (268.451334430921918 > 268.375011452539866). You may want to try with a higher value of support_fraction (current value: 0.503).\n",
      "  warnings.warn(\n",
      "D:\\Anaconda\\lib\\site-packages\\sklearn\\covariance\\_robust_covariance.py:183: RuntimeWarning: Determinant has increased; this should not happen: log(det) > log(previous_det) (268.688198852741550 > 266.659172752717780). You may want to try with a higher value of support_fraction (current value: 0.503).\n",
      "  warnings.warn(\n",
      "D:\\Anaconda\\lib\\site-packages\\sklearn\\covariance\\_robust_covariance.py:183: RuntimeWarning: Determinant has increased; this should not happen: log(det) > log(previous_det) (267.926052376852226 > 267.879863227997532). You may want to try with a higher value of support_fraction (current value: 0.503).\n",
      "  warnings.warn(\n",
      "D:\\Anaconda\\lib\\site-packages\\sklearn\\covariance\\_robust_covariance.py:183: RuntimeWarning: Determinant has increased; this should not happen: log(det) > log(previous_det) (267.895108852641215 > 267.375500593710399). You may want to try with a higher value of support_fraction (current value: 0.503).\n",
      "  warnings.warn(\n",
      "D:\\Anaconda\\lib\\site-packages\\sklearn\\covariance\\_robust_covariance.py:183: RuntimeWarning: Determinant has increased; this should not happen: log(det) > log(previous_det) (266.582654659329705 > 264.942012716575618). You may want to try with a higher value of support_fraction (current value: 0.503).\n",
      "  warnings.warn(\n",
      "D:\\Anaconda\\lib\\site-packages\\sklearn\\covariance\\_robust_covariance.py:183: RuntimeWarning: Determinant has increased; this should not happen: log(det) > log(previous_det) (266.566819346298644 > 264.928108224101152). You may want to try with a higher value of support_fraction (current value: 0.503).\n",
      "  warnings.warn(\n",
      "D:\\Anaconda\\lib\\site-packages\\sklearn\\covariance\\_robust_covariance.py:183: RuntimeWarning: Determinant has increased; this should not happen: log(det) > log(previous_det) (264.840008055495559 > 264.817961247973017). You may want to try with a higher value of support_fraction (current value: 0.503).\n",
      "  warnings.warn(\n",
      "D:\\Anaconda\\lib\\site-packages\\sklearn\\covariance\\_robust_covariance.py:183: RuntimeWarning: Determinant has increased; this should not happen: log(det) > log(previous_det) (265.877042713141179 > 264.138775867305469). You may want to try with a higher value of support_fraction (current value: 0.503).\n",
      "  warnings.warn(\n",
      "D:\\Anaconda\\lib\\site-packages\\sklearn\\covariance\\_robust_covariance.py:183: RuntimeWarning: Determinant has increased; this should not happen: log(det) > log(previous_det) (266.444592128102840 > 265.877042713141179). You may want to try with a higher value of support_fraction (current value: 0.503).\n",
      "  warnings.warn(\n",
      "D:\\Anaconda\\lib\\site-packages\\sklearn\\covariance\\_robust_covariance.py:183: RuntimeWarning: Determinant has increased; this should not happen: log(det) > log(previous_det) (265.877042713141179 > 265.731161805112038). You may want to try with a higher value of support_fraction (current value: 0.503).\n",
      "  warnings.warn(\n",
      "D:\\Anaconda\\lib\\site-packages\\sklearn\\covariance\\_robust_covariance.py:183: RuntimeWarning: Determinant has increased; this should not happen: log(det) > log(previous_det) (267.755476346492685 > 267.562523367558811). You may want to try with a higher value of support_fraction (current value: 0.503).\n",
      "  warnings.warn(\n",
      "D:\\Anaconda\\lib\\site-packages\\sklearn\\covariance\\_robust_covariance.py:183: RuntimeWarning: Determinant has increased; this should not happen: log(det) > log(previous_det) (267.572261475049686 > 267.556944745508645). You may want to try with a higher value of support_fraction (current value: 0.503).\n",
      "  warnings.warn(\n",
      "D:\\Anaconda\\lib\\site-packages\\sklearn\\covariance\\_robust_covariance.py:183: RuntimeWarning: Determinant has increased; this should not happen: log(det) > log(previous_det) (267.840728237393250 > 266.306507718698242). You may want to try with a higher value of support_fraction (current value: 0.503).\n",
      "  warnings.warn(\n",
      "D:\\Anaconda\\lib\\site-packages\\sklearn\\covariance\\_robust_covariance.py:183: RuntimeWarning: Determinant has increased; this should not happen: log(det) > log(previous_det) (267.716665424451435 > 265.672843250029132). You may want to try with a higher value of support_fraction (current value: 0.503).\n",
      "  warnings.warn(\n",
      "D:\\Anaconda\\lib\\site-packages\\sklearn\\covariance\\_robust_covariance.py:183: RuntimeWarning: Determinant has increased; this should not happen: log(det) > log(previous_det) (269.695587435937625 > 268.200472408882433). You may want to try with a higher value of support_fraction (current value: 0.503).\n",
      "  warnings.warn(\n",
      "D:\\Anaconda\\lib\\site-packages\\sklearn\\covariance\\_robust_covariance.py:183: RuntimeWarning: Determinant has increased; this should not happen: log(det) > log(previous_det) (269.724801058481717 > 267.996090803743584). You may want to try with a higher value of support_fraction (current value: 0.503).\n",
      "  warnings.warn(\n",
      "D:\\Anaconda\\lib\\site-packages\\sklearn\\covariance\\_robust_covariance.py:183: RuntimeWarning: Determinant has increased; this should not happen: log(det) > log(previous_det) (269.731772680203562 > 267.877748658236442). You may want to try with a higher value of support_fraction (current value: 0.503).\n",
      "  warnings.warn(\n",
      "D:\\Anaconda\\lib\\site-packages\\sklearn\\covariance\\_robust_covariance.py:183: RuntimeWarning: Determinant has increased; this should not happen: log(det) > log(previous_det) (269.758021245437362 > 267.625960912991729). You may want to try with a higher value of support_fraction (current value: 0.503).\n",
      "  warnings.warn(\n",
      "D:\\Anaconda\\lib\\site-packages\\sklearn\\covariance\\_robust_covariance.py:183: RuntimeWarning: Determinant has increased; this should not happen: log(det) > log(previous_det) (269.213264083021727 > 268.686039351494344). You may want to try with a higher value of support_fraction (current value: 0.503).\n",
      "  warnings.warn(\n",
      "D:\\Anaconda\\lib\\site-packages\\sklearn\\covariance\\_robust_covariance.py:183: RuntimeWarning: Determinant has increased; this should not happen: log(det) > log(previous_det) (269.647356080149905 > 268.748259957159007). You may want to try with a higher value of support_fraction (current value: 0.503).\n",
      "  warnings.warn(\n",
      "D:\\Anaconda\\lib\\site-packages\\sklearn\\covariance\\_robust_covariance.py:183: RuntimeWarning: Determinant has increased; this should not happen: log(det) > log(previous_det) (269.664462177445046 > 268.415321182282639). You may want to try with a higher value of support_fraction (current value: 0.503).\n",
      "  warnings.warn(\n",
      "D:\\Anaconda\\lib\\site-packages\\sklearn\\covariance\\_robust_covariance.py:183: RuntimeWarning: Determinant has increased; this should not happen: log(det) > log(previous_det) (270.688982959237478 > 269.392585063006663). You may want to try with a higher value of support_fraction (current value: 0.503).\n",
      "  warnings.warn(\n",
      "D:\\Anaconda\\lib\\site-packages\\sklearn\\covariance\\_robust_covariance.py:183: RuntimeWarning: Determinant has increased; this should not happen: log(det) > log(previous_det) (266.853630419088176 > 265.180764550621973). You may want to try with a higher value of support_fraction (current value: 0.503).\n",
      "  warnings.warn(\n",
      "D:\\Anaconda\\lib\\site-packages\\sklearn\\covariance\\_robust_covariance.py:183: RuntimeWarning: Determinant has increased; this should not happen: log(det) > log(previous_det) (267.031273437851951 > 265.148437165525650). You may want to try with a higher value of support_fraction (current value: 0.503).\n",
      "  warnings.warn(\n",
      "D:\\Anaconda\\lib\\site-packages\\sklearn\\covariance\\_robust_covariance.py:183: RuntimeWarning: Determinant has increased; this should not happen: log(det) > log(previous_det) (267.010622975753108 > 266.477576318527781). You may want to try with a higher value of support_fraction (current value: 0.503).\n",
      "  warnings.warn(\n",
      "D:\\Anaconda\\lib\\site-packages\\sklearn\\covariance\\_robust_covariance.py:183: RuntimeWarning: Determinant has increased; this should not happen: log(det) > log(previous_det) (266.869213016131596 > 265.962521917108006). You may want to try with a higher value of support_fraction (current value: 0.503).\n",
      "  warnings.warn(\n",
      "D:\\Anaconda\\lib\\site-packages\\sklearn\\covariance\\_robust_covariance.py:183: RuntimeWarning: Determinant has increased; this should not happen: log(det) > log(previous_det) (266.869213016131596 > 266.435285240516407). You may want to try with a higher value of support_fraction (current value: 0.503).\n",
      "  warnings.warn(\n",
      "D:\\Anaconda\\lib\\site-packages\\sklearn\\covariance\\_robust_covariance.py:183: RuntimeWarning: Determinant has increased; this should not happen: log(det) > log(previous_det) (271.743877404692455 > 271.049101006464809). You may want to try with a higher value of support_fraction (current value: 0.503).\n",
      "  warnings.warn(\n",
      "D:\\Anaconda\\lib\\site-packages\\sklearn\\covariance\\_robust_covariance.py:183: RuntimeWarning: Determinant has increased; this should not happen: log(det) > log(previous_det) (271.706930356939097 > 271.190907518660936). You may want to try with a higher value of support_fraction (current value: 0.503).\n",
      "  warnings.warn(\n",
      "D:\\Anaconda\\lib\\site-packages\\sklearn\\covariance\\_robust_covariance.py:183: RuntimeWarning: Determinant has increased; this should not happen: log(det) > log(previous_det) (271.960627346122180 > 271.404118209268574). You may want to try with a higher value of support_fraction (current value: 0.503).\n",
      "  warnings.warn(\n",
      "D:\\Anaconda\\lib\\site-packages\\sklearn\\covariance\\_robust_covariance.py:183: RuntimeWarning: Determinant has increased; this should not happen: log(det) > log(previous_det) (266.513435272024992 > 265.912653042790566). You may want to try with a higher value of support_fraction (current value: 0.503).\n",
      "  warnings.warn(\n",
      "D:\\Anaconda\\lib\\site-packages\\sklearn\\covariance\\_robust_covariance.py:183: RuntimeWarning: Determinant has increased; this should not happen: log(det) > log(previous_det) (271.656372328423970 > 270.698260917184143). You may want to try with a higher value of support_fraction (current value: 0.503).\n",
      "  warnings.warn(\n",
      "D:\\Anaconda\\lib\\site-packages\\sklearn\\covariance\\_robust_covariance.py:183: RuntimeWarning: Determinant has increased; this should not happen: log(det) > log(previous_det) (271.960627346122180 > 268.705375471554703). You may want to try with a higher value of support_fraction (current value: 0.503).\n",
      "  warnings.warn(\n",
      "D:\\Anaconda\\lib\\site-packages\\sklearn\\covariance\\_robust_covariance.py:183: RuntimeWarning: Determinant has increased; this should not happen: log(det) > log(previous_det) (271.936716007936070 > 270.782049718480266). You may want to try with a higher value of support_fraction (current value: 0.503).\n",
      "  warnings.warn(\n",
      "D:\\Anaconda\\lib\\site-packages\\sklearn\\covariance\\_robust_covariance.py:183: RuntimeWarning: Determinant has increased; this should not happen: log(det) > log(previous_det) (274.166097829363480 > 271.700936404552351). You may want to try with a higher value of support_fraction (current value: 0.503).\n",
      "  warnings.warn(\n",
      "D:\\Anaconda\\lib\\site-packages\\sklearn\\covariance\\_robust_covariance.py:183: RuntimeWarning: Determinant has increased; this should not happen: log(det) > log(previous_det) (275.108527944506307 > 275.076499381255644). You may want to try with a higher value of support_fraction (current value: 0.503).\n",
      "  warnings.warn(\n",
      "D:\\Anaconda\\lib\\site-packages\\sklearn\\covariance\\_robust_covariance.py:183: RuntimeWarning: Determinant has increased; this should not happen: log(det) > log(previous_det) (275.148153720337405 > 270.249955796644656). You may want to try with a higher value of support_fraction (current value: 0.503).\n",
      "  warnings.warn(\n",
      "D:\\Anaconda\\lib\\site-packages\\sklearn\\covariance\\_robust_covariance.py:183: RuntimeWarning: Determinant has increased; this should not happen: log(det) > log(previous_det) (274.270538414782209 > 268.550068425828897). You may want to try with a higher value of support_fraction (current value: 0.503).\n",
      "  warnings.warn(\n",
      "D:\\Anaconda\\lib\\site-packages\\sklearn\\covariance\\_robust_covariance.py:183: RuntimeWarning: Determinant has increased; this should not happen: log(det) > log(previous_det) (275.145751625955256 > 274.449509799762382). You may want to try with a higher value of support_fraction (current value: 0.503).\n",
      "  warnings.warn(\n",
      "D:\\Anaconda\\lib\\site-packages\\sklearn\\covariance\\_robust_covariance.py:183: RuntimeWarning: Determinant has increased; this should not happen: log(det) > log(previous_det) (275.108527944506307 > 275.043892102660948). You may want to try with a higher value of support_fraction (current value: 0.503).\n",
      "  warnings.warn(\n",
      "D:\\Anaconda\\lib\\site-packages\\sklearn\\covariance\\_robust_covariance.py:183: RuntimeWarning: Determinant has increased; this should not happen: log(det) > log(previous_det) (274.870952584503868 > 270.984356324977568). You may want to try with a higher value of support_fraction (current value: 0.503).\n",
      "  warnings.warn(\n",
      "D:\\Anaconda\\lib\\site-packages\\sklearn\\covariance\\_robust_covariance.py:183: RuntimeWarning: Determinant has increased; this should not happen: log(det) > log(previous_det) (272.718269537723927 > 269.725819325846146). You may want to try with a higher value of support_fraction (current value: 0.503).\n",
      "  warnings.warn(\n",
      "D:\\Anaconda\\lib\\site-packages\\sklearn\\covariance\\_robust_covariance.py:183: RuntimeWarning: Determinant has increased; this should not happen: log(det) > log(previous_det) (272.919469221706947 > 268.314794235163447). You may want to try with a higher value of support_fraction (current value: 0.503).\n",
      "  warnings.warn(\n",
      "D:\\Anaconda\\lib\\site-packages\\sklearn\\covariance\\_robust_covariance.py:183: RuntimeWarning: Determinant has increased; this should not happen: log(det) > log(previous_det) (272.566181680912621 > 270.598632889084627). You may want to try with a higher value of support_fraction (current value: 0.503).\n",
      "  warnings.warn(\n",
      "D:\\Anaconda\\lib\\site-packages\\sklearn\\covariance\\_robust_covariance.py:183: RuntimeWarning: Determinant has increased; this should not happen: log(det) > log(previous_det) (272.873431565455007 > 267.644922149250306). You may want to try with a higher value of support_fraction (current value: 0.503).\n",
      "  warnings.warn(\n",
      "D:\\Anaconda\\lib\\site-packages\\sklearn\\covariance\\_robust_covariance.py:183: RuntimeWarning: Determinant has increased; this should not happen: log(det) > log(previous_det) (272.636627197187124 > 271.505380760267371). You may want to try with a higher value of support_fraction (current value: 0.503).\n",
      "  warnings.warn(\n",
      "D:\\Anaconda\\lib\\site-packages\\sklearn\\covariance\\_robust_covariance.py:183: RuntimeWarning: Determinant has increased; this should not happen: log(det) > log(previous_det) (272.379744399581909 > 270.803883838150512). You may want to try with a higher value of support_fraction (current value: 0.503).\n",
      "  warnings.warn(\n",
      "D:\\Anaconda\\lib\\site-packages\\sklearn\\covariance\\_robust_covariance.py:183: RuntimeWarning: Determinant has increased; this should not happen: log(det) > log(previous_det) (272.913792073254399 > 267.972095485326918). You may want to try with a higher value of support_fraction (current value: 0.503).\n",
      "  warnings.warn(\n",
      "D:\\Anaconda\\lib\\site-packages\\sklearn\\covariance\\_robust_covariance.py:183: RuntimeWarning: Determinant has increased; this should not happen: log(det) > log(previous_det) (272.914886631705372 > 270.057768990502495). You may want to try with a higher value of support_fraction (current value: 0.503).\n",
      "  warnings.warn(\n",
      "D:\\Anaconda\\lib\\site-packages\\sklearn\\covariance\\_robust_covariance.py:183: RuntimeWarning: Determinant has increased; this should not happen: log(det) > log(previous_det) (272.919469221706947 > 270.949491534849187). You may want to try with a higher value of support_fraction (current value: 0.503).\n",
      "  warnings.warn(\n",
      "D:\\Anaconda\\lib\\site-packages\\sklearn\\covariance\\_robust_covariance.py:183: RuntimeWarning: Determinant has increased; this should not happen: log(det) > log(previous_det) (269.114754628287074 > 265.824695802476754). You may want to try with a higher value of support_fraction (current value: 0.503).\n",
      "  warnings.warn(\n",
      "D:\\Anaconda\\lib\\site-packages\\sklearn\\covariance\\_robust_covariance.py:183: RuntimeWarning: Determinant has increased; this should not happen: log(det) > log(previous_det) (269.549029971697564 > 268.238738964639992). You may want to try with a higher value of support_fraction (current value: 0.503).\n",
      "  warnings.warn(\n",
      "D:\\Anaconda\\lib\\site-packages\\sklearn\\covariance\\_robust_covariance.py:183: RuntimeWarning: Determinant has increased; this should not happen: log(det) > log(previous_det) (269.775705271433310 > 268.662638174293761). You may want to try with a higher value of support_fraction (current value: 0.503).\n",
      "  warnings.warn(\n",
      "D:\\Anaconda\\lib\\site-packages\\sklearn\\covariance\\_robust_covariance.py:183: RuntimeWarning: Determinant has increased; this should not happen: log(det) > log(previous_det) (269.735429248509831 > 265.861521990013273). You may want to try with a higher value of support_fraction (current value: 0.503).\n",
      "  warnings.warn(\n",
      "D:\\Anaconda\\lib\\site-packages\\sklearn\\covariance\\_robust_covariance.py:183: RuntimeWarning: Determinant has increased; this should not happen: log(det) > log(previous_det) (269.484078233488503 > 266.171043175546004). You may want to try with a higher value of support_fraction (current value: 0.503).\n",
      "  warnings.warn(\n"
     ]
    },
    {
     "name": "stderr",
     "output_type": "stream",
     "text": [
      "D:\\Anaconda\\lib\\site-packages\\sklearn\\covariance\\_robust_covariance.py:183: RuntimeWarning: Determinant has increased; this should not happen: log(det) > log(previous_det) (269.104853497390536 > 267.039420727807226). You may want to try with a higher value of support_fraction (current value: 0.503).\n",
      "  warnings.warn(\n",
      "D:\\Anaconda\\lib\\site-packages\\sklearn\\covariance\\_robust_covariance.py:183: RuntimeWarning: Determinant has increased; this should not happen: log(det) > log(previous_det) (265.564558984594271 > 265.031122957155617). You may want to try with a higher value of support_fraction (current value: 0.503).\n",
      "  warnings.warn(\n",
      "D:\\Anaconda\\lib\\site-packages\\sklearn\\covariance\\_robust_covariance.py:183: RuntimeWarning: Determinant has increased; this should not happen: log(det) > log(previous_det) (265.564558984594271 > 264.984685181848704). You may want to try with a higher value of support_fraction (current value: 0.503).\n",
      "  warnings.warn(\n",
      "D:\\Anaconda\\lib\\site-packages\\sklearn\\covariance\\_robust_covariance.py:183: RuntimeWarning: Determinant has increased; this should not happen: log(det) > log(previous_det) (265.564558984594271 > 264.961393631042824). You may want to try with a higher value of support_fraction (current value: 0.503).\n",
      "  warnings.warn(\n",
      "D:\\Anaconda\\lib\\site-packages\\sklearn\\covariance\\_robust_covariance.py:183: RuntimeWarning: Determinant has increased; this should not happen: log(det) > log(previous_det) (265.502407044710651 > 265.493358062681807). You may want to try with a higher value of support_fraction (current value: 0.503).\n",
      "  warnings.warn(\n",
      "D:\\Anaconda\\lib\\site-packages\\sklearn\\covariance\\_robust_covariance.py:183: RuntimeWarning: Determinant has increased; this should not happen: log(det) > log(previous_det) (263.402468535798789 > 263.146057910914578). You may want to try with a higher value of support_fraction (current value: 0.503).\n",
      "  warnings.warn(\n",
      "D:\\Anaconda\\lib\\site-packages\\sklearn\\covariance\\_robust_covariance.py:183: RuntimeWarning: Determinant has increased; this should not happen: log(det) > log(previous_det) (268.315907512118542 > 267.878666748531259). You may want to try with a higher value of support_fraction (current value: 0.503).\n",
      "  warnings.warn(\n",
      "D:\\Anaconda\\lib\\site-packages\\sklearn\\covariance\\_robust_covariance.py:183: RuntimeWarning: Determinant has increased; this should not happen: log(det) > log(previous_det) (277.331228301825092 > 268.376850669572605). You may want to try with a higher value of support_fraction (current value: 0.503).\n",
      "  warnings.warn(\n",
      "D:\\Anaconda\\lib\\site-packages\\sklearn\\covariance\\_robust_covariance.py:183: RuntimeWarning: Determinant has increased; this should not happen: log(det) > log(previous_det) (277.412345685337527 > 269.847329562282425). You may want to try with a higher value of support_fraction (current value: 0.503).\n",
      "  warnings.warn(\n",
      "D:\\Anaconda\\lib\\site-packages\\sklearn\\covariance\\_robust_covariance.py:183: RuntimeWarning: Determinant has increased; this should not happen: log(det) > log(previous_det) (276.534745639922619 > 268.291436738876257). You may want to try with a higher value of support_fraction (current value: 0.503).\n",
      "  warnings.warn(\n",
      "D:\\Anaconda\\lib\\site-packages\\sklearn\\covariance\\_robust_covariance.py:183: RuntimeWarning: Determinant has increased; this should not happen: log(det) > log(previous_det) (277.175948499485571 > 268.272610826242953). You may want to try with a higher value of support_fraction (current value: 0.503).\n",
      "  warnings.warn(\n",
      "D:\\Anaconda\\lib\\site-packages\\sklearn\\covariance\\_robust_covariance.py:183: RuntimeWarning: Determinant has increased; this should not happen: log(det) > log(previous_det) (268.392031416104999 > 268.315907512118542). You may want to try with a higher value of support_fraction (current value: 0.503).\n",
      "  warnings.warn(\n",
      "D:\\Anaconda\\lib\\site-packages\\sklearn\\covariance\\_robust_covariance.py:183: RuntimeWarning: Determinant has increased; this should not happen: log(det) > log(previous_det) (276.534745639922619 > 268.441670143438273). You may want to try with a higher value of support_fraction (current value: 0.503).\n",
      "  warnings.warn(\n",
      "D:\\Anaconda\\lib\\site-packages\\sklearn\\covariance\\_robust_covariance.py:183: RuntimeWarning: Determinant has increased; this should not happen: log(det) > log(previous_det) (271.505118886824107 > 270.279907187070933). You may want to try with a higher value of support_fraction (current value: 0.503).\n",
      "  warnings.warn(\n",
      "D:\\Anaconda\\lib\\site-packages\\sklearn\\covariance\\_robust_covariance.py:183: RuntimeWarning: Determinant has increased; this should not happen: log(det) > log(previous_det) (270.728223811180669 > 268.937767551593197). You may want to try with a higher value of support_fraction (current value: 0.503).\n",
      "  warnings.warn(\n",
      "D:\\Anaconda\\lib\\site-packages\\sklearn\\covariance\\_robust_covariance.py:183: RuntimeWarning: Determinant has increased; this should not happen: log(det) > log(previous_det) (271.505118886824107 > 271.349909342126921). You may want to try with a higher value of support_fraction (current value: 0.503).\n",
      "  warnings.warn(\n",
      "D:\\Anaconda\\lib\\site-packages\\sklearn\\covariance\\_robust_covariance.py:183: RuntimeWarning: Determinant has increased; this should not happen: log(det) > log(previous_det) (270.570838843302283 > 268.885018932008165). You may want to try with a higher value of support_fraction (current value: 0.503).\n",
      "  warnings.warn(\n",
      "D:\\Anaconda\\lib\\site-packages\\sklearn\\covariance\\_robust_covariance.py:183: RuntimeWarning: Determinant has increased; this should not happen: log(det) > log(previous_det) (270.649397538759558 > 267.327638795036421). You may want to try with a higher value of support_fraction (current value: 0.503).\n",
      "  warnings.warn(\n",
      "D:\\Anaconda\\lib\\site-packages\\sklearn\\covariance\\_robust_covariance.py:183: RuntimeWarning: Determinant has increased; this should not happen: log(det) > log(previous_det) (270.564385399880450 > 269.446851771041736). You may want to try with a higher value of support_fraction (current value: 0.503).\n",
      "  warnings.warn(\n",
      "D:\\Anaconda\\lib\\site-packages\\sklearn\\covariance\\_robust_covariance.py:183: RuntimeWarning: Determinant has increased; this should not happen: log(det) > log(previous_det) (271.454129451653273 > 267.150083754048865). You may want to try with a higher value of support_fraction (current value: 0.503).\n",
      "  warnings.warn(\n",
      "D:\\Anaconda\\lib\\site-packages\\sklearn\\covariance\\_robust_covariance.py:183: RuntimeWarning: Determinant has increased; this should not happen: log(det) > log(previous_det) (270.570838843302283 > 270.503492533157953). You may want to try with a higher value of support_fraction (current value: 0.503).\n",
      "  warnings.warn(\n",
      "D:\\Anaconda\\lib\\site-packages\\sklearn\\covariance\\_robust_covariance.py:183: RuntimeWarning: Determinant has increased; this should not happen: log(det) > log(previous_det) (268.287519889094710 > 265.680275630461267). You may want to try with a higher value of support_fraction (current value: 0.503).\n",
      "  warnings.warn(\n",
      "D:\\Anaconda\\lib\\site-packages\\sklearn\\covariance\\_robust_covariance.py:183: RuntimeWarning: Determinant has increased; this should not happen: log(det) > log(previous_det) (268.039285758485732 > 267.404578468564694). You may want to try with a higher value of support_fraction (current value: 0.503).\n",
      "  warnings.warn(\n",
      "D:\\Anaconda\\lib\\site-packages\\sklearn\\covariance\\_robust_covariance.py:183: RuntimeWarning: Determinant has increased; this should not happen: log(det) > log(previous_det) (268.100311300506405 > 267.897831873229904). You may want to try with a higher value of support_fraction (current value: 0.503).\n",
      "  warnings.warn(\n",
      "D:\\Anaconda\\lib\\site-packages\\sklearn\\covariance\\_robust_covariance.py:183: RuntimeWarning: Determinant has increased; this should not happen: log(det) > log(previous_det) (268.499978799586302 > 268.397590718463334). You may want to try with a higher value of support_fraction (current value: 0.503).\n",
      "  warnings.warn(\n",
      "D:\\Anaconda\\lib\\site-packages\\sklearn\\covariance\\_robust_covariance.py:183: RuntimeWarning: Determinant has increased; this should not happen: log(det) > log(previous_det) (268.039285758485732 > 266.432823332827866). You may want to try with a higher value of support_fraction (current value: 0.503).\n",
      "  warnings.warn(\n",
      "D:\\Anaconda\\lib\\site-packages\\sklearn\\covariance\\_robust_covariance.py:183: RuntimeWarning: Determinant has increased; this should not happen: log(det) > log(previous_det) (268.313231946742121 > 266.107879809920291). You may want to try with a higher value of support_fraction (current value: 0.503).\n",
      "  warnings.warn(\n",
      "D:\\Anaconda\\lib\\site-packages\\sklearn\\covariance\\_robust_covariance.py:183: RuntimeWarning: Determinant has increased; this should not happen: log(det) > log(previous_det) (268.564563583364020 > 266.483793478135283). You may want to try with a higher value of support_fraction (current value: 0.503).\n",
      "  warnings.warn(\n",
      "D:\\Anaconda\\lib\\site-packages\\sklearn\\covariance\\_robust_covariance.py:183: RuntimeWarning: Determinant has increased; this should not happen: log(det) > log(previous_det) (272.306715612158428 > 270.353715276789899). You may want to try with a higher value of support_fraction (current value: 0.503).\n",
      "  warnings.warn(\n",
      "D:\\Anaconda\\lib\\site-packages\\sklearn\\covariance\\_robust_covariance.py:183: RuntimeWarning: Determinant has increased; this should not happen: log(det) > log(previous_det) (271.936774645092044 > 268.590831613969499). You may want to try with a higher value of support_fraction (current value: 0.503).\n",
      "  warnings.warn(\n",
      "D:\\Anaconda\\lib\\site-packages\\sklearn\\covariance\\_robust_covariance.py:183: RuntimeWarning: Determinant has increased; this should not happen: log(det) > log(previous_det) (271.936774645092044 > 268.550545611035261). You may want to try with a higher value of support_fraction (current value: 0.503).\n",
      "  warnings.warn(\n",
      "D:\\Anaconda\\lib\\site-packages\\sklearn\\covariance\\_robust_covariance.py:183: RuntimeWarning: Determinant has increased; this should not happen: log(det) > log(previous_det) (272.306715612158428 > 269.219732661895762). You may want to try with a higher value of support_fraction (current value: 0.503).\n",
      "  warnings.warn(\n",
      "D:\\Anaconda\\lib\\site-packages\\sklearn\\covariance\\_robust_covariance.py:183: RuntimeWarning: Determinant has increased; this should not happen: log(det) > log(previous_det) (266.119519761248512 > 266.102844580495855). You may want to try with a higher value of support_fraction (current value: 0.503).\n",
      "  warnings.warn(\n",
      "D:\\Anaconda\\lib\\site-packages\\sklearn\\covariance\\_robust_covariance.py:183: RuntimeWarning: Determinant has increased; this should not happen: log(det) > log(previous_det) (266.147664797977484 > 264.680741167616873). You may want to try with a higher value of support_fraction (current value: 0.503).\n",
      "  warnings.warn(\n",
      "D:\\Anaconda\\lib\\site-packages\\sklearn\\covariance\\_robust_covariance.py:183: RuntimeWarning: Determinant has increased; this should not happen: log(det) > log(previous_det) (266.147664797977484 > 266.110144371219008). You may want to try with a higher value of support_fraction (current value: 0.503).\n",
      "  warnings.warn(\n",
      "D:\\Anaconda\\lib\\site-packages\\sklearn\\covariance\\_robust_covariance.py:183: RuntimeWarning: Determinant has increased; this should not happen: log(det) > log(previous_det) (266.601761881821801 > 266.056252676378392). You may want to try with a higher value of support_fraction (current value: 0.503).\n",
      "  warnings.warn(\n",
      "D:\\Anaconda\\lib\\site-packages\\sklearn\\covariance\\_robust_covariance.py:183: RuntimeWarning: Determinant has increased; this should not happen: log(det) > log(previous_det) (266.673139392498229 > 265.880606855053202). You may want to try with a higher value of support_fraction (current value: 0.503).\n",
      "  warnings.warn(\n",
      "D:\\Anaconda\\lib\\site-packages\\sklearn\\covariance\\_robust_covariance.py:183: RuntimeWarning: Determinant has increased; this should not happen: log(det) > log(previous_det) (266.715487546774398 > 266.673139392498229). You may want to try with a higher value of support_fraction (current value: 0.503).\n",
      "  warnings.warn(\n",
      "D:\\Anaconda\\lib\\site-packages\\sklearn\\covariance\\_robust_covariance.py:183: RuntimeWarning: Determinant has increased; this should not happen: log(det) > log(previous_det) (266.592257053777701 > 266.326390800456522). You may want to try with a higher value of support_fraction (current value: 0.503).\n",
      "  warnings.warn(\n",
      "D:\\Anaconda\\lib\\site-packages\\sklearn\\covariance\\_robust_covariance.py:183: RuntimeWarning: Determinant has increased; this should not happen: log(det) > log(previous_det) (269.466778237421579 > 269.460874488384150). You may want to try with a higher value of support_fraction (current value: 0.503).\n",
      "  warnings.warn(\n",
      "D:\\Anaconda\\lib\\site-packages\\sklearn\\covariance\\_robust_covariance.py:183: RuntimeWarning: Determinant has increased; this should not happen: log(det) > log(previous_det) (263.447660007661568 > 263.444742551693707). You may want to try with a higher value of support_fraction (current value: 0.503).\n",
      "  warnings.warn(\n",
      "D:\\Anaconda\\lib\\site-packages\\sklearn\\covariance\\_robust_covariance.py:183: RuntimeWarning: Determinant has increased; this should not happen: log(det) > log(previous_det) (263.964366386854522 > 263.599459900357147). You may want to try with a higher value of support_fraction (current value: 0.503).\n",
      "  warnings.warn(\n",
      "D:\\Anaconda\\lib\\site-packages\\sklearn\\covariance\\_robust_covariance.py:183: RuntimeWarning: Determinant has increased; this should not happen: log(det) > log(previous_det) (267.586006552203514 > 267.304612963400814). You may want to try with a higher value of support_fraction (current value: 0.503).\n",
      "  warnings.warn(\n",
      "D:\\Anaconda\\lib\\site-packages\\sklearn\\covariance\\_robust_covariance.py:183: RuntimeWarning: Determinant has increased; this should not happen: log(det) > log(previous_det) (267.545255024383209 > 266.391481111012467). You may want to try with a higher value of support_fraction (current value: 0.503).\n",
      "  warnings.warn(\n",
      "D:\\Anaconda\\lib\\site-packages\\sklearn\\covariance\\_robust_covariance.py:183: RuntimeWarning: Determinant has increased; this should not happen: log(det) > log(previous_det) (267.529396521465515 > 266.096687416842087). You may want to try with a higher value of support_fraction (current value: 0.503).\n",
      "  warnings.warn(\n",
      "D:\\Anaconda\\lib\\site-packages\\sklearn\\covariance\\_robust_covariance.py:183: RuntimeWarning: Determinant has increased; this should not happen: log(det) > log(previous_det) (267.596989186479902 > 266.397843983115251). You may want to try with a higher value of support_fraction (current value: 0.503).\n",
      "  warnings.warn(\n",
      "D:\\Anaconda\\lib\\site-packages\\sklearn\\covariance\\_robust_covariance.py:183: RuntimeWarning: Determinant has increased; this should not happen: log(det) > log(previous_det) (272.550825643328153 > 268.385474103626734). You may want to try with a higher value of support_fraction (current value: 0.503).\n",
      "  warnings.warn(\n",
      "D:\\Anaconda\\lib\\site-packages\\sklearn\\covariance\\_robust_covariance.py:183: RuntimeWarning: Determinant has increased; this should not happen: log(det) > log(previous_det) (272.785729875152697 > 272.553336587913691). You may want to try with a higher value of support_fraction (current value: 0.503).\n",
      "  warnings.warn(\n",
      "D:\\Anaconda\\lib\\site-packages\\sklearn\\covariance\\_robust_covariance.py:183: RuntimeWarning: Determinant has increased; this should not happen: log(det) > log(previous_det) (272.631865463418990 > 272.082471778598119). You may want to try with a higher value of support_fraction (current value: 0.503).\n",
      "  warnings.warn(\n",
      "D:\\Anaconda\\lib\\site-packages\\sklearn\\covariance\\_robust_covariance.py:183: RuntimeWarning: Determinant has increased; this should not happen: log(det) > log(previous_det) (272.632194714529874 > 268.734479223336052). You may want to try with a higher value of support_fraction (current value: 0.503).\n",
      "  warnings.warn(\n",
      "D:\\Anaconda\\lib\\site-packages\\sklearn\\covariance\\_robust_covariance.py:183: RuntimeWarning: Determinant has increased; this should not happen: log(det) > log(previous_det) (272.632194714529874 > 269.743915160500080). You may want to try with a higher value of support_fraction (current value: 0.503).\n",
      "  warnings.warn(\n",
      "D:\\Anaconda\\lib\\site-packages\\sklearn\\covariance\\_robust_covariance.py:183: RuntimeWarning: Determinant has increased; this should not happen: log(det) > log(previous_det) (272.069898326259818 > 268.916856055785672). You may want to try with a higher value of support_fraction (current value: 0.503).\n",
      "  warnings.warn(\n",
      "D:\\Anaconda\\lib\\site-packages\\sklearn\\covariance\\_robust_covariance.py:183: RuntimeWarning: Determinant has increased; this should not happen: log(det) > log(previous_det) (272.785729875152697 > 272.632194714529874). You may want to try with a higher value of support_fraction (current value: 0.503).\n",
      "  warnings.warn(\n",
      "D:\\Anaconda\\lib\\site-packages\\sklearn\\covariance\\_robust_covariance.py:183: RuntimeWarning: Determinant has increased; this should not happen: log(det) > log(previous_det) (272.603141628599587 > 268.536442415175884). You may want to try with a higher value of support_fraction (current value: 0.503).\n",
      "  warnings.warn(\n",
      "D:\\Anaconda\\lib\\site-packages\\sklearn\\covariance\\_robust_covariance.py:183: RuntimeWarning: Determinant has increased; this should not happen: log(det) > log(previous_det) (272.550825643328153 > 269.563649295520179). You may want to try with a higher value of support_fraction (current value: 0.503).\n",
      "  warnings.warn(\n",
      "D:\\Anaconda\\lib\\site-packages\\sklearn\\covariance\\_robust_covariance.py:183: RuntimeWarning: Determinant has increased; this should not happen: log(det) > log(previous_det) (266.743619261680806 > 265.093899435622802). You may want to try with a higher value of support_fraction (current value: 0.503).\n",
      "  warnings.warn(\n",
      "D:\\Anaconda\\lib\\site-packages\\sklearn\\covariance\\_robust_covariance.py:183: RuntimeWarning: Determinant has increased; this should not happen: log(det) > log(previous_det) (266.261106187828716 > 265.206381735398338). You may want to try with a higher value of support_fraction (current value: 0.503).\n",
      "  warnings.warn(\n",
      "D:\\Anaconda\\lib\\site-packages\\sklearn\\covariance\\_robust_covariance.py:183: RuntimeWarning: Determinant has increased; this should not happen: log(det) > log(previous_det) (266.747094512089575 > 265.310805271890956). You may want to try with a higher value of support_fraction (current value: 0.503).\n",
      "  warnings.warn(\n",
      "D:\\Anaconda\\lib\\site-packages\\sklearn\\covariance\\_robust_covariance.py:183: RuntimeWarning: Determinant has increased; this should not happen: log(det) > log(previous_det) (266.590750026112175 > 265.947640015440811). You may want to try with a higher value of support_fraction (current value: 0.503).\n",
      "  warnings.warn(\n",
      "D:\\Anaconda\\lib\\site-packages\\sklearn\\covariance\\_robust_covariance.py:183: RuntimeWarning: Determinant has increased; this should not happen: log(det) > log(previous_det) (266.875182402936844 > 266.837607807422387). You may want to try with a higher value of support_fraction (current value: 0.503).\n",
      "  warnings.warn(\n",
      "D:\\Anaconda\\lib\\site-packages\\sklearn\\covariance\\_robust_covariance.py:183: RuntimeWarning: Determinant has increased; this should not happen: log(det) > log(previous_det) (266.784173010445727 > 264.273950305101152). You may want to try with a higher value of support_fraction (current value: 0.503).\n",
      "  warnings.warn(\n",
      "D:\\Anaconda\\lib\\site-packages\\sklearn\\covariance\\_robust_covariance.py:183: RuntimeWarning: Determinant has increased; this should not happen: log(det) > log(previous_det) (266.509776975281795 > 265.769734594765453). You may want to try with a higher value of support_fraction (current value: 0.503).\n",
      "  warnings.warn(\n",
      "D:\\Anaconda\\lib\\site-packages\\sklearn\\covariance\\_robust_covariance.py:183: RuntimeWarning: Determinant has increased; this should not happen: log(det) > log(previous_det) (266.122205900853714 > 265.284037436090671). You may want to try with a higher value of support_fraction (current value: 0.503).\n",
      "  warnings.warn(\n",
      "D:\\Anaconda\\lib\\site-packages\\sklearn\\covariance\\_robust_covariance.py:183: RuntimeWarning: Determinant has increased; this should not happen: log(det) > log(previous_det) (272.715831418615664 > 267.863341354672968). You may want to try with a higher value of support_fraction (current value: 0.503).\n",
      "  warnings.warn(\n",
      "D:\\Anaconda\\lib\\site-packages\\sklearn\\covariance\\_robust_covariance.py:183: RuntimeWarning: Determinant has increased; this should not happen: log(det) > log(previous_det) (272.681902220582685 > 270.077975455251590). You may want to try with a higher value of support_fraction (current value: 0.503).\n",
      "  warnings.warn(\n",
      "D:\\Anaconda\\lib\\site-packages\\sklearn\\covariance\\_robust_covariance.py:183: RuntimeWarning: Determinant has increased; this should not happen: log(det) > log(previous_det) (272.441329013711822 > 272.397723230452868). You may want to try with a higher value of support_fraction (current value: 0.503).\n",
      "  warnings.warn(\n",
      "D:\\Anaconda\\lib\\site-packages\\sklearn\\covariance\\_robust_covariance.py:183: RuntimeWarning: Determinant has increased; this should not happen: log(det) > log(previous_det) (272.688266227842291 > 267.472774919493588). You may want to try with a higher value of support_fraction (current value: 0.503).\n",
      "  warnings.warn(\n",
      "D:\\Anaconda\\lib\\site-packages\\sklearn\\covariance\\_robust_covariance.py:183: RuntimeWarning: Determinant has increased; this should not happen: log(det) > log(previous_det) (272.715831418615664 > 267.672627895740334). You may want to try with a higher value of support_fraction (current value: 0.503).\n",
      "  warnings.warn(\n",
      "D:\\Anaconda\\lib\\site-packages\\sklearn\\covariance\\_robust_covariance.py:183: RuntimeWarning: Determinant has increased; this should not happen: log(det) > log(previous_det) (272.390122406624073 > 269.729786143336298). You may want to try with a higher value of support_fraction (current value: 0.503).\n",
      "  warnings.warn(\n",
      "D:\\Anaconda\\lib\\site-packages\\sklearn\\covariance\\_robust_covariance.py:183: RuntimeWarning: Determinant has increased; this should not happen: log(det) > log(previous_det) (272.696656574068811 > 270.681924131890867). You may want to try with a higher value of support_fraction (current value: 0.503).\n",
      "  warnings.warn(\n",
      "D:\\Anaconda\\lib\\site-packages\\sklearn\\covariance\\_robust_covariance.py:183: RuntimeWarning: Determinant has increased; this should not happen: log(det) > log(previous_det) (270.039528779494390 > 269.425516181329670). You may want to try with a higher value of support_fraction (current value: 0.503).\n",
      "  warnings.warn(\n",
      "D:\\Anaconda\\lib\\site-packages\\sklearn\\covariance\\_robust_covariance.py:183: RuntimeWarning: Determinant has increased; this should not happen: log(det) > log(previous_det) (269.459228016361408 > 269.440196076609141). You may want to try with a higher value of support_fraction (current value: 0.503).\n",
      "  warnings.warn(\n",
      "D:\\Anaconda\\lib\\site-packages\\sklearn\\covariance\\_robust_covariance.py:183: RuntimeWarning: Determinant has increased; this should not happen: log(det) > log(previous_det) (270.186910331963247 > 269.911278732329663). You may want to try with a higher value of support_fraction (current value: 0.503).\n",
      "  warnings.warn(\n",
      "D:\\Anaconda\\lib\\site-packages\\sklearn\\covariance\\_robust_covariance.py:183: RuntimeWarning: Determinant has increased; this should not happen: log(det) > log(previous_det) (269.479854292581763 > 269.457127739771295). You may want to try with a higher value of support_fraction (current value: 0.503).\n",
      "  warnings.warn(\n",
      "D:\\Anaconda\\lib\\site-packages\\sklearn\\covariance\\_robust_covariance.py:183: RuntimeWarning: Determinant has increased; this should not happen: log(det) > log(previous_det) (269.911278732329663 > 269.216629738914264). You may want to try with a higher value of support_fraction (current value: 0.503).\n",
      "  warnings.warn(\n",
      "D:\\Anaconda\\lib\\site-packages\\sklearn\\covariance\\_robust_covariance.py:183: RuntimeWarning: Determinant has increased; this should not happen: log(det) > log(previous_det) (262.971385777118769 > 261.835584202057191). You may want to try with a higher value of support_fraction (current value: 0.503).\n",
      "  warnings.warn(\n",
      "D:\\Anaconda\\lib\\site-packages\\sklearn\\covariance\\_robust_covariance.py:183: RuntimeWarning: Determinant has increased; this should not happen: log(det) > log(previous_det) (268.785465678348373 > 268.420623194119855). You may want to try with a higher value of support_fraction (current value: 0.503).\n",
      "  warnings.warn(\n",
      "D:\\Anaconda\\lib\\site-packages\\sklearn\\covariance\\_robust_covariance.py:183: RuntimeWarning: Determinant has increased; this should not happen: log(det) > log(previous_det) (265.073675608846372 > 263.838788733327817). You may want to try with a higher value of support_fraction (current value: 0.503).\n",
      "  warnings.warn(\n",
      "D:\\Anaconda\\lib\\site-packages\\sklearn\\covariance\\_robust_covariance.py:183: RuntimeWarning: Determinant has increased; this should not happen: log(det) > log(previous_det) (265.086531283461909 > 265.073675608846372). You may want to try with a higher value of support_fraction (current value: 0.503).\n",
      "  warnings.warn(\n",
      "D:\\Anaconda\\lib\\site-packages\\sklearn\\covariance\\_robust_covariance.py:183: RuntimeWarning: Determinant has increased; this should not happen: log(det) > log(previous_det) (265.020129622767854 > 265.001478886874963). You may want to try with a higher value of support_fraction (current value: 0.503).\n",
      "  warnings.warn(\n",
      "D:\\Anaconda\\lib\\site-packages\\sklearn\\covariance\\_robust_covariance.py:183: RuntimeWarning: Determinant has increased; this should not happen: log(det) > log(previous_det) (270.357325992604444 > 270.310213248442096). You may want to try with a higher value of support_fraction (current value: 0.503).\n",
      "  warnings.warn(\n",
      "D:\\Anaconda\\lib\\site-packages\\sklearn\\covariance\\_robust_covariance.py:183: RuntimeWarning: Determinant has increased; this should not happen: log(det) > log(previous_det) (270.327335260066889 > 270.299012451189981). You may want to try with a higher value of support_fraction (current value: 0.503).\n",
      "  warnings.warn(\n",
      "D:\\Anaconda\\lib\\site-packages\\sklearn\\covariance\\_robust_covariance.py:183: RuntimeWarning: Determinant has increased; this should not happen: log(det) > log(previous_det) (270.301053736961251 > 270.294089229735562). You may want to try with a higher value of support_fraction (current value: 0.503).\n",
      "  warnings.warn(\n",
      "D:\\Anaconda\\lib\\site-packages\\sklearn\\covariance\\_robust_covariance.py:183: RuntimeWarning: Determinant has increased; this should not happen: log(det) > log(previous_det) (272.575674055239801 > 272.088411761064719). You may want to try with a higher value of support_fraction (current value: 0.503).\n",
      "  warnings.warn(\n",
      "D:\\Anaconda\\lib\\site-packages\\sklearn\\covariance\\_robust_covariance.py:183: RuntimeWarning: Determinant has increased; this should not happen: log(det) > log(previous_det) (267.843083377388950 > 267.495711040601179). You may want to try with a higher value of support_fraction (current value: 0.503).\n",
      "  warnings.warn(\n",
      "D:\\Anaconda\\lib\\site-packages\\sklearn\\covariance\\_robust_covariance.py:183: RuntimeWarning: Determinant has increased; this should not happen: log(det) > log(previous_det) (267.738695174345196 > 266.131342376278496). You may want to try with a higher value of support_fraction (current value: 0.503).\n",
      "  warnings.warn(\n",
      "D:\\Anaconda\\lib\\site-packages\\sklearn\\covariance\\_robust_covariance.py:183: RuntimeWarning: Determinant has increased; this should not happen: log(det) > log(previous_det) (266.811615007404725 > 265.639442602197846). You may want to try with a higher value of support_fraction (current value: 0.503).\n",
      "  warnings.warn(\n",
      "D:\\Anaconda\\lib\\site-packages\\sklearn\\covariance\\_robust_covariance.py:183: RuntimeWarning: Determinant has increased; this should not happen: log(det) > log(previous_det) (267.843083377388950 > 266.522529351866694). You may want to try with a higher value of support_fraction (current value: 0.503).\n",
      "  warnings.warn(\n",
      "D:\\Anaconda\\lib\\site-packages\\sklearn\\covariance\\_robust_covariance.py:183: RuntimeWarning: Determinant has increased; this should not happen: log(det) > log(previous_det) (273.136001667406219 > 271.741648579382854). You may want to try with a higher value of support_fraction (current value: 0.503).\n",
      "  warnings.warn(\n",
      "D:\\Anaconda\\lib\\site-packages\\sklearn\\covariance\\_robust_covariance.py:183: RuntimeWarning: Determinant has increased; this should not happen: log(det) > log(previous_det) (272.424819249012160 > 268.366313980183861). You may want to try with a higher value of support_fraction (current value: 0.503).\n",
      "  warnings.warn(\n",
      "D:\\Anaconda\\lib\\site-packages\\sklearn\\covariance\\_robust_covariance.py:183: RuntimeWarning: Determinant has increased; this should not happen: log(det) > log(previous_det) (273.087737996485657 > 270.974271754424080). You may want to try with a higher value of support_fraction (current value: 0.503).\n",
      "  warnings.warn(\n",
      "D:\\Anaconda\\lib\\site-packages\\sklearn\\covariance\\_robust_covariance.py:183: RuntimeWarning: Determinant has increased; this should not happen: log(det) > log(previous_det) (273.087737996485657 > 270.945954454272282). You may want to try with a higher value of support_fraction (current value: 0.503).\n",
      "  warnings.warn(\n",
      "D:\\Anaconda\\lib\\site-packages\\sklearn\\covariance\\_robust_covariance.py:183: RuntimeWarning: Determinant has increased; this should not happen: log(det) > log(previous_det) (272.918544889859049 > 271.304181190669794). You may want to try with a higher value of support_fraction (current value: 0.503).\n",
      "  warnings.warn(\n",
      "D:\\Anaconda\\lib\\site-packages\\sklearn\\covariance\\_robust_covariance.py:183: RuntimeWarning: Determinant has increased; this should not happen: log(det) > log(previous_det) (273.087737996485657 > 271.725082090807234). You may want to try with a higher value of support_fraction (current value: 0.503).\n",
      "  warnings.warn(\n",
      "D:\\Anaconda\\lib\\site-packages\\sklearn\\covariance\\_robust_covariance.py:183: RuntimeWarning: Determinant has increased; this should not happen: log(det) > log(previous_det) (273.087737996485657 > 271.251816459515339). You may want to try with a higher value of support_fraction (current value: 0.503).\n",
      "  warnings.warn(\n",
      "D:\\Anaconda\\lib\\site-packages\\sklearn\\covariance\\_robust_covariance.py:183: RuntimeWarning: Determinant has increased; this should not happen: log(det) > log(previous_det) (265.026874761247655 > 265.018644181345508). You may want to try with a higher value of support_fraction (current value: 0.503).\n",
      "  warnings.warn(\n",
      "D:\\Anaconda\\lib\\site-packages\\sklearn\\covariance\\_robust_covariance.py:183: RuntimeWarning: Determinant has increased; this should not happen: log(det) > log(previous_det) (266.782347383374827 > 266.733911022480584). You may want to try with a higher value of support_fraction (current value: 0.503).\n",
      "  warnings.warn(\n",
      "D:\\Anaconda\\lib\\site-packages\\sklearn\\covariance\\_robust_covariance.py:183: RuntimeWarning: Determinant has increased; this should not happen: log(det) > log(previous_det) (269.448777856975994 > 269.345046631833554). You may want to try with a higher value of support_fraction (current value: 0.503).\n",
      "  warnings.warn(\n",
      "D:\\Anaconda\\lib\\site-packages\\sklearn\\covariance\\_robust_covariance.py:183: RuntimeWarning: Determinant has increased; this should not happen: log(det) > log(previous_det) (269.258712366931661 > 267.770968995603312). You may want to try with a higher value of support_fraction (current value: 0.503).\n",
      "  warnings.warn(\n",
      "D:\\Anaconda\\lib\\site-packages\\sklearn\\covariance\\_robust_covariance.py:183: RuntimeWarning: Determinant has increased; this should not happen: log(det) > log(previous_det) (270.103771439362390 > 269.443896279767273). You may want to try with a higher value of support_fraction (current value: 0.503).\n",
      "  warnings.warn(\n",
      "D:\\Anaconda\\lib\\site-packages\\sklearn\\covariance\\_robust_covariance.py:183: RuntimeWarning: Determinant has increased; this should not happen: log(det) > log(previous_det) (269.382851581949410 > 269.201757334713704). You may want to try with a higher value of support_fraction (current value: 0.503).\n",
      "  warnings.warn(\n",
      "D:\\Anaconda\\lib\\site-packages\\sklearn\\covariance\\_robust_covariance.py:183: RuntimeWarning: Determinant has increased; this should not happen: log(det) > log(previous_det) (269.355008706854790 > 268.149960238071969). You may want to try with a higher value of support_fraction (current value: 0.503).\n",
      "  warnings.warn(\n",
      "D:\\Anaconda\\lib\\site-packages\\sklearn\\covariance\\_robust_covariance.py:183: RuntimeWarning: Determinant has increased; this should not happen: log(det) > log(previous_det) (270.231764141395956 > 270.020644414720266). You may want to try with a higher value of support_fraction (current value: 0.503).\n",
      "  warnings.warn(\n",
      "D:\\Anaconda\\lib\\site-packages\\sklearn\\covariance\\_robust_covariance.py:183: RuntimeWarning: Determinant has increased; this should not happen: log(det) > log(previous_det) (270.231764141395956 > 270.041105873257891). You may want to try with a higher value of support_fraction (current value: 0.503).\n",
      "  warnings.warn(\n",
      "D:\\Anaconda\\lib\\site-packages\\sklearn\\covariance\\_robust_covariance.py:183: RuntimeWarning: Determinant has increased; this should not happen: log(det) > log(previous_det) (269.198604204979006 > 268.455580683984010). You may want to try with a higher value of support_fraction (current value: 0.503).\n",
      "  warnings.warn(\n",
      "D:\\Anaconda\\lib\\site-packages\\sklearn\\covariance\\_robust_covariance.py:183: RuntimeWarning: Determinant has increased; this should not happen: log(det) > log(previous_det) (269.707520298725512 > 269.578081128810709). You may want to try with a higher value of support_fraction (current value: 0.503).\n",
      "  warnings.warn(\n",
      "D:\\Anaconda\\lib\\site-packages\\sklearn\\covariance\\_robust_covariance.py:183: RuntimeWarning: Determinant has increased; this should not happen: log(det) > log(previous_det) (273.374014648363072 > 270.022631695906625). You may want to try with a higher value of support_fraction (current value: 0.503).\n",
      "  warnings.warn(\n",
      "D:\\Anaconda\\lib\\site-packages\\sklearn\\covariance\\_robust_covariance.py:183: RuntimeWarning: Determinant has increased; this should not happen: log(det) > log(previous_det) (269.668195090426593 > 269.645166916794494). You may want to try with a higher value of support_fraction (current value: 0.503).\n",
      "  warnings.warn(\n",
      "D:\\Anaconda\\lib\\site-packages\\sklearn\\covariance\\_robust_covariance.py:183: RuntimeWarning: Determinant has increased; this should not happen: log(det) > log(previous_det) (269.236298663908372 > 269.156614622177415). You may want to try with a higher value of support_fraction (current value: 0.503).\n",
      "  warnings.warn(\n",
      "D:\\Anaconda\\lib\\site-packages\\sklearn\\covariance\\_robust_covariance.py:183: RuntimeWarning: Determinant has increased; this should not happen: log(det) > log(previous_det) (269.668195090426593 > 269.616575178738742). You may want to try with a higher value of support_fraction (current value: 0.503).\n",
      "  warnings.warn(\n",
      "D:\\Anaconda\\lib\\site-packages\\sklearn\\covariance\\_robust_covariance.py:183: RuntimeWarning: Determinant has increased; this should not happen: log(det) > log(previous_det) (269.494448462294770 > 269.482167471425214). You may want to try with a higher value of support_fraction (current value: 0.503).\n",
      "  warnings.warn(\n",
      "D:\\Anaconda\\lib\\site-packages\\sklearn\\covariance\\_robust_covariance.py:183: RuntimeWarning: Determinant has increased; this should not happen: log(det) > log(previous_det) (266.017453415228943 > 265.851052097555225). You may want to try with a higher value of support_fraction (current value: 0.503).\n",
      "  warnings.warn(\n",
      "D:\\Anaconda\\lib\\site-packages\\sklearn\\covariance\\_robust_covariance.py:183: RuntimeWarning: Determinant has increased; this should not happen: log(det) > log(previous_det) (269.758846875727443 > 266.388399008275144). You may want to try with a higher value of support_fraction (current value: 0.503).\n",
      "  warnings.warn(\n",
      "D:\\Anaconda\\lib\\site-packages\\sklearn\\covariance\\_robust_covariance.py:183: RuntimeWarning: Determinant has increased; this should not happen: log(det) > log(previous_det) (270.149915576820149 > 268.136380232189197). You may want to try with a higher value of support_fraction (current value: 0.503).\n",
      "  warnings.warn(\n",
      "D:\\Anaconda\\lib\\site-packages\\sklearn\\covariance\\_robust_covariance.py:183: RuntimeWarning: Determinant has increased; this should not happen: log(det) > log(previous_det) (270.266696046378399 > 269.613380589329836). You may want to try with a higher value of support_fraction (current value: 0.503).\n",
      "  warnings.warn(\n",
      "D:\\Anaconda\\lib\\site-packages\\sklearn\\covariance\\_robust_covariance.py:183: RuntimeWarning: Determinant has increased; this should not happen: log(det) > log(previous_det) (269.885409838351734 > 269.435216562039670). You may want to try with a higher value of support_fraction (current value: 0.503).\n",
      "  warnings.warn(\n",
      "D:\\Anaconda\\lib\\site-packages\\sklearn\\covariance\\_robust_covariance.py:183: RuntimeWarning: Determinant has increased; this should not happen: log(det) > log(previous_det) (270.184700540533129 > 269.755193074740248). You may want to try with a higher value of support_fraction (current value: 0.503).\n",
      "  warnings.warn(\n",
      "D:\\Anaconda\\lib\\site-packages\\sklearn\\covariance\\_robust_covariance.py:183: RuntimeWarning: Determinant has increased; this should not happen: log(det) > log(previous_det) (270.184700540533129 > 270.155122792908969). You may want to try with a higher value of support_fraction (current value: 0.503).\n",
      "  warnings.warn(\n",
      "D:\\Anaconda\\lib\\site-packages\\sklearn\\covariance\\_robust_covariance.py:183: RuntimeWarning: Determinant has increased; this should not happen: log(det) > log(previous_det) (269.867087029623690 > 267.896920701010743). You may want to try with a higher value of support_fraction (current value: 0.503).\n",
      "  warnings.warn(\n",
      "D:\\Anaconda\\lib\\site-packages\\sklearn\\covariance\\_robust_covariance.py:183: RuntimeWarning: Determinant has increased; this should not happen: log(det) > log(previous_det) (268.674586491856758 > 267.566757292077057). You may want to try with a higher value of support_fraction (current value: 0.503).\n",
      "  warnings.warn(\n",
      "D:\\Anaconda\\lib\\site-packages\\sklearn\\covariance\\_robust_covariance.py:183: RuntimeWarning: Determinant has increased; this should not happen: log(det) > log(previous_det) (268.731125712768858 > 268.724254168407128). You may want to try with a higher value of support_fraction (current value: 0.503).\n",
      "  warnings.warn(\n",
      "D:\\Anaconda\\lib\\site-packages\\sklearn\\covariance\\_robust_covariance.py:183: RuntimeWarning: Determinant has increased; this should not happen: log(det) > log(previous_det) (268.674586491856758 > 268.579589958712177). You may want to try with a higher value of support_fraction (current value: 0.503).\n",
      "  warnings.warn(\n",
      "D:\\Anaconda\\lib\\site-packages\\sklearn\\covariance\\_robust_covariance.py:183: RuntimeWarning: Determinant has increased; this should not happen: log(det) > log(previous_det) (268.731125712768858 > 268.371710182755692). You may want to try with a higher value of support_fraction (current value: 0.503).\n",
      "  warnings.warn(\n",
      "D:\\Anaconda\\lib\\site-packages\\sklearn\\covariance\\_robust_covariance.py:183: RuntimeWarning: Determinant has increased; this should not happen: log(det) > log(previous_det) (268.674586491856758 > 267.453822727777947). You may want to try with a higher value of support_fraction (current value: 0.503).\n",
      "  warnings.warn(\n",
      "D:\\Anaconda\\lib\\site-packages\\sklearn\\covariance\\_robust_covariance.py:183: RuntimeWarning: Determinant has increased; this should not happen: log(det) > log(previous_det) (268.749995787989292 > 268.713189063894788). You may want to try with a higher value of support_fraction (current value: 0.503).\n",
      "  warnings.warn(\n",
      "D:\\Anaconda\\lib\\site-packages\\sklearn\\covariance\\_robust_covariance.py:183: RuntimeWarning: Determinant has increased; this should not happen: log(det) > log(previous_det) (269.719039137572906 > 268.883673725129427). You may want to try with a higher value of support_fraction (current value: 0.503).\n",
      "  warnings.warn(\n",
      "D:\\Anaconda\\lib\\site-packages\\sklearn\\covariance\\_robust_covariance.py:183: RuntimeWarning: Determinant has increased; this should not happen: log(det) > log(previous_det) (270.323323393058843 > 264.835929959071166). You may want to try with a higher value of support_fraction (current value: 0.503).\n",
      "  warnings.warn(\n",
      "D:\\Anaconda\\lib\\site-packages\\sklearn\\covariance\\_robust_covariance.py:183: RuntimeWarning: Determinant has increased; this should not happen: log(det) > log(previous_det) (270.336198970396140 > 270.032352872841045). You may want to try with a higher value of support_fraction (current value: 0.503).\n",
      "  warnings.warn(\n",
      "D:\\Anaconda\\lib\\site-packages\\sklearn\\covariance\\_robust_covariance.py:183: RuntimeWarning: Determinant has increased; this should not happen: log(det) > log(previous_det) (269.727981190706714 > 269.621823719133545). You may want to try with a higher value of support_fraction (current value: 0.503).\n",
      "  warnings.warn(\n",
      "D:\\Anaconda\\lib\\site-packages\\sklearn\\covariance\\_robust_covariance.py:183: RuntimeWarning: Determinant has increased; this should not happen: log(det) > log(previous_det) (270.217751130581064 > 269.751828123852249). You may want to try with a higher value of support_fraction (current value: 0.503).\n",
      "  warnings.warn(\n",
      "D:\\Anaconda\\lib\\site-packages\\sklearn\\covariance\\_robust_covariance.py:183: RuntimeWarning: Determinant has increased; this should not happen: log(det) > log(previous_det) (267.266634042387636 > 264.921142213751864). You may want to try with a higher value of support_fraction (current value: 0.503).\n",
      "  warnings.warn(\n",
      "D:\\Anaconda\\lib\\site-packages\\sklearn\\covariance\\_robust_covariance.py:183: RuntimeWarning: Determinant has increased; this should not happen: log(det) > log(previous_det) (267.167669507820051 > 266.843922240128677). You may want to try with a higher value of support_fraction (current value: 0.503).\n",
      "  warnings.warn(\n",
      "D:\\Anaconda\\lib\\site-packages\\sklearn\\covariance\\_robust_covariance.py:183: RuntimeWarning: Determinant has increased; this should not happen: log(det) > log(previous_det) (267.254187234133781 > 265.594871775840716). You may want to try with a higher value of support_fraction (current value: 0.503).\n",
      "  warnings.warn(\n"
     ]
    },
    {
     "name": "stderr",
     "output_type": "stream",
     "text": [
      "D:\\Anaconda\\lib\\site-packages\\sklearn\\covariance\\_robust_covariance.py:183: RuntimeWarning: Determinant has increased; this should not happen: log(det) > log(previous_det) (266.166341727322674 > 265.325404461422067). You may want to try with a higher value of support_fraction (current value: 0.503).\n",
      "  warnings.warn(\n",
      "D:\\Anaconda\\lib\\site-packages\\sklearn\\covariance\\_robust_covariance.py:183: RuntimeWarning: Determinant has increased; this should not happen: log(det) > log(previous_det) (266.036982521764855 > 264.448360040549176). You may want to try with a higher value of support_fraction (current value: 0.503).\n",
      "  warnings.warn(\n",
      "D:\\Anaconda\\lib\\site-packages\\sklearn\\covariance\\_robust_covariance.py:183: RuntimeWarning: Determinant has increased; this should not happen: log(det) > log(previous_det) (266.648582042468661 > 266.611029046549277). You may want to try with a higher value of support_fraction (current value: 0.503).\n",
      "  warnings.warn(\n",
      "D:\\Anaconda\\lib\\site-packages\\sklearn\\covariance\\_robust_covariance.py:183: RuntimeWarning: Determinant has increased; this should not happen: log(det) > log(previous_det) (266.719537164308633 > 266.706529876792217). You may want to try with a higher value of support_fraction (current value: 0.503).\n",
      "  warnings.warn(\n",
      "D:\\Anaconda\\lib\\site-packages\\sklearn\\covariance\\_robust_covariance.py:183: RuntimeWarning: Determinant has increased; this should not happen: log(det) > log(previous_det) (266.687776504120791 > 266.521518476873098). You may want to try with a higher value of support_fraction (current value: 0.503).\n",
      "  warnings.warn(\n",
      "D:\\Anaconda\\lib\\site-packages\\sklearn\\covariance\\_robust_covariance.py:183: RuntimeWarning: Determinant has increased; this should not happen: log(det) > log(previous_det) (266.611029046549277 > 266.447972037259035). You may want to try with a higher value of support_fraction (current value: 0.503).\n",
      "  warnings.warn(\n",
      "D:\\Anaconda\\lib\\site-packages\\sklearn\\covariance\\_robust_covariance.py:183: RuntimeWarning: Determinant has increased; this should not happen: log(det) > log(previous_det) (266.512564684107474 > 266.480237351950223). You may want to try with a higher value of support_fraction (current value: 0.503).\n",
      "  warnings.warn(\n",
      "D:\\Anaconda\\lib\\site-packages\\sklearn\\covariance\\_robust_covariance.py:183: RuntimeWarning: Determinant has increased; this should not happen: log(det) > log(previous_det) (268.293886571901623 > 268.079498710250618). You may want to try with a higher value of support_fraction (current value: 0.503).\n",
      "  warnings.warn(\n",
      "D:\\Anaconda\\lib\\site-packages\\sklearn\\covariance\\_robust_covariance.py:183: RuntimeWarning: Determinant has increased; this should not happen: log(det) > log(previous_det) (269.519010427410819 > 268.556401888456548). You may want to try with a higher value of support_fraction (current value: 0.503).\n",
      "  warnings.warn(\n",
      "D:\\Anaconda\\lib\\site-packages\\sklearn\\covariance\\_robust_covariance.py:183: RuntimeWarning: Determinant has increased; this should not happen: log(det) > log(previous_det) (270.864764606801714 > 268.302099421794992). You may want to try with a higher value of support_fraction (current value: 0.503).\n",
      "  warnings.warn(\n",
      "D:\\Anaconda\\lib\\site-packages\\sklearn\\covariance\\_robust_covariance.py:183: RuntimeWarning: Determinant has increased; this should not happen: log(det) > log(previous_det) (266.066547192551866 > 266.031970848996764). You may want to try with a higher value of support_fraction (current value: 0.503).\n",
      "  warnings.warn(\n",
      "D:\\Anaconda\\lib\\site-packages\\sklearn\\covariance\\_robust_covariance.py:183: RuntimeWarning: Determinant has increased; this should not happen: log(det) > log(previous_det) (266.237246757230650 > 266.193903754908320). You may want to try with a higher value of support_fraction (current value: 0.503).\n",
      "  warnings.warn(\n",
      "D:\\Anaconda\\lib\\site-packages\\sklearn\\covariance\\_robust_covariance.py:183: RuntimeWarning: Determinant has increased; this should not happen: log(det) > log(previous_det) (266.074262840344147 > 266.007287612694768). You may want to try with a higher value of support_fraction (current value: 0.503).\n",
      "  warnings.warn(\n",
      "D:\\Anaconda\\lib\\site-packages\\sklearn\\covariance\\_robust_covariance.py:183: RuntimeWarning: Determinant has increased; this should not happen: log(det) > log(previous_det) (266.202825260249654 > 266.087939178332817). You may want to try with a higher value of support_fraction (current value: 0.503).\n",
      "  warnings.warn(\n",
      "D:\\Anaconda\\lib\\site-packages\\sklearn\\covariance\\_robust_covariance.py:183: RuntimeWarning: Determinant has increased; this should not happen: log(det) > log(previous_det) (266.242922903546969 > 266.237246757230650). You may want to try with a higher value of support_fraction (current value: 0.503).\n",
      "  warnings.warn(\n",
      "D:\\Anaconda\\lib\\site-packages\\sklearn\\covariance\\_robust_covariance.py:183: RuntimeWarning: Determinant has increased; this should not happen: log(det) > log(previous_det) (267.625245813570473 > 267.617818270922442). You may want to try with a higher value of support_fraction (current value: 0.503).\n",
      "  warnings.warn(\n",
      "D:\\Anaconda\\lib\\site-packages\\sklearn\\covariance\\_robust_covariance.py:183: RuntimeWarning: Determinant has increased; this should not happen: log(det) > log(previous_det) (267.528767610728664 > 267.524292020393034). You may want to try with a higher value of support_fraction (current value: 0.503).\n",
      "  warnings.warn(\n",
      "D:\\Anaconda\\lib\\site-packages\\sklearn\\covariance\\_robust_covariance.py:183: RuntimeWarning: Determinant has increased; this should not happen: log(det) > log(previous_det) (273.209334056560181 > 268.596653004167081). You may want to try with a higher value of support_fraction (current value: 0.503).\n",
      "  warnings.warn(\n",
      "D:\\Anaconda\\lib\\site-packages\\sklearn\\covariance\\_robust_covariance.py:183: RuntimeWarning: Determinant has increased; this should not happen: log(det) > log(previous_det) (273.086309350882459 > 269.858313220156674). You may want to try with a higher value of support_fraction (current value: 0.503).\n",
      "  warnings.warn(\n",
      "D:\\Anaconda\\lib\\site-packages\\sklearn\\covariance\\_robust_covariance.py:183: RuntimeWarning: Determinant has increased; this should not happen: log(det) > log(previous_det) (273.191307412441233 > 269.947333717242486). You may want to try with a higher value of support_fraction (current value: 0.503).\n",
      "  warnings.warn(\n",
      "D:\\Anaconda\\lib\\site-packages\\sklearn\\covariance\\_robust_covariance.py:183: RuntimeWarning: Determinant has increased; this should not happen: log(det) > log(previous_det) (273.037918587927379 > 271.278741869165060). You may want to try with a higher value of support_fraction (current value: 0.503).\n",
      "  warnings.warn(\n",
      "D:\\Anaconda\\lib\\site-packages\\sklearn\\covariance\\_robust_covariance.py:183: RuntimeWarning: Determinant has increased; this should not happen: log(det) > log(previous_det) (273.290167850678529 > 267.280051289298797). You may want to try with a higher value of support_fraction (current value: 0.503).\n",
      "  warnings.warn(\n",
      "D:\\Anaconda\\lib\\site-packages\\sklearn\\covariance\\_robust_covariance.py:183: RuntimeWarning: Determinant has increased; this should not happen: log(det) > log(previous_det) (273.037918587927379 > 267.672317680329343). You may want to try with a higher value of support_fraction (current value: 0.503).\n",
      "  warnings.warn(\n",
      "D:\\Anaconda\\lib\\site-packages\\sklearn\\covariance\\_robust_covariance.py:183: RuntimeWarning: Determinant has increased; this should not happen: log(det) > log(previous_det) (273.227293829820781 > 267.641720054658322). You may want to try with a higher value of support_fraction (current value: 0.503).\n",
      "  warnings.warn(\n",
      "D:\\Anaconda\\lib\\site-packages\\sklearn\\covariance\\_robust_covariance.py:183: RuntimeWarning: Determinant has increased; this should not happen: log(det) > log(previous_det) (273.619977763829809 > 269.005073785387367). You may want to try with a higher value of support_fraction (current value: 0.503).\n",
      "  warnings.warn(\n",
      "D:\\Anaconda\\lib\\site-packages\\sklearn\\covariance\\_robust_covariance.py:183: RuntimeWarning: Determinant has increased; this should not happen: log(det) > log(previous_det) (270.442703332126371 > 267.570968284058551). You may want to try with a higher value of support_fraction (current value: 0.503).\n",
      "  warnings.warn(\n",
      "D:\\Anaconda\\lib\\site-packages\\sklearn\\covariance\\_robust_covariance.py:183: RuntimeWarning: Determinant has increased; this should not happen: log(det) > log(previous_det) (270.517050447971769 > 267.381288637810655). You may want to try with a higher value of support_fraction (current value: 0.503).\n",
      "  warnings.warn(\n",
      "D:\\Anaconda\\lib\\site-packages\\sklearn\\covariance\\_robust_covariance.py:183: RuntimeWarning: Determinant has increased; this should not happen: log(det) > log(previous_det) (270.546904261367899 > 268.746717534437607). You may want to try with a higher value of support_fraction (current value: 0.503).\n",
      "  warnings.warn(\n",
      "D:\\Anaconda\\lib\\site-packages\\sklearn\\covariance\\_robust_covariance.py:183: RuntimeWarning: Determinant has increased; this should not happen: log(det) > log(previous_det) (270.085217358084151 > 265.861006666009644). You may want to try with a higher value of support_fraction (current value: 0.503).\n",
      "  warnings.warn(\n",
      "D:\\Anaconda\\lib\\site-packages\\sklearn\\covariance\\_robust_covariance.py:183: RuntimeWarning: Determinant has increased; this should not happen: log(det) > log(previous_det) (270.263994684935483 > 270.196251253607841). You may want to try with a higher value of support_fraction (current value: 0.503).\n",
      "  warnings.warn(\n",
      "D:\\Anaconda\\lib\\site-packages\\sklearn\\covariance\\_robust_covariance.py:183: RuntimeWarning: Determinant has increased; this should not happen: log(det) > log(previous_det) (270.445848092339986 > 270.388343774430950). You may want to try with a higher value of support_fraction (current value: 0.503).\n",
      "  warnings.warn(\n",
      "D:\\Anaconda\\lib\\site-packages\\sklearn\\covariance\\_robust_covariance.py:183: RuntimeWarning: Determinant has increased; this should not happen: log(det) > log(previous_det) (270.263994684935483 > 270.243340516125215). You may want to try with a higher value of support_fraction (current value: 0.503).\n",
      "  warnings.warn(\n",
      "D:\\Anaconda\\lib\\site-packages\\sklearn\\covariance\\_robust_covariance.py:183: RuntimeWarning: Determinant has increased; this should not happen: log(det) > log(previous_det) (267.240065583819444 > 267.123820331756463). You may want to try with a higher value of support_fraction (current value: 0.503).\n",
      "  warnings.warn(\n",
      "D:\\Anaconda\\lib\\site-packages\\sklearn\\covariance\\_robust_covariance.py:183: RuntimeWarning: Determinant has increased; this should not happen: log(det) > log(previous_det) (267.240065583819444 > 267.091904876994192). You may want to try with a higher value of support_fraction (current value: 0.503).\n",
      "  warnings.warn(\n",
      "D:\\Anaconda\\lib\\site-packages\\sklearn\\covariance\\_robust_covariance.py:183: RuntimeWarning: Determinant has increased; this should not happen: log(det) > log(previous_det) (267.091904876994192 > 267.069193893804993). You may want to try with a higher value of support_fraction (current value: 0.503).\n",
      "  warnings.warn(\n",
      "D:\\Anaconda\\lib\\site-packages\\sklearn\\covariance\\_robust_covariance.py:183: RuntimeWarning: Determinant has increased; this should not happen: log(det) > log(previous_det) (265.858725642762124 > 265.772629489100041). You may want to try with a higher value of support_fraction (current value: 0.503).\n",
      "  warnings.warn(\n",
      "D:\\Anaconda\\lib\\site-packages\\sklearn\\covariance\\_robust_covariance.py:183: RuntimeWarning: Determinant has increased; this should not happen: log(det) > log(previous_det) (265.790662178953426 > 264.179201814585156). You may want to try with a higher value of support_fraction (current value: 0.503).\n",
      "  warnings.warn(\n",
      "D:\\Anaconda\\lib\\site-packages\\sklearn\\covariance\\_robust_covariance.py:183: RuntimeWarning: Determinant has increased; this should not happen: log(det) > log(previous_det) (265.871274653640853 > 265.397527076901042). You may want to try with a higher value of support_fraction (current value: 0.503).\n",
      "  warnings.warn(\n",
      "D:\\Anaconda\\lib\\site-packages\\sklearn\\covariance\\_robust_covariance.py:183: RuntimeWarning: Determinant has increased; this should not happen: log(det) > log(previous_det) (265.790662178953426 > 264.901774255984037). You may want to try with a higher value of support_fraction (current value: 0.503).\n",
      "  warnings.warn(\n",
      "D:\\Anaconda\\lib\\site-packages\\sklearn\\covariance\\_robust_covariance.py:183: RuntimeWarning: Determinant has increased; this should not happen: log(det) > log(previous_det) (265.772629489100041 > 265.491892571559276). You may want to try with a higher value of support_fraction (current value: 0.503).\n",
      "  warnings.warn(\n",
      "D:\\Anaconda\\lib\\site-packages\\sklearn\\covariance\\_robust_covariance.py:183: RuntimeWarning: Determinant has increased; this should not happen: log(det) > log(previous_det) (265.810678704595318 > 265.727575992529694). You may want to try with a higher value of support_fraction (current value: 0.503).\n",
      "  warnings.warn(\n",
      "D:\\Anaconda\\lib\\site-packages\\sklearn\\covariance\\_robust_covariance.py:183: RuntimeWarning: Determinant has increased; this should not happen: log(det) > log(previous_det) (268.681158398802381 > 267.762472867815632). You may want to try with a higher value of support_fraction (current value: 0.503).\n",
      "  warnings.warn(\n",
      "D:\\Anaconda\\lib\\site-packages\\sklearn\\covariance\\_robust_covariance.py:183: RuntimeWarning: Determinant has increased; this should not happen: log(det) > log(previous_det) (268.153702505574813 > 267.489967798306054). You may want to try with a higher value of support_fraction (current value: 0.503).\n",
      "  warnings.warn(\n",
      "D:\\Anaconda\\lib\\site-packages\\sklearn\\covariance\\_robust_covariance.py:183: RuntimeWarning: Determinant has increased; this should not happen: log(det) > log(previous_det) (267.719575497258347 > 267.439534888761955). You may want to try with a higher value of support_fraction (current value: 0.503).\n",
      "  warnings.warn(\n",
      "D:\\Anaconda\\lib\\site-packages\\sklearn\\covariance\\_robust_covariance.py:183: RuntimeWarning: Determinant has increased; this should not happen: log(det) > log(previous_det) (268.681158398802381 > 268.647226828195244). You may want to try with a higher value of support_fraction (current value: 0.503).\n",
      "  warnings.warn(\n",
      "D:\\Anaconda\\lib\\site-packages\\sklearn\\covariance\\_robust_covariance.py:183: RuntimeWarning: Determinant has increased; this should not happen: log(det) > log(previous_det) (268.681158398802381 > 267.778061197149555). You may want to try with a higher value of support_fraction (current value: 0.503).\n",
      "  warnings.warn(\n",
      "D:\\Anaconda\\lib\\site-packages\\sklearn\\covariance\\_robust_covariance.py:183: RuntimeWarning: Determinant has increased; this should not happen: log(det) > log(previous_det) (268.640987274571444 > 267.670708933446008). You may want to try with a higher value of support_fraction (current value: 0.503).\n",
      "  warnings.warn(\n",
      "D:\\Anaconda\\lib\\site-packages\\sklearn\\covariance\\_robust_covariance.py:183: RuntimeWarning: Determinant has increased; this should not happen: log(det) > log(previous_det) (266.155425438149109 > 265.593231364982785). You may want to try with a higher value of support_fraction (current value: 0.503).\n",
      "  warnings.warn(\n",
      "D:\\Anaconda\\lib\\site-packages\\sklearn\\covariance\\_robust_covariance.py:183: RuntimeWarning: Determinant has increased; this should not happen: log(det) > log(previous_det) (266.658596801632200 > 266.287029298671371). You may want to try with a higher value of support_fraction (current value: 0.503).\n",
      "  warnings.warn(\n",
      "D:\\Anaconda\\lib\\site-packages\\sklearn\\covariance\\_robust_covariance.py:183: RuntimeWarning: Determinant has increased; this should not happen: log(det) > log(previous_det) (266.293351585571713 > 263.651679879390258). You may want to try with a higher value of support_fraction (current value: 0.503).\n",
      "  warnings.warn(\n",
      "D:\\Anaconda\\lib\\site-packages\\sklearn\\covariance\\_robust_covariance.py:183: RuntimeWarning: Determinant has increased; this should not happen: log(det) > log(previous_det) (278.549506634994145 > 265.421059319502831). You may want to try with a higher value of support_fraction (current value: 0.503).\n",
      "  warnings.warn(\n",
      "D:\\Anaconda\\lib\\site-packages\\sklearn\\covariance\\_robust_covariance.py:183: RuntimeWarning: Determinant has increased; this should not happen: log(det) > log(previous_det) (278.592743820732665 > 265.566978827724142). You may want to try with a higher value of support_fraction (current value: 0.503).\n",
      "  warnings.warn(\n",
      "D:\\Anaconda\\lib\\site-packages\\sklearn\\covariance\\_robust_covariance.py:183: RuntimeWarning: Determinant has increased; this should not happen: log(det) > log(previous_det) (278.813187473676010 > 267.281729019314014). You may want to try with a higher value of support_fraction (current value: 0.503).\n",
      "  warnings.warn(\n",
      "D:\\Anaconda\\lib\\site-packages\\sklearn\\covariance\\_robust_covariance.py:183: RuntimeWarning: Determinant has increased; this should not happen: log(det) > log(previous_det) (278.760486342095930 > 268.244778706203419). You may want to try with a higher value of support_fraction (current value: 0.503).\n",
      "  warnings.warn(\n",
      "D:\\Anaconda\\lib\\site-packages\\sklearn\\covariance\\_robust_covariance.py:183: RuntimeWarning: Determinant has increased; this should not happen: log(det) > log(previous_det) (266.292479419965957 > 264.961427492300800). You may want to try with a higher value of support_fraction (current value: 0.503).\n",
      "  warnings.warn(\n",
      "D:\\Anaconda\\lib\\site-packages\\sklearn\\covariance\\_robust_covariance.py:183: RuntimeWarning: Determinant has increased; this should not happen: log(det) > log(previous_det) (266.677431674555180 > 265.895926587526901). You may want to try with a higher value of support_fraction (current value: 0.503).\n",
      "  warnings.warn(\n",
      "D:\\Anaconda\\lib\\site-packages\\sklearn\\covariance\\_robust_covariance.py:183: RuntimeWarning: Determinant has increased; this should not happen: log(det) > log(previous_det) (264.974145514767770 > 264.964763525015542). You may want to try with a higher value of support_fraction (current value: 0.503).\n",
      "  warnings.warn(\n",
      "D:\\Anaconda\\lib\\site-packages\\sklearn\\covariance\\_robust_covariance.py:183: RuntimeWarning: Determinant has increased; this should not happen: log(det) > log(previous_det) (263.928245833368862 > 263.108567078882231). You may want to try with a higher value of support_fraction (current value: 0.503).\n",
      "  warnings.warn(\n",
      "D:\\Anaconda\\lib\\site-packages\\sklearn\\covariance\\_robust_covariance.py:183: RuntimeWarning: Determinant has increased; this should not happen: log(det) > log(previous_det) (263.374586501537124 > 263.185195608593119). You may want to try with a higher value of support_fraction (current value: 0.503).\n",
      "  warnings.warn(\n",
      "D:\\Anaconda\\lib\\site-packages\\sklearn\\covariance\\_robust_covariance.py:183: RuntimeWarning: Determinant has increased; this should not happen: log(det) > log(previous_det) (263.230681015845903 > 263.169685197440856). You may want to try with a higher value of support_fraction (current value: 0.503).\n",
      "  warnings.warn(\n",
      "D:\\Anaconda\\lib\\site-packages\\sklearn\\covariance\\_robust_covariance.py:183: RuntimeWarning: Determinant has increased; this should not happen: log(det) > log(previous_det) (263.230681015845903 > 263.174531233168750). You may want to try with a higher value of support_fraction (current value: 0.503).\n",
      "  warnings.warn(\n",
      "D:\\Anaconda\\lib\\site-packages\\sklearn\\covariance\\_robust_covariance.py:183: RuntimeWarning: Determinant has increased; this should not happen: log(det) > log(previous_det) (263.626214017993618 > 263.266278138674295). You may want to try with a higher value of support_fraction (current value: 0.503).\n",
      "  warnings.warn(\n",
      "D:\\Anaconda\\lib\\site-packages\\sklearn\\covariance\\_robust_covariance.py:183: RuntimeWarning: Determinant has increased; this should not happen: log(det) > log(previous_det) (263.230681015845903 > 263.174934483208460). You may want to try with a higher value of support_fraction (current value: 0.503).\n",
      "  warnings.warn(\n",
      "D:\\Anaconda\\lib\\site-packages\\sklearn\\covariance\\_robust_covariance.py:183: RuntimeWarning: Determinant has increased; this should not happen: log(det) > log(previous_det) (273.598885253376807 > 273.518216734634677). You may want to try with a higher value of support_fraction (current value: 0.503).\n",
      "  warnings.warn(\n",
      "D:\\Anaconda\\lib\\site-packages\\sklearn\\covariance\\_robust_covariance.py:183: RuntimeWarning: Determinant has increased; this should not happen: log(det) > log(previous_det) (272.696681101114223 > 268.190553671589612). You may want to try with a higher value of support_fraction (current value: 0.503).\n",
      "  warnings.warn(\n",
      "D:\\Anaconda\\lib\\site-packages\\sklearn\\covariance\\_robust_covariance.py:183: RuntimeWarning: Determinant has increased; this should not happen: log(det) > log(previous_det) (272.912016793296971 > 272.577640785873712). You may want to try with a higher value of support_fraction (current value: 0.503).\n",
      "  warnings.warn(\n",
      "D:\\Anaconda\\lib\\site-packages\\sklearn\\covariance\\_robust_covariance.py:183: RuntimeWarning: Determinant has increased; this should not happen: log(det) > log(previous_det) (273.653112610421772 > 273.110972230556229). You may want to try with a higher value of support_fraction (current value: 0.503).\n",
      "  warnings.warn(\n",
      "D:\\Anaconda\\lib\\site-packages\\sklearn\\covariance\\_robust_covariance.py:183: RuntimeWarning: Determinant has increased; this should not happen: log(det) > log(previous_det) (273.598885253376807 > 273.488032075293631). You may want to try with a higher value of support_fraction (current value: 0.503).\n",
      "  warnings.warn(\n",
      "D:\\Anaconda\\lib\\site-packages\\sklearn\\covariance\\_robust_covariance.py:183: RuntimeWarning: Determinant has increased; this should not happen: log(det) > log(previous_det) (273.652457395678994 > 273.508889224416237). You may want to try with a higher value of support_fraction (current value: 0.503).\n",
      "  warnings.warn(\n",
      "D:\\Anaconda\\lib\\site-packages\\sklearn\\covariance\\_robust_covariance.py:183: RuntimeWarning: Determinant has increased; this should not happen: log(det) > log(previous_det) (272.882350177140552 > 267.162692944142975). You may want to try with a higher value of support_fraction (current value: 0.503).\n",
      "  warnings.warn(\n",
      "D:\\Anaconda\\lib\\site-packages\\sklearn\\covariance\\_robust_covariance.py:183: RuntimeWarning: Determinant has increased; this should not happen: log(det) > log(previous_det) (273.652457395678994 > 266.572638451316436). You may want to try with a higher value of support_fraction (current value: 0.503).\n",
      "  warnings.warn(\n",
      "D:\\Anaconda\\lib\\site-packages\\sklearn\\covariance\\_robust_covariance.py:183: RuntimeWarning: Determinant has increased; this should not happen: log(det) > log(previous_det) (273.656641041805187 > 268.329136650721864). You may want to try with a higher value of support_fraction (current value: 0.503).\n",
      "  warnings.warn(\n",
      "D:\\Anaconda\\lib\\site-packages\\sklearn\\covariance\\_robust_covariance.py:183: RuntimeWarning: Determinant has increased; this should not happen: log(det) > log(previous_det) (265.422415833218906 > 264.777457092164127). You may want to try with a higher value of support_fraction (current value: 0.503).\n",
      "  warnings.warn(\n",
      "D:\\Anaconda\\lib\\site-packages\\sklearn\\covariance\\_robust_covariance.py:183: RuntimeWarning: Determinant has increased; this should not happen: log(det) > log(previous_det) (265.792828849733837 > 265.769459010764308). You may want to try with a higher value of support_fraction (current value: 0.503).\n",
      "  warnings.warn(\n",
      "D:\\Anaconda\\lib\\site-packages\\sklearn\\covariance\\_robust_covariance.py:183: RuntimeWarning: Determinant has increased; this should not happen: log(det) > log(previous_det) (271.640381096606632 > 271.143990922783416). You may want to try with a higher value of support_fraction (current value: 0.503).\n",
      "  warnings.warn(\n",
      "D:\\Anaconda\\lib\\site-packages\\sklearn\\covariance\\_robust_covariance.py:183: RuntimeWarning: Determinant has increased; this should not happen: log(det) > log(previous_det) (270.999721608571747 > 269.030596618065658). You may want to try with a higher value of support_fraction (current value: 0.503).\n",
      "  warnings.warn(\n",
      "D:\\Anaconda\\lib\\site-packages\\sklearn\\covariance\\_robust_covariance.py:183: RuntimeWarning: Determinant has increased; this should not happen: log(det) > log(previous_det) (271.640281734245832 > 264.786943170977509). You may want to try with a higher value of support_fraction (current value: 0.503).\n",
      "  warnings.warn(\n",
      "D:\\Anaconda\\lib\\site-packages\\sklearn\\covariance\\_robust_covariance.py:183: RuntimeWarning: Determinant has increased; this should not happen: log(det) > log(previous_det) (271.450581963459172 > 269.008700915000816). You may want to try with a higher value of support_fraction (current value: 0.503).\n",
      "  warnings.warn(\n",
      "D:\\Anaconda\\lib\\site-packages\\sklearn\\covariance\\_robust_covariance.py:183: RuntimeWarning: Determinant has increased; this should not happen: log(det) > log(previous_det) (271.450581963459172 > 270.273348786190979). You may want to try with a higher value of support_fraction (current value: 0.503).\n",
      "  warnings.warn(\n",
      "D:\\Anaconda\\lib\\site-packages\\sklearn\\covariance\\_robust_covariance.py:183: RuntimeWarning: Determinant has increased; this should not happen: log(det) > log(previous_det) (270.857438661730782 > 268.074314395937165). You may want to try with a higher value of support_fraction (current value: 0.503).\n",
      "  warnings.warn(\n",
      "D:\\Anaconda\\lib\\site-packages\\sklearn\\covariance\\_robust_covariance.py:183: RuntimeWarning: Determinant has increased; this should not happen: log(det) > log(previous_det) (272.477435849949757 > 270.661442157380407). You may want to try with a higher value of support_fraction (current value: 0.503).\n",
      "  warnings.warn(\n",
      "D:\\Anaconda\\lib\\site-packages\\sklearn\\covariance\\_robust_covariance.py:183: RuntimeWarning: Determinant has increased; this should not happen: log(det) > log(previous_det) (272.738521905978132 > 270.114807439320657). You may want to try with a higher value of support_fraction (current value: 0.503).\n",
      "  warnings.warn(\n",
      "D:\\Anaconda\\lib\\site-packages\\sklearn\\covariance\\_robust_covariance.py:183: RuntimeWarning: Determinant has increased; this should not happen: log(det) > log(previous_det) (272.891411769522392 > 270.658050966286226). You may want to try with a higher value of support_fraction (current value: 0.503).\n",
      "  warnings.warn(\n",
      "D:\\Anaconda\\lib\\site-packages\\sklearn\\covariance\\_robust_covariance.py:183: RuntimeWarning: Determinant has increased; this should not happen: log(det) > log(previous_det) (265.523000371487285 > 263.997899640298499). You may want to try with a higher value of support_fraction (current value: 0.503).\n",
      "  warnings.warn(\n",
      "D:\\Anaconda\\lib\\site-packages\\sklearn\\covariance\\_robust_covariance.py:183: RuntimeWarning: Determinant has increased; this should not happen: log(det) > log(previous_det) (265.324405576156096 > 264.531741139483699). You may want to try with a higher value of support_fraction (current value: 0.503).\n",
      "  warnings.warn(\n",
      "D:\\Anaconda\\lib\\site-packages\\sklearn\\covariance\\_robust_covariance.py:183: RuntimeWarning: Determinant has increased; this should not happen: log(det) > log(previous_det) (265.672963519557356 > 264.584162177575877). You may want to try with a higher value of support_fraction (current value: 0.503).\n",
      "  warnings.warn(\n",
      "D:\\Anaconda\\lib\\site-packages\\sklearn\\covariance\\_robust_covariance.py:183: RuntimeWarning: Determinant has increased; this should not happen: log(det) > log(previous_det) (265.523000371487285 > 263.988360034262996). You may want to try with a higher value of support_fraction (current value: 0.503).\n",
      "  warnings.warn(\n",
      "D:\\Anaconda\\lib\\site-packages\\sklearn\\covariance\\_robust_covariance.py:183: RuntimeWarning: Determinant has increased; this should not happen: log(det) > log(previous_det) (265.523000371487285 > 264.039525246541416). You may want to try with a higher value of support_fraction (current value: 0.503).\n",
      "  warnings.warn(\n",
      "D:\\Anaconda\\lib\\site-packages\\sklearn\\covariance\\_robust_covariance.py:183: RuntimeWarning: Determinant has increased; this should not happen: log(det) > log(previous_det) (265.523000371487285 > 263.956540807322028). You may want to try with a higher value of support_fraction (current value: 0.503).\n",
      "  warnings.warn(\n",
      "D:\\Anaconda\\lib\\site-packages\\sklearn\\covariance\\_robust_covariance.py:183: RuntimeWarning: Determinant has increased; this should not happen: log(det) > log(previous_det) (267.164369191078606 > 266.965221312999802). You may want to try with a higher value of support_fraction (current value: 0.503).\n",
      "  warnings.warn(\n",
      "D:\\Anaconda\\lib\\site-packages\\sklearn\\covariance\\_robust_covariance.py:183: RuntimeWarning: Determinant has increased; this should not happen: log(det) > log(previous_det) (267.123162360207630 > 266.824442542813358). You may want to try with a higher value of support_fraction (current value: 0.503).\n",
      "  warnings.warn(\n",
      "D:\\Anaconda\\lib\\site-packages\\sklearn\\covariance\\_robust_covariance.py:183: RuntimeWarning: Determinant has increased; this should not happen: log(det) > log(previous_det) (267.123042360531144 > 267.036800430180847). You may want to try with a higher value of support_fraction (current value: 0.503).\n",
      "  warnings.warn(\n",
      "D:\\Anaconda\\lib\\site-packages\\sklearn\\covariance\\_robust_covariance.py:183: RuntimeWarning: Determinant has increased; this should not happen: log(det) > log(previous_det) (267.123042360531144 > 267.097452217041052). You may want to try with a higher value of support_fraction (current value: 0.503).\n",
      "  warnings.warn(\n",
      "D:\\Anaconda\\lib\\site-packages\\sklearn\\covariance\\_robust_covariance.py:183: RuntimeWarning: Determinant has increased; this should not happen: log(det) > log(previous_det) (267.042590872447249 > 265.978909478729292). You may want to try with a higher value of support_fraction (current value: 0.503).\n",
      "  warnings.warn(\n",
      "D:\\Anaconda\\lib\\site-packages\\sklearn\\covariance\\_robust_covariance.py:183: RuntimeWarning: Determinant has increased; this should not happen: log(det) > log(previous_det) (267.188789687868677 > 267.145356791243614). You may want to try with a higher value of support_fraction (current value: 0.503).\n",
      "  warnings.warn(\n",
      "D:\\Anaconda\\lib\\site-packages\\sklearn\\covariance\\_robust_covariance.py:183: RuntimeWarning: Determinant has increased; this should not happen: log(det) > log(previous_det) (274.144313770265910 > 273.849476557403307). You may want to try with a higher value of support_fraction (current value: 0.503).\n",
      "  warnings.warn(\n",
      "D:\\Anaconda\\lib\\site-packages\\sklearn\\covariance\\_robust_covariance.py:183: RuntimeWarning: Determinant has increased; this should not happen: log(det) > log(previous_det) (274.077732905456685 > 267.459438716847558). You may want to try with a higher value of support_fraction (current value: 0.503).\n",
      "  warnings.warn(\n",
      "D:\\Anaconda\\lib\\site-packages\\sklearn\\covariance\\_robust_covariance.py:183: RuntimeWarning: Determinant has increased; this should not happen: log(det) > log(previous_det) (274.000659519622047 > 269.063933041712744). You may want to try with a higher value of support_fraction (current value: 0.503).\n",
      "  warnings.warn(\n",
      "D:\\Anaconda\\lib\\site-packages\\sklearn\\covariance\\_robust_covariance.py:183: RuntimeWarning: Determinant has increased; this should not happen: log(det) > log(previous_det) (273.528908735364325 > 271.532719232958527). You may want to try with a higher value of support_fraction (current value: 0.503).\n",
      "  warnings.warn(\n",
      "D:\\Anaconda\\lib\\site-packages\\sklearn\\covariance\\_robust_covariance.py:183: RuntimeWarning: Determinant has increased; this should not happen: log(det) > log(previous_det) (274.065396732701402 > 269.531762606531913). You may want to try with a higher value of support_fraction (current value: 0.503).\n",
      "  warnings.warn(\n",
      "D:\\Anaconda\\lib\\site-packages\\sklearn\\covariance\\_robust_covariance.py:183: RuntimeWarning: Determinant has increased; this should not happen: log(det) > log(previous_det) (273.946130270771562 > 273.529809588332057). You may want to try with a higher value of support_fraction (current value: 0.503).\n",
      "  warnings.warn(\n",
      "D:\\Anaconda\\lib\\site-packages\\sklearn\\covariance\\_robust_covariance.py:183: RuntimeWarning: Determinant has increased; this should not happen: log(det) > log(previous_det) (273.946130270771562 > 271.917102399925341). You may want to try with a higher value of support_fraction (current value: 0.503).\n",
      "  warnings.warn(\n",
      "D:\\Anaconda\\lib\\site-packages\\sklearn\\covariance\\_robust_covariance.py:183: RuntimeWarning: Determinant has increased; this should not happen: log(det) > log(previous_det) (268.125064742087716 > 268.071732832706289). You may want to try with a higher value of support_fraction (current value: 0.501).\n",
      "  warnings.warn(\n",
      "D:\\Anaconda\\lib\\site-packages\\sklearn\\covariance\\_robust_covariance.py:183: RuntimeWarning: Determinant has increased; this should not happen: log(det) > log(previous_det) (268.075386887080469 > 267.977983755641162). You may want to try with a higher value of support_fraction (current value: 0.501).\n",
      "  warnings.warn(\n",
      "D:\\Anaconda\\lib\\site-packages\\sklearn\\covariance\\_robust_covariance.py:183: RuntimeWarning: Determinant has increased; this should not happen: log(det) > log(previous_det) (268.156007563978278 > 268.061069999606218). You may want to try with a higher value of support_fraction (current value: 0.501).\n",
      "  warnings.warn(\n",
      "D:\\Anaconda\\lib\\site-packages\\sklearn\\covariance\\_robust_covariance.py:183: RuntimeWarning: Determinant has increased; this should not happen: log(det) > log(previous_det) (268.122657423532814 > 267.971321637760070). You may want to try with a higher value of support_fraction (current value: 0.501).\n",
      "  warnings.warn(\n",
      "D:\\Anaconda\\lib\\site-packages\\sklearn\\covariance\\_robust_covariance.py:183: RuntimeWarning: Determinant has increased; this should not happen: log(det) > log(previous_det) (271.655373615749454 > 271.569694625550824). You may want to try with a higher value of support_fraction (current value: 0.501).\n",
      "  warnings.warn(\n",
      "D:\\Anaconda\\lib\\site-packages\\sklearn\\covariance\\_robust_covariance.py:183: RuntimeWarning: Determinant has increased; this should not happen: log(det) > log(previous_det) (271.655373615749454 > 271.541895332731485). You may want to try with a higher value of support_fraction (current value: 0.501).\n",
      "  warnings.warn(\n",
      "D:\\Anaconda\\lib\\site-packages\\sklearn\\covariance\\_robust_covariance.py:183: RuntimeWarning: Determinant has increased; this should not happen: log(det) > log(previous_det) (271.608978218324012 > 271.598484898367360). You may want to try with a higher value of support_fraction (current value: 0.501).\n",
      "  warnings.warn(\n",
      "D:\\Anaconda\\lib\\site-packages\\sklearn\\covariance\\_robust_covariance.py:183: RuntimeWarning: Determinant has increased; this should not happen: log(det) > log(previous_det) (268.089040680736048 > 268.047859317586870). You may want to try with a higher value of support_fraction (current value: 0.501).\n",
      "  warnings.warn(\n",
      "D:\\Anaconda\\lib\\site-packages\\sklearn\\covariance\\_robust_covariance.py:183: RuntimeWarning: Determinant has increased; this should not happen: log(det) > log(previous_det) (268.077773129716661 > 268.055838247583040). You may want to try with a higher value of support_fraction (current value: 0.501).\n",
      "  warnings.warn(\n",
      "D:\\Anaconda\\lib\\site-packages\\sklearn\\covariance\\_robust_covariance.py:183: RuntimeWarning: Determinant has increased; this should not happen: log(det) > log(previous_det) (268.113764190067911 > 267.972478687954947). You may want to try with a higher value of support_fraction (current value: 0.501).\n",
      "  warnings.warn(\n",
      "D:\\Anaconda\\lib\\site-packages\\sklearn\\covariance\\_robust_covariance.py:183: RuntimeWarning: Determinant has increased; this should not happen: log(det) > log(previous_det) (268.085529384424603 > 268.054007378115386). You may want to try with a higher value of support_fraction (current value: 0.501).\n",
      "  warnings.warn(\n",
      "D:\\Anaconda\\lib\\site-packages\\sklearn\\covariance\\_robust_covariance.py:183: RuntimeWarning: Determinant has increased; this should not happen: log(det) > log(previous_det) (268.113764190067911 > 267.975423414358772). You may want to try with a higher value of support_fraction (current value: 0.501).\n",
      "  warnings.warn(\n",
      "D:\\Anaconda\\lib\\site-packages\\sklearn\\covariance\\_robust_covariance.py:183: RuntimeWarning: Determinant has increased; this should not happen: log(det) > log(previous_det) (271.655373615749454 > 271.566302110415961). You may want to try with a higher value of support_fraction (current value: 0.501).\n",
      "  warnings.warn(\n",
      "D:\\Anaconda\\lib\\site-packages\\sklearn\\covariance\\_robust_covariance.py:183: RuntimeWarning: Determinant has increased; this should not happen: log(det) > log(previous_det) (268.010820404969138 > 267.954919415449240). You may want to try with a higher value of support_fraction (current value: 0.501).\n",
      "  warnings.warn(\n"
     ]
    },
    {
     "name": "stderr",
     "output_type": "stream",
     "text": [
      "D:\\Anaconda\\lib\\site-packages\\sklearn\\covariance\\_robust_covariance.py:183: RuntimeWarning: Determinant has increased; this should not happen: log(det) > log(previous_det) (272.245982030160178 > 272.242042893964253). You may want to try with a higher value of support_fraction (current value: 0.501).\n",
      "  warnings.warn(\n",
      "D:\\Anaconda\\lib\\site-packages\\sklearn\\covariance\\_robust_covariance.py:183: RuntimeWarning: Determinant has increased; this should not happen: log(det) > log(previous_det) (268.069725107335216 > 268.049616525952558). You may want to try with a higher value of support_fraction (current value: 0.501).\n",
      "  warnings.warn(\n",
      "D:\\Anaconda\\lib\\site-packages\\sklearn\\covariance\\_robust_covariance.py:183: RuntimeWarning: Determinant has increased; this should not happen: log(det) > log(previous_det) (268.089490708558401 > 268.009486322206442). You may want to try with a higher value of support_fraction (current value: 0.501).\n",
      "  warnings.warn(\n",
      "D:\\Anaconda\\lib\\site-packages\\sklearn\\covariance\\_robust_covariance.py:183: RuntimeWarning: Determinant has increased; this should not happen: log(det) > log(previous_det) (268.089490708558401 > 268.056656403120940). You may want to try with a higher value of support_fraction (current value: 0.501).\n",
      "  warnings.warn(\n",
      "D:\\Anaconda\\lib\\site-packages\\sklearn\\covariance\\_robust_covariance.py:183: RuntimeWarning: Determinant has increased; this should not happen: log(det) > log(previous_det) (272.291219403729883 > 272.256627639227702). You may want to try with a higher value of support_fraction (current value: 0.501).\n",
      "  warnings.warn(\n",
      "D:\\Anaconda\\lib\\site-packages\\sklearn\\covariance\\_robust_covariance.py:183: RuntimeWarning: Determinant has increased; this should not happen: log(det) > log(previous_det) (272.352926914734951 > 272.275453337438137). You may want to try with a higher value of support_fraction (current value: 0.501).\n",
      "  warnings.warn(\n",
      "D:\\Anaconda\\lib\\site-packages\\sklearn\\covariance\\_robust_covariance.py:183: RuntimeWarning: Determinant has increased; this should not happen: log(det) > log(previous_det) (268.089490708558401 > 268.046984158655221). You may want to try with a higher value of support_fraction (current value: 0.501).\n",
      "  warnings.warn(\n",
      "D:\\Anaconda\\lib\\site-packages\\sklearn\\covariance\\_robust_covariance.py:183: RuntimeWarning: Determinant has increased; this should not happen: log(det) > log(previous_det) (268.122657423532814 > 268.071892771076307). You may want to try with a higher value of support_fraction (current value: 0.501).\n",
      "  warnings.warn(\n",
      "D:\\Anaconda\\lib\\site-packages\\sklearn\\covariance\\_robust_covariance.py:183: RuntimeWarning: Determinant has increased; this should not happen: log(det) > log(previous_det) (268.156007563978278 > 268.070529289101273). You may want to try with a higher value of support_fraction (current value: 0.501).\n",
      "  warnings.warn(\n",
      "D:\\Anaconda\\lib\\site-packages\\sklearn\\covariance\\_robust_covariance.py:183: RuntimeWarning: Determinant has increased; this should not happen: log(det) > log(previous_det) (271.711472614237437 > 271.590926763048628). You may want to try with a higher value of support_fraction (current value: 0.501).\n",
      "  warnings.warn(\n",
      "D:\\Anaconda\\lib\\site-packages\\sklearn\\covariance\\_robust_covariance.py:183: RuntimeWarning: Determinant has increased; this should not happen: log(det) > log(previous_det) (271.655373615749454 > 271.576288358512329). You may want to try with a higher value of support_fraction (current value: 0.501).\n",
      "  warnings.warn(\n",
      "D:\\Anaconda\\lib\\site-packages\\sklearn\\covariance\\_robust_covariance.py:183: RuntimeWarning: Determinant has increased; this should not happen: log(det) > log(previous_det) (271.564836155351941 > 271.521715312748256). You may want to try with a higher value of support_fraction (current value: 0.501).\n",
      "  warnings.warn(\n",
      "D:\\Anaconda\\lib\\site-packages\\sklearn\\covariance\\_robust_covariance.py:183: RuntimeWarning: Determinant has increased; this should not happen: log(det) > log(previous_det) (268.077773129716661 > 268.046661142168318). You may want to try with a higher value of support_fraction (current value: 0.501).\n",
      "  warnings.warn(\n",
      "D:\\Anaconda\\lib\\site-packages\\sklearn\\covariance\\_robust_covariance.py:183: RuntimeWarning: Determinant has increased; this should not happen: log(det) > log(previous_det) (272.245982030160178 > 272.235349490908675). You may want to try with a higher value of support_fraction (current value: 0.501).\n",
      "  warnings.warn(\n",
      "D:\\Anaconda\\lib\\site-packages\\sklearn\\covariance\\_robust_covariance.py:183: RuntimeWarning: Determinant has increased; this should not happen: log(det) > log(previous_det) (272.245982030160178 > 272.235957981400077). You may want to try with a higher value of support_fraction (current value: 0.501).\n",
      "  warnings.warn(\n",
      "D:\\Anaconda\\lib\\site-packages\\sklearn\\covariance\\_robust_covariance.py:183: RuntimeWarning: Determinant has increased; this should not happen: log(det) > log(previous_det) (272.243280187891742 > 272.237061380638352). You may want to try with a higher value of support_fraction (current value: 0.501).\n",
      "  warnings.warn(\n",
      "D:\\Anaconda\\lib\\site-packages\\sklearn\\covariance\\_robust_covariance.py:183: RuntimeWarning: Determinant has increased; this should not happen: log(det) > log(previous_det) (272.243280187891742 > 272.233344430318311). You may want to try with a higher value of support_fraction (current value: 0.501).\n",
      "  warnings.warn(\n",
      "D:\\Anaconda\\lib\\site-packages\\sklearn\\covariance\\_robust_covariance.py:183: RuntimeWarning: Determinant has increased; this should not happen: log(det) > log(previous_det) (272.245982030160178 > 272.230823090162801). You may want to try with a higher value of support_fraction (current value: 0.501).\n",
      "  warnings.warn(\n",
      "D:\\Anaconda\\lib\\site-packages\\sklearn\\covariance\\_robust_covariance.py:183: RuntimeWarning: Determinant has increased; this should not happen: log(det) > log(previous_det) (268.071892771076307 > 268.039392105016191). You may want to try with a higher value of support_fraction (current value: 0.501).\n",
      "  warnings.warn(\n",
      "D:\\Anaconda\\lib\\site-packages\\sklearn\\covariance\\_robust_covariance.py:183: RuntimeWarning: Determinant has increased; this should not happen: log(det) > log(previous_det) (268.071892771076307 > 268.045072629561105). You may want to try with a higher value of support_fraction (current value: 0.501).\n",
      "  warnings.warn(\n",
      "D:\\Anaconda\\lib\\site-packages\\sklearn\\covariance\\_robust_covariance.py:183: RuntimeWarning: Determinant has increased; this should not happen: log(det) > log(previous_det) (268.113693934732908 > 267.972069728268082). You may want to try with a higher value of support_fraction (current value: 0.501).\n",
      "  warnings.warn(\n",
      "D:\\Anaconda\\lib\\site-packages\\sklearn\\covariance\\_robust_covariance.py:183: RuntimeWarning: Determinant has increased; this should not happen: log(det) > log(previous_det) (271.673251419562803 > 271.555165120059485). You may want to try with a higher value of support_fraction (current value: 0.501).\n",
      "  warnings.warn(\n",
      "D:\\Anaconda\\lib\\site-packages\\sklearn\\covariance\\_robust_covariance.py:183: RuntimeWarning: Determinant has increased; this should not happen: log(det) > log(previous_det) (272.303275705393958 > 272.273495772651472). You may want to try with a higher value of support_fraction (current value: 0.501).\n",
      "  warnings.warn(\n",
      "D:\\Anaconda\\lib\\site-packages\\sklearn\\covariance\\_robust_covariance.py:183: RuntimeWarning: Determinant has increased; this should not happen: log(det) > log(previous_det) (272.245982030160178 > 272.241351334605099). You may want to try with a higher value of support_fraction (current value: 0.501).\n",
      "  warnings.warn(\n",
      "D:\\Anaconda\\lib\\site-packages\\sklearn\\covariance\\_robust_covariance.py:183: RuntimeWarning: Determinant has increased; this should not happen: log(det) > log(previous_det) (271.564836155351941 > 271.523323030281233). You may want to try with a higher value of support_fraction (current value: 0.501).\n",
      "  warnings.warn(\n",
      "D:\\Anaconda\\lib\\site-packages\\sklearn\\covariance\\_robust_covariance.py:183: RuntimeWarning: Determinant has increased; this should not happen: log(det) > log(previous_det) (271.655373615749454 > 271.569217185434184). You may want to try with a higher value of support_fraction (current value: 0.501).\n",
      "  warnings.warn(\n",
      "D:\\Anaconda\\lib\\site-packages\\sklearn\\covariance\\_robust_covariance.py:183: RuntimeWarning: Determinant has increased; this should not happen: log(det) > log(previous_det) (268.013168405987528 > 267.936832467644763). You may want to try with a higher value of support_fraction (current value: 0.501).\n",
      "  warnings.warn(\n",
      "D:\\Anaconda\\lib\\site-packages\\sklearn\\covariance\\_robust_covariance.py:183: RuntimeWarning: Determinant has increased; this should not happen: log(det) > log(previous_det) (268.122657423532814 > 268.089490708558401). You may want to try with a higher value of support_fraction (current value: 0.501).\n",
      "  warnings.warn(\n"
     ]
    },
    {
     "name": "stderr",
     "output_type": "stream",
     "text": [
      "D:\\Anaconda\\lib\\site-packages\\sklearn\\covariance\\_robust_covariance.py:183: RuntimeWarning: Determinant has increased; this should not happen: log(det) > log(previous_det) (272.243280187891742 > 272.240469776811835). You may want to try with a higher value of support_fraction (current value: 0.501).\n",
      "  warnings.warn(\n",
      "D:\\Anaconda\\lib\\site-packages\\sklearn\\covariance\\_robust_covariance.py:183: RuntimeWarning: Determinant has increased; this should not happen: log(det) > log(previous_det) (271.655373615749454 > 271.575928483381631). You may want to try with a higher value of support_fraction (current value: 0.501).\n",
      "  warnings.warn(\n",
      "D:\\Anaconda\\lib\\site-packages\\sklearn\\covariance\\_robust_covariance.py:183: RuntimeWarning: Determinant has increased; this should not happen: log(det) > log(previous_det) (272.397398985731343 > 272.273750677381827). You may want to try with a higher value of support_fraction (current value: 0.501).\n",
      "  warnings.warn(\n",
      "D:\\Anaconda\\lib\\site-packages\\sklearn\\covariance\\_robust_covariance.py:183: RuntimeWarning: Determinant has increased; this should not happen: log(det) > log(previous_det) (268.128252704033798 > 268.070505094899318). You may want to try with a higher value of support_fraction (current value: 0.501).\n",
      "  warnings.warn(\n",
      "D:\\Anaconda\\lib\\site-packages\\sklearn\\covariance\\_robust_covariance.py:183: RuntimeWarning: Determinant has increased; this should not happen: log(det) > log(previous_det) (268.062718895365094 > 268.056612756148468). You may want to try with a higher value of support_fraction (current value: 0.501).\n",
      "  warnings.warn(\n",
      "D:\\Anaconda\\lib\\site-packages\\sklearn\\covariance\\_robust_covariance.py:183: RuntimeWarning: Determinant has increased; this should not happen: log(det) > log(previous_det) (272.247709288092608 > 272.231755509122479). You may want to try with a higher value of support_fraction (current value: 0.501).\n",
      "  warnings.warn(\n",
      "D:\\Anaconda\\lib\\site-packages\\sklearn\\covariance\\_robust_covariance.py:183: RuntimeWarning: Determinant has increased; this should not happen: log(det) > log(previous_det) (272.338391589958007 > 272.271757418221455). You may want to try with a higher value of support_fraction (current value: 0.501).\n",
      "  warnings.warn(\n",
      "D:\\Anaconda\\lib\\site-packages\\sklearn\\covariance\\_robust_covariance.py:183: RuntimeWarning: Determinant has increased; this should not happen: log(det) > log(previous_det) (272.348923619157574 > 272.279731188109395). You may want to try with a higher value of support_fraction (current value: 0.501).\n",
      "  warnings.warn(\n",
      "D:\\Anaconda\\lib\\site-packages\\sklearn\\covariance\\_robust_covariance.py:183: RuntimeWarning: Determinant has increased; this should not happen: log(det) > log(previous_det) (271.711472614237437 > 271.580277316031015). You may want to try with a higher value of support_fraction (current value: 0.501).\n",
      "  warnings.warn(\n",
      "D:\\Anaconda\\lib\\site-packages\\sklearn\\covariance\\_robust_covariance.py:183: RuntimeWarning: Determinant has increased; this should not happen: log(det) > log(previous_det) (271.564836155351941 > 271.521342447284383). You may want to try with a higher value of support_fraction (current value: 0.501).\n",
      "  warnings.warn(\n",
      "D:\\Anaconda\\lib\\site-packages\\sklearn\\covariance\\_robust_covariance.py:183: RuntimeWarning: Determinant has increased; this should not happen: log(det) > log(previous_det) (272.245162514232049 > 272.226221879392085). You may want to try with a higher value of support_fraction (current value: 0.501).\n",
      "  warnings.warn(\n",
      "D:\\Anaconda\\lib\\site-packages\\sklearn\\covariance\\_robust_covariance.py:183: RuntimeWarning: Determinant has increased; this should not happen: log(det) > log(previous_det) (272.243280187891742 > 272.238957457023332). You may want to try with a higher value of support_fraction (current value: 0.501).\n",
      "  warnings.warn(\n",
      "D:\\Anaconda\\lib\\site-packages\\sklearn\\covariance\\_robust_covariance.py:183: RuntimeWarning: Determinant has increased; this should not happen: log(det) > log(previous_det) (272.410943655305573 > 272.277788476299804). You may want to try with a higher value of support_fraction (current value: 0.501).\n",
      "  warnings.warn(\n",
      "D:\\Anaconda\\lib\\site-packages\\sklearn\\covariance\\_robust_covariance.py:183: RuntimeWarning: Determinant has increased; this should not happen: log(det) > log(previous_det) (272.245982030160178 > 272.227385367474710). You may want to try with a higher value of support_fraction (current value: 0.501).\n",
      "  warnings.warn(\n",
      "D:\\Anaconda\\lib\\site-packages\\sklearn\\covariance\\_robust_covariance.py:183: RuntimeWarning: Determinant has increased; this should not happen: log(det) > log(previous_det) (275.605844560673631 > 275.601354210323962). You may want to try with a higher value of support_fraction (current value: 0.500).\n",
      "  warnings.warn(\n"
     ]
    },
    {
     "name": "stdout",
     "output_type": "stream",
     "text": [
      "Number of detected outliers is 7984\n"
     ]
    }
   ],
   "source": [
    "Gaussian =  EllipticEnvelope(contamination=0.2)\n",
    "result=Gaussian.fit_predict(X)\n",
    "Outliers=X[result==-1]\n",
    "print(\"Number of detected outliers is \" +str(len(Outliers)))"
   ]
  },
  {
   "cell_type": "code",
   "execution_count": 14,
   "id": "673110e1",
   "metadata": {},
   "outputs": [
    {
     "data": {
      "image/png": "[encoded data removed]",
      "text/plain": [
       "<Figure size 432x288 with 1 Axes>"
      ]
     },
     "metadata": {
      "needs_background": "light"
     },
     "output_type": "display_data"
    }
   ],
   "source": [
    "unique, counts = np.unique(Y[result!=-1], return_counts=True)\n",
    "CountOfClasses=dict(zip(unique, counts))\n",
    "fig, ax = plt.subplots()\n",
    "bar=ax.bar(*zip(*CountOfClasses.items()),color=['blueviolet','#BD1E51'])\n",
    "plt.xticks([False,True])\n",
    "plt.xlabel(\"click\")\n",
    "plt.ylabel(\"no of click\")\n",
    "for i in ax.containers:\n",
    "    ax.bar_label(i,)\n",
    "plt.show()"
   ]
  },
  {
   "cell_type": "code",
   "execution_count": 15,
   "id": "b3e554f2",
   "metadata": {},
   "outputs": [
    {
     "name": "stdout",
     "output_type": "stream",
     "text": [
      "3: 10326\n",
      "5: 9814\n",
      "7: 9502\n",
      "9: 9423\n",
      "11: 9177\n",
      "13: 8977\n",
      "15: 8968\n",
      "17: 8925\n",
      "19: 8943\n"
     ]
    }
   ],
   "source": [
    "for x in range(3, 20, 2):\n",
    "    KNN =  LocalOutlierFactor(n_neighbors=x)\n",
    "    result2=KNN.fit_predict(X)\n",
    "    Outliers=X[result2==-1]\n",
    "    print(str(x)+\": \"+str(len(Outliers)))"
   ]
  },
  {
   "cell_type": "code",
   "execution_count": 16,
   "id": "a0264dd7",
   "metadata": {
    "scrolled": true
   },
   "outputs": [
    {
     "data": {
      "image/png": "[encoded data removed]",
      "text/plain": [
       "<Figure size 432x288 with 1 Axes>"
      ]
     },
     "metadata": {
      "needs_background": "light"
     },
     "output_type": "display_data"
    }
   ],
   "source": [
    "unique, counts = np.unique(Y[result2!=-1], return_counts=True)\n",
    "CountOfClasses=dict(zip(unique, counts))\n",
    "fig, ax = plt.subplots()\n",
    "bar=ax.bar(*zip(*CountOfClasses.items()),color=['blueviolet','#BD1E51'])\n",
    "plt.xticks([False,True])\n",
    "plt.xlabel(\"good or bad customer\")\n",
    "plt.ylabel(\"Number of customers\")\n",
    "for i in ax.containers:\n",
    "    ax.bar_label(i,)\n",
    "plt.show()"
   ]
  },
  {
   "cell_type": "code",
   "execution_count": 17,
   "id": "29c599d0",
   "metadata": {},
   "outputs": [
    {
     "name": "stdout",
     "output_type": "stream",
     "text": [
      "1: Number of detected outliers is  14971\n",
      "3: Number of detected outliers is  11065\n",
      "5: Number of detected outliers is  11010\n",
      "7: Number of detected outliers is  10836\n",
      "9: Number of detected outliers is  10627\n",
      "11: Number of detected outliers is  9217\n",
      "13: Number of detected outliers is  8107\n",
      "15: Number of detected outliers is  8265\n",
      "17: Number of detected outliers is  8511\n",
      "19: Number of detected outliers is  7985\n"
     ]
    }
   ],
   "source": [
    "for x in range(1, 20, 2):\n",
    "    IF =  IsolationForest(n_estimators=x,random_state = 42)\n",
    "    result3=IF.fit_predict(X)\n",
    "    Outliers=X[result3==-1]\n",
    "    print(str(x)+\": Number of detected outliers is \" + ' ' + str(len(Outliers)))"
   ]
  },
  {
   "cell_type": "code",
   "execution_count": 18,
   "id": "4fbd5802",
   "metadata": {},
   "outputs": [
    {
     "data": {
      "image/png": "[encoded data removed]",
      "text/plain": [
       "<Figure size 432x288 with 1 Axes>"
      ]
     },
     "metadata": {
      "needs_background": "light"
     },
     "output_type": "display_data"
    }
   ],
   "source": [
    "\n",
    "unique, counts = np.unique(Y[result3!=-1], return_counts=True)\n",
    "CountOfClasses=dict(zip(unique, counts))\n",
    "fig, ax = plt.subplots()\n",
    "bar=ax.bar(*zip(*CountOfClasses.items()),color=['blueviolet','#BD1E51'])\n",
    "plt.xticks([False,True])\n",
    "plt.xlabel(\"good or bad customer\")\n",
    "plt.ylabel(\"Number of customers\")\n",
    "for i in ax.containers:\n",
    "    ax.bar_label(i,)\n",
    "plt.show()"
   ]
  },
  {
   "cell_type": "code",
   "execution_count": 19,
   "id": "2c80de86",
   "metadata": {},
   "outputs": [],
   "source": [
    "#NO OUTLIERS X AND Y\n",
    "outlierx=X[result!=-1]\n",
    "outliery=Y[result!=-1]"
   ]
  },
  {
   "cell_type": "raw",
   "id": "cf9d2623",
   "metadata": {},
   "source": [
    "Comment:\n",
    "    Elliptic Envelope (Gaussian-based) was chosen to detect the outliers as it was not bias to the minority class. \n",
    "    The minority class instances may have crucial data. "
   ]
  },
  {
   "cell_type": "code",
   "execution_count": 20,
   "id": "4b5a6215",
   "metadata": {},
   "outputs": [
    {
     "data": {
      "text/html": [
       "<div>\n",
       "<style scoped>\n",
       "    .dataframe tbody tr th:only-of-type {\n",
       "        vertical-align: middle;\n",
       "    }\n",
       "\n",
       "    .dataframe tbody tr th {\n",
       "        vertical-align: top;\n",
       "    }\n",
       "\n",
       "    .dataframe thead th {\n",
       "        text-align: right;\n",
       "    }\n",
       "</style>\n",
       "<table border=\"1\" class=\"dataframe\">\n",
       "  <thead>\n",
       "    <tr style=\"text-align: right;\">\n",
       "      <th></th>\n",
       "      <th>impression</th>\n",
       "      <th>url_hash</th>\n",
       "      <th>ad_id</th>\n",
       "      <th>advertiser_id</th>\n",
       "      <th>depth</th>\n",
       "      <th>position</th>\n",
       "      <th>query_id</th>\n",
       "      <th>keyword_id</th>\n",
       "      <th>title_id</th>\n",
       "      <th>description_id</th>\n",
       "      <th>user_id</th>\n",
       "    </tr>\n",
       "  </thead>\n",
       "  <tbody>\n",
       "    <tr>\n",
       "      <th>count</th>\n",
       "      <td>31942.000000</td>\n",
       "      <td>3.194200e+04</td>\n",
       "      <td>3.194200e+04</td>\n",
       "      <td>31942.000000</td>\n",
       "      <td>31942.000000</td>\n",
       "      <td>31942.000000</td>\n",
       "      <td>3.194200e+04</td>\n",
       "      <td>3.194200e+04</td>\n",
       "      <td>3.194200e+04</td>\n",
       "      <td>3.194200e+04</td>\n",
       "      <td>3.194200e+04</td>\n",
       "    </tr>\n",
       "    <tr>\n",
       "      <th>mean</th>\n",
       "      <td>2.246040</td>\n",
       "      <td>1.148539e+19</td>\n",
       "      <td>1.603761e+07</td>\n",
       "      <td>22629.795880</td>\n",
       "      <td>1.946027</td>\n",
       "      <td>1.457235</td>\n",
       "      <td>3.189228e+06</td>\n",
       "      <td>3.370570e+04</td>\n",
       "      <td>1.662238e+05</td>\n",
       "      <td>1.062361e+05</td>\n",
       "      <td>3.724622e+06</td>\n",
       "    </tr>\n",
       "    <tr>\n",
       "      <th>std</th>\n",
       "      <td>73.573454</td>\n",
       "      <td>3.698195e+18</td>\n",
       "      <td>7.154129e+06</td>\n",
       "      <td>11403.833742</td>\n",
       "      <td>0.717184</td>\n",
       "      <td>0.628500</td>\n",
       "      <td>5.891145e+06</td>\n",
       "      <td>9.727926e+04</td>\n",
       "      <td>4.546493e+05</td>\n",
       "      <td>3.195947e+05</td>\n",
       "      <td>5.514441e+06</td>\n",
       "    </tr>\n",
       "    <tr>\n",
       "      <th>min</th>\n",
       "      <td>1.000000</td>\n",
       "      <td>4.372350e+18</td>\n",
       "      <td>1.000515e+06</td>\n",
       "      <td>82.000000</td>\n",
       "      <td>1.000000</td>\n",
       "      <td>1.000000</td>\n",
       "      <td>0.000000e+00</td>\n",
       "      <td>0.000000e+00</td>\n",
       "      <td>0.000000e+00</td>\n",
       "      <td>0.000000e+00</td>\n",
       "      <td>0.000000e+00</td>\n",
       "    </tr>\n",
       "    <tr>\n",
       "      <th>25%</th>\n",
       "      <td>1.000000</td>\n",
       "      <td>8.134264e+18</td>\n",
       "      <td>9.027437e+06</td>\n",
       "      <td>15332.000000</td>\n",
       "      <td>1.000000</td>\n",
       "      <td>1.000000</td>\n",
       "      <td>2.218750e+03</td>\n",
       "      <td>3.280000e+02</td>\n",
       "      <td>6.080000e+02</td>\n",
       "      <td>3.110000e+02</td>\n",
       "      <td>2.578250e+03</td>\n",
       "    </tr>\n",
       "    <tr>\n",
       "      <th>50%</th>\n",
       "      <td>1.000000</td>\n",
       "      <td>1.205788e+19</td>\n",
       "      <td>2.022250e+07</td>\n",
       "      <td>23808.000000</td>\n",
       "      <td>2.000000</td>\n",
       "      <td>1.000000</td>\n",
       "      <td>1.105755e+05</td>\n",
       "      <td>3.199000e+03</td>\n",
       "      <td>9.557000e+03</td>\n",
       "      <td>4.490500e+03</td>\n",
       "      <td>9.338010e+05</td>\n",
       "    </tr>\n",
       "    <tr>\n",
       "      <th>75%</th>\n",
       "      <td>1.000000</td>\n",
       "      <td>1.434039e+19</td>\n",
       "      <td>2.116251e+07</td>\n",
       "      <td>30128.000000</td>\n",
       "      <td>2.000000</td>\n",
       "      <td>2.000000</td>\n",
       "      <td>3.226726e+06</td>\n",
       "      <td>1.994900e+04</td>\n",
       "      <td>9.116925e+04</td>\n",
       "      <td>4.830475e+04</td>\n",
       "      <td>5.270300e+06</td>\n",
       "    </tr>\n",
       "    <tr>\n",
       "      <th>max</th>\n",
       "      <td>11820.000000</td>\n",
       "      <td>1.844094e+19</td>\n",
       "      <td>2.222734e+07</td>\n",
       "      <td>39074.000000</td>\n",
       "      <td>3.000000</td>\n",
       "      <td>3.000000</td>\n",
       "      <td>2.624010e+07</td>\n",
       "      <td>1.243163e+06</td>\n",
       "      <td>4.050208e+06</td>\n",
       "      <td>3.162659e+06</td>\n",
       "      <td>2.390734e+07</td>\n",
       "    </tr>\n",
       "  </tbody>\n",
       "</table>\n",
       "</div>"
      ],
      "text/plain": [
       "         impression      url_hash         ad_id  advertiser_id         depth  \\\n",
       "count  31942.000000  3.194200e+04  3.194200e+04   31942.000000  31942.000000   \n",
       "mean       2.246040  1.148539e+19  1.603761e+07   22629.795880      1.946027   \n",
       "std       73.573454  3.698195e+18  7.154129e+06   11403.833742      0.717184   \n",
       "min        1.000000  4.372350e+18  1.000515e+06      82.000000      1.000000   \n",
       "25%        1.000000  8.134264e+18  9.027437e+06   15332.000000      1.000000   \n",
       "50%        1.000000  1.205788e+19  2.022250e+07   23808.000000      2.000000   \n",
       "75%        1.000000  1.434039e+19  2.116251e+07   30128.000000      2.000000   \n",
       "max    11820.000000  1.844094e+19  2.222734e+07   39074.000000      3.000000   \n",
       "\n",
       "           position      query_id    keyword_id      title_id  description_id  \\\n",
       "count  31942.000000  3.194200e+04  3.194200e+04  3.194200e+04    3.194200e+04   \n",
       "mean       1.457235  3.189228e+06  3.370570e+04  1.662238e+05    1.062361e+05   \n",
       "std        0.628500  5.891145e+06  9.727926e+04  4.546493e+05    3.195947e+05   \n",
       "min        1.000000  0.000000e+00  0.000000e+00  0.000000e+00    0.000000e+00   \n",
       "25%        1.000000  2.218750e+03  3.280000e+02  6.080000e+02    3.110000e+02   \n",
       "50%        1.000000  1.105755e+05  3.199000e+03  9.557000e+03    4.490500e+03   \n",
       "75%        2.000000  3.226726e+06  1.994900e+04  9.116925e+04    4.830475e+04   \n",
       "max        3.000000  2.624010e+07  1.243163e+06  4.050208e+06    3.162659e+06   \n",
       "\n",
       "            user_id  \n",
       "count  3.194200e+04  \n",
       "mean   3.724622e+06  \n",
       "std    5.514441e+06  \n",
       "min    0.000000e+00  \n",
       "25%    2.578250e+03  \n",
       "50%    9.338010e+05  \n",
       "75%    5.270300e+06  \n",
       "max    2.390734e+07  "
      ]
     },
     "execution_count": 20,
     "metadata": {},
     "output_type": "execute_result"
    }
   ],
   "source": [
    "outlierx.describe()"
   ]
  },
  {
   "cell_type": "code",
   "execution_count": 21,
   "id": "1c66cc9f",
   "metadata": {},
   "outputs": [],
   "source": [
    "scaler = StandardScaler()\n",
    "std_x=scaler.fit_transform(outlierx)"
   ]
  },
  {
   "cell_type": "code",
   "execution_count": 22,
   "id": "64e3f7b9",
   "metadata": {},
   "outputs": [],
   "source": [
    "#split data \n",
    "#SCALED SPLIT\n",
    "x_train, x_test, y_train, y_test = train_test_split(std_x, outliery,stratify=outliery, test_size=0.2,random_state=42)"
   ]
  },
  {
   "cell_type": "markdown",
   "id": "9c1f7e3c",
   "metadata": {},
   "source": [
    "# UnderSampling"
   ]
  },
  {
   "cell_type": "code",
   "execution_count": 23,
   "id": "40a2dc28",
   "metadata": {},
   "outputs": [],
   "source": [
    "overSampler = RandomUnderSampler(random_state=42)\n",
    "RunderX1,RunderY1=overSampler.fit_resample(std_x, outliery)\n",
    "X_train, X_test, y_train, y_test= train_test_split(RunderX1, RunderY1,stratify=RunderY1, test_size=0.3,random_state=42)"
   ]
  },
  {
   "cell_type": "code",
   "execution_count": 24,
   "id": "7af2b7a3",
   "metadata": {},
   "outputs": [
    {
     "data": {
      "image/png": "[encoded data removed]",
      "text/plain": [
       "<Figure size 432x288 with 1 Axes>"
      ]
     },
     "metadata": {
      "needs_background": "light"
     },
     "output_type": "display_data"
    }
   ],
   "source": [
    "unique, counts = np.unique(RunderY1, return_counts=True)\n",
    "CountOfClasses=dict(zip(unique, counts))\n",
    "fig, ax = plt.subplots()\n",
    "bar=ax.bar(*zip(*CountOfClasses.items()),color=['blueviolet','#BD1E51'])\n",
    "plt.xticks([False,True])\n",
    "plt.xlabel(\"Phishing or Not Phishing\")\n",
    "plt.ylabel(\"Number of Websites\")\n",
    "for i in ax.containers:\n",
    "    ax.bar_label(i,)\n",
    "plt.show()"
   ]
  },
  {
   "cell_type": "markdown",
   "id": "167f1aea",
   "metadata": {},
   "source": [
    "# Oversampling"
   ]
  },
  {
   "cell_type": "code",
   "execution_count": 25,
   "id": "faddd7ae",
   "metadata": {},
   "outputs": [],
   "source": [
    "overSampler = RandomOverSampler(random_state=42)\n",
    "RoverX1,RoverY1=overSampler.fit_resample(std_x, outliery)\n",
    "X_train, X_test, y_train, y_test= train_test_split(RoverX1, RoverY1,stratify=RoverY1, test_size=0.3,random_state=42)"
   ]
  },
  {
   "cell_type": "code",
   "execution_count": 26,
   "id": "21e64f1d",
   "metadata": {},
   "outputs": [
    {
     "data": {
      "image/png": "[encoded data removed]",
      "text/plain": [
       "<Figure size 432x288 with 1 Axes>"
      ]
     },
     "metadata": {
      "needs_background": "light"
     },
     "output_type": "display_data"
    }
   ],
   "source": [
    "unique, counts = np.unique(RoverY1, return_counts=True)\n",
    "CountOfClasses=dict(zip(unique, counts))\n",
    "fig, ax = plt.subplots()\n",
    "bar=ax.bar(*zip(*CountOfClasses.items()),color=['blueviolet','#BD1E51'])\n",
    "plt.xticks([False,True])\n",
    "plt.xlabel(\"Phishing or Not Phishing\")\n",
    "plt.ylabel(\"Number of Websites\")\n",
    "for i in ax.containers:\n",
    "    ax.bar_label(i,)\n",
    "plt.show()"
   ]
  },
  {
   "cell_type": "markdown",
   "id": "cdc271b6",
   "metadata": {},
   "source": [
    "# SMOTE"
   ]
  },
  {
   "cell_type": "code",
   "execution_count": 27,
   "id": "b580c603",
   "metadata": {},
   "outputs": [],
   "source": [
    "oversample = SMOTE(random_state=42)\n",
    "overX,overY=oversample.fit_resample(std_x, outliery)\n",
    "x_train, x_test, y_train, y_test= train_test_split(overX, overY,stratify=overY, test_size=0.3,random_state=42)"
   ]
  },
  {
   "cell_type": "code",
   "execution_count": 28,
   "id": "58a87087",
   "metadata": {},
   "outputs": [
    {
     "data": {
      "image/png": "[encoded data removed]",
      "text/plain": [
       "<Figure size 432x288 with 1 Axes>"
      ]
     },
     "metadata": {
      "needs_background": "light"
     },
     "output_type": "display_data"
    }
   ],
   "source": [
    "unique, counts = np.unique(overY, return_counts=True)\n",
    "CountOfClasses=dict(zip(unique, counts))\n",
    "fig, ax = plt.subplots()\n",
    "bar=ax.bar(*zip(*CountOfClasses.items()),color=['blueviolet','#BD1E51'])\n",
    "plt.xticks([False,True])\n",
    "plt.xlabel(\"Phishing or Not Phishing\")\n",
    "plt.ylabel(\"Number of Websites\")\n",
    "for i in ax.containers:\n",
    "    ax.bar_label(i,)\n",
    "plt.show()"
   ]
  },
  {
   "cell_type": "raw",
   "id": "40f50456",
   "metadata": {},
   "source": [
    "Comment: \n",
    "•\tSMOTE will be used to balance the dataset here as done in the training files. \n",
    "•\tSMOTE is the best method to balance the dataset in accuracy and precision, as it generates new samples from the minority class rather than duplicating the minority class instances (oversampling) or lowering the majority class samples (undersampling). "
   ]
  },
  {
   "cell_type": "markdown",
   "id": "eb24dca6",
   "metadata": {},
   "source": [
    "### Adaboosting Ensemble Pipeline + Getting the best sampling technique"
   ]
  },
  {
   "cell_type": "code",
   "execution_count": 29,
   "id": "6b1f72f5",
   "metadata": {},
   "outputs": [
    {
     "name": "stdout",
     "output_type": "stream",
     "text": [
      "ACC of model: 0.7726 with IMPipeLine \n"
     ]
    }
   ],
   "source": [
    "x_train1, x_test1, y_train1, y_test1= train_test_split(outlierx, outliery,stratify=outliery, test_size=0.3,random_state=42)\n",
    "p=imbPipeline(steps=[('overSample',SMOTE(k_neighbors=7, random_state=42)),('Scaler', StandardScaler()),\\\n",
    "                ('model', AdaBoostClassifier(n_estimators=21, random_state=42))])\n",
    "p.fit(x_train1,y_train1)\n",
    "y_pred=p.predict(x_test1)\n",
    "print(\"ACC of model: %.4f with IMPipeLine \"%accuracy_score(y_pred,y_test1))"
   ]
  },
  {
   "cell_type": "code",
   "execution_count": 30,
   "id": "7097f3ad",
   "metadata": {},
   "outputs": [
    {
     "name": "stdout",
     "output_type": "stream",
     "text": [
      "ACC of model: 0.7726 with IMPipeLine \n"
     ]
    }
   ],
   "source": [
    "x_train1, x_test1, y_train1, y_test1= train_test_split(outlierx, outliery,stratify=outliery, test_size=0.3,random_state=42)\n",
    "p=imbPipeline(steps=[('underSample',SMOTE(k_neighbors=7, random_state=42)),('Scaler', StandardScaler()),\\\n",
    "                ('model', AdaBoostClassifier(n_estimators=21, random_state=42))])\n",
    "p.fit(x_train1,y_train1)\n",
    "y_pred=p.predict(x_test1)\n",
    "print(\"ACC of model: %.4f with IMPipeLine \"%accuracy_score(y_pred,y_test1))"
   ]
  },
  {
   "cell_type": "code",
   "execution_count": 31,
   "id": "edc989ee",
   "metadata": {},
   "outputs": [
    {
     "name": "stdout",
     "output_type": "stream",
     "text": [
      "ACC of model: 0.6219 with IMPipeLine \n"
     ]
    }
   ],
   "source": [
    "x_train1, x_test1, y_train1, y_test1= train_test_split(outlierx, outliery,stratify=outliery, test_size=0.3,random_state=42)\n",
    "p=imbPipeline(steps=[('overSample',RandomOverSampler( random_state=42)),('Scaler', StandardScaler()),\\\n",
    "                ('model', AdaBoostClassifier(n_estimators=21, random_state=42))])\n",
    "p.fit(x_train1,y_train1)\n",
    "y_pred=p.predict(x_test1)\n",
    "print(\"ACC of model: %.4f with IMPipeLine \"%accuracy_score(y_pred,y_test1))"
   ]
  },
  {
   "cell_type": "code",
   "execution_count": 32,
   "id": "e50882aa",
   "metadata": {},
   "outputs": [
    {
     "name": "stdout",
     "output_type": "stream",
     "text": [
      "ACC of model: 0.6017 with IMPipeLine \n"
     ]
    }
   ],
   "source": [
    "x_train1, x_test1, y_train1, y_test1= train_test_split(outlierx, outliery,stratify=outliery, test_size=0.3,random_state=42)\n",
    "p=imbPipeline(steps=[('overSample',RandomUnderSampler( random_state=42)),('Scaler', StandardScaler()),\\\n",
    "                ('model', AdaBoostClassifier(n_estimators=21, random_state=42))])\n",
    "p.fit(x_train1,y_train1)\n",
    "y_pred=p.predict(x_test1)\n",
    "print(\"ACC of model: %.4f with IMPipeLine \"%accuracy_score(y_pred,y_test1))"
   ]
  },
  {
   "cell_type": "markdown",
   "id": "fffaea0b",
   "metadata": {},
   "source": [
    "### THUS PROVING SMOTE IS THE BEST METHOD FOR BALANCING THIS DATASET TOO!"
   ]
  },
  {
   "cell_type": "code",
   "execution_count": 33,
   "id": "3554b30b",
   "metadata": {},
   "outputs": [
    {
     "name": "stdout",
     "output_type": "stream",
     "text": [
      "ACC of model: 0.7726 with IMPipeLine \n"
     ]
    }
   ],
   "source": [
    "x_train1, x_test1, y_train1, y_test1= train_test_split(outlierx, outliery,stratify=outliery, test_size=0.3,random_state=42)\n",
    "p=imbPipeline(steps=[('overSample',SMOTE(k_neighbors=7, random_state=42)),('Scaler', StandardScaler()),\\\n",
    "                ('model', AdaBoostClassifier(n_estimators=21, random_state=42))])\n",
    "p.fit(x_train1,y_train1)\n",
    "y_pred=p.predict(x_test1)\n",
    "print(\"ACC of model: %.4f with IMPipeLine \"%accuracy_score(y_pred,y_test1))"
   ]
  },
  {
   "cell_type": "code",
   "execution_count": 34,
   "id": "7adf7df1",
   "metadata": {},
   "outputs": [
    {
     "data": {
      "image/png": "[encoded data removed]",
      "text/plain": [
       "<Figure size 432x288 with 1 Axes>"
      ]
     },
     "metadata": {
      "needs_background": "light"
     },
     "output_type": "display_data"
    }
   ],
   "source": [
    "#ROC Curve\n",
    "from sklearn.metrics import roc_auc_score\n",
    "from sklearn.metrics import roc_curve\n",
    "auc = roc_auc_score(y_pred, y_test1)\n",
    "\n",
    "fpr, tpr, thresholds = roc_curve(y_test1, y_pred)\n",
    "plt.plot(fpr, tpr, 'g-',label ='LR AUC:%.3f'%auc)\n",
    "\n",
    "plt.legend(loc=4)\n",
    "plt.show()"
   ]
  },
  {
   "cell_type": "code",
   "execution_count": 35,
   "id": "8211be4a",
   "metadata": {},
   "outputs": [
    {
     "name": "stdout",
     "output_type": "stream",
     "text": [
      "              precision    recall  f1-score   support\n",
      "\n",
      "           0       0.86      0.87      0.86      7990\n",
      "           1       0.30      0.28      0.29      1593\n",
      "\n",
      "    accuracy                           0.77      9583\n",
      "   macro avg       0.58      0.58      0.58      9583\n",
      "weighted avg       0.77      0.77      0.77      9583\n",
      "\n"
     ]
    }
   ],
   "source": [
    "#Classification Report\n",
    "print(classification_report(y_test1, y_pred, target_names=['0', '1']))"
   ]
  },
  {
   "cell_type": "code",
   "execution_count": 36,
   "id": "297a1adc",
   "metadata": {},
   "outputs": [
    {
     "data": {
      "image/png": "[encoded data removed]",
      "text/plain": [
       "<Figure size 432x288 with 1 Axes>"
      ]
     },
     "metadata": {
      "needs_background": "light"
     },
     "output_type": "display_data"
    }
   ],
   "source": [
    "#Learning Curve\n",
    "from sklearn.model_selection import learning_curve\n",
    "\n",
    "train_sizes_model, train_scores_model, valid_scores_model, *_ =learning_curve(p, outlierx, outliery,cv=5,\n",
    "                    scoring='accuracy',n_jobs=-1)\n",
    "fig=plt.figure()\n",
    "ax=fig.add_axes([0,0,1,1])\n",
    "ax.scatter(x=train_sizes_model,y= train_scores_model.mean(axis=1), color='b')\n",
    "ax.scatter(x=train_sizes_model,y=valid_scores_model.mean(axis=1), color='r')\n",
    "ax.plot(train_sizes_model,train_scores_model.mean(axis=1), color='b',label=\"Training Score\") #Train=Blue\n",
    "ax.plot(train_sizes_model,valid_scores_model.mean(axis=1), color='r', label=\"Validation Score\") #Valid=Red\n",
    "ax.set_xlabel('Data Range')\n",
    "ax.set_ylabel('Accuracy')\n",
    "ax.set_title('Learning Curve')\n",
    "plt.legend(loc=\"best\")\n",
    "plt.show()"
   ]
  },
  {
   "cell_type": "code",
   "execution_count": 37,
   "id": "71b1e4e8",
   "metadata": {},
   "outputs": [
    {
     "name": "stderr",
     "output_type": "stream",
     "text": [
      "D:\\Anaconda\\lib\\site-packages\\sklearn\\utils\\deprecation.py:87: FutureWarning: Function plot_confusion_matrix is deprecated; Function `plot_confusion_matrix` is deprecated in 1.0 and will be removed in 1.2. Use one of the class methods: ConfusionMatrixDisplay.from_predictions or ConfusionMatrixDisplay.from_estimator.\n",
      "  warnings.warn(msg, category=FutureWarning)\n"
     ]
    },
    {
     "data": {
      "text/plain": [
       "<sklearn.metrics._plot.confusion_matrix.ConfusionMatrixDisplay at 0x1cf34859970>"
      ]
     },
     "execution_count": 37,
     "metadata": {},
     "output_type": "execute_result"
    },
    {
     "data": {
      "image/png": "[encoded data removed]",
      "text/plain": [
       "<Figure size 432x288 with 2 Axes>"
      ]
     },
     "metadata": {
      "needs_background": "light"
     },
     "output_type": "display_data"
    }
   ],
   "source": [
    "plot_confusion_matrix(p,x_test1,y_test1)"
   ]
  },
  {
   "cell_type": "markdown",
   "id": "8e069683",
   "metadata": {},
   "source": [
    "## Optimized Adaboosting Model from the Training file"
   ]
  },
  {
   "cell_type": "code",
   "execution_count": 38,
   "id": "35b77736",
   "metadata": {},
   "outputs": [],
   "source": [
    "#max_depth=6 (I made the learning rate=0.05 because its closer to 0 then 0.1)\n",
    "adaBoost = AdaBoostClassifier(DecisionTreeClassifier(max_depth=6), n_estimators=200, learning_rate=0.05, random_state=42)\n",
    "adaBoost.fit(x_train, y_train)\n",
    "y_pred = adaBoost.predict(x_test)"
   ]
  },
  {
   "cell_type": "code",
   "execution_count": 39,
   "id": "3271c5d9",
   "metadata": {},
   "outputs": [
    {
     "data": {
      "image/png": "[encoded data removed]",
      "text/plain": [
       "<Figure size 432x288 with 1 Axes>"
      ]
     },
     "metadata": {
      "needs_background": "light"
     },
     "output_type": "display_data"
    }
   ],
   "source": [
    "#ROC Curve\n",
    "from sklearn.metrics import roc_auc_score\n",
    "from sklearn.metrics import roc_curve\n",
    "auc = roc_auc_score(y_pred, y_test)\n",
    "\n",
    "fpr, tpr, thresholds = roc_curve(y_test, y_pred)\n",
    "plt.plot(fpr, tpr, 'g-',label ='LR AUC:%.3f'%auc)\n",
    "\n",
    "plt.legend(loc=4)\n",
    "plt.show()"
   ]
  },
  {
   "cell_type": "code",
   "execution_count": 40,
   "id": "8b304703",
   "metadata": {},
   "outputs": [
    {
     "name": "stdout",
     "output_type": "stream",
     "text": [
      "Accuracy on training set: 0.866\n",
      "Accuracy on test set: 0.797\n"
     ]
    }
   ],
   "source": [
    "#Accuracy\n",
    "print(\"Accuracy on training set: {:.3f}\".format(adaBoost.score(x_train, y_train)))\n",
    "print(\"Accuracy on test set: {:.3f}\".format(adaBoost.score(x_test, y_test)))"
   ]
  },
  {
   "cell_type": "code",
   "execution_count": 41,
   "id": "104e3895",
   "metadata": {},
   "outputs": [
    {
     "name": "stdout",
     "output_type": "stream",
     "text": [
      "              precision    recall  f1-score   support\n",
      "\n",
      "           0       0.78      0.82      0.80      7990\n",
      "           1       0.81      0.78      0.79      7990\n",
      "\n",
      "    accuracy                           0.80     15980\n",
      "   macro avg       0.80      0.80      0.80     15980\n",
      "weighted avg       0.80      0.80      0.80     15980\n",
      "\n"
     ]
    }
   ],
   "source": [
    "#Classification Report\n",
    "print(classification_report(y_test, y_pred, target_names=['0', '1']))"
   ]
  },
  {
   "cell_type": "code",
   "execution_count": 42,
   "id": "85e6eef1",
   "metadata": {},
   "outputs": [
    {
     "data": {
      "image/png": "[encoded data removed]",
      "text/plain": [
       "<Figure size 432x288 with 1 Axes>"
      ]
     },
     "metadata": {
      "needs_background": "light"
     },
     "output_type": "display_data"
    }
   ],
   "source": [
    "#Learning Curve\n",
    "from sklearn.model_selection import learning_curve\n",
    "\n",
    "train_sizes_model, train_scores_model, valid_scores_model, *_ =learning_curve(adaBoost, overX, overY,cv=5,\n",
    "                    scoring='accuracy',n_jobs=-1)\n",
    "fig=plt.figure()\n",
    "ax=fig.add_axes([0,0,1,1])\n",
    "ax.scatter(x=train_sizes_model,y= train_scores_model.mean(axis=1), color='b')\n",
    "ax.scatter(x=train_sizes_model,y=valid_scores_model.mean(axis=1), color='r')\n",
    "ax.plot(train_sizes_model,train_scores_model.mean(axis=1), color='b',label=\"Training Score\") #Train=Blue\n",
    "ax.plot(train_sizes_model,valid_scores_model.mean(axis=1), color='r', label=\"Validation Score\") #Valid=Red\n",
    "ax.set_xlabel('Data Range')\n",
    "ax.set_ylabel('Accuracy')\n",
    "ax.set_title('Learning Curve')\n",
    "plt.legend(loc=\"best\")\n",
    "plt.show()"
   ]
  },
  {
   "cell_type": "code",
   "execution_count": 43,
   "id": "feec793c",
   "metadata": {},
   "outputs": [
    {
     "name": "stderr",
     "output_type": "stream",
     "text": [
      "D:\\Anaconda\\lib\\site-packages\\sklearn\\utils\\deprecation.py:87: FutureWarning: Function plot_confusion_matrix is deprecated; Function `plot_confusion_matrix` is deprecated in 1.0 and will be removed in 1.2. Use one of the class methods: ConfusionMatrixDisplay.from_predictions or ConfusionMatrixDisplay.from_estimator.\n",
      "  warnings.warn(msg, category=FutureWarning)\n"
     ]
    },
    {
     "data": {
      "image/png": "[encoded data removed]",
      "text/plain": [
       "<Figure size 432x288 with 2 Axes>"
      ]
     },
     "metadata": {
      "needs_background": "light"
     },
     "output_type": "display_data"
    }
   ],
   "source": [
    "#Confusion Matrix\n",
    "plot_confusion_matrix(adaBoost, x_test, y_test)  \n",
    "plt.title('Confusion Matrix')\n",
    "plt.show()"
   ]
  },
  {
   "cell_type": "markdown",
   "id": "8342287c",
   "metadata": {},
   "source": [
    "### Bagging Ensemble Model (Pipeline Model)"
   ]
  },
  {
   "cell_type": "code",
   "execution_count": 44,
   "id": "ab4ef91e",
   "metadata": {},
   "outputs": [],
   "source": [
    "from sklearn.ensemble import BaggingClassifier"
   ]
  },
  {
   "cell_type": "code",
   "execution_count": 45,
   "id": "111ea6c4",
   "metadata": {},
   "outputs": [
    {
     "name": "stdout",
     "output_type": "stream",
     "text": [
      "ACC of model: 0.7424 with IMPipeLine \n"
     ]
    }
   ],
   "source": [
    "Bag_PL=imbPipeline(steps=[('overSample',SMOTE(random_state=42)),\\\n",
    "                ('model', BaggingClassifier(base_estimator = DecisionTreeClassifier(max_depth = 12,random_state=42),n_estimators=300,max_samples=800,random_state=42))])\n",
    "\n",
    "Bag_PL.fit(x_train,y_train)\n",
    "\n",
    "y_pred=Bag_PL.predict(x_test)\n",
    "print(\"ACC of model: %.4f with IMPipeLine \"%metrics.accuracy_score(y_pred,y_test))"
   ]
  },
  {
   "cell_type": "code",
   "execution_count": 47,
   "id": "7d7a7f41",
   "metadata": {
    "scrolled": false
   },
   "outputs": [
    {
     "data": {
      "image/png": "[encoded data removed]",
      "text/plain": [
       "<Figure size 432x288 with 1 Axes>"
      ]
     },
     "metadata": {
      "needs_background": "light"
     },
     "output_type": "display_data"
    }
   ],
   "source": [
    "#ROC Curve\n",
    "from sklearn.metrics import roc_auc_score\n",
    "from sklearn.metrics import roc_curve\n",
    "auc = roc_auc_score(y_pred, y_test)\n",
    "\n",
    "fpr, tpr, thresholds = roc_curve(y_test, y_pred)\n",
    "plt.plot(fpr, tpr, 'g-',label ='LR AUC:%.3f'%auc)\n",
    "\n",
    "plt.legend(loc=4)\n",
    "plt.show()"
   ]
  },
  {
   "cell_type": "code",
   "execution_count": 48,
   "id": "e868cd2a",
   "metadata": {},
   "outputs": [
    {
     "name": "stdout",
     "output_type": "stream",
     "text": [
      "              precision    recall  f1-score   support\n",
      "\n",
      "           0       0.74      0.74      0.74      7990\n",
      "           1       0.74      0.74      0.74      7990\n",
      "\n",
      "    accuracy                           0.74     15980\n",
      "   macro avg       0.74      0.74      0.74     15980\n",
      "weighted avg       0.74      0.74      0.74     15980\n",
      "\n"
     ]
    }
   ],
   "source": [
    "#Classification Report\n",
    "print(classification_report(y_test, y_pred, target_names=['0', '1']))"
   ]
  },
  {
   "cell_type": "code",
   "execution_count": 50,
   "id": "118a27a9",
   "metadata": {},
   "outputs": [
    {
     "data": {
      "image/png": "[encoded data removed]",
      "text/plain": [
       "<Figure size 432x288 with 1 Axes>"
      ]
     },
     "metadata": {
      "needs_background": "light"
     },
     "output_type": "display_data"
    }
   ],
   "source": [
    "#Learning Curve\n",
    "from sklearn.model_selection import learning_curve\n",
    "\n",
    "train_sizes_model, train_scores_model, valid_scores_model, *_ =learning_curve(Bag_PL, overX, overY,cv=5,\n",
    "                    scoring='accuracy',n_jobs=-1)\n",
    "fig=plt.figure()\n",
    "ax=fig.add_axes([0,0,1,1])\n",
    "ax.scatter(x=train_sizes_model,y= train_scores_model.mean(axis=1), color='b')\n",
    "ax.scatter(x=train_sizes_model,y=valid_scores_model.mean(axis=1), color='r')\n",
    "ax.plot(train_sizes_model,train_scores_model.mean(axis=1), color='b',label=\"Training Score\") #Train=Blue\n",
    "ax.plot(train_sizes_model,valid_scores_model.mean(axis=1), color='r', label=\"Validation Score\") #Valid=Red\n",
    "ax.set_xlabel('Data Range')\n",
    "ax.set_ylabel('Accuracy')\n",
    "ax.set_title('Learning Curve')\n",
    "plt.legend(loc=\"best\")\n",
    "plt.show()"
   ]
  },
  {
   "cell_type": "code",
   "execution_count": 51,
   "id": "6a0dd4bc",
   "metadata": {},
   "outputs": [
    {
     "name": "stderr",
     "output_type": "stream",
     "text": [
      "D:\\Anaconda\\lib\\site-packages\\sklearn\\utils\\deprecation.py:87: FutureWarning: Function plot_confusion_matrix is deprecated; Function `plot_confusion_matrix` is deprecated in 1.0 and will be removed in 1.2. Use one of the class methods: ConfusionMatrixDisplay.from_predictions or ConfusionMatrixDisplay.from_estimator.\n",
      "  warnings.warn(msg, category=FutureWarning)\n"
     ]
    },
    {
     "data": {
      "image/png": "[encoded data removed]",
      "text/plain": [
       "<Figure size 432x288 with 2 Axes>"
      ]
     },
     "metadata": {
      "needs_background": "light"
     },
     "output_type": "display_data"
    }
   ],
   "source": [
    "#Confusion Matrix\n",
    "plot_confusion_matrix(Bag_PL, x_test, y_test)  \n",
    "plt.title('Confusion Matrbix')\n",
    "plt.show()"
   ]
  },
  {
   "cell_type": "markdown",
   "id": "c639348c",
   "metadata": {},
   "source": [
    "#### MSE: 0.043\n",
    "#### Bias: 0.034\n",
    "#### Variance: 0.008"
   ]
  },
  {
   "cell_type": "markdown",
   "id": "d9418791",
   "metadata": {},
   "source": [
    "### Bagging Ensemble Model (Training File Model)"
   ]
  },
  {
   "cell_type": "code",
   "execution_count": 53,
   "id": "56c8ef54",
   "metadata": {},
   "outputs": [],
   "source": [
    "DT_clf = DecisionTreeClassifier(max_depth = 12,random_state=42)\n",
    "\n",
    "bag_clf = BaggingClassifier(\n",
    "    base_estimator= DT_clf, n_estimators=300,\n",
    "    max_samples=800, bootstrap=True, n_jobs=-1, random_state=42)\n",
    "bag_clf.fit(x_train, y_train)\n",
    "y_pred_bag_s_nfs = bag_clf.predict(x_test)"
   ]
  },
  {
   "cell_type": "code",
   "execution_count": 54,
   "id": "53ce5ed0",
   "metadata": {},
   "outputs": [
    {
     "name": "stdout",
     "output_type": "stream",
     "text": [
      "ACC of model: 0.7424 with IMPipeLine \n"
     ]
    }
   ],
   "source": [
    "print(\"ACC of model: %.4f with IMPipeLine \"%metrics.accuracy_score(y_pred_bag_s_nfs,y_test))"
   ]
  },
  {
   "cell_type": "code",
   "execution_count": 57,
   "id": "3fb28c26",
   "metadata": {},
   "outputs": [
    {
     "data": {
      "image/png": "[encoded data removed]",
      "text/plain": [
       "<Figure size 432x288 with 1 Axes>"
      ]
     },
     "metadata": {
      "needs_background": "light"
     },
     "output_type": "display_data"
    }
   ],
   "source": [
    "#ROC Curve\n",
    "from sklearn.metrics import roc_auc_score\n",
    "from sklearn.metrics import roc_curve\n",
    "auc = roc_auc_score(y_pred_bag_s_nfs, y_test)\n",
    "\n",
    "fpr, tpr, thresholds = roc_curve(y_test, y_pred_bag_s_nfs)\n",
    "plt.plot(fpr, tpr, 'g-',label ='LR AUC:%.3f'%auc)\n",
    "\n",
    "plt.legend(loc=4)\n",
    "plt.show()"
   ]
  },
  {
   "cell_type": "code",
   "execution_count": 56,
   "id": "99832939",
   "metadata": {},
   "outputs": [
    {
     "name": "stdout",
     "output_type": "stream",
     "text": [
      "              precision    recall  f1-score   support\n",
      "\n",
      "           0       0.74      0.74      0.74      7990\n",
      "           1       0.74      0.74      0.74      7990\n",
      "\n",
      "    accuracy                           0.74     15980\n",
      "   macro avg       0.74      0.74      0.74     15980\n",
      "weighted avg       0.74      0.74      0.74     15980\n",
      "\n"
     ]
    }
   ],
   "source": [
    "#Classification Report\n",
    "print(classification_report(y_test, y_pred_bag_s_nfs, target_names=['0', '1']))"
   ]
  },
  {
   "cell_type": "code",
   "execution_count": 58,
   "id": "c730fa27",
   "metadata": {},
   "outputs": [
    {
     "data": {
      "image/png": "[encoded data removed]",
      "text/plain": [
       "<Figure size 432x288 with 1 Axes>"
      ]
     },
     "metadata": {
      "needs_background": "light"
     },
     "output_type": "display_data"
    }
   ],
   "source": [
    "#Learning Curve\n",
    "from sklearn.model_selection import learning_curve\n",
    "\n",
    "train_sizes_model, train_scores_model, valid_scores_model, *_ =learning_curve(bag_clf, overX, overY,cv=5,\n",
    "                    scoring='accuracy',n_jobs=-1)\n",
    "fig=plt.figure()\n",
    "ax=fig.add_axes([0,0,1,1])\n",
    "ax.scatter(x=train_sizes_model,y= train_scores_model.mean(axis=1), color='b')\n",
    "ax.scatter(x=train_sizes_model,y=valid_scores_model.mean(axis=1), color='r')\n",
    "ax.plot(train_sizes_model,train_scores_model.mean(axis=1), color='b',label=\"Training Score\") #Train=Blue\n",
    "ax.plot(train_sizes_model,valid_scores_model.mean(axis=1), color='r', label=\"Validation Score\") #Valid=Red\n",
    "ax.set_xlabel('Data Range')\n",
    "ax.set_ylabel('Accuracy')\n",
    "ax.set_title('Learning Curve')\n",
    "plt.legend(loc=\"best\")\n",
    "plt.show()"
   ]
  },
  {
   "cell_type": "code",
   "execution_count": 59,
   "id": "5d7479d1",
   "metadata": {},
   "outputs": [
    {
     "name": "stderr",
     "output_type": "stream",
     "text": [
      "D:\\Anaconda\\lib\\site-packages\\sklearn\\utils\\deprecation.py:87: FutureWarning: Function plot_confusion_matrix is deprecated; Function `plot_confusion_matrix` is deprecated in 1.0 and will be removed in 1.2. Use one of the class methods: ConfusionMatrixDisplay.from_predictions or ConfusionMatrixDisplay.from_estimator.\n",
      "  warnings.warn(msg, category=FutureWarning)\n"
     ]
    },
    {
     "data": {
      "image/png": "[encoded data removed]",
      "text/plain": [
       "<Figure size 432x288 with 2 Axes>"
      ]
     },
     "metadata": {
      "needs_background": "light"
     },
     "output_type": "display_data"
    }
   ],
   "source": [
    "#Confusion Matrix\n",
    "plot_confusion_matrix(Bag_PL, x_test, y_test)  \n",
    "plt.title('Confusion Matrix')\n",
    "plt.show()"
   ]
  },
  {
   "cell_type": "markdown",
   "id": "383f9984",
   "metadata": {},
   "source": [
    "#### MSE: 0.043\n",
    "#### Bias: 0.034\n",
    "#### Variance: 0.008"
   ]
  }
 ],
 "metadata": {
  "kernelspec": {
   "display_name": "Python 3 (ipykernel)",
   "language": "python",
   "name": "python3"
  },
  "language_info": {
   "codemirror_mode": {
    "name": "ipython",
    "version": 3
   },
   "file_extension": ".py",
   "mimetype": "text/x-python",
   "name": "python",
   "nbconvert_exporter": "python",
   "pygments_lexer": "ipython3",
   "version": "3.9.7"
  }
 },
 "nbformat": 4,
 "nbformat_minor": 5
}
