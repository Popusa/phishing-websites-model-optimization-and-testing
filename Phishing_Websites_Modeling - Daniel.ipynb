{
 "cells": [
  {
   "cell_type": "code",
   "execution_count": 1,
   "id": "e8ce0010",
   "metadata": {},
   "outputs": [],
   "source": [
    "#pip install imblearn"
   ]
  },
  {
   "cell_type": "code",
   "execution_count": 2,
   "id": "19c3bb98",
   "metadata": {},
   "outputs": [],
   "source": [
    "#import all the libraries i'll be using here\n",
    "import pandas as pd\n",
    "from scipy.io import arff #For import the arff file\n",
    "import numpy as np\n",
    "import matplotlib.pyplot as plt\n",
    "import seaborn as sns\n",
    "from sklearn import preprocessing\n",
    "from sklearn.preprocessing import StandardScaler,LabelEncoder\n",
    "##from google.colab import drive\n",
    "##drive.mount('/content/drive') \n",
    "from sklearn.covariance import EllipticEnvelope\n",
    "from sklearn.neighbors import LocalOutlierFactor\n",
    "from sklearn.ensemble import RandomForestClassifier,IsolationForest\n",
    "from imblearn.over_sampling import SMOTE,RandomOverSampler\n",
    "from imblearn.under_sampling import RandomUnderSampler\n",
    "from sklearn.model_selection import train_test_split"
   ]
  },
  {
   "cell_type": "markdown",
   "id": "9308c637",
   "metadata": {},
   "source": [
    "#### **Dataset used: https://www.openml.org/search?type=data&sort=runs&status=active&id=4534**"
   ]
  },
  {
   "cell_type": "code",
   "execution_count": 3,
   "id": "5b9497a0",
   "metadata": {},
   "outputs": [
    {
     "data": {
      "text/html": [
       "<div>\n",
       "<style scoped>\n",
       "    .dataframe tbody tr th:only-of-type {\n",
       "        vertical-align: middle;\n",
       "    }\n",
       "\n",
       "    .dataframe tbody tr th {\n",
       "        vertical-align: top;\n",
       "    }\n",
       "\n",
       "    .dataframe thead th {\n",
       "        text-align: right;\n",
       "    }\n",
       "</style>\n",
       "<table border=\"1\" class=\"dataframe\">\n",
       "  <thead>\n",
       "    <tr style=\"text-align: right;\">\n",
       "      <th></th>\n",
       "      <th>having_IP_Address</th>\n",
       "      <th>URL_Length</th>\n",
       "      <th>Shortining_Service</th>\n",
       "      <th>having_At_Symbol</th>\n",
       "      <th>double_slash_redirecting</th>\n",
       "      <th>Prefix_Suffix</th>\n",
       "      <th>having_Sub_Domain</th>\n",
       "      <th>SSLfinal_State</th>\n",
       "      <th>Domain_registeration_length</th>\n",
       "      <th>Favicon</th>\n",
       "      <th>...</th>\n",
       "      <th>popUpWidnow</th>\n",
       "      <th>Iframe</th>\n",
       "      <th>age_of_domain</th>\n",
       "      <th>DNSRecord</th>\n",
       "      <th>web_traffic</th>\n",
       "      <th>Page_Rank</th>\n",
       "      <th>Google_Index</th>\n",
       "      <th>Links_pointing_to_page</th>\n",
       "      <th>Statistical_report</th>\n",
       "      <th>Result</th>\n",
       "    </tr>\n",
       "  </thead>\n",
       "  <tbody>\n",
       "    <tr>\n",
       "      <th>0</th>\n",
       "      <td>b'-1'</td>\n",
       "      <td>b'1'</td>\n",
       "      <td>b'1'</td>\n",
       "      <td>b'1'</td>\n",
       "      <td>b'-1'</td>\n",
       "      <td>b'-1'</td>\n",
       "      <td>b'-1'</td>\n",
       "      <td>b'-1'</td>\n",
       "      <td>b'-1'</td>\n",
       "      <td>b'1'</td>\n",
       "      <td>...</td>\n",
       "      <td>b'1'</td>\n",
       "      <td>b'1'</td>\n",
       "      <td>b'-1'</td>\n",
       "      <td>b'-1'</td>\n",
       "      <td>b'-1'</td>\n",
       "      <td>b'-1'</td>\n",
       "      <td>b'1'</td>\n",
       "      <td>b'1'</td>\n",
       "      <td>b'-1'</td>\n",
       "      <td>b'-1'</td>\n",
       "    </tr>\n",
       "    <tr>\n",
       "      <th>1</th>\n",
       "      <td>b'1'</td>\n",
       "      <td>b'1'</td>\n",
       "      <td>b'1'</td>\n",
       "      <td>b'1'</td>\n",
       "      <td>b'1'</td>\n",
       "      <td>b'-1'</td>\n",
       "      <td>b'0'</td>\n",
       "      <td>b'1'</td>\n",
       "      <td>b'-1'</td>\n",
       "      <td>b'1'</td>\n",
       "      <td>...</td>\n",
       "      <td>b'1'</td>\n",
       "      <td>b'1'</td>\n",
       "      <td>b'-1'</td>\n",
       "      <td>b'-1'</td>\n",
       "      <td>b'0'</td>\n",
       "      <td>b'-1'</td>\n",
       "      <td>b'1'</td>\n",
       "      <td>b'1'</td>\n",
       "      <td>b'1'</td>\n",
       "      <td>b'-1'</td>\n",
       "    </tr>\n",
       "    <tr>\n",
       "      <th>2</th>\n",
       "      <td>b'1'</td>\n",
       "      <td>b'0'</td>\n",
       "      <td>b'1'</td>\n",
       "      <td>b'1'</td>\n",
       "      <td>b'1'</td>\n",
       "      <td>b'-1'</td>\n",
       "      <td>b'-1'</td>\n",
       "      <td>b'-1'</td>\n",
       "      <td>b'-1'</td>\n",
       "      <td>b'1'</td>\n",
       "      <td>...</td>\n",
       "      <td>b'1'</td>\n",
       "      <td>b'1'</td>\n",
       "      <td>b'1'</td>\n",
       "      <td>b'-1'</td>\n",
       "      <td>b'1'</td>\n",
       "      <td>b'-1'</td>\n",
       "      <td>b'1'</td>\n",
       "      <td>b'0'</td>\n",
       "      <td>b'-1'</td>\n",
       "      <td>b'-1'</td>\n",
       "    </tr>\n",
       "    <tr>\n",
       "      <th>3</th>\n",
       "      <td>b'1'</td>\n",
       "      <td>b'0'</td>\n",
       "      <td>b'1'</td>\n",
       "      <td>b'1'</td>\n",
       "      <td>b'1'</td>\n",
       "      <td>b'-1'</td>\n",
       "      <td>b'-1'</td>\n",
       "      <td>b'-1'</td>\n",
       "      <td>b'1'</td>\n",
       "      <td>b'1'</td>\n",
       "      <td>...</td>\n",
       "      <td>b'1'</td>\n",
       "      <td>b'1'</td>\n",
       "      <td>b'-1'</td>\n",
       "      <td>b'-1'</td>\n",
       "      <td>b'1'</td>\n",
       "      <td>b'-1'</td>\n",
       "      <td>b'1'</td>\n",
       "      <td>b'-1'</td>\n",
       "      <td>b'1'</td>\n",
       "      <td>b'-1'</td>\n",
       "    </tr>\n",
       "    <tr>\n",
       "      <th>4</th>\n",
       "      <td>b'1'</td>\n",
       "      <td>b'0'</td>\n",
       "      <td>b'-1'</td>\n",
       "      <td>b'1'</td>\n",
       "      <td>b'1'</td>\n",
       "      <td>b'-1'</td>\n",
       "      <td>b'1'</td>\n",
       "      <td>b'1'</td>\n",
       "      <td>b'-1'</td>\n",
       "      <td>b'1'</td>\n",
       "      <td>...</td>\n",
       "      <td>b'-1'</td>\n",
       "      <td>b'1'</td>\n",
       "      <td>b'-1'</td>\n",
       "      <td>b'-1'</td>\n",
       "      <td>b'0'</td>\n",
       "      <td>b'-1'</td>\n",
       "      <td>b'1'</td>\n",
       "      <td>b'1'</td>\n",
       "      <td>b'1'</td>\n",
       "      <td>b'1'</td>\n",
       "    </tr>\n",
       "  </tbody>\n",
       "</table>\n",
       "<p>5 rows × 31 columns</p>\n",
       "</div>"
      ],
      "text/plain": [
       "  having_IP_Address URL_Length Shortining_Service having_At_Symbol  \\\n",
       "0             b'-1'       b'1'               b'1'             b'1'   \n",
       "1              b'1'       b'1'               b'1'             b'1'   \n",
       "2              b'1'       b'0'               b'1'             b'1'   \n",
       "3              b'1'       b'0'               b'1'             b'1'   \n",
       "4              b'1'       b'0'              b'-1'             b'1'   \n",
       "\n",
       "  double_slash_redirecting Prefix_Suffix having_Sub_Domain SSLfinal_State  \\\n",
       "0                    b'-1'         b'-1'             b'-1'          b'-1'   \n",
       "1                     b'1'         b'-1'              b'0'           b'1'   \n",
       "2                     b'1'         b'-1'             b'-1'          b'-1'   \n",
       "3                     b'1'         b'-1'             b'-1'          b'-1'   \n",
       "4                     b'1'         b'-1'              b'1'           b'1'   \n",
       "\n",
       "  Domain_registeration_length Favicon  ... popUpWidnow Iframe age_of_domain  \\\n",
       "0                       b'-1'    b'1'  ...        b'1'   b'1'         b'-1'   \n",
       "1                       b'-1'    b'1'  ...        b'1'   b'1'         b'-1'   \n",
       "2                       b'-1'    b'1'  ...        b'1'   b'1'          b'1'   \n",
       "3                        b'1'    b'1'  ...        b'1'   b'1'         b'-1'   \n",
       "4                       b'-1'    b'1'  ...       b'-1'   b'1'         b'-1'   \n",
       "\n",
       "  DNSRecord web_traffic Page_Rank Google_Index Links_pointing_to_page  \\\n",
       "0     b'-1'       b'-1'     b'-1'         b'1'                   b'1'   \n",
       "1     b'-1'        b'0'     b'-1'         b'1'                   b'1'   \n",
       "2     b'-1'        b'1'     b'-1'         b'1'                   b'0'   \n",
       "3     b'-1'        b'1'     b'-1'         b'1'                  b'-1'   \n",
       "4     b'-1'        b'0'     b'-1'         b'1'                   b'1'   \n",
       "\n",
       "  Statistical_report Result  \n",
       "0              b'-1'  b'-1'  \n",
       "1               b'1'  b'-1'  \n",
       "2              b'-1'  b'-1'  \n",
       "3               b'1'  b'-1'  \n",
       "4               b'1'   b'1'  \n",
       "\n",
       "[5 rows x 31 columns]"
      ]
     },
     "execution_count": 3,
     "metadata": {},
     "output_type": "execute_result"
    }
   ],
   "source": [
    "data = arff.loadarff('Phishing_Websites.arff')\n",
    "data= pd.DataFrame(data[0])\n",
    "data.head()"
   ]
  },
  {
   "cell_type": "markdown",
   "id": "bf4d0754",
   "metadata": {},
   "source": [
    "#### Quick Data Exploration"
   ]
  },
  {
   "cell_type": "code",
   "execution_count": 4,
   "id": "3e3ed76f",
   "metadata": {},
   "outputs": [
    {
     "data": {
      "text/plain": [
       "(11055, 31)"
      ]
     },
     "execution_count": 4,
     "metadata": {},
     "output_type": "execute_result"
    }
   ],
   "source": [
    "#Getting the dimensions of the dataset (rows=instances, columns=features)\n",
    "data.shape"
   ]
  },
  {
   "cell_type": "code",
   "execution_count": 5,
   "id": "deed1f45",
   "metadata": {},
   "outputs": [
    {
     "data": {
      "text/plain": [
       "Index(['having_IP_Address', 'URL_Length', 'Shortining_Service',\n",
       "       'having_At_Symbol', 'double_slash_redirecting', 'Prefix_Suffix',\n",
       "       'having_Sub_Domain', 'SSLfinal_State', 'Domain_registeration_length',\n",
       "       'Favicon', 'port', 'HTTPS_token', 'Request_URL', 'URL_of_Anchor',\n",
       "       'Links_in_tags', 'SFH', 'Submitting_to_email', 'Abnormal_URL',\n",
       "       'Redirect', 'on_mouseover', 'RightClick', 'popUpWidnow', 'Iframe',\n",
       "       'age_of_domain', 'DNSRecord', 'web_traffic', 'Page_Rank',\n",
       "       'Google_Index', 'Links_pointing_to_page', 'Statistical_report',\n",
       "       'Result'],\n",
       "      dtype='object')"
      ]
     },
     "execution_count": 5,
     "metadata": {},
     "output_type": "execute_result"
    }
   ],
   "source": [
    "#Seeing what features i'll be working with\n",
    "data.columns"
   ]
  },
  {
   "cell_type": "code",
   "execution_count": 6,
   "id": "98311910",
   "metadata": {},
   "outputs": [
    {
     "data": {
      "text/html": [
       "<div>\n",
       "<style scoped>\n",
       "    .dataframe tbody tr th:only-of-type {\n",
       "        vertical-align: middle;\n",
       "    }\n",
       "\n",
       "    .dataframe tbody tr th {\n",
       "        vertical-align: top;\n",
       "    }\n",
       "\n",
       "    .dataframe thead th {\n",
       "        text-align: right;\n",
       "    }\n",
       "</style>\n",
       "<table border=\"1\" class=\"dataframe\">\n",
       "  <thead>\n",
       "    <tr style=\"text-align: right;\">\n",
       "      <th></th>\n",
       "      <th>having_IP_Address</th>\n",
       "      <th>URL_Length</th>\n",
       "      <th>Shortining_Service</th>\n",
       "      <th>having_At_Symbol</th>\n",
       "      <th>double_slash_redirecting</th>\n",
       "      <th>Prefix_Suffix</th>\n",
       "      <th>having_Sub_Domain</th>\n",
       "      <th>SSLfinal_State</th>\n",
       "      <th>Domain_registeration_length</th>\n",
       "      <th>Favicon</th>\n",
       "      <th>...</th>\n",
       "      <th>popUpWidnow</th>\n",
       "      <th>Iframe</th>\n",
       "      <th>age_of_domain</th>\n",
       "      <th>DNSRecord</th>\n",
       "      <th>web_traffic</th>\n",
       "      <th>Page_Rank</th>\n",
       "      <th>Google_Index</th>\n",
       "      <th>Links_pointing_to_page</th>\n",
       "      <th>Statistical_report</th>\n",
       "      <th>Result</th>\n",
       "    </tr>\n",
       "  </thead>\n",
       "  <tbody>\n",
       "    <tr>\n",
       "      <th>count</th>\n",
       "      <td>11055</td>\n",
       "      <td>11055</td>\n",
       "      <td>11055</td>\n",
       "      <td>11055</td>\n",
       "      <td>11055</td>\n",
       "      <td>11055</td>\n",
       "      <td>11055</td>\n",
       "      <td>11055</td>\n",
       "      <td>11055</td>\n",
       "      <td>11055</td>\n",
       "      <td>...</td>\n",
       "      <td>11055</td>\n",
       "      <td>11055</td>\n",
       "      <td>11055</td>\n",
       "      <td>11055</td>\n",
       "      <td>11055</td>\n",
       "      <td>11055</td>\n",
       "      <td>11055</td>\n",
       "      <td>11055</td>\n",
       "      <td>11055</td>\n",
       "      <td>11055</td>\n",
       "    </tr>\n",
       "    <tr>\n",
       "      <th>unique</th>\n",
       "      <td>2</td>\n",
       "      <td>3</td>\n",
       "      <td>2</td>\n",
       "      <td>2</td>\n",
       "      <td>2</td>\n",
       "      <td>2</td>\n",
       "      <td>3</td>\n",
       "      <td>3</td>\n",
       "      <td>2</td>\n",
       "      <td>2</td>\n",
       "      <td>...</td>\n",
       "      <td>2</td>\n",
       "      <td>2</td>\n",
       "      <td>2</td>\n",
       "      <td>2</td>\n",
       "      <td>3</td>\n",
       "      <td>2</td>\n",
       "      <td>2</td>\n",
       "      <td>3</td>\n",
       "      <td>2</td>\n",
       "      <td>2</td>\n",
       "    </tr>\n",
       "    <tr>\n",
       "      <th>top</th>\n",
       "      <td>b'1'</td>\n",
       "      <td>b'-1'</td>\n",
       "      <td>b'1'</td>\n",
       "      <td>b'1'</td>\n",
       "      <td>b'1'</td>\n",
       "      <td>b'-1'</td>\n",
       "      <td>b'1'</td>\n",
       "      <td>b'1'</td>\n",
       "      <td>b'-1'</td>\n",
       "      <td>b'1'</td>\n",
       "      <td>...</td>\n",
       "      <td>b'1'</td>\n",
       "      <td>b'1'</td>\n",
       "      <td>b'1'</td>\n",
       "      <td>b'1'</td>\n",
       "      <td>b'1'</td>\n",
       "      <td>b'-1'</td>\n",
       "      <td>b'1'</td>\n",
       "      <td>b'0'</td>\n",
       "      <td>b'1'</td>\n",
       "      <td>b'1'</td>\n",
       "    </tr>\n",
       "    <tr>\n",
       "      <th>freq</th>\n",
       "      <td>7262</td>\n",
       "      <td>8960</td>\n",
       "      <td>9611</td>\n",
       "      <td>9400</td>\n",
       "      <td>9626</td>\n",
       "      <td>9590</td>\n",
       "      <td>4070</td>\n",
       "      <td>6331</td>\n",
       "      <td>7389</td>\n",
       "      <td>9002</td>\n",
       "      <td>...</td>\n",
       "      <td>8918</td>\n",
       "      <td>10043</td>\n",
       "      <td>5866</td>\n",
       "      <td>7612</td>\n",
       "      <td>5831</td>\n",
       "      <td>8201</td>\n",
       "      <td>9516</td>\n",
       "      <td>6156</td>\n",
       "      <td>9505</td>\n",
       "      <td>6157</td>\n",
       "    </tr>\n",
       "  </tbody>\n",
       "</table>\n",
       "<p>4 rows × 31 columns</p>\n",
       "</div>"
      ],
      "text/plain": [
       "       having_IP_Address URL_Length Shortining_Service having_At_Symbol  \\\n",
       "count              11055      11055              11055            11055   \n",
       "unique                 2          3                  2                2   \n",
       "top                 b'1'      b'-1'               b'1'             b'1'   \n",
       "freq                7262       8960               9611             9400   \n",
       "\n",
       "       double_slash_redirecting Prefix_Suffix having_Sub_Domain  \\\n",
       "count                     11055         11055             11055   \n",
       "unique                        2             2                 3   \n",
       "top                        b'1'         b'-1'              b'1'   \n",
       "freq                       9626          9590              4070   \n",
       "\n",
       "       SSLfinal_State Domain_registeration_length Favicon  ... popUpWidnow  \\\n",
       "count           11055                       11055   11055  ...       11055   \n",
       "unique              3                           2       2  ...           2   \n",
       "top              b'1'                       b'-1'    b'1'  ...        b'1'   \n",
       "freq             6331                        7389    9002  ...        8918   \n",
       "\n",
       "       Iframe age_of_domain DNSRecord web_traffic Page_Rank Google_Index  \\\n",
       "count   11055         11055     11055       11055     11055        11055   \n",
       "unique      2             2         2           3         2            2   \n",
       "top      b'1'          b'1'      b'1'        b'1'     b'-1'         b'1'   \n",
       "freq    10043          5866      7612        5831      8201         9516   \n",
       "\n",
       "       Links_pointing_to_page Statistical_report Result  \n",
       "count                   11055              11055  11055  \n",
       "unique                      3                  2      2  \n",
       "top                      b'0'               b'1'   b'1'  \n",
       "freq                     6156               9505   6157  \n",
       "\n",
       "[4 rows x 31 columns]"
      ]
     },
     "execution_count": 6,
     "metadata": {},
     "output_type": "execute_result"
    }
   ],
   "source": [
    "#Seeing the features' bounds (the max, min and the median)\n",
    "data.describe()"
   ]
  },
  {
   "cell_type": "code",
   "execution_count": 7,
   "id": "2227097b",
   "metadata": {},
   "outputs": [
    {
     "data": {
      "text/plain": [
       "having_IP_Address              object\n",
       "URL_Length                     object\n",
       "Shortining_Service             object\n",
       "having_At_Symbol               object\n",
       "double_slash_redirecting       object\n",
       "Prefix_Suffix                  object\n",
       "having_Sub_Domain              object\n",
       "SSLfinal_State                 object\n",
       "Domain_registeration_length    object\n",
       "Favicon                        object\n",
       "port                           object\n",
       "HTTPS_token                    object\n",
       "Request_URL                    object\n",
       "URL_of_Anchor                  object\n",
       "Links_in_tags                  object\n",
       "SFH                            object\n",
       "Submitting_to_email            object\n",
       "Abnormal_URL                   object\n",
       "Redirect                       object\n",
       "on_mouseover                   object\n",
       "RightClick                     object\n",
       "popUpWidnow                    object\n",
       "Iframe                         object\n",
       "age_of_domain                  object\n",
       "DNSRecord                      object\n",
       "web_traffic                    object\n",
       "Page_Rank                      object\n",
       "Google_Index                   object\n",
       "Links_pointing_to_page         object\n",
       "Statistical_report             object\n",
       "Result                         object\n",
       "dtype: object"
      ]
     },
     "execution_count": 7,
     "metadata": {},
     "output_type": "execute_result"
    }
   ],
   "source": [
    "#Seeing what are the columns' datatypes (If non-numerical, then drop. I'll be working numbers)\n",
    "data.dtypes"
   ]
  },
  {
   "cell_type": "markdown",
   "id": "14b08587",
   "metadata": {},
   "source": [
    "### Data Preprocessing/Cleaning"
   ]
  },
  {
   "cell_type": "code",
   "execution_count": 8,
   "id": "4dba7bb6",
   "metadata": {},
   "outputs": [
    {
     "data": {
      "text/plain": [
       "5206"
      ]
     },
     "execution_count": 8,
     "metadata": {},
     "output_type": "execute_result"
    }
   ],
   "source": [
    "#Checking for any copies \n",
    "data.duplicated().sum() "
   ]
  },
  {
   "cell_type": "markdown",
   "id": "df6ed6ff",
   "metadata": {},
   "source": [
    "### We will not be dropping any duplicates as our duplicates take up around 50% of our dataset. Duplicates can be helpful in training and generalizing our models. "
   ]
  },
  {
   "cell_type": "code",
   "execution_count": 9,
   "id": "5a46bd9d",
   "metadata": {},
   "outputs": [
    {
     "data": {
      "text/plain": [
       "having_IP_Address              int32\n",
       "URL_Length                     int32\n",
       "Shortining_Service             int32\n",
       "having_At_Symbol               int32\n",
       "double_slash_redirecting       int32\n",
       "Prefix_Suffix                  int32\n",
       "having_Sub_Domain              int32\n",
       "SSLfinal_State                 int32\n",
       "Domain_registeration_length    int32\n",
       "Favicon                        int32\n",
       "port                           int32\n",
       "HTTPS_token                    int32\n",
       "Request_URL                    int32\n",
       "URL_of_Anchor                  int32\n",
       "Links_in_tags                  int32\n",
       "SFH                            int32\n",
       "Submitting_to_email            int32\n",
       "Abnormal_URL                   int32\n",
       "Redirect                       int32\n",
       "on_mouseover                   int32\n",
       "RightClick                     int32\n",
       "popUpWidnow                    int32\n",
       "Iframe                         int32\n",
       "age_of_domain                  int32\n",
       "DNSRecord                      int32\n",
       "web_traffic                    int32\n",
       "Page_Rank                      int32\n",
       "Google_Index                   int32\n",
       "Links_pointing_to_page         int32\n",
       "Statistical_report             int32\n",
       "Result                         int32\n",
       "dtype: object"
      ]
     },
     "execution_count": 9,
     "metadata": {},
     "output_type": "execute_result"
    }
   ],
   "source": [
    "##Remaining columns: convert to appropriate datatypes (we'll be using that later)\n",
    "le = preprocessing.LabelEncoder()\n",
    "for i in data.columns:\n",
    "    label=LabelEncoder()\n",
    "    data[i]=label.fit_transform(data[i])\n",
    "    data.tail()\n",
    "data.dtypes "
   ]
  },
  {
   "cell_type": "code",
   "execution_count": 10,
   "id": "366746f0",
   "metadata": {
    "scrolled": true
   },
   "outputs": [
    {
     "data": {
      "text/html": [
       "<div>\n",
       "<style scoped>\n",
       "    .dataframe tbody tr th:only-of-type {\n",
       "        vertical-align: middle;\n",
       "    }\n",
       "\n",
       "    .dataframe tbody tr th {\n",
       "        vertical-align: top;\n",
       "    }\n",
       "\n",
       "    .dataframe thead th {\n",
       "        text-align: right;\n",
       "    }\n",
       "</style>\n",
       "<table border=\"1\" class=\"dataframe\">\n",
       "  <thead>\n",
       "    <tr style=\"text-align: right;\">\n",
       "      <th></th>\n",
       "      <th>having_IP_Address</th>\n",
       "      <th>URL_Length</th>\n",
       "      <th>Shortining_Service</th>\n",
       "      <th>having_At_Symbol</th>\n",
       "      <th>double_slash_redirecting</th>\n",
       "      <th>Prefix_Suffix</th>\n",
       "      <th>having_Sub_Domain</th>\n",
       "      <th>SSLfinal_State</th>\n",
       "      <th>Domain_registeration_length</th>\n",
       "      <th>Favicon</th>\n",
       "      <th>...</th>\n",
       "      <th>popUpWidnow</th>\n",
       "      <th>Iframe</th>\n",
       "      <th>age_of_domain</th>\n",
       "      <th>DNSRecord</th>\n",
       "      <th>web_traffic</th>\n",
       "      <th>Page_Rank</th>\n",
       "      <th>Google_Index</th>\n",
       "      <th>Links_pointing_to_page</th>\n",
       "      <th>Statistical_report</th>\n",
       "      <th>Result</th>\n",
       "    </tr>\n",
       "  </thead>\n",
       "  <tbody>\n",
       "    <tr>\n",
       "      <th>0</th>\n",
       "      <td>0</td>\n",
       "      <td>2</td>\n",
       "      <td>1</td>\n",
       "      <td>1</td>\n",
       "      <td>0</td>\n",
       "      <td>0</td>\n",
       "      <td>0</td>\n",
       "      <td>0</td>\n",
       "      <td>0</td>\n",
       "      <td>1</td>\n",
       "      <td>...</td>\n",
       "      <td>1</td>\n",
       "      <td>1</td>\n",
       "      <td>0</td>\n",
       "      <td>0</td>\n",
       "      <td>0</td>\n",
       "      <td>0</td>\n",
       "      <td>1</td>\n",
       "      <td>2</td>\n",
       "      <td>0</td>\n",
       "      <td>0</td>\n",
       "    </tr>\n",
       "    <tr>\n",
       "      <th>1</th>\n",
       "      <td>1</td>\n",
       "      <td>2</td>\n",
       "      <td>1</td>\n",
       "      <td>1</td>\n",
       "      <td>1</td>\n",
       "      <td>0</td>\n",
       "      <td>1</td>\n",
       "      <td>2</td>\n",
       "      <td>0</td>\n",
       "      <td>1</td>\n",
       "      <td>...</td>\n",
       "      <td>1</td>\n",
       "      <td>1</td>\n",
       "      <td>0</td>\n",
       "      <td>0</td>\n",
       "      <td>1</td>\n",
       "      <td>0</td>\n",
       "      <td>1</td>\n",
       "      <td>2</td>\n",
       "      <td>1</td>\n",
       "      <td>0</td>\n",
       "    </tr>\n",
       "    <tr>\n",
       "      <th>2</th>\n",
       "      <td>1</td>\n",
       "      <td>1</td>\n",
       "      <td>1</td>\n",
       "      <td>1</td>\n",
       "      <td>1</td>\n",
       "      <td>0</td>\n",
       "      <td>0</td>\n",
       "      <td>0</td>\n",
       "      <td>0</td>\n",
       "      <td>1</td>\n",
       "      <td>...</td>\n",
       "      <td>1</td>\n",
       "      <td>1</td>\n",
       "      <td>1</td>\n",
       "      <td>0</td>\n",
       "      <td>2</td>\n",
       "      <td>0</td>\n",
       "      <td>1</td>\n",
       "      <td>1</td>\n",
       "      <td>0</td>\n",
       "      <td>0</td>\n",
       "    </tr>\n",
       "    <tr>\n",
       "      <th>3</th>\n",
       "      <td>1</td>\n",
       "      <td>1</td>\n",
       "      <td>1</td>\n",
       "      <td>1</td>\n",
       "      <td>1</td>\n",
       "      <td>0</td>\n",
       "      <td>0</td>\n",
       "      <td>0</td>\n",
       "      <td>1</td>\n",
       "      <td>1</td>\n",
       "      <td>...</td>\n",
       "      <td>1</td>\n",
       "      <td>1</td>\n",
       "      <td>0</td>\n",
       "      <td>0</td>\n",
       "      <td>2</td>\n",
       "      <td>0</td>\n",
       "      <td>1</td>\n",
       "      <td>0</td>\n",
       "      <td>1</td>\n",
       "      <td>0</td>\n",
       "    </tr>\n",
       "    <tr>\n",
       "      <th>4</th>\n",
       "      <td>1</td>\n",
       "      <td>1</td>\n",
       "      <td>0</td>\n",
       "      <td>1</td>\n",
       "      <td>1</td>\n",
       "      <td>0</td>\n",
       "      <td>2</td>\n",
       "      <td>2</td>\n",
       "      <td>0</td>\n",
       "      <td>1</td>\n",
       "      <td>...</td>\n",
       "      <td>0</td>\n",
       "      <td>1</td>\n",
       "      <td>0</td>\n",
       "      <td>0</td>\n",
       "      <td>1</td>\n",
       "      <td>0</td>\n",
       "      <td>1</td>\n",
       "      <td>2</td>\n",
       "      <td>1</td>\n",
       "      <td>1</td>\n",
       "    </tr>\n",
       "  </tbody>\n",
       "</table>\n",
       "<p>5 rows × 31 columns</p>\n",
       "</div>"
      ],
      "text/plain": [
       "   having_IP_Address  URL_Length  Shortining_Service  having_At_Symbol  \\\n",
       "0                  0           2                   1                 1   \n",
       "1                  1           2                   1                 1   \n",
       "2                  1           1                   1                 1   \n",
       "3                  1           1                   1                 1   \n",
       "4                  1           1                   0                 1   \n",
       "\n",
       "   double_slash_redirecting  Prefix_Suffix  having_Sub_Domain  SSLfinal_State  \\\n",
       "0                         0              0                  0               0   \n",
       "1                         1              0                  1               2   \n",
       "2                         1              0                  0               0   \n",
       "3                         1              0                  0               0   \n",
       "4                         1              0                  2               2   \n",
       "\n",
       "   Domain_registeration_length  Favicon  ...  popUpWidnow  Iframe  \\\n",
       "0                            0        1  ...            1       1   \n",
       "1                            0        1  ...            1       1   \n",
       "2                            0        1  ...            1       1   \n",
       "3                            1        1  ...            1       1   \n",
       "4                            0        1  ...            0       1   \n",
       "\n",
       "   age_of_domain  DNSRecord  web_traffic  Page_Rank  Google_Index  \\\n",
       "0              0          0            0          0             1   \n",
       "1              0          0            1          0             1   \n",
       "2              1          0            2          0             1   \n",
       "3              0          0            2          0             1   \n",
       "4              0          0            1          0             1   \n",
       "\n",
       "   Links_pointing_to_page  Statistical_report  Result  \n",
       "0                       2                   0       0  \n",
       "1                       2                   1       0  \n",
       "2                       1                   0       0  \n",
       "3                       0                   1       0  \n",
       "4                       2                   1       1  \n",
       "\n",
       "[5 rows x 31 columns]"
      ]
     },
     "execution_count": 10,
     "metadata": {},
     "output_type": "execute_result"
    }
   ],
   "source": [
    "data.head()"
   ]
  },
  {
   "cell_type": "code",
   "execution_count": 11,
   "id": "e58e9e58",
   "metadata": {},
   "outputs": [
    {
     "name": "stdout",
     "output_type": "stream",
     "text": [
      "<class 'pandas.core.frame.DataFrame'>\n",
      "RangeIndex: 11055 entries, 0 to 11054\n",
      "Data columns (total 31 columns):\n",
      " #   Column                       Non-Null Count  Dtype\n",
      "---  ------                       --------------  -----\n",
      " 0   having_IP_Address            11055 non-null  int32\n",
      " 1   URL_Length                   11055 non-null  int32\n",
      " 2   Shortining_Service           11055 non-null  int32\n",
      " 3   having_At_Symbol             11055 non-null  int32\n",
      " 4   double_slash_redirecting     11055 non-null  int32\n",
      " 5   Prefix_Suffix                11055 non-null  int32\n",
      " 6   having_Sub_Domain            11055 non-null  int32\n",
      " 7   SSLfinal_State               11055 non-null  int32\n",
      " 8   Domain_registeration_length  11055 non-null  int32\n",
      " 9   Favicon                      11055 non-null  int32\n",
      " 10  port                         11055 non-null  int32\n",
      " 11  HTTPS_token                  11055 non-null  int32\n",
      " 12  Request_URL                  11055 non-null  int32\n",
      " 13  URL_of_Anchor                11055 non-null  int32\n",
      " 14  Links_in_tags                11055 non-null  int32\n",
      " 15  SFH                          11055 non-null  int32\n",
      " 16  Submitting_to_email          11055 non-null  int32\n",
      " 17  Abnormal_URL                 11055 non-null  int32\n",
      " 18  Redirect                     11055 non-null  int32\n",
      " 19  on_mouseover                 11055 non-null  int32\n",
      " 20  RightClick                   11055 non-null  int32\n",
      " 21  popUpWidnow                  11055 non-null  int32\n",
      " 22  Iframe                       11055 non-null  int32\n",
      " 23  age_of_domain                11055 non-null  int32\n",
      " 24  DNSRecord                    11055 non-null  int32\n",
      " 25  web_traffic                  11055 non-null  int32\n",
      " 26  Page_Rank                    11055 non-null  int32\n",
      " 27  Google_Index                 11055 non-null  int32\n",
      " 28  Links_pointing_to_page       11055 non-null  int32\n",
      " 29  Statistical_report           11055 non-null  int32\n",
      " 30  Result                       11055 non-null  int32\n",
      "dtypes: int32(31)\n",
      "memory usage: 1.3 MB\n"
     ]
    }
   ],
   "source": [
    "data.info()"
   ]
  },
  {
   "cell_type": "code",
   "execution_count": 12,
   "id": "b527a80e",
   "metadata": {},
   "outputs": [
    {
     "data": {
      "text/html": [
       "<div>\n",
       "<style scoped>\n",
       "    .dataframe tbody tr th:only-of-type {\n",
       "        vertical-align: middle;\n",
       "    }\n",
       "\n",
       "    .dataframe tbody tr th {\n",
       "        vertical-align: top;\n",
       "    }\n",
       "\n",
       "    .dataframe thead th {\n",
       "        text-align: right;\n",
       "    }\n",
       "</style>\n",
       "<table border=\"1\" class=\"dataframe\">\n",
       "  <thead>\n",
       "    <tr style=\"text-align: right;\">\n",
       "      <th></th>\n",
       "      <th>having_IP_Address</th>\n",
       "      <th>URL_Length</th>\n",
       "      <th>Shortining_Service</th>\n",
       "      <th>having_At_Symbol</th>\n",
       "      <th>double_slash_redirecting</th>\n",
       "      <th>Prefix_Suffix</th>\n",
       "      <th>having_Sub_Domain</th>\n",
       "      <th>SSLfinal_State</th>\n",
       "      <th>Domain_registeration_length</th>\n",
       "      <th>Favicon</th>\n",
       "      <th>...</th>\n",
       "      <th>popUpWidnow</th>\n",
       "      <th>Iframe</th>\n",
       "      <th>age_of_domain</th>\n",
       "      <th>DNSRecord</th>\n",
       "      <th>web_traffic</th>\n",
       "      <th>Page_Rank</th>\n",
       "      <th>Google_Index</th>\n",
       "      <th>Links_pointing_to_page</th>\n",
       "      <th>Statistical_report</th>\n",
       "      <th>Result</th>\n",
       "    </tr>\n",
       "  </thead>\n",
       "  <tbody>\n",
       "    <tr>\n",
       "      <th>count</th>\n",
       "      <td>11055.000000</td>\n",
       "      <td>11055.000000</td>\n",
       "      <td>11055.000000</td>\n",
       "      <td>11055.000000</td>\n",
       "      <td>11055.000000</td>\n",
       "      <td>11055.000000</td>\n",
       "      <td>11055.000000</td>\n",
       "      <td>11055.000000</td>\n",
       "      <td>11055.000000</td>\n",
       "      <td>11055.000000</td>\n",
       "      <td>...</td>\n",
       "      <td>11055.000000</td>\n",
       "      <td>11055.000000</td>\n",
       "      <td>11055.000000</td>\n",
       "      <td>11055.000000</td>\n",
       "      <td>11055.000000</td>\n",
       "      <td>11055.000000</td>\n",
       "      <td>11055.000000</td>\n",
       "      <td>11055.000000</td>\n",
       "      <td>11055.000000</td>\n",
       "      <td>11055.000000</td>\n",
       "    </tr>\n",
       "    <tr>\n",
       "      <th>mean</th>\n",
       "      <td>0.656897</td>\n",
       "      <td>0.366802</td>\n",
       "      <td>0.869380</td>\n",
       "      <td>0.850294</td>\n",
       "      <td>0.870737</td>\n",
       "      <td>0.132519</td>\n",
       "      <td>1.063953</td>\n",
       "      <td>1.250927</td>\n",
       "      <td>0.331615</td>\n",
       "      <td>0.814292</td>\n",
       "      <td>...</td>\n",
       "      <td>0.806694</td>\n",
       "      <td>0.908458</td>\n",
       "      <td>0.530620</td>\n",
       "      <td>0.688557</td>\n",
       "      <td>1.287291</td>\n",
       "      <td>0.258164</td>\n",
       "      <td>0.860787</td>\n",
       "      <td>1.344007</td>\n",
       "      <td>0.859792</td>\n",
       "      <td>0.556943</td>\n",
       "    </tr>\n",
       "    <tr>\n",
       "      <th>std</th>\n",
       "      <td>0.474767</td>\n",
       "      <td>0.766095</td>\n",
       "      <td>0.336999</td>\n",
       "      <td>0.356799</td>\n",
       "      <td>0.335506</td>\n",
       "      <td>0.339070</td>\n",
       "      <td>0.817518</td>\n",
       "      <td>0.911892</td>\n",
       "      <td>0.470815</td>\n",
       "      <td>0.388888</td>\n",
       "      <td>...</td>\n",
       "      <td>0.394909</td>\n",
       "      <td>0.288392</td>\n",
       "      <td>0.499084</td>\n",
       "      <td>0.463104</td>\n",
       "      <td>0.827733</td>\n",
       "      <td>0.437644</td>\n",
       "      <td>0.346184</td>\n",
       "      <td>0.569944</td>\n",
       "      <td>0.347218</td>\n",
       "      <td>0.496769</td>\n",
       "    </tr>\n",
       "    <tr>\n",
       "      <th>min</th>\n",
       "      <td>0.000000</td>\n",
       "      <td>0.000000</td>\n",
       "      <td>0.000000</td>\n",
       "      <td>0.000000</td>\n",
       "      <td>0.000000</td>\n",
       "      <td>0.000000</td>\n",
       "      <td>0.000000</td>\n",
       "      <td>0.000000</td>\n",
       "      <td>0.000000</td>\n",
       "      <td>0.000000</td>\n",
       "      <td>...</td>\n",
       "      <td>0.000000</td>\n",
       "      <td>0.000000</td>\n",
       "      <td>0.000000</td>\n",
       "      <td>0.000000</td>\n",
       "      <td>0.000000</td>\n",
       "      <td>0.000000</td>\n",
       "      <td>0.000000</td>\n",
       "      <td>0.000000</td>\n",
       "      <td>0.000000</td>\n",
       "      <td>0.000000</td>\n",
       "    </tr>\n",
       "    <tr>\n",
       "      <th>25%</th>\n",
       "      <td>0.000000</td>\n",
       "      <td>0.000000</td>\n",
       "      <td>1.000000</td>\n",
       "      <td>1.000000</td>\n",
       "      <td>1.000000</td>\n",
       "      <td>0.000000</td>\n",
       "      <td>0.000000</td>\n",
       "      <td>0.000000</td>\n",
       "      <td>0.000000</td>\n",
       "      <td>1.000000</td>\n",
       "      <td>...</td>\n",
       "      <td>1.000000</td>\n",
       "      <td>1.000000</td>\n",
       "      <td>0.000000</td>\n",
       "      <td>0.000000</td>\n",
       "      <td>1.000000</td>\n",
       "      <td>0.000000</td>\n",
       "      <td>1.000000</td>\n",
       "      <td>1.000000</td>\n",
       "      <td>1.000000</td>\n",
       "      <td>0.000000</td>\n",
       "    </tr>\n",
       "    <tr>\n",
       "      <th>50%</th>\n",
       "      <td>1.000000</td>\n",
       "      <td>0.000000</td>\n",
       "      <td>1.000000</td>\n",
       "      <td>1.000000</td>\n",
       "      <td>1.000000</td>\n",
       "      <td>0.000000</td>\n",
       "      <td>1.000000</td>\n",
       "      <td>2.000000</td>\n",
       "      <td>0.000000</td>\n",
       "      <td>1.000000</td>\n",
       "      <td>...</td>\n",
       "      <td>1.000000</td>\n",
       "      <td>1.000000</td>\n",
       "      <td>1.000000</td>\n",
       "      <td>1.000000</td>\n",
       "      <td>2.000000</td>\n",
       "      <td>0.000000</td>\n",
       "      <td>1.000000</td>\n",
       "      <td>1.000000</td>\n",
       "      <td>1.000000</td>\n",
       "      <td>1.000000</td>\n",
       "    </tr>\n",
       "    <tr>\n",
       "      <th>75%</th>\n",
       "      <td>1.000000</td>\n",
       "      <td>0.000000</td>\n",
       "      <td>1.000000</td>\n",
       "      <td>1.000000</td>\n",
       "      <td>1.000000</td>\n",
       "      <td>0.000000</td>\n",
       "      <td>2.000000</td>\n",
       "      <td>2.000000</td>\n",
       "      <td>1.000000</td>\n",
       "      <td>1.000000</td>\n",
       "      <td>...</td>\n",
       "      <td>1.000000</td>\n",
       "      <td>1.000000</td>\n",
       "      <td>1.000000</td>\n",
       "      <td>1.000000</td>\n",
       "      <td>2.000000</td>\n",
       "      <td>1.000000</td>\n",
       "      <td>1.000000</td>\n",
       "      <td>2.000000</td>\n",
       "      <td>1.000000</td>\n",
       "      <td>1.000000</td>\n",
       "    </tr>\n",
       "    <tr>\n",
       "      <th>max</th>\n",
       "      <td>1.000000</td>\n",
       "      <td>2.000000</td>\n",
       "      <td>1.000000</td>\n",
       "      <td>1.000000</td>\n",
       "      <td>1.000000</td>\n",
       "      <td>1.000000</td>\n",
       "      <td>2.000000</td>\n",
       "      <td>2.000000</td>\n",
       "      <td>1.000000</td>\n",
       "      <td>1.000000</td>\n",
       "      <td>...</td>\n",
       "      <td>1.000000</td>\n",
       "      <td>1.000000</td>\n",
       "      <td>1.000000</td>\n",
       "      <td>1.000000</td>\n",
       "      <td>2.000000</td>\n",
       "      <td>1.000000</td>\n",
       "      <td>1.000000</td>\n",
       "      <td>2.000000</td>\n",
       "      <td>1.000000</td>\n",
       "      <td>1.000000</td>\n",
       "    </tr>\n",
       "  </tbody>\n",
       "</table>\n",
       "<p>8 rows × 31 columns</p>\n",
       "</div>"
      ],
      "text/plain": [
       "       having_IP_Address    URL_Length  Shortining_Service  having_At_Symbol  \\\n",
       "count       11055.000000  11055.000000        11055.000000      11055.000000   \n",
       "mean            0.656897      0.366802            0.869380          0.850294   \n",
       "std             0.474767      0.766095            0.336999          0.356799   \n",
       "min             0.000000      0.000000            0.000000          0.000000   \n",
       "25%             0.000000      0.000000            1.000000          1.000000   \n",
       "50%             1.000000      0.000000            1.000000          1.000000   \n",
       "75%             1.000000      0.000000            1.000000          1.000000   \n",
       "max             1.000000      2.000000            1.000000          1.000000   \n",
       "\n",
       "       double_slash_redirecting  Prefix_Suffix  having_Sub_Domain  \\\n",
       "count              11055.000000   11055.000000       11055.000000   \n",
       "mean                   0.870737       0.132519           1.063953   \n",
       "std                    0.335506       0.339070           0.817518   \n",
       "min                    0.000000       0.000000           0.000000   \n",
       "25%                    1.000000       0.000000           0.000000   \n",
       "50%                    1.000000       0.000000           1.000000   \n",
       "75%                    1.000000       0.000000           2.000000   \n",
       "max                    1.000000       1.000000           2.000000   \n",
       "\n",
       "       SSLfinal_State  Domain_registeration_length       Favicon  ...  \\\n",
       "count    11055.000000                 11055.000000  11055.000000  ...   \n",
       "mean         1.250927                     0.331615      0.814292  ...   \n",
       "std          0.911892                     0.470815      0.388888  ...   \n",
       "min          0.000000                     0.000000      0.000000  ...   \n",
       "25%          0.000000                     0.000000      1.000000  ...   \n",
       "50%          2.000000                     0.000000      1.000000  ...   \n",
       "75%          2.000000                     1.000000      1.000000  ...   \n",
       "max          2.000000                     1.000000      1.000000  ...   \n",
       "\n",
       "        popUpWidnow        Iframe  age_of_domain     DNSRecord   web_traffic  \\\n",
       "count  11055.000000  11055.000000   11055.000000  11055.000000  11055.000000   \n",
       "mean       0.806694      0.908458       0.530620      0.688557      1.287291   \n",
       "std        0.394909      0.288392       0.499084      0.463104      0.827733   \n",
       "min        0.000000      0.000000       0.000000      0.000000      0.000000   \n",
       "25%        1.000000      1.000000       0.000000      0.000000      1.000000   \n",
       "50%        1.000000      1.000000       1.000000      1.000000      2.000000   \n",
       "75%        1.000000      1.000000       1.000000      1.000000      2.000000   \n",
       "max        1.000000      1.000000       1.000000      1.000000      2.000000   \n",
       "\n",
       "          Page_Rank  Google_Index  Links_pointing_to_page  Statistical_report  \\\n",
       "count  11055.000000  11055.000000            11055.000000        11055.000000   \n",
       "mean       0.258164      0.860787                1.344007            0.859792   \n",
       "std        0.437644      0.346184                0.569944            0.347218   \n",
       "min        0.000000      0.000000                0.000000            0.000000   \n",
       "25%        0.000000      1.000000                1.000000            1.000000   \n",
       "50%        0.000000      1.000000                1.000000            1.000000   \n",
       "75%        1.000000      1.000000                2.000000            1.000000   \n",
       "max        1.000000      1.000000                2.000000            1.000000   \n",
       "\n",
       "             Result  \n",
       "count  11055.000000  \n",
       "mean       0.556943  \n",
       "std        0.496769  \n",
       "min        0.000000  \n",
       "25%        0.000000  \n",
       "50%        1.000000  \n",
       "75%        1.000000  \n",
       "max        1.000000  \n",
       "\n",
       "[8 rows x 31 columns]"
      ]
     },
     "execution_count": 12,
     "metadata": {},
     "output_type": "execute_result"
    }
   ],
   "source": [
    "data.describe()"
   ]
  },
  {
   "cell_type": "markdown",
   "id": "bd94ecb3",
   "metadata": {},
   "source": [
    "## Visualizing distribution and ouliers in the data"
   ]
  },
  {
   "cell_type": "code",
   "execution_count": 13,
   "id": "05db2532",
   "metadata": {
    "scrolled": true
   },
   "outputs": [
    {
     "data": {
      "image/png": "[encoded data removed]",
      "text/plain": [
       "<Figure size 1440x1080 with 30 Axes>"
      ]
     },
     "metadata": {
      "needs_background": "light"
     },
     "output_type": "display_data"
    }
   ],
   "source": [
    "data.iloc[:,:-1].hist(figsize=(20, 15))\n",
    "plt.show()"
   ]
  },
  {
   "cell_type": "code",
   "execution_count": 14,
   "id": "b99d3e57",
   "metadata": {
    "scrolled": true
   },
   "outputs": [
    {
     "data": {
      "image/png": "[encoded data removed]",
      "text/plain": [
       "<Figure size 288x216 with 1 Axes>"
      ]
     },
     "metadata": {
      "needs_background": "light"
     },
     "output_type": "display_data"
    },
    {
     "data": {
      "image/png": "[encoded data removed]",
      "text/plain": [
       "<Figure size 288x216 with 1 Axes>"
      ]
     },
     "metadata": {
      "needs_background": "light"
     },
     "output_type": "display_data"
    },
    {
     "data": {
      "image/png": "[encoded data removed]",
      "text/plain": [
       "<Figure size 288x216 with 1 Axes>"
      ]
     },
     "metadata": {
      "needs_background": "light"
     },
     "output_type": "display_data"
    },
    {
     "data": {
      "image/png": "[encoded data removed]",
      "text/plain": [
       "<Figure size 288x216 with 1 Axes>"
      ]
     },
     "metadata": {
      "needs_background": "light"
     },
     "output_type": "display_data"
    },
    {
     "data": {
      "image/png": "[encoded data removed]",
      "text/plain": [
       "<Figure size 288x216 with 1 Axes>"
      ]
     },
     "metadata": {
      "needs_background": "light"
     },
     "output_type": "display_data"
    },
    {
     "data": {
      "image/png": "[encoded data removed]",
      "text/plain": [
       "<Figure size 288x216 with 1 Axes>"
      ]
     },
     "metadata": {
      "needs_background": "light"
     },
     "output_type": "display_data"
    },
    {
     "data": {
      "image/png": "[encoded data removed]",
      "text/plain": [
       "<Figure size 288x216 with 1 Axes>"
      ]
     },
     "metadata": {
      "needs_background": "light"
     },
     "output_type": "display_data"
    },
    {
     "data": {
      "image/png": "[encoded data removed]",
      "text/plain": [
       "<Figure size 288x216 with 1 Axes>"
      ]
     },
     "metadata": {
      "needs_background": "light"
     },
     "output_type": "display_data"
    },
    {
     "data": {
      "image/png": "[encoded data removed]",
      "text/plain": [
       "<Figure size 288x216 with 1 Axes>"
      ]
     },
     "metadata": {
      "needs_background": "light"
     },
     "output_type": "display_data"
    },
    {
     "data": {
      "image/png": "[encoded data removed]",
      "text/plain": [
       "<Figure size 288x216 with 1 Axes>"
      ]
     },
     "metadata": {
      "needs_background": "light"
     },
     "output_type": "display_data"
    },
    {
     "data": {
      "image/png": "[encoded data removed]",
      "text/plain": [
       "<Figure size 288x216 with 1 Axes>"
      ]
     },
     "metadata": {
      "needs_background": "light"
     },
     "output_type": "display_data"
    },
    {
     "data": {
      "image/png": "[encoded data removed]",
      "text/plain": [
       "<Figure size 288x216 with 1 Axes>"
      ]
     },
     "metadata": {
      "needs_background": "light"
     },
     "output_type": "display_data"
    },
    {
     "data": {
      "image/png": "[encoded data removed]",
      "text/plain": [
       "<Figure size 288x216 with 1 Axes>"
      ]
     },
     "metadata": {
      "needs_background": "light"
     },
     "output_type": "display_data"
    },
    {
     "data": {
      "image/png": "[encoded data removed]",
      "text/plain": [
       "<Figure size 288x216 with 1 Axes>"
      ]
     },
     "metadata": {
      "needs_background": "light"
     },
     "output_type": "display_data"
    },
    {
     "data": {
      "image/png": "[encoded data removed]",
      "text/plain": [
       "<Figure size 288x216 with 1 Axes>"
      ]
     },
     "metadata": {
      "needs_background": "light"
     },
     "output_type": "display_data"
    },
    {
     "data": {
      "image/png": "[encoded data removed]",
      "text/plain": [
       "<Figure size 288x216 with 1 Axes>"
      ]
     },
     "metadata": {
      "needs_background": "light"
     },
     "output_type": "display_data"
    },
    {
     "data": {
      "image/png": "[encoded data removed]",
      "text/plain": [
       "<Figure size 288x216 with 1 Axes>"
      ]
     },
     "metadata": {
      "needs_background": "light"
     },
     "output_type": "display_data"
    },
    {
     "data": {
      "image/png": "[encoded data removed]",
      "text/plain": [
       "<Figure size 288x216 with 1 Axes>"
      ]
     },
     "metadata": {
      "needs_background": "light"
     },
     "output_type": "display_data"
    },
    {
     "data": {
      "image/png": "[encoded data removed]",
      "text/plain": [
       "<Figure size 288x216 with 1 Axes>"
      ]
     },
     "metadata": {
      "needs_background": "light"
     },
     "output_type": "display_data"
    },
    {
     "data": {
      "image/png": "[encoded data removed]",
      "text/plain": [
       "<Figure size 288x216 with 1 Axes>"
      ]
     },
     "metadata": {
      "needs_background": "light"
     },
     "output_type": "display_data"
    },
    {
     "data": {
      "image/png": "[encoded data removed]",
      "text/plain": [
       "<Figure size 288x216 with 1 Axes>"
      ]
     },
     "metadata": {
      "needs_background": "light"
     },
     "output_type": "display_data"
    },
    {
     "data": {
      "image/png": "[encoded data removed]",
      "text/plain": [
       "<Figure size 288x216 with 1 Axes>"
      ]
     },
     "metadata": {
      "needs_background": "light"
     },
     "output_type": "display_data"
    },
    {
     "data": {
      "image/png": "[encoded data removed]",
      "text/plain": [
       "<Figure size 288x216 with 1 Axes>"
      ]
     },
     "metadata": {
      "needs_background": "light"
     },
     "output_type": "display_data"
    },
    {
     "data": {
      "image/png": "[encoded data removed]",
      "text/plain": [
       "<Figure size 288x216 with 1 Axes>"
      ]
     },
     "metadata": {
      "needs_background": "light"
     },
     "output_type": "display_data"
    },
    {
     "data": {
      "image/png": "[encoded data removed]",
      "text/plain": [
       "<Figure size 288x216 with 1 Axes>"
      ]
     },
     "metadata": {
      "needs_background": "light"
     },
     "output_type": "display_data"
    },
    {
     "data": {
      "image/png": "[encoded data removed]",
      "text/plain": [
       "<Figure size 288x216 with 1 Axes>"
      ]
     },
     "metadata": {
      "needs_background": "light"
     },
     "output_type": "display_data"
    },
    {
     "data": {
      "image/png": "[encoded data removed]",
      "text/plain": [
       "<Figure size 288x216 with 1 Axes>"
      ]
     },
     "metadata": {
      "needs_background": "light"
     },
     "output_type": "display_data"
    },
    {
     "data": {
      "image/png": "[encoded data removed]",
      "text/plain": [
       "<Figure size 288x216 with 1 Axes>"
      ]
     },
     "metadata": {
      "needs_background": "light"
     },
     "output_type": "display_data"
    },
    {
     "data": {
      "image/png": "[encoded data removed]",
      "text/plain": [
       "<Figure size 288x216 with 1 Axes>"
      ]
     },
     "metadata": {
      "needs_background": "light"
     },
     "output_type": "display_data"
    },
    {
     "data": {
      "image/png": "[encoded data removed]",
      "text/plain": [
       "<Figure size 288x216 with 1 Axes>"
      ]
     },
     "metadata": {
      "needs_background": "light"
     },
     "output_type": "display_data"
    },
    {
     "data": {
      "image/png": "[encoded data removed]",
      "text/plain": [
       "<Figure size 288x216 with 1 Axes>"
      ]
     },
     "metadata": {
      "needs_background": "light"
     },
     "output_type": "display_data"
    }
   ],
   "source": [
    "for i in data.columns:\n",
    "    if i==\"Results\":\n",
    "        break\n",
    "    plt.figure(figsize=(4,3))\n",
    "    ax = sns.boxplot(x=data[i],palette=\"cool\")\n",
    "    ax.set_xlabel(i,fontsize=10)\n",
    "    plt.show()"
   ]
  },
  {
   "cell_type": "code",
   "execution_count": 15,
   "id": "4d0f96bf",
   "metadata": {},
   "outputs": [],
   "source": [
    "## Splitting the dataset to x and y\n",
    "X=data.iloc[:,:-1]\n",
    "Y=data['Result']"
   ]
  },
  {
   "cell_type": "markdown",
   "id": "c8a15b36",
   "metadata": {},
   "source": [
    "## Comparing between Outlier detection methods"
   ]
  },
  {
   "cell_type": "code",
   "execution_count": 16,
   "id": "b607c336",
   "metadata": {},
   "outputs": [
    {
     "name": "stdout",
     "output_type": "stream",
     "text": [
      "0.1: Number of detected outliers is 1106\n",
      "0.2: Number of detected outliers is 2211\n",
      "0.3: Number of detected outliers is 3317\n",
      "0.4: Number of detected outliers is 4423\n"
     ]
    }
   ],
   "source": [
    "for x in [0.1,0.2,0.3,0.4]:\n",
    "    Gaussian =  EllipticEnvelope(contamination=x)\n",
    "    result=Gaussian.fit_predict(X)\n",
    "    Outliers=X[result==-1]\n",
    "    print(str(x) +\": Number of detected outliers is \" +str(len(Outliers)))"
   ]
  },
  {
   "cell_type": "code",
   "execution_count": 17,
   "id": "673110e1",
   "metadata": {},
   "outputs": [
    {
     "data": {
      "image/png": "[encoded data removed]",
      "text/plain": [
       "<Figure size 576x432 with 1 Axes>"
      ]
     },
     "metadata": {
      "needs_background": "light"
     },
     "output_type": "display_data"
    }
   ],
   "source": [
    "ax=Y[result!=-1].value_counts().plot(kind='bar',color=['red','blue','green','blueviolet','navy'],\n",
    "                                          title='Elliptic envelope',figsize=(8, 6))\n",
    "\n",
    "plt.xticks(range(2),['0', '1'])\n",
    "ax.set_xlabel(\"Classes\",fontsize=16)\n",
    "ax.set_ylabel(\"Phishing\",fontsize=14)\n",
    "plt.show()"
   ]
  },
  {
   "cell_type": "code",
   "execution_count": 18,
   "id": "b3e554f2",
   "metadata": {},
   "outputs": [
    {
     "name": "stdout",
     "output_type": "stream",
     "text": [
      "3: 1905\n",
      "5: 1805\n",
      "7: 1534\n",
      "9: 1018\n",
      "11: 733\n",
      "13: 620\n",
      "15: 618\n",
      "17: 501\n",
      "19: 508\n"
     ]
    }
   ],
   "source": [
    "for x in range(3, 20, 2):\n",
    "    KNN =  LocalOutlierFactor(n_neighbors=x)\n",
    "    result2=KNN.fit_predict(X)\n",
    "    Outliers=X[result2==-1]\n",
    "    print(str(x)+\": \"+str(len(Outliers)))"
   ]
  },
  {
   "cell_type": "code",
   "execution_count": 19,
   "id": "a0264dd7",
   "metadata": {},
   "outputs": [
    {
     "data": {
      "image/png": "[encoded data removed]",
      "text/plain": [
       "<Figure size 576x432 with 1 Axes>"
      ]
     },
     "metadata": {
      "needs_background": "light"
     },
     "output_type": "display_data"
    }
   ],
   "source": [
    "ax=Y[result2!=-1].value_counts().plot(kind='bar',color=['red','blue'],\n",
    "                                          title='Local Outlier Factor',figsize=(8, 6))\n",
    "\n",
    "plt.xticks(range(2),['0', '1'])\n",
    "ax.set_xlabel(\"Classes\",fontsize=16)\n",
    "ax.set_ylabel(\"Phishing\",fontsize=14)\n",
    "plt.show()"
   ]
  },
  {
   "cell_type": "code",
   "execution_count": 20,
   "id": "29c599d0",
   "metadata": {},
   "outputs": [
    {
     "name": "stdout",
     "output_type": "stream",
     "text": [
      "1: Number of detected outliers is  4317\n",
      "3: Number of detected outliers is  4349\n",
      "5: Number of detected outliers is  4054\n",
      "7: Number of detected outliers is  3849\n",
      "9: Number of detected outliers is  4119\n",
      "11: Number of detected outliers is  4027\n",
      "13: Number of detected outliers is  4160\n",
      "15: Number of detected outliers is  4096\n",
      "17: Number of detected outliers is  4078\n",
      "19: Number of detected outliers is  4000\n"
     ]
    }
   ],
   "source": [
    "for x in range(1, 20, 2):\n",
    "    IF =  IsolationForest(n_estimators=x,random_state = 42)\n",
    "    result3=IF.fit_predict(X)\n",
    "    Outliers=X[result3==-1]\n",
    "    print(str(x)+\": Number of detected outliers is \" + ' ' + str(len(Outliers)))"
   ]
  },
  {
   "cell_type": "code",
   "execution_count": 21,
   "id": "4fbd5802",
   "metadata": {},
   "outputs": [
    {
     "data": {
      "image/png": "[encoded data removed]",
      "text/plain": [
       "<Figure size 576x432 with 1 Axes>"
      ]
     },
     "metadata": {
      "needs_background": "light"
     },
     "output_type": "display_data"
    }
   ],
   "source": [
    "ax=Y[result3!=-1].value_counts().plot(kind='bar',color=['red','blue'],\n",
    "                                          title='Isolation Forest',figsize=(8, 6))\n",
    "\n",
    "plt.xticks(range(2),['0', '1'])\n",
    "ax.set_xlabel(\"Classes\",fontsize=16)\n",
    "ax.set_ylabel(\"Phishing\",fontsize=14)\n",
    "plt.show()"
   ]
  },
  {
   "cell_type": "markdown",
   "id": "e475dd2b",
   "metadata": {},
   "source": [
    "### This concludes that we'll be using Local Outlier Factor (KNN) as it has the lowest number of outliers to be dropped. "
   ]
  },
  {
   "cell_type": "code",
   "execution_count": 22,
   "id": "aa4a096e",
   "metadata": {},
   "outputs": [
    {
     "name": "stdout",
     "output_type": "stream",
     "text": [
      "19: 508\n"
     ]
    }
   ],
   "source": [
    "KNN =  LocalOutlierFactor(n_neighbors=19)\n",
    "result2=KNN.fit_predict(X)\n",
    "knn_Outliers=X[result2==-1]\n",
    "print(str(x)+\": \"+str(len(knn_Outliers)))"
   ]
  },
  {
   "cell_type": "code",
   "execution_count": 23,
   "id": "67f3b79d",
   "metadata": {},
   "outputs": [],
   "source": [
    "## Remove the outliers from x_dataset and y_dataset then split them again \n",
    "##############SOL##############\n",
    "newX=X[result2!=-1]\n",
    "newY=Y[result2!=-1]"
   ]
  },
  {
   "cell_type": "code",
   "execution_count": 24,
   "id": "5f535d6d",
   "metadata": {
    "scrolled": true
   },
   "outputs": [
    {
     "data": {
      "text/html": [
       "<div>\n",
       "<style scoped>\n",
       "    .dataframe tbody tr th:only-of-type {\n",
       "        vertical-align: middle;\n",
       "    }\n",
       "\n",
       "    .dataframe tbody tr th {\n",
       "        vertical-align: top;\n",
       "    }\n",
       "\n",
       "    .dataframe thead th {\n",
       "        text-align: right;\n",
       "    }\n",
       "</style>\n",
       "<table border=\"1\" class=\"dataframe\">\n",
       "  <thead>\n",
       "    <tr style=\"text-align: right;\">\n",
       "      <th></th>\n",
       "      <th>having_IP_Address</th>\n",
       "      <th>URL_Length</th>\n",
       "      <th>Shortining_Service</th>\n",
       "      <th>having_At_Symbol</th>\n",
       "      <th>double_slash_redirecting</th>\n",
       "      <th>Prefix_Suffix</th>\n",
       "      <th>having_Sub_Domain</th>\n",
       "      <th>SSLfinal_State</th>\n",
       "      <th>Domain_registeration_length</th>\n",
       "      <th>Favicon</th>\n",
       "      <th>...</th>\n",
       "      <th>RightClick</th>\n",
       "      <th>popUpWidnow</th>\n",
       "      <th>Iframe</th>\n",
       "      <th>age_of_domain</th>\n",
       "      <th>DNSRecord</th>\n",
       "      <th>web_traffic</th>\n",
       "      <th>Page_Rank</th>\n",
       "      <th>Google_Index</th>\n",
       "      <th>Links_pointing_to_page</th>\n",
       "      <th>Statistical_report</th>\n",
       "    </tr>\n",
       "  </thead>\n",
       "  <tbody>\n",
       "    <tr>\n",
       "      <th>count</th>\n",
       "      <td>10547.000000</td>\n",
       "      <td>10547.000000</td>\n",
       "      <td>10547.000000</td>\n",
       "      <td>10547.000000</td>\n",
       "      <td>10547.000000</td>\n",
       "      <td>10547.000000</td>\n",
       "      <td>10547.000000</td>\n",
       "      <td>10547.000000</td>\n",
       "      <td>10547.000000</td>\n",
       "      <td>10547.000000</td>\n",
       "      <td>...</td>\n",
       "      <td>10547.000000</td>\n",
       "      <td>10547.000000</td>\n",
       "      <td>10547.000000</td>\n",
       "      <td>10547.000000</td>\n",
       "      <td>10547.000000</td>\n",
       "      <td>10547.000000</td>\n",
       "      <td>10547.000000</td>\n",
       "      <td>10547.000000</td>\n",
       "      <td>10547.000000</td>\n",
       "      <td>10547.000000</td>\n",
       "    </tr>\n",
       "    <tr>\n",
       "      <th>mean</th>\n",
       "      <td>0.645207</td>\n",
       "      <td>0.377169</td>\n",
       "      <td>0.867640</td>\n",
       "      <td>0.849625</td>\n",
       "      <td>0.868873</td>\n",
       "      <td>0.133024</td>\n",
       "      <td>1.052053</td>\n",
       "      <td>1.224519</td>\n",
       "      <td>0.340571</td>\n",
       "      <td>0.808382</td>\n",
       "      <td>...</td>\n",
       "      <td>0.955912</td>\n",
       "      <td>0.800986</td>\n",
       "      <td>0.905945</td>\n",
       "      <td>0.517872</td>\n",
       "      <td>0.679340</td>\n",
       "      <td>1.267754</td>\n",
       "      <td>0.262255</td>\n",
       "      <td>0.860529</td>\n",
       "      <td>1.363136</td>\n",
       "      <td>0.859581</td>\n",
       "    </tr>\n",
       "    <tr>\n",
       "      <th>std</th>\n",
       "      <td>0.478473</td>\n",
       "      <td>0.775577</td>\n",
       "      <td>0.338898</td>\n",
       "      <td>0.357455</td>\n",
       "      <td>0.337556</td>\n",
       "      <td>0.339616</td>\n",
       "      <td>0.812291</td>\n",
       "      <td>0.916500</td>\n",
       "      <td>0.473924</td>\n",
       "      <td>0.393593</td>\n",
       "      <td>...</td>\n",
       "      <td>0.205301</td>\n",
       "      <td>0.399277</td>\n",
       "      <td>0.291919</td>\n",
       "      <td>0.499704</td>\n",
       "      <td>0.466752</td>\n",
       "      <td>0.831297</td>\n",
       "      <td>0.439881</td>\n",
       "      <td>0.346454</td>\n",
       "      <td>0.568066</td>\n",
       "      <td>0.347438</td>\n",
       "    </tr>\n",
       "    <tr>\n",
       "      <th>min</th>\n",
       "      <td>0.000000</td>\n",
       "      <td>0.000000</td>\n",
       "      <td>0.000000</td>\n",
       "      <td>0.000000</td>\n",
       "      <td>0.000000</td>\n",
       "      <td>0.000000</td>\n",
       "      <td>0.000000</td>\n",
       "      <td>0.000000</td>\n",
       "      <td>0.000000</td>\n",
       "      <td>0.000000</td>\n",
       "      <td>...</td>\n",
       "      <td>0.000000</td>\n",
       "      <td>0.000000</td>\n",
       "      <td>0.000000</td>\n",
       "      <td>0.000000</td>\n",
       "      <td>0.000000</td>\n",
       "      <td>0.000000</td>\n",
       "      <td>0.000000</td>\n",
       "      <td>0.000000</td>\n",
       "      <td>0.000000</td>\n",
       "      <td>0.000000</td>\n",
       "    </tr>\n",
       "    <tr>\n",
       "      <th>25%</th>\n",
       "      <td>0.000000</td>\n",
       "      <td>0.000000</td>\n",
       "      <td>1.000000</td>\n",
       "      <td>1.000000</td>\n",
       "      <td>1.000000</td>\n",
       "      <td>0.000000</td>\n",
       "      <td>0.000000</td>\n",
       "      <td>0.000000</td>\n",
       "      <td>0.000000</td>\n",
       "      <td>1.000000</td>\n",
       "      <td>...</td>\n",
       "      <td>1.000000</td>\n",
       "      <td>1.000000</td>\n",
       "      <td>1.000000</td>\n",
       "      <td>0.000000</td>\n",
       "      <td>0.000000</td>\n",
       "      <td>1.000000</td>\n",
       "      <td>0.000000</td>\n",
       "      <td>1.000000</td>\n",
       "      <td>1.000000</td>\n",
       "      <td>1.000000</td>\n",
       "    </tr>\n",
       "    <tr>\n",
       "      <th>50%</th>\n",
       "      <td>1.000000</td>\n",
       "      <td>0.000000</td>\n",
       "      <td>1.000000</td>\n",
       "      <td>1.000000</td>\n",
       "      <td>1.000000</td>\n",
       "      <td>0.000000</td>\n",
       "      <td>1.000000</td>\n",
       "      <td>2.000000</td>\n",
       "      <td>0.000000</td>\n",
       "      <td>1.000000</td>\n",
       "      <td>...</td>\n",
       "      <td>1.000000</td>\n",
       "      <td>1.000000</td>\n",
       "      <td>1.000000</td>\n",
       "      <td>1.000000</td>\n",
       "      <td>1.000000</td>\n",
       "      <td>2.000000</td>\n",
       "      <td>0.000000</td>\n",
       "      <td>1.000000</td>\n",
       "      <td>1.000000</td>\n",
       "      <td>1.000000</td>\n",
       "    </tr>\n",
       "    <tr>\n",
       "      <th>75%</th>\n",
       "      <td>1.000000</td>\n",
       "      <td>0.000000</td>\n",
       "      <td>1.000000</td>\n",
       "      <td>1.000000</td>\n",
       "      <td>1.000000</td>\n",
       "      <td>0.000000</td>\n",
       "      <td>2.000000</td>\n",
       "      <td>2.000000</td>\n",
       "      <td>1.000000</td>\n",
       "      <td>1.000000</td>\n",
       "      <td>...</td>\n",
       "      <td>1.000000</td>\n",
       "      <td>1.000000</td>\n",
       "      <td>1.000000</td>\n",
       "      <td>1.000000</td>\n",
       "      <td>1.000000</td>\n",
       "      <td>2.000000</td>\n",
       "      <td>1.000000</td>\n",
       "      <td>1.000000</td>\n",
       "      <td>2.000000</td>\n",
       "      <td>1.000000</td>\n",
       "    </tr>\n",
       "    <tr>\n",
       "      <th>max</th>\n",
       "      <td>1.000000</td>\n",
       "      <td>2.000000</td>\n",
       "      <td>1.000000</td>\n",
       "      <td>1.000000</td>\n",
       "      <td>1.000000</td>\n",
       "      <td>1.000000</td>\n",
       "      <td>2.000000</td>\n",
       "      <td>2.000000</td>\n",
       "      <td>1.000000</td>\n",
       "      <td>1.000000</td>\n",
       "      <td>...</td>\n",
       "      <td>1.000000</td>\n",
       "      <td>1.000000</td>\n",
       "      <td>1.000000</td>\n",
       "      <td>1.000000</td>\n",
       "      <td>1.000000</td>\n",
       "      <td>2.000000</td>\n",
       "      <td>1.000000</td>\n",
       "      <td>1.000000</td>\n",
       "      <td>2.000000</td>\n",
       "      <td>1.000000</td>\n",
       "    </tr>\n",
       "  </tbody>\n",
       "</table>\n",
       "<p>8 rows × 30 columns</p>\n",
       "</div>"
      ],
      "text/plain": [
       "       having_IP_Address    URL_Length  Shortining_Service  having_At_Symbol  \\\n",
       "count       10547.000000  10547.000000        10547.000000      10547.000000   \n",
       "mean            0.645207      0.377169            0.867640          0.849625   \n",
       "std             0.478473      0.775577            0.338898          0.357455   \n",
       "min             0.000000      0.000000            0.000000          0.000000   \n",
       "25%             0.000000      0.000000            1.000000          1.000000   \n",
       "50%             1.000000      0.000000            1.000000          1.000000   \n",
       "75%             1.000000      0.000000            1.000000          1.000000   \n",
       "max             1.000000      2.000000            1.000000          1.000000   \n",
       "\n",
       "       double_slash_redirecting  Prefix_Suffix  having_Sub_Domain  \\\n",
       "count              10547.000000   10547.000000       10547.000000   \n",
       "mean                   0.868873       0.133024           1.052053   \n",
       "std                    0.337556       0.339616           0.812291   \n",
       "min                    0.000000       0.000000           0.000000   \n",
       "25%                    1.000000       0.000000           0.000000   \n",
       "50%                    1.000000       0.000000           1.000000   \n",
       "75%                    1.000000       0.000000           2.000000   \n",
       "max                    1.000000       1.000000           2.000000   \n",
       "\n",
       "       SSLfinal_State  Domain_registeration_length       Favicon  ...  \\\n",
       "count    10547.000000                 10547.000000  10547.000000  ...   \n",
       "mean         1.224519                     0.340571      0.808382  ...   \n",
       "std          0.916500                     0.473924      0.393593  ...   \n",
       "min          0.000000                     0.000000      0.000000  ...   \n",
       "25%          0.000000                     0.000000      1.000000  ...   \n",
       "50%          2.000000                     0.000000      1.000000  ...   \n",
       "75%          2.000000                     1.000000      1.000000  ...   \n",
       "max          2.000000                     1.000000      1.000000  ...   \n",
       "\n",
       "         RightClick   popUpWidnow        Iframe  age_of_domain     DNSRecord  \\\n",
       "count  10547.000000  10547.000000  10547.000000   10547.000000  10547.000000   \n",
       "mean       0.955912      0.800986      0.905945       0.517872      0.679340   \n",
       "std        0.205301      0.399277      0.291919       0.499704      0.466752   \n",
       "min        0.000000      0.000000      0.000000       0.000000      0.000000   \n",
       "25%        1.000000      1.000000      1.000000       0.000000      0.000000   \n",
       "50%        1.000000      1.000000      1.000000       1.000000      1.000000   \n",
       "75%        1.000000      1.000000      1.000000       1.000000      1.000000   \n",
       "max        1.000000      1.000000      1.000000       1.000000      1.000000   \n",
       "\n",
       "        web_traffic     Page_Rank  Google_Index  Links_pointing_to_page  \\\n",
       "count  10547.000000  10547.000000  10547.000000            10547.000000   \n",
       "mean       1.267754      0.262255      0.860529                1.363136   \n",
       "std        0.831297      0.439881      0.346454                0.568066   \n",
       "min        0.000000      0.000000      0.000000                0.000000   \n",
       "25%        1.000000      0.000000      1.000000                1.000000   \n",
       "50%        2.000000      0.000000      1.000000                1.000000   \n",
       "75%        2.000000      1.000000      1.000000                2.000000   \n",
       "max        2.000000      1.000000      1.000000                2.000000   \n",
       "\n",
       "       Statistical_report  \n",
       "count        10547.000000  \n",
       "mean             0.859581  \n",
       "std              0.347438  \n",
       "min              0.000000  \n",
       "25%              1.000000  \n",
       "50%              1.000000  \n",
       "75%              1.000000  \n",
       "max              1.000000  \n",
       "\n",
       "[8 rows x 30 columns]"
      ]
     },
     "execution_count": 24,
     "metadata": {},
     "output_type": "execute_result"
    }
   ],
   "source": [
    "newX.describe()"
   ]
  },
  {
   "cell_type": "markdown",
   "id": "3e2063e4",
   "metadata": {},
   "source": [
    "The minimum and max ranges from [0:2] or [0:1] so the scalling of the data is not needed"
   ]
  },
  {
   "cell_type": "markdown",
   "id": "d2a05140",
   "metadata": {},
   "source": [
    "# Daniel"
   ]
  },
  {
   "cell_type": "markdown",
   "id": "39d314e6",
   "metadata": {},
   "source": [
    "### 0. A function that turns train-test split variables into numpy for the bias/variance comparisons later on"
   ]
  },
  {
   "cell_type": "code",
   "execution_count": 25,
   "id": "a2d11b1c",
   "metadata": {},
   "outputs": [],
   "source": [
    "def turnto(x_train, x_test, y_train, y_test):\n",
    "    x_train=x_train.to_numpy()\n",
    "    x_test=x_test.to_numpy()\n",
    "    y_train=y_train.to_numpy()\n",
    "    y_test=y_test.to_numpy()\n",
    "    return x_train,x_test, y_train, y_test"
   ]
  },
  {
   "cell_type": "markdown",
   "id": "a95016c9",
   "metadata": {},
   "source": [
    "### 1. Indivdual Model Training and Testing Before Data Resampling"
   ]
  },
  {
   "cell_type": "markdown",
   "id": "20a14b5c",
   "metadata": {},
   "source": [
    "#### 1.1 Random Forest"
   ]
  },
  {
   "cell_type": "code",
   "execution_count": 26,
   "id": "6afb86eb",
   "metadata": {},
   "outputs": [],
   "source": [
    "# Train-Test Split\n",
    "\n",
    "x_train, x_test, y_train, y_test = train_test_split(newX, newY, test_size=0.3,random_state=42)"
   ]
  },
  {
   "cell_type": "code",
   "execution_count": 27,
   "id": "890f76af",
   "metadata": {},
   "outputs": [],
   "source": [
    "from sklearn.ensemble import RandomForestClassifier\n",
    "from sklearn import metrics"
   ]
  },
  {
   "cell_type": "markdown",
   "id": "9f2fe4f9",
   "metadata": {},
   "source": [
    "#### Since the Dataset is unbalanced, and has not been resampled yet, f-score will be used as the metric to measure the model's performance"
   ]
  },
  {
   "cell_type": "code",
   "execution_count": 28,
   "id": "738955d0",
   "metadata": {},
   "outputs": [
    {
     "data": {
      "text/plain": [
       "Text(0, 0.5, 'Testing F-Score')"
      ]
     },
     "execution_count": 28,
     "metadata": {},
     "output_type": "execute_result"
    },
    {
     "data": {
      "image/png": "[encoded data removed]",
      "text/plain": [
       "<Figure size 432x288 with 1 Axes>"
      ]
     },
     "metadata": {
      "needs_background": "light"
     },
     "output_type": "display_data"
    }
   ],
   "source": [
    "rf_range = range(100, 1500, 100)\n",
    "scores = []\n",
    "for est in rf_range:\n",
    "    rnd_clf = RandomForestClassifier(n_estimators=est, max_leaf_nodes=16, n_jobs=-1, random_state=42)\n",
    "    rnd_clf.fit(x_train, y_train)\n",
    "    y_pred = rnd_clf.predict(x_test)\n",
    "    scores.append(metrics.f1_score(y_test, y_pred))\n",
    "\n",
    "plt.plot(rf_range, scores)\n",
    "plt.xlabel('Value of estimator count for rf')\n",
    "plt.ylabel('Testing F-Score')"
   ]
  },
  {
   "cell_type": "markdown",
   "id": "1ef7bd70",
   "metadata": {},
   "source": [
    "#### It seems that the most optimal number of estimators is 800"
   ]
  },
  {
   "cell_type": "code",
   "execution_count": 29,
   "id": "db0c18a9",
   "metadata": {},
   "outputs": [
    {
     "data": {
      "text/plain": [
       "Text(0, 0.5, 'Testing F-Score')"
      ]
     },
     "execution_count": 29,
     "metadata": {},
     "output_type": "execute_result"
    },
    {
     "data": {
      "image/png": "[encoded data removed]",
      "text/plain": [
       "<Figure size 432x288 with 1 Axes>"
      ]
     },
     "metadata": {
      "needs_background": "light"
     },
     "output_type": "display_data"
    }
   ],
   "source": [
    "ln_range = range(10, 600, 50)\n",
    "scores = []\n",
    "for ln in ln_range:\n",
    "    rnd_clf = RandomForestClassifier(n_estimators=800, max_leaf_nodes=ln, n_jobs=-1, random_state=42)\n",
    "    rnd_clf.fit(x_train, y_train)\n",
    "    y_pred = rnd_clf.predict(x_test)\n",
    "    scores.append(metrics.f1_score(y_test, y_pred))\n",
    "\n",
    "plt.plot(ln_range, scores)\n",
    "plt.xlabel('Value of estimator count for rf')\n",
    "plt.ylabel('Testing F-Score')"
   ]
  },
  {
   "cell_type": "markdown",
   "id": "50495cb4",
   "metadata": {},
   "source": [
    "#### Model performance plateaus at 400 leaf nodes."
   ]
  },
  {
   "cell_type": "code",
   "execution_count": 30,
   "id": "5f201100",
   "metadata": {},
   "outputs": [],
   "source": [
    "rf_opt_est = 800\n",
    "\n",
    "rf_opt_ln = 400"
   ]
  },
  {
   "cell_type": "markdown",
   "id": "50aeaa18",
   "metadata": {},
   "source": [
    "#### 1.2 Model Training"
   ]
  },
  {
   "cell_type": "code",
   "execution_count": 31,
   "id": "0ce4891d",
   "metadata": {},
   "outputs": [],
   "source": [
    "from sklearn.ensemble import RandomForestClassifier\n",
    "\n",
    "rnd_clf_ns_nfs = RandomForestClassifier(n_estimators=rf_opt_est, max_leaf_nodes=rf_opt_ln, n_jobs=-1, random_state=42)\n",
    "rnd_clf_ns_nfs.fit(x_train, y_train)\n",
    "\n",
    "y_pred_rf_ns_nfs = rnd_clf.predict(x_test)"
   ]
  },
  {
   "cell_type": "markdown",
   "id": "79a46fb0",
   "metadata": {},
   "source": [
    "#### 1.3 Model Testing"
   ]
  },
  {
   "cell_type": "markdown",
   "id": "32827b62",
   "metadata": {},
   "source": [
    "#### Accuracy and Classification Report (F1-Score)"
   ]
  },
  {
   "cell_type": "code",
   "execution_count": 32,
   "id": "083ac898",
   "metadata": {
    "scrolled": true
   },
   "outputs": [
    {
     "name": "stdout",
     "output_type": "stream",
     "text": [
      "Random Forest Accuracy =  0.9737756714060032\n",
      "Random Forest F-Score =  0.9759907434191495\n",
      "Random Forest Classification Report = \n",
      "                precision    recall  f1-score   support\n",
      "\n",
      "           0       0.98      0.97      0.97      1445\n",
      "           1       0.97      0.98      0.98      1720\n",
      "\n",
      "    accuracy                           0.97      3165\n",
      "   macro avg       0.97      0.97      0.97      3165\n",
      "weighted avg       0.97      0.97      0.97      3165\n",
      "\n"
     ]
    }
   ],
   "source": [
    "print(\"Random Forest Accuracy = \",metrics.accuracy_score(y_test, y_pred_rf_ns_nfs))\n",
    "print(\"Random Forest F-Score = \",metrics.f1_score(y_test, y_pred_rf_ns_nfs))\n",
    "print(\"Random Forest Classification Report = \\n \",  metrics.classification_report(y_test,y_pred_rf_ns_nfs))"
   ]
  },
  {
   "cell_type": "markdown",
   "id": "60be92c8",
   "metadata": {},
   "source": [
    "#### Accuracy and F1-Score both reached 97%"
   ]
  },
  {
   "cell_type": "markdown",
   "id": "d2d25d98",
   "metadata": {},
   "source": [
    "#### ROC Curve"
   ]
  },
  {
   "cell_type": "code",
   "execution_count": 33,
   "id": "a86866c7",
   "metadata": {
    "scrolled": true
   },
   "outputs": [
    {
     "data": {
      "image/png": "[encoded data removed]",
      "text/plain": [
       "<Figure size 432x288 with 1 Axes>"
      ]
     },
     "metadata": {
      "needs_background": "light"
     },
     "output_type": "display_data"
    }
   ],
   "source": [
    "from sklearn.metrics import RocCurveDisplay\n",
    "RocCurveDisplay.from_estimator(rnd_clf_ns_nfs, x_test, y_test)\n",
    "plt.show()"
   ]
  },
  {
   "cell_type": "markdown",
   "id": "f008e481",
   "metadata": {},
   "source": [
    "#### The model is very capable of distinguishing between the two classes as indicated by the ROC  Curve (Confusion Matrix needs to be examined to see the False Negative Values)"
   ]
  },
  {
   "cell_type": "markdown",
   "id": "b9e4520c",
   "metadata": {},
   "source": [
    "#### Confusion Matrix"
   ]
  },
  {
   "cell_type": "code",
   "execution_count": 34,
   "id": "f1c009fa",
   "metadata": {},
   "outputs": [
    {
     "data": {
      "text/plain": [
       "<sklearn.metrics._plot.confusion_matrix.ConfusionMatrixDisplay at 0x23f4328c790>"
      ]
     },
     "execution_count": 34,
     "metadata": {},
     "output_type": "execute_result"
    },
    {
     "data": {
      "image/png": "[encoded data removed]",
      "text/plain": [
       "<Figure size 432x288 with 2 Axes>"
      ]
     },
     "metadata": {
      "needs_background": "light"
     },
     "output_type": "display_data"
    }
   ],
   "source": [
    "from sklearn.metrics import ConfusionMatrixDisplay\n",
    "\n",
    "ConfusionMatrixDisplay.from_estimator(rnd_clf_ns_nfs, x_test, y_test)"
   ]
  },
  {
   "cell_type": "markdown",
   "id": "5b7e5853",
   "metadata": {},
   "source": [
    "#### False Negatives predicted count are lower than the False Positive ones, which indicate that the model is more likely to classify positive values as negative (safe websites are classified as phishing sites), rather than the opposite.\n",
    "\n",
    "#### In the case of phishing websites, this is better than the opposite case as it is better to classify wrongly classify safe sites as phishing sites rather than having phishing sites being classified as safe. When it comes to security, it is usually better to be safe than sorry."
   ]
  },
  {
   "cell_type": "markdown",
   "id": "f16f43b7",
   "metadata": {},
   "source": [
    "#### Learning Curve"
   ]
  },
  {
   "cell_type": "code",
   "execution_count": 35,
   "id": "961d221f",
   "metadata": {},
   "outputs": [
    {
     "data": {
      "image/png": "[encoded data removed]",
      "text/plain": [
       "<Figure size 432x288 with 1 Axes>"
      ]
     },
     "metadata": {
      "needs_background": "light"
     },
     "output_type": "display_data"
    }
   ],
   "source": [
    "from sklearn.model_selection import learning_curve\n",
    "\n",
    "train_sizes_model, train_scores_model, valid_scores_model, *_ =learning_curve(rnd_clf_ns_nfs, newX, newY,cv=6,\n",
    "                    scoring='accuracy',n_jobs=-1)\n",
    "fig=plt.figure()\n",
    "ax=fig.add_axes([0,0,1,1])\n",
    "ax.scatter(x=train_sizes_model,y= train_scores_model.mean(axis=1), color='b')\n",
    "ax.scatter(x=train_sizes_model,y=valid_scores_model.mean(axis=1), color='r')\n",
    "ax.plot(train_sizes_model,train_scores_model.mean(axis=1), color='b')\n",
    "ax.plot(train_sizes_model,valid_scores_model.mean(axis=1), color='r')\n",
    "ax.set_xlabel('Training in blue, Testing in red')\n",
    "ax.set_ylabel('Accuracy')\n",
    "ax.set_title('Learning Curve')\n",
    "plt.show()"
   ]
  },
  {
   "cell_type": "markdown",
   "id": "8fa4365a",
   "metadata": {},
   "source": [
    "#### Random Forest with no sampling, and no feature Selection Learning Curve"
   ]
  },
  {
   "cell_type": "code",
   "execution_count": 36,
   "id": "33a2399b",
   "metadata": {},
   "outputs": [
    {
     "name": "stdout",
     "output_type": "stream",
     "text": [
      "MSE: 0.032\n",
      "Bias: 0.023\n",
      "Variance: 0.009\n"
     ]
    }
   ],
   "source": [
    "from mlxtend.evaluate import bias_variance_decomp\n",
    "#turning pandas df and pandas series into numpy arrays\n",
    "x_train_new,x_test_new,y_train_new,y_test_new = turnto(x_train,x_test,y_train,y_test)\n",
    "#bias/variance\n",
    "mse, bias, var = bias_variance_decomp\\\n",
    "(rnd_clf_ns_nfs, x_train_new, y_train_new, x_test_new, y_test_new, loss='mse', num_rounds=20, random_seed=42)\n",
    "\n",
    "#values\n",
    "\n",
    "print('MSE: %.3f' % mse)\n",
    "print('Bias: %.3f' % bias)\n",
    "print('Variance: %.3f' % var)"
   ]
  },
  {
   "cell_type": "markdown",
   "id": "b2c9133a",
   "metadata": {},
   "source": [
    "#### The model converges at 97% accuracy, with lower variance, and a low bias (bias is expected to be higher than variance, but both overall are low)"
   ]
  },
  {
   "cell_type": "markdown",
   "id": "e8c1b93c",
   "metadata": {},
   "source": [
    "##### Small Side note: mse and 0-1 loss loss functions achieve the same scores, so mse was standardized in the project"
   ]
  },
  {
   "cell_type": "markdown",
   "id": "c0b0fd51",
   "metadata": {},
   "source": [
    "## Data Resampling Techniques"
   ]
  },
  {
   "cell_type": "markdown",
   "id": "d3c83205",
   "metadata": {},
   "source": [
    "### 1. Random Oversampling"
   ]
  },
  {
   "cell_type": "code",
   "execution_count": 37,
   "id": "da23342f",
   "metadata": {},
   "outputs": [],
   "source": [
    "Random_Oversampler = RandomOverSampler(random_state=42)\n",
    "ro_x,ro_y=Random_Oversampler.fit_resample(newX, newY)"
   ]
  },
  {
   "cell_type": "code",
   "execution_count": 38,
   "id": "9760abfc",
   "metadata": {},
   "outputs": [
    {
     "data": {
      "image/png": "[encoded data removed]",
      "text/plain": [
       "<Figure size 576x432 with 1 Axes>"
      ]
     },
     "metadata": {
      "needs_background": "light"
     },
     "output_type": "display_data"
    }
   ],
   "source": [
    "ax=pd.DataFrame(ro_y,columns=['Result'])['Result'].value_counts().plot(kind='bar',color=['blueviolet','navy'],\n",
    "                                          title='People Category',figsize=(8, 6))\n",
    "\n",
    "plt.xticks(range(2),['0','1'])\n",
    "ax.set_xlabel(\"Category\",fontsize=16)\n",
    "ax.set_ylabel(\"Number of peoples\",fontsize=14)\n",
    "plt.show()"
   ]
  },
  {
   "cell_type": "code",
   "execution_count": 39,
   "id": "8d15b2c6",
   "metadata": {},
   "outputs": [],
   "source": [
    "x_train, x_test, y_train, y_test = train_test_split(ro_x, ro_y,stratify=ro_y, test_size=0.3,random_state=42)"
   ]
  },
  {
   "cell_type": "markdown",
   "id": "de66624f",
   "metadata": {},
   "source": [
    "### Model Training"
   ]
  },
  {
   "cell_type": "code",
   "execution_count": 40,
   "id": "a2c0b361",
   "metadata": {},
   "outputs": [],
   "source": [
    "rnd_clf_ro = RandomForestClassifier(n_estimators=rf_opt_est, max_leaf_nodes=rf_opt_ln, n_jobs=-1, random_state=42)\n",
    "rnd_clf_ro.fit(x_train, y_train)\n",
    "\n",
    "y_pred_rf_ro_nfs = rnd_clf_ro.predict(x_test)"
   ]
  },
  {
   "cell_type": "markdown",
   "id": "0e94f620",
   "metadata": {},
   "source": [
    "### Model Testing"
   ]
  },
  {
   "cell_type": "code",
   "execution_count": 41,
   "id": "0c34c01f",
   "metadata": {},
   "outputs": [
    {
     "name": "stdout",
     "output_type": "stream",
     "text": [
      "Random Forest Accuracy =  0.9736231884057971\n",
      "Random Forest F-Score =  0.973554199360651\n",
      "Random Forest Classification Report = \n",
      "                precision    recall  f1-score   support\n",
      "\n",
      "           0       0.97      0.98      0.97      1725\n",
      "           1       0.98      0.97      0.97      1725\n",
      "\n",
      "    accuracy                           0.97      3450\n",
      "   macro avg       0.97      0.97      0.97      3450\n",
      "weighted avg       0.97      0.97      0.97      3450\n",
      "\n"
     ]
    }
   ],
   "source": [
    "print(\"Random Forest Accuracy = \",metrics.accuracy_score(y_test, y_pred_rf_ro_nfs))\n",
    "print(\"Random Forest F-Score = \",metrics.f1_score(y_test, y_pred_rf_ro_nfs))\n",
    "print(\"Random Forest Classification Report = \\n \",  metrics.classification_report(y_test,y_pred_rf_ro_nfs))"
   ]
  },
  {
   "cell_type": "code",
   "execution_count": 42,
   "id": "63240fdf",
   "metadata": {},
   "outputs": [
    {
     "data": {
      "image/png": "[encoded data removed]",
      "text/plain": [
       "<Figure size 432x288 with 1 Axes>"
      ]
     },
     "metadata": {
      "needs_background": "light"
     },
     "output_type": "display_data"
    }
   ],
   "source": [
    "from sklearn.metrics import RocCurveDisplay\n",
    "RocCurveDisplay.from_estimator(rnd_clf_ro, x_test, y_test)\n",
    "plt.show()"
   ]
  },
  {
   "cell_type": "code",
   "execution_count": 43,
   "id": "b304cc00",
   "metadata": {},
   "outputs": [
    {
     "data": {
      "text/plain": [
       "<sklearn.metrics._plot.confusion_matrix.ConfusionMatrixDisplay at 0x23f44b3a790>"
      ]
     },
     "execution_count": 43,
     "metadata": {},
     "output_type": "execute_result"
    },
    {
     "data": {
      "image/png": "[encoded data removed]",
      "text/plain": [
       "<Figure size 432x288 with 2 Axes>"
      ]
     },
     "metadata": {
      "needs_background": "light"
     },
     "output_type": "display_data"
    }
   ],
   "source": [
    "from sklearn.metrics import ConfusionMatrixDisplay\n",
    "\n",
    "ConfusionMatrixDisplay.from_estimator(rnd_clf_ro, x_test, y_test)"
   ]
  },
  {
   "cell_type": "markdown",
   "id": "87324d74",
   "metadata": {},
   "source": [
    "### According to the confusion matrix, the model was able to classify more False Negatives than False Positives, which indicate that the model is not able to keep a \"better safe than sorry\" approach, which is heavily favoured over the alternative, especially in this domain (internet security)"
   ]
  },
  {
   "cell_type": "code",
   "execution_count": 44,
   "id": "44c66a2a",
   "metadata": {},
   "outputs": [
    {
     "data": {
      "image/png": "[encoded data removed]",
      "text/plain": [
       "<Figure size 432x288 with 1 Axes>"
      ]
     },
     "metadata": {
      "needs_background": "light"
     },
     "output_type": "display_data"
    }
   ],
   "source": [
    "from sklearn.model_selection import learning_curve\n",
    "\n",
    "train_sizes_model, train_scores_model, valid_scores_model, *_ =learning_curve(rnd_clf_ro, ro_x, ro_y,cv=6,\n",
    "                    scoring='accuracy',n_jobs=-1)\n",
    "fig=plt.figure()\n",
    "ax=fig.add_axes([0,0,1,1])\n",
    "ax.scatter(x=train_sizes_model,y= train_scores_model.mean(axis=1), color='b')\n",
    "ax.scatter(x=train_sizes_model,y=valid_scores_model.mean(axis=1), color='r')\n",
    "ax.plot(train_sizes_model,train_scores_model.mean(axis=1), color='b')\n",
    "ax.plot(train_sizes_model,valid_scores_model.mean(axis=1), color='r')\n",
    "ax.set_xlabel('Training in blue, Testing in red')\n",
    "ax.set_ylabel('Accuracy')\n",
    "ax.set_title('Learning Curve')\n",
    "plt.show()"
   ]
  },
  {
   "cell_type": "markdown",
   "id": "e4fdbf43",
   "metadata": {},
   "source": [
    "#### Random Forest with random oversampling, and no feature selection learning curve"
   ]
  },
  {
   "cell_type": "code",
   "execution_count": 45,
   "id": "07b4e4cf",
   "metadata": {},
   "outputs": [
    {
     "name": "stdout",
     "output_type": "stream",
     "text": [
      "MSE: 0.029\n",
      "Bias: 0.020\n",
      "Variance: 0.009\n"
     ]
    }
   ],
   "source": [
    "from mlxtend.evaluate import bias_variance_decomp\n",
    "#turning pandas df and pandas series into numpy arrays\n",
    "x_train_new,x_test_new,y_train_new,y_test_new = turnto(x_train,x_test,y_train,y_test)\n",
    "#bias/variance\n",
    "mse, bias, var = bias_variance_decomp\\\n",
    "(rnd_clf_ro, x_train_new, y_train_new, x_test_new, y_test_new, loss='mse', num_rounds=20, random_seed=42)\n",
    "\n",
    "#values\n",
    "\n",
    "print('MSE: %.3f' % mse)\n",
    "print('Bias: %.3f' % bias)\n",
    "print('Variance: %.3f' % var)"
   ]
  },
  {
   "cell_type": "markdown",
   "id": "e596766b",
   "metadata": {},
   "source": [
    "#### Model converged at 97% with lower variance, and low bias"
   ]
  },
  {
   "cell_type": "markdown",
   "id": "c4d291c9",
   "metadata": {},
   "source": [
    "### 2. Undersampling"
   ]
  },
  {
   "cell_type": "code",
   "execution_count": 46,
   "id": "6eb52c04",
   "metadata": {},
   "outputs": [],
   "source": [
    "Random_UnderSampler = RandomUnderSampler(random_state=42)\n",
    "ru_x,ru_y=Random_UnderSampler.fit_resample(newX, newY)"
   ]
  },
  {
   "cell_type": "markdown",
   "id": "fccbb5b9",
   "metadata": {},
   "source": [
    "#### 1. Model Training"
   ]
  },
  {
   "cell_type": "code",
   "execution_count": 47,
   "id": "27958c73",
   "metadata": {},
   "outputs": [],
   "source": [
    "rnd_clf_ru = RandomForestClassifier(n_estimators=rf_opt_est, max_leaf_nodes=rf_opt_ln, n_jobs=-1, random_state=42)\n",
    "rnd_clf_ru.fit(x_train, y_train)\n",
    "\n",
    "y_pred_rf_ru_nfs = rnd_clf_ru.predict(x_test)"
   ]
  },
  {
   "cell_type": "markdown",
   "id": "f45ca44d",
   "metadata": {},
   "source": [
    "#### 2. Model Testing"
   ]
  },
  {
   "cell_type": "code",
   "execution_count": 48,
   "id": "88e9f48e",
   "metadata": {},
   "outputs": [
    {
     "name": "stdout",
     "output_type": "stream",
     "text": [
      "Random Forest Accuracy =  0.9736231884057971\n",
      "Random Forest F-Score =  0.973554199360651\n",
      "Random Forest Classification Report = \n",
      "                precision    recall  f1-score   support\n",
      "\n",
      "           0       0.97      0.98      0.97      1725\n",
      "           1       0.98      0.97      0.97      1725\n",
      "\n",
      "    accuracy                           0.97      3450\n",
      "   macro avg       0.97      0.97      0.97      3450\n",
      "weighted avg       0.97      0.97      0.97      3450\n",
      "\n"
     ]
    }
   ],
   "source": [
    "print(\"Random Forest Accuracy = \",metrics.accuracy_score(y_test, y_pred_rf_ru_nfs))\n",
    "print(\"Random Forest F-Score = \",metrics.f1_score(y_test, y_pred_rf_ru_nfs))\n",
    "print(\"Random Forest Classification Report = \\n \",  metrics.classification_report(y_test,y_pred_rf_ru_nfs))"
   ]
  },
  {
   "cell_type": "code",
   "execution_count": 49,
   "id": "8ff52fcd",
   "metadata": {},
   "outputs": [
    {
     "data": {
      "image/png": "[encoded data removed]",
      "text/plain": [
       "<Figure size 432x288 with 1 Axes>"
      ]
     },
     "metadata": {
      "needs_background": "light"
     },
     "output_type": "display_data"
    }
   ],
   "source": [
    "from sklearn.metrics import RocCurveDisplay\n",
    "RocCurveDisplay.from_estimator(rnd_clf_ru, x_test, y_test)\n",
    "plt.show()"
   ]
  },
  {
   "cell_type": "code",
   "execution_count": 50,
   "id": "164f0014",
   "metadata": {},
   "outputs": [
    {
     "data": {
      "text/plain": [
       "<sklearn.metrics._plot.confusion_matrix.ConfusionMatrixDisplay at 0x23f4267d700>"
      ]
     },
     "execution_count": 50,
     "metadata": {},
     "output_type": "execute_result"
    },
    {
     "data": {
      "image/png": "[encoded data removed]",
      "text/plain": [
       "<Figure size 432x288 with 2 Axes>"
      ]
     },
     "metadata": {
      "needs_background": "light"
     },
     "output_type": "display_data"
    }
   ],
   "source": [
    "from sklearn.metrics import ConfusionMatrixDisplay\n",
    "\n",
    "ConfusionMatrixDisplay.from_estimator(rnd_clf_ru, x_test, y_test)"
   ]
  },
  {
   "cell_type": "markdown",
   "id": "0d7e728d",
   "metadata": {},
   "source": [
    "### Still, less False Positives than False Negatives"
   ]
  },
  {
   "cell_type": "code",
   "execution_count": 51,
   "id": "0a81ba19",
   "metadata": {},
   "outputs": [
    {
     "data": {
      "image/png": "[encoded data removed]",
      "text/plain": [
       "<Figure size 432x288 with 1 Axes>"
      ]
     },
     "metadata": {
      "needs_background": "light"
     },
     "output_type": "display_data"
    }
   ],
   "source": [
    "from sklearn.model_selection import learning_curve\n",
    "\n",
    "train_sizes_model, train_scores_model, valid_scores_model, *_ =learning_curve(rnd_clf_ru, ru_x, ru_y,cv=6,\n",
    "                    scoring='accuracy',n_jobs=-1)\n",
    "fig=plt.figure()\n",
    "ax=fig.add_axes([0,0,1,1])\n",
    "ax.scatter(x=train_sizes_model,y= train_scores_model.mean(axis=1), color='b')\n",
    "ax.scatter(x=train_sizes_model,y=valid_scores_model.mean(axis=1), color='r')\n",
    "ax.plot(train_sizes_model,train_scores_model.mean(axis=1), color='b')\n",
    "ax.plot(train_sizes_model,valid_scores_model.mean(axis=1), color='r')\n",
    "ax.set_xlabel('Training in blue, Testing in red')\n",
    "ax.set_ylabel('Accuracy')\n",
    "ax.set_title('Learning Curve')\n",
    "plt.show()"
   ]
  },
  {
   "cell_type": "markdown",
   "id": "f61ab8d1",
   "metadata": {},
   "source": [
    "#### Random Forest with random undersampling, and no feature Selection Learning Curve"
   ]
  },
  {
   "cell_type": "code",
   "execution_count": 52,
   "id": "2ce6b069",
   "metadata": {},
   "outputs": [
    {
     "name": "stdout",
     "output_type": "stream",
     "text": [
      "MSE: 0.029\n",
      "Bias: 0.020\n",
      "Variance: 0.009\n"
     ]
    }
   ],
   "source": [
    "from mlxtend.evaluate import bias_variance_decomp\n",
    "#turning pandas df and pandas series into numpy arrays\n",
    "x_train_new,x_test_new,y_train_new,y_test_new = turnto(x_train,x_test,y_train,y_test)\n",
    "#bias/variance\n",
    "mse, bias, var = bias_variance_decomp\\\n",
    "(rnd_clf_ru, x_train_new, y_train_new, x_test_new, y_test_new, loss='mse', num_rounds=20, random_seed=42)\n",
    "\n",
    "#values\n",
    "\n",
    "print('MSE: %.3f' % mse)\n",
    "print('Bias: %.3f' % bias)\n",
    "print('Variance: %.3f' % var)"
   ]
  },
  {
   "cell_type": "markdown",
   "id": "513ee176",
   "metadata": {},
   "source": [
    "#### Model converged at 97.3% with low variance, slightly higher bias (both values are considered low, judging by the learning curve)"
   ]
  },
  {
   "cell_type": "markdown",
   "id": "5165642b",
   "metadata": {},
   "source": [
    "### 3. Smote"
   ]
  },
  {
   "cell_type": "markdown",
   "id": "d865635c",
   "metadata": {},
   "source": [
    "The data is imbalanced so we will use SMOTE because other data resampling techniques may result in data loss because they decrease the majority class"
   ]
  },
  {
   "cell_type": "code",
   "execution_count": 53,
   "id": "e2257014",
   "metadata": {
    "scrolled": true
   },
   "outputs": [],
   "source": [
    "oversample = SMOTE(random_state=42)\n",
    "overX,overY=oversample.fit_resample(newX, newY)"
   ]
  },
  {
   "cell_type": "code",
   "execution_count": 54,
   "id": "f67f4196",
   "metadata": {},
   "outputs": [
    {
     "data": {
      "image/png": "[encoded data removed]",
      "text/plain": [
       "<Figure size 576x432 with 1 Axes>"
      ]
     },
     "metadata": {
      "needs_background": "light"
     },
     "output_type": "display_data"
    }
   ],
   "source": [
    "# First over sampling to make all classes equal\n",
    "# As observed after undersampling , the two classes are balanced \n",
    "ax=pd.DataFrame(overY,columns=['Result'])['Result'].value_counts().plot(kind='bar',color=['blueviolet','navy'],\n",
    "                                          title='People Category',figsize=(8, 6))\n",
    "\n",
    "plt.xticks(range(2),['0','1'])\n",
    "ax.set_xlabel(\"Category\",fontsize=16)\n",
    "ax.set_ylabel(\"Number of peoples\",fontsize=14)\n",
    "plt.show()"
   ]
  },
  {
   "cell_type": "code",
   "execution_count": 55,
   "id": "6dd89b36",
   "metadata": {},
   "outputs": [],
   "source": [
    "x_train, x_test, y_train, y_test = train_test_split(overX, overY,stratify=overY, test_size=0.3,random_state=42)"
   ]
  },
  {
   "cell_type": "markdown",
   "id": "293b7f77",
   "metadata": {},
   "source": [
    "### 1. Individual Model Training and Testing"
   ]
  },
  {
   "cell_type": "markdown",
   "id": "a95b0507",
   "metadata": {},
   "source": [
    "#### 1.1 Random Forest"
   ]
  },
  {
   "cell_type": "code",
   "execution_count": 56,
   "id": "3ebabc16",
   "metadata": {},
   "outputs": [],
   "source": [
    "rnd_clf_s_nfs = RandomForestClassifier(n_estimators=rf_opt_est, max_leaf_nodes=rf_opt_ln, n_jobs=-1, random_state=42)\n",
    "rnd_clf_s_nfs.fit(x_train, y_train)\n",
    "\n",
    "y_pred_rf_s_nfs = rnd_clf_s_nfs.predict(x_test)"
   ]
  },
  {
   "cell_type": "markdown",
   "id": "30b31a50",
   "metadata": {},
   "source": [
    "#### Model Testing"
   ]
  },
  {
   "cell_type": "code",
   "execution_count": 57,
   "id": "142f0fc9",
   "metadata": {},
   "outputs": [
    {
     "name": "stdout",
     "output_type": "stream",
     "text": [
      "Random Forest Accuracy =  0.9730434782608696\n",
      "Random Forest F-Score =  0.9730043541364297\n",
      "Random Forest Classification Report = \n",
      "                precision    recall  f1-score   support\n",
      "\n",
      "           0       0.97      0.97      0.97      1725\n",
      "           1       0.97      0.97      0.97      1725\n",
      "\n",
      "    accuracy                           0.97      3450\n",
      "   macro avg       0.97      0.97      0.97      3450\n",
      "weighted avg       0.97      0.97      0.97      3450\n",
      "\n"
     ]
    }
   ],
   "source": [
    "print(\"Random Forest Accuracy = \",metrics.accuracy_score(y_test, y_pred_rf_s_nfs))\n",
    "print(\"Random Forest F-Score = \",metrics.f1_score(y_test, y_pred_rf_s_nfs))\n",
    "print(\"Random Forest Classification Report = \\n \",  metrics.classification_report(y_test,y_pred_rf_s_nfs))"
   ]
  },
  {
   "cell_type": "markdown",
   "id": "b7f8f54c",
   "metadata": {},
   "source": [
    "#### accuracy and f1-score are the exact same after smote..."
   ]
  },
  {
   "cell_type": "code",
   "execution_count": 58,
   "id": "51684ec6",
   "metadata": {},
   "outputs": [
    {
     "data": {
      "image/png": "[encoded data removed]",
      "text/plain": [
       "<Figure size 432x288 with 1 Axes>"
      ]
     },
     "metadata": {
      "needs_background": "light"
     },
     "output_type": "display_data"
    }
   ],
   "source": [
    "RocCurveDisplay.from_estimator(rnd_clf_s_nfs, x_test, y_test)\n",
    "plt.show()"
   ]
  },
  {
   "cell_type": "code",
   "execution_count": 59,
   "id": "2632c424",
   "metadata": {
    "scrolled": true
   },
   "outputs": [
    {
     "data": {
      "text/plain": [
       "<sklearn.metrics._plot.confusion_matrix.ConfusionMatrixDisplay at 0x23f43291d30>"
      ]
     },
     "execution_count": 59,
     "metadata": {},
     "output_type": "execute_result"
    },
    {
     "data": {
      "image/png": "[encoded data removed]",
      "text/plain": [
       "<Figure size 432x288 with 2 Axes>"
      ]
     },
     "metadata": {
      "needs_background": "light"
     },
     "output_type": "display_data"
    }
   ],
   "source": [
    "ConfusionMatrixDisplay.from_estimator(rnd_clf_s_nfs, x_test, y_test)"
   ]
  },
  {
   "cell_type": "markdown",
   "id": "1e9cdf1f",
   "metadata": {},
   "source": [
    "#### RF Models' False Positives are consistently lower than model's False Negatives\n",
    "\n",
    "#### Although SMOTE and the other sampling techniques have the same accuracy, the SMOTE model has a closer number of false positives to false negatives in the confusion matrix. This indicates that, the SMOTE model is unbiased towards any class."
   ]
  },
  {
   "cell_type": "code",
   "execution_count": 60,
   "id": "2a66c60f",
   "metadata": {
    "scrolled": false
   },
   "outputs": [
    {
     "data": {
      "image/png": "[encoded data removed]",
      "text/plain": [
       "<Figure size 432x288 with 1 Axes>"
      ]
     },
     "metadata": {
      "needs_background": "light"
     },
     "output_type": "display_data"
    }
   ],
   "source": [
    "train_sizes_model, train_scores_model, valid_scores_model, *_ =learning_curve(rnd_clf_s_nfs, overX, overY,cv=6,\n",
    "                    scoring='accuracy',n_jobs=-1)\n",
    "fig=plt.figure()\n",
    "ax=fig.add_axes([0,0,1,1])\n",
    "ax.scatter(x=train_sizes_model,y= train_scores_model.mean(axis=1), color='b')\n",
    "ax.scatter(x=train_sizes_model,y=valid_scores_model.mean(axis=1), color='r')\n",
    "ax.plot(train_sizes_model,train_scores_model.mean(axis=1), color='b')\n",
    "ax.plot(train_sizes_model,valid_scores_model.mean(axis=1), color='r')\n",
    "ax.set_xlabel('Training in blue, Testing in red')\n",
    "ax.set_ylabel('Accuracy')\n",
    "ax.set_title('Learning Curve')\n",
    "plt.show()"
   ]
  },
  {
   "cell_type": "markdown",
   "id": "a2cf187e",
   "metadata": {},
   "source": [
    "#### Random Forest with SMOTE sampling, and no feature selection learning curve"
   ]
  },
  {
   "cell_type": "code",
   "execution_count": 61,
   "id": "888e92a6",
   "metadata": {},
   "outputs": [
    {
     "name": "stdout",
     "output_type": "stream",
     "text": [
      "MSE: 0.030\n",
      "Bias: 0.021\n",
      "Variance: 0.009\n"
     ]
    }
   ],
   "source": [
    "from mlxtend.evaluate import bias_variance_decomp\n",
    "#turning pandas df and pandas series into numpy arrays\n",
    "x_train_new,x_test_new,y_train_new,y_test_new = turnto(x_train,x_test,y_train,y_test)\n",
    "#bias/variance\n",
    "mse, bias, var = bias_variance_decomp\\\n",
    "(rnd_clf_s_nfs, x_train_new, y_train_new, x_test_new, y_test_new, loss='mse', num_rounds=20, random_seed=42)\n",
    "\n",
    "#values\n",
    "\n",
    "print('MSE: %.3f' % mse)\n",
    "print('Bias: %.3f' % bias)\n",
    "print('Variance: %.3f' % var)"
   ]
  },
  {
   "cell_type": "markdown",
   "id": "cf39941a",
   "metadata": {},
   "source": [
    "#### model converged at 97.3% with slightly lower variance, and slightly higher bias (still, both values are low judging by the learning curve)"
   ]
  },
  {
   "cell_type": "markdown",
   "id": "a763d3cf",
   "metadata": {},
   "source": [
    "### All three models with resampling are still able to converge at the same accuracy regardless of technique."
   ]
  },
  {
   "cell_type": "markdown",
   "id": "40f91248",
   "metadata": {},
   "source": [
    "### Therefore in order to have a fair comparison with the other models my colleagues are working on, SMOTE will be used."
   ]
  },
  {
   "cell_type": "markdown",
   "id": "f85b95d0",
   "metadata": {},
   "source": [
    "### 2. Emsemble Model Training and Testing"
   ]
  },
  {
   "cell_type": "markdown",
   "id": "b40dc626",
   "metadata": {},
   "source": [
    "#### 2.1 Bagging (Decision Trees)"
   ]
  },
  {
   "cell_type": "code",
   "execution_count": 62,
   "id": "aedcd845",
   "metadata": {},
   "outputs": [],
   "source": [
    "from sklearn.tree import DecisionTreeClassifier\n",
    "from sklearn.ensemble import BaggingClassifier"
   ]
  },
  {
   "cell_type": "markdown",
   "id": "923891e1",
   "metadata": {},
   "source": [
    "#### Ensemble Training (Bagging)"
   ]
  },
  {
   "cell_type": "markdown",
   "id": "4fa170e5",
   "metadata": {},
   "source": [
    "### Once again, the best number of estimators will be tested"
   ]
  },
  {
   "cell_type": "code",
   "execution_count": 63,
   "id": "02d6b499",
   "metadata": {
    "scrolled": true
   },
   "outputs": [
    {
     "data": {
      "text/plain": [
       "Text(0, 0.5, 'Testing Accuracy')"
      ]
     },
     "execution_count": 63,
     "metadata": {},
     "output_type": "execute_result"
    },
    {
     "data": {
      "image/png": "[encoded data removed]",
      "text/plain": [
       "<Figure size 432x288 with 1 Axes>"
      ]
     },
     "metadata": {
      "needs_background": "light"
     },
     "output_type": "display_data"
    }
   ],
   "source": [
    "bag_range = range(100, 1500, 100)\n",
    "scores = []\n",
    "for est in bag_range:\n",
    "    DT_clf = DecisionTreeClassifier(random_state=42)\n",
    "    bag_clf = BaggingClassifier(\n",
    "    base_estimator= DT_clf, n_estimators=est,\n",
    "    max_samples=100, bootstrap=True, n_jobs=-1, random_state=42)\n",
    "    bag_clf.fit(x_train, y_train)\n",
    "    y_pred = bag_clf.predict(x_test)\n",
    "    scores.append(metrics.accuracy_score(y_test, y_pred))\n",
    "\n",
    "plt.plot(bag_range, scores)\n",
    "plt.xlabel('Value of estimator count for bagging')\n",
    "plt.ylabel('Testing Accuracy')"
   ]
  },
  {
   "cell_type": "markdown",
   "id": "ecaa1540",
   "metadata": {},
   "source": [
    "#### The best number of estimators is 300"
   ]
  },
  {
   "cell_type": "code",
   "execution_count": 64,
   "id": "482160dc",
   "metadata": {},
   "outputs": [
    {
     "data": {
      "text/plain": [
       "Text(0, 0.5, 'Testing Accuracy')"
      ]
     },
     "execution_count": 64,
     "metadata": {},
     "output_type": "execute_result"
    },
    {
     "data": {
      "image/png": "[encoded data removed]",
      "text/plain": [
       "<Figure size 432x288 with 1 Axes>"
      ]
     },
     "metadata": {
      "needs_background": "light"
     },
     "output_type": "display_data"
    }
   ],
   "source": [
    "samples_range = range(100, 1000, 100)\n",
    "scores = []\n",
    "for sample in samples_range:\n",
    "    DT_clf = DecisionTreeClassifier(random_state=42)\n",
    "    bag_clf = BaggingClassifier(\n",
    "    base_estimator= DT_clf, n_estimators=500,\n",
    "    max_samples=sample, bootstrap=True, n_jobs=-1, random_state=42)\n",
    "    bag_clf.fit(x_train, y_train)\n",
    "    y_pred = bag_clf.predict(x_test)\n",
    "    scores.append(metrics.accuracy_score(y_test, y_pred))\n",
    "\n",
    "plt.plot(samples_range, scores)\n",
    "plt.xlabel('Value of estimator count for bagging')\n",
    "plt.ylabel('Testing Accuracy')"
   ]
  },
  {
   "cell_type": "markdown",
   "id": "5ff11012",
   "metadata": {},
   "source": [
    "#### Model performance plateaus at 800 samples"
   ]
  },
  {
   "cell_type": "code",
   "execution_count": 65,
   "id": "fe3cd80f",
   "metadata": {},
   "outputs": [],
   "source": [
    "bag_opt_est = 300\n",
    "\n",
    "bag_opt_samples = 800"
   ]
  },
  {
   "cell_type": "markdown",
   "id": "c03831b2",
   "metadata": {},
   "source": [
    "#### Time to optimize the DT parameters itself"
   ]
  },
  {
   "cell_type": "code",
   "execution_count": 66,
   "id": "6a7df715",
   "metadata": {},
   "outputs": [
    {
     "data": {
      "text/plain": [
       "Text(0, 0.5, 'Testing Accuracy')"
      ]
     },
     "execution_count": 66,
     "metadata": {},
     "output_type": "execute_result"
    },
    {
     "data": {
      "image/png": "[encoded data removed]",
      "text/plain": [
       "<Figure size 432x288 with 1 Axes>"
      ]
     },
     "metadata": {
      "needs_background": "light"
     },
     "output_type": "display_data"
    }
   ],
   "source": [
    "bag_range = range(2, 20, 2)\n",
    "scores = []\n",
    "for est in bag_range:\n",
    "    DT_clf = DecisionTreeClassifier(max_depth = est,random_state=42)\n",
    "    bag_clf = BaggingClassifier(\n",
    "    base_estimator= DT_clf, n_estimators=bag_opt_est,\n",
    "    max_samples=bag_opt_samples, bootstrap=True, n_jobs=-1, random_state=42)\n",
    "    bag_clf.fit(x_train, y_train)\n",
    "    y_pred = bag_clf.predict(x_test)\n",
    "    scores.append(metrics.accuracy_score(y_test, y_pred))\n",
    "\n",
    "plt.plot(bag_range, scores)\n",
    "plt.xlabel('Value of estimator count for bagging')\n",
    "plt.ylabel('Testing Accuracy')"
   ]
  },
  {
   "cell_type": "markdown",
   "id": "5c75d5f5",
   "metadata": {},
   "source": [
    "#### Best Max Depth is 12"
   ]
  },
  {
   "cell_type": "code",
   "execution_count": 67,
   "id": "90f25766",
   "metadata": {},
   "outputs": [],
   "source": [
    "DT_clf = DecisionTreeClassifier(max_depth = 12,random_state=42)\n",
    "\n",
    "bag_clf = BaggingClassifier(\n",
    "    base_estimator= DT_clf, n_estimators=bag_opt_est,\n",
    "    max_samples=bag_opt_samples, bootstrap=True, n_jobs=-1, random_state=42)\n",
    "bag_clf.fit(x_train, y_train)\n",
    "y_pred_bag_s_nfs = bag_clf.predict(x_test)"
   ]
  },
  {
   "cell_type": "markdown",
   "id": "b7431178",
   "metadata": {},
   "source": [
    "#### Ensemble Testing (Bagging)"
   ]
  },
  {
   "cell_type": "code",
   "execution_count": 68,
   "id": "de12b9c8",
   "metadata": {},
   "outputs": [
    {
     "name": "stdout",
     "output_type": "stream",
     "text": [
      "Bagging Ensemble Method Accuracy =  0.96\n",
      "Bagging Ensemble Method F-Score =  0.9600463231036481\n",
      "Bagging Classification Report = \n",
      "                precision    recall  f1-score   support\n",
      "\n",
      "           0       0.96      0.96      0.96      1725\n",
      "           1       0.96      0.96      0.96      1725\n",
      "\n",
      "    accuracy                           0.96      3450\n",
      "   macro avg       0.96      0.96      0.96      3450\n",
      "weighted avg       0.96      0.96      0.96      3450\n",
      "\n"
     ]
    }
   ],
   "source": [
    "print(\"Bagging Ensemble Method Accuracy = \",metrics.accuracy_score(y_test, y_pred_bag_s_nfs))\n",
    "print(\"Bagging Ensemble Method F-Score = \",metrics.f1_score(y_test, y_pred_bag_s_nfs))\n",
    "print(\"Bagging Classification Report = \\n \",  metrics.classification_report(y_test,y_pred_bag_s_nfs))"
   ]
  },
  {
   "cell_type": "markdown",
   "id": "d850fe72",
   "metadata": {},
   "source": [
    "#### Bagging achieved a lower accuracy score than RF, which was expected as Random Forest splits on a random subset of features, which allows the model to work with a smaller number of features. This results in less variance when training, and slightly better performance overall.\n",
    "\n",
    "#### The difference between the two models is very small, however so it will not be taken too much into consideration\n",
    "\n",
    "Source: https://towardsdatascience.com/why-random-forest-is-my-favorite-machine-learning-model-b97651fa3706#:~:text=Random%20forest%20improves%20on%20bagging,the%20features%20of%20the%20model."
   ]
  },
  {
   "cell_type": "code",
   "execution_count": 69,
   "id": "d4071350",
   "metadata": {},
   "outputs": [
    {
     "data": {
      "image/png": "[encoded data removed]",
      "text/plain": [
       "<Figure size 432x288 with 1 Axes>"
      ]
     },
     "metadata": {
      "needs_background": "light"
     },
     "output_type": "display_data"
    }
   ],
   "source": [
    "RocCurveDisplay.from_estimator(bag_clf, x_test, y_test)\n",
    "plt.show()"
   ]
  },
  {
   "cell_type": "code",
   "execution_count": 70,
   "id": "a82e8ae0",
   "metadata": {},
   "outputs": [
    {
     "data": {
      "text/plain": [
       "<sklearn.metrics._plot.confusion_matrix.ConfusionMatrixDisplay at 0x23f43046fa0>"
      ]
     },
     "execution_count": 70,
     "metadata": {},
     "output_type": "execute_result"
    },
    {
     "data": {
      "image/png": "[encoded data removed]",
      "text/plain": [
       "<Figure size 432x288 with 2 Axes>"
      ]
     },
     "metadata": {
      "needs_background": "light"
     },
     "output_type": "display_data"
    }
   ],
   "source": [
    "ConfusionMatrixDisplay.from_estimator(bag_clf, x_test, y_test)"
   ]
  },
  {
   "cell_type": "markdown",
   "id": "9f921ff5",
   "metadata": {},
   "source": [
    "#### in bagging, the model is also more biased towards false positives than false negatives. "
   ]
  },
  {
   "cell_type": "code",
   "execution_count": 71,
   "id": "c0d0b69d",
   "metadata": {},
   "outputs": [
    {
     "data": {
      "image/png": "[encoded data removed]",
      "text/plain": [
       "<Figure size 432x288 with 1 Axes>"
      ]
     },
     "metadata": {
      "needs_background": "light"
     },
     "output_type": "display_data"
    }
   ],
   "source": [
    "train_sizes_model, train_scores_model, valid_scores_model, *_ =learning_curve(bag_clf, overX, overY,cv=6,\n",
    "                    scoring='accuracy',n_jobs=-1)\n",
    "fig=plt.figure()\n",
    "ax=fig.add_axes([0,0,1,1])\n",
    "ax.scatter(x=train_sizes_model,y= train_scores_model.mean(axis=1), color='b')\n",
    "ax.scatter(x=train_sizes_model,y=valid_scores_model.mean(axis=1), color='r')\n",
    "ax.plot(train_sizes_model,train_scores_model.mean(axis=1), color='b')\n",
    "ax.plot(train_sizes_model,valid_scores_model.mean(axis=1), color='r')\n",
    "ax.set_xlabel('Training in blue, Testing in red')\n",
    "ax.set_ylabel('Accuracy')\n",
    "ax.set_title('Learning Curve')\n",
    "plt.show()"
   ]
  },
  {
   "cell_type": "markdown",
   "id": "37c4b299",
   "metadata": {},
   "source": [
    "#### Bagging with DT Base Classifier smote sampling, and no feature selection learning curve"
   ]
  },
  {
   "cell_type": "code",
   "execution_count": 72,
   "id": "c9ac54f5",
   "metadata": {},
   "outputs": [
    {
     "name": "stdout",
     "output_type": "stream",
     "text": [
      "MSE: 0.043\n",
      "Bias: 0.035\n",
      "Variance: 0.008\n"
     ]
    }
   ],
   "source": [
    "from mlxtend.evaluate import bias_variance_decomp\n",
    "#turning pandas df and pandas series into numpy arrays\n",
    "x_train_new,x_test_new,y_train_new,y_test_new = turnto(x_train,x_test,y_train,y_test)\n",
    "#bias/variance\n",
    "mse, bias, var = bias_variance_decomp\\\n",
    "(bag_clf, x_train_new, y_train_new, x_test_new, y_test_new, loss='mse', num_rounds=20, random_seed=42)\n",
    "\n",
    "#values\n",
    "\n",
    "print('MSE: %.3f' % mse)\n",
    "print('Bias: %.3f' % bias)\n",
    "print('Variance: %.3f' % var)"
   ]
  },
  {
   "cell_type": "markdown",
   "id": "dd48c2fc",
   "metadata": {},
   "source": [
    "### Model Converges at over 96% accuracy with no overfitting"
   ]
  },
  {
   "cell_type": "markdown",
   "id": "ee307243",
   "metadata": {},
   "source": [
    "#### 2.2 Bagging (Random Forest Classifier)"
   ]
  },
  {
   "cell_type": "markdown",
   "id": "d72ba5c6",
   "metadata": {},
   "source": [
    "#### Values of number of estimators, and max samples will be optimized, but this time on a RF classifier."
   ]
  },
  {
   "cell_type": "code",
   "execution_count": 73,
   "id": "2435320c",
   "metadata": {},
   "outputs": [
    {
     "data": {
      "text/plain": [
       "Text(0, 0.5, 'Testing Accuracy')"
      ]
     },
     "execution_count": 73,
     "metadata": {},
     "output_type": "execute_result"
    },
    {
     "data": {
      "image/png": "[encoded data removed]",
      "text/plain": [
       "<Figure size 432x288 with 1 Axes>"
      ]
     },
     "metadata": {
      "needs_background": "light"
     },
     "output_type": "display_data"
    }
   ],
   "source": [
    "bag_rf_max_est_range = range(600, 1200, 200)\n",
    "max_bag_rf_est_scores = []\n",
    "for est in bag_rf_max_est_range:\n",
    "    RF_clf = RandomForestClassifier(random_state=42)\n",
    "    bag_clf = BaggingClassifier(\n",
    "    base_estimator= RF_clf, n_estimators=est,\n",
    "    max_samples=100, bootstrap=True, n_jobs=-1, random_state=42)\n",
    "    bag_clf.fit(x_train, y_train)\n",
    "    y_pred = bag_clf.predict(x_test)\n",
    "    max_bag_rf_est_scores.append(metrics.accuracy_score(y_test, y_pred))\n",
    "\n",
    "plt.plot(bag_rf_max_est_range, max_bag_rf_est_scores)\n",
    "plt.xlabel('Value of estimator count for bagging')\n",
    "plt.ylabel('Testing Accuracy')"
   ]
  },
  {
   "cell_type": "markdown",
   "id": "570c2655",
   "metadata": {},
   "source": [
    "#### It seems that the curve of the best estimator peaks at  800"
   ]
  },
  {
   "cell_type": "code",
   "execution_count": 74,
   "id": "8f559b73",
   "metadata": {},
   "outputs": [
    {
     "data": {
      "text/plain": [
       "Text(0, 0.5, 'Testing Accuracy')"
      ]
     },
     "execution_count": 74,
     "metadata": {},
     "output_type": "execute_result"
    },
    {
     "data": {
      "image/png": "[encoded data removed]",
      "text/plain": [
       "<Figure size 432x288 with 1 Axes>"
      ]
     },
     "metadata": {
      "needs_background": "light"
     },
     "output_type": "display_data"
    }
   ],
   "source": [
    "bag_rf_max_samples_range = range(1000, 1600, 200)\n",
    "max_bag_rf_samples_scores = []\n",
    "for sample in bag_rf_max_samples_range:\n",
    "    RF_clf = RandomForestClassifier(random_state=42)\n",
    "    bag_clf = BaggingClassifier(\n",
    "    base_estimator= RF_clf, n_estimators=800,\n",
    "    max_samples=sample, bootstrap=True, n_jobs=-1, random_state=42)\n",
    "    bag_clf.fit(x_train, y_train)\n",
    "    y_pred = bag_clf.predict(x_test)\n",
    "    max_bag_rf_samples_scores.append(metrics.accuracy_score(y_test, y_pred))\n",
    "\n",
    "plt.plot(bag_rf_max_samples_range, max_bag_rf_samples_scores)\n",
    "plt.xlabel('Value of samples count for bagging')\n",
    "plt.ylabel('Testing Accuracy')"
   ]
  },
  {
   "cell_type": "markdown",
   "id": "ff05acb2",
   "metadata": {},
   "source": [
    "#### The curve linearly decreases after 1200 samples"
   ]
  },
  {
   "cell_type": "code",
   "execution_count": 75,
   "id": "626102e2",
   "metadata": {},
   "outputs": [],
   "source": [
    "bag_opt_est_rf = 800\n",
    "\n",
    "bag_opt_sam_rf = 1200"
   ]
  },
  {
   "cell_type": "markdown",
   "id": "2684b54c",
   "metadata": {},
   "source": [
    "### Ensemble (Random Forest) Model Training"
   ]
  },
  {
   "cell_type": "markdown",
   "id": "aa755ef3",
   "metadata": {},
   "source": [
    "#### this crashed so many times, it will not be counted in the comparison"
   ]
  },
  {
   "cell_type": "markdown",
   "id": "b2757251",
   "metadata": {},
   "source": [
    "RF_clf = RandomForestClassifier(n_estimators = 800,max_leaf_nodes = 400,random_state=42)\n",
    "\n",
    "bag_clf_rf_nfs = BaggingClassifier(\n",
    "    base_estimator= RF_clf, n_estimators=bag_opt_est_rf,\n",
    "    max_samples=bag_opt_sam_rf, bootstrap=True, n_jobs=-1, random_state=42)\n",
    "bag_clf_rf_nfs.fit(x_train, y_train)\n",
    "y_pred_bag_s_rf_nfs = bag_clf_rf_nfs.predict(x_test)"
   ]
  },
  {
   "cell_type": "markdown",
   "id": "87ee6c4d",
   "metadata": {},
   "source": [
    "### Ensemble (Random Forest) Model Testing"
   ]
  },
  {
   "cell_type": "markdown",
   "id": "5480d53b",
   "metadata": {},
   "source": [
    "print(\"Bagging Ensemble Method RF Accuracy = \",metrics.accuracy_score(y_test, y_pred_bag_s_rf_nfs))\n",
    "print(\"Bagging Ensemble Method RF F-Score = \",metrics.f1_score(y_test, y_pred_bag_s_rf_nfs))\n",
    "print(\"Bagging RF Classification Report = \\n \",  metrics.classification_report(y_test,y_pred_bag_s_rf_nfs))"
   ]
  },
  {
   "cell_type": "markdown",
   "id": "94fc2cea",
   "metadata": {},
   "source": [
    "RocCurveDisplay.from_estimator(bag_clf_rf_nfs, x_test, y_test)\n",
    "plt.show()"
   ]
  },
  {
   "cell_type": "markdown",
   "id": "309431e4",
   "metadata": {},
   "source": [
    "ConfusionMatrixDisplay.from_estimator(bag_clf_rf_nfs, x_test, y_test)"
   ]
  },
  {
   "cell_type": "markdown",
   "id": "3080ac2b",
   "metadata": {},
   "source": [
    "#### In this case, number of False Positives is lower than the number of False Negatives, which again, indicates that some phishing websites are classified as safe, and that is more dangerous than the opposite"
   ]
  },
  {
   "cell_type": "markdown",
   "id": "ecf29d6a",
   "metadata": {},
   "source": [
    "train_sizes_model, train_scores_model, valid_scores_model, *_ =learning_curve(bag_clf_rf_nfs, overX, overY,cv=6,\n",
    "                    scoring='accuracy',n_jobs=-1)\n",
    "fig=plt.figure()\n",
    "ax=fig.add_axes([0,0,1,1])\n",
    "ax.scatter(x=train_sizes_model,y= train_scores_model.mean(axis=1), color='b')\n",
    "ax.scatter(x=train_sizes_model,y=valid_scores_model.mean(axis=1), color='r')\n",
    "ax.plot(train_sizes_model,train_scores_model.mean(axis=1), color='b')\n",
    "ax.plot(train_sizes_model,valid_scores_model.mean(axis=1), color='r')\n",
    "ax.set_xlabel('Training in blue, Testing in red')\n",
    "ax.set_ylabel('Accuracy')\n",
    "ax.set_title('Learning Curve')\n",
    "plt.show()"
   ]
  },
  {
   "cell_type": "markdown",
   "id": "b034c4b9",
   "metadata": {},
   "source": [
    "#### Ensemble with Random Forest Classifier, SMOTE sampling, and no feature selection Learning Curve"
   ]
  },
  {
   "cell_type": "markdown",
   "id": "0b9bcca1",
   "metadata": {},
   "source": [
    "from mlxtend.evaluate import bias_variance_decomp\n",
    "#turning pandas df and pandas series into numpy arrays\n",
    "x_train_new,x_test_new,y_train_new,y_test_new = turnto(x_train,x_test,y_train,y_test)\n",
    "#bias/variance\n",
    "mse, bias, var = bias_variance_decomp\\\n",
    "(bag_clf_rf_nfs, x_train_new, y_train_new, x_test_new, y_test_new, loss='mse', num_rounds=20, random_seed=42)\n",
    "\n",
    "#values\n",
    "\n",
    "print('MSE: %.3f' % mse)\n",
    "print('Bias: %.3f' % bias)\n",
    "print('Variance: %.3f' % var)"
   ]
  },
  {
   "cell_type": "markdown",
   "id": "8946fe7f",
   "metadata": {},
   "source": [
    "#### Model Converged at 96% accuracy. In this case, bias was bit higher than variance, but both values were still very low"
   ]
  },
  {
   "cell_type": "markdown",
   "id": "bcd8d3e3",
   "metadata": {},
   "source": [
    "### There was not a very big difference between the performances of the random forest classifier , and the bagging classifier (avg 97% vs avg 96%). Although, the bagging classifier dipped slightly in accuracy and F1-Score. The DT classifier in the bagging model was lower than the RF classifier in the bagging model, which indicates that RF is more optimized for this dataset.\n",
    "\n",
    "### However, More testing is required in order to confirm that this is the best that ensemble models can do. In an attempt to squeeze more performance out of the classifiers, we will perform Correlation Feature Selection, as features may have high correlation with each other, thus affecting the performance of the models."
   ]
  },
  {
   "cell_type": "markdown",
   "id": "4263678b",
   "metadata": {},
   "source": [
    "### Feature Selection"
   ]
  },
  {
   "cell_type": "code",
   "execution_count": 76,
   "id": "3f157dd0",
   "metadata": {},
   "outputs": [],
   "source": [
    "def correlation(dataset, threshold):\n",
    "    col_corr = set()  # Set of all the names of correlated columns\n",
    "    corr_matrix = dataset.corr()\n",
    "    for i in range(len(corr_matrix.columns)):\n",
    "        for j in range(i):\n",
    "            if abs(corr_matrix.iloc[i, j]) > threshold: # we are interested in absolute coeff value\n",
    "                colname = corr_matrix.columns[i]  # getting the name of column\n",
    "                col_corr.add(colname)\n",
    "    return col_corr"
   ]
  },
  {
   "cell_type": "code",
   "execution_count": 77,
   "id": "d976d78f",
   "metadata": {},
   "outputs": [
    {
     "name": "stdout",
     "output_type": "stream",
     "text": [
      "{'HTTPS_token', 'port', 'popUpWidnow', 'Submitting_to_email', 'on_mouseover', 'Abnormal_URL', 'double_slash_redirecting'}\n"
     ]
    }
   ],
   "source": [
    "correlated_features = correlation(x_train, 0.7)\n",
    "print(correlated_features)"
   ]
  },
  {
   "cell_type": "code",
   "execution_count": 78,
   "id": "ddd694fa",
   "metadata": {},
   "outputs": [],
   "source": [
    "overX.drop(labels = correlated_features, axis = 1, inplace = True)"
   ]
  },
  {
   "cell_type": "markdown",
   "id": "6d08e79f",
   "metadata": {},
   "source": [
    "### Now, we will do make another train-test split and train new models with the new features"
   ]
  },
  {
   "cell_type": "code",
   "execution_count": 79,
   "id": "64417fa1",
   "metadata": {},
   "outputs": [],
   "source": [
    "x_train, x_test, y_train, y_test = train_test_split(overX, overY,stratify=overY, test_size=0.3,random_state=42)"
   ]
  },
  {
   "cell_type": "markdown",
   "id": "3462a371",
   "metadata": {},
   "source": [
    "### 3. Indivdual Model Training and Testing"
   ]
  },
  {
   "cell_type": "markdown",
   "id": "8508d9d6",
   "metadata": {},
   "source": [
    "### Random Forest"
   ]
  },
  {
   "cell_type": "markdown",
   "id": "b1ae6903",
   "metadata": {},
   "source": [
    "#### 3.1 Model Training"
   ]
  },
  {
   "cell_type": "code",
   "execution_count": 80,
   "id": "bd80d470",
   "metadata": {},
   "outputs": [],
   "source": [
    "rnd_clf_fs = RandomForestClassifier(n_estimators=rf_opt_est, max_leaf_nodes=rf_opt_ln, n_jobs=-1, random_state=42)\n",
    "rnd_clf_fs.fit(x_train, y_train)\n",
    "\n",
    "y_pred_rf_s_fs = rnd_clf_fs.predict(x_test)"
   ]
  },
  {
   "cell_type": "markdown",
   "id": "e43883b7",
   "metadata": {},
   "source": [
    "#### 3.2 Model Testing"
   ]
  },
  {
   "cell_type": "code",
   "execution_count": 81,
   "id": "3b79dfed",
   "metadata": {},
   "outputs": [
    {
     "name": "stdout",
     "output_type": "stream",
     "text": [
      "Random Forest Accuracy =  0.9718840579710145\n",
      "Random Forest F-Score =  0.971908485375036\n",
      "Random Forest Classification Report = \n",
      "                precision    recall  f1-score   support\n",
      "\n",
      "           0       0.97      0.97      0.97      1725\n",
      "           1       0.97      0.97      0.97      1725\n",
      "\n",
      "    accuracy                           0.97      3450\n",
      "   macro avg       0.97      0.97      0.97      3450\n",
      "weighted avg       0.97      0.97      0.97      3450\n",
      "\n"
     ]
    }
   ],
   "source": [
    "print(\"Random Forest Accuracy = \",metrics.accuracy_score(y_test, y_pred_rf_s_fs))\n",
    "print(\"Random Forest F-Score = \",metrics.f1_score(y_test, y_pred_rf_s_fs))\n",
    "print(\"Random Forest Classification Report = \\n \",  metrics.classification_report(y_test,y_pred_rf_s_fs))"
   ]
  },
  {
   "cell_type": "markdown",
   "id": "ba1689a8",
   "metadata": {},
   "source": [
    "#### Very tiny dip after FS (97.3% -> 97.1%)"
   ]
  },
  {
   "cell_type": "markdown",
   "id": "84821c0c",
   "metadata": {},
   "source": [
    "#### Roc Curve"
   ]
  },
  {
   "cell_type": "code",
   "execution_count": 82,
   "id": "a8bbb061",
   "metadata": {},
   "outputs": [
    {
     "data": {
      "image/png": "[encoded data removed]",
      "text/plain": [
       "<Figure size 432x288 with 1 Axes>"
      ]
     },
     "metadata": {
      "needs_background": "light"
     },
     "output_type": "display_data"
    }
   ],
   "source": [
    "RocCurveDisplay.from_estimator(rnd_clf_fs, x_test, y_test)\n",
    "plt.show()"
   ]
  },
  {
   "cell_type": "markdown",
   "id": "6b6ac245",
   "metadata": {},
   "source": [
    "#### Confusion Matrix"
   ]
  },
  {
   "cell_type": "code",
   "execution_count": 83,
   "id": "24530185",
   "metadata": {},
   "outputs": [
    {
     "data": {
      "text/plain": [
       "<sklearn.metrics._plot.confusion_matrix.ConfusionMatrixDisplay at 0x23f3f593c70>"
      ]
     },
     "execution_count": 83,
     "metadata": {},
     "output_type": "execute_result"
    },
    {
     "data": {
      "image/png": "[encoded data removed]",
      "text/plain": [
       "<Figure size 432x288 with 2 Axes>"
      ]
     },
     "metadata": {
      "needs_background": "light"
     },
     "output_type": "display_data"
    }
   ],
   "source": [
    "ConfusionMatrixDisplay.from_estimator(rnd_clf_fs, x_test, y_test)"
   ]
  },
  {
   "cell_type": "markdown",
   "id": "51bcf0f0",
   "metadata": {},
   "source": [
    "#### Confusion Matrix results are same as above"
   ]
  },
  {
   "cell_type": "markdown",
   "id": "7eaa5164",
   "metadata": {},
   "source": [
    "#### Learning Curve"
   ]
  },
  {
   "cell_type": "code",
   "execution_count": 84,
   "id": "54a2dd87",
   "metadata": {},
   "outputs": [
    {
     "data": {
      "image/png": "[encoded data removed]",
      "text/plain": [
       "<Figure size 432x288 with 1 Axes>"
      ]
     },
     "metadata": {
      "needs_background": "light"
     },
     "output_type": "display_data"
    }
   ],
   "source": [
    "train_sizes_model, train_scores_model, valid_scores_model, *_ =learning_curve(rnd_clf_fs, overX, overY,cv=6,\n",
    "                    scoring='accuracy',n_jobs=-1)\n",
    "fig=plt.figure()\n",
    "ax=fig.add_axes([0,0,1,1])\n",
    "ax.scatter(x=train_sizes_model,y= train_scores_model.mean(axis=1), color='b')\n",
    "ax.scatter(x=train_sizes_model,y=valid_scores_model.mean(axis=1), color='r')\n",
    "ax.plot(train_sizes_model,train_scores_model.mean(axis=1), color='b')\n",
    "ax.plot(train_sizes_model,valid_scores_model.mean(axis=1), color='r')\n",
    "ax.set_xlabel('Training in blue, Testing in red')\n",
    "ax.set_ylabel('Accuracy')\n",
    "ax.set_title('Learning Curve')\n",
    "plt.show()"
   ]
  },
  {
   "cell_type": "markdown",
   "id": "8bd2f692",
   "metadata": {},
   "source": [
    "#### Random Forest with SMOTE sampling, and feature selection learning curve"
   ]
  },
  {
   "cell_type": "code",
   "execution_count": 85,
   "id": "add3055d",
   "metadata": {},
   "outputs": [
    {
     "name": "stdout",
     "output_type": "stream",
     "text": [
      "MSE: 0.032\n",
      "Bias: 0.022\n",
      "Variance: 0.009\n"
     ]
    }
   ],
   "source": [
    "from mlxtend.evaluate import bias_variance_decomp\n",
    "#turning pandas df and pandas series into numpy arrays\n",
    "x_train_new,x_test_new,y_train_new,y_test_new = turnto(x_train,x_test,y_train,y_test)\n",
    "#bias/variance\n",
    "mse, bias, var = bias_variance_decomp\\\n",
    "(rnd_clf_fs, x_train_new, y_train_new, x_test_new, y_test_new, loss='mse', num_rounds=20, random_seed=42)\n",
    "\n",
    "#values\n",
    "\n",
    "print('MSE: %.3f' % mse)\n",
    "print('Bias: %.3f' % bias)\n",
    "print('Variance: %.3f' % var)"
   ]
  },
  {
   "cell_type": "markdown",
   "id": "a0fd8d3f",
   "metadata": {},
   "source": [
    "#### Very similar to the RF no Smote model. No overfitting, and a low bias, and a lower variance."
   ]
  },
  {
   "cell_type": "markdown",
   "id": "3bd6f377",
   "metadata": {},
   "source": [
    "### 4. Ensemble Model Training and Testing"
   ]
  },
  {
   "cell_type": "markdown",
   "id": "b79beb4f",
   "metadata": {},
   "source": [
    "### Bagging (Decision Trees)"
   ]
  },
  {
   "cell_type": "markdown",
   "id": "297a5987",
   "metadata": {},
   "source": [
    "#### 4.1 Model Training"
   ]
  },
  {
   "cell_type": "code",
   "execution_count": 86,
   "id": "3d2afcdd",
   "metadata": {},
   "outputs": [],
   "source": [
    "DT_clf_fs = DecisionTreeClassifier(max_depth = 12,random_state=42)\n",
    "\n",
    "bag_clf_fs = BaggingClassifier(\n",
    "    base_estimator= DT_clf_fs, n_estimators=bag_opt_est,\n",
    "    max_samples=bag_opt_samples, bootstrap=True, n_jobs=-1, random_state=42)\n",
    "bag_clf_fs.fit(x_train, y_train)\n",
    "y_pred_bag_s_fs = bag_clf_fs.predict(x_test)"
   ]
  },
  {
   "cell_type": "markdown",
   "id": "bdf93dbe",
   "metadata": {},
   "source": [
    "#### 4.2 Model Testing"
   ]
  },
  {
   "cell_type": "code",
   "execution_count": 87,
   "id": "000e9930",
   "metadata": {},
   "outputs": [
    {
     "name": "stdout",
     "output_type": "stream",
     "text": [
      "Bagging Ensemble Method Accuracy =  0.9597101449275363\n",
      "Bagging Ensemble Method F-Score =  0.9598149754264238\n",
      "Bagging Classification Report = \n",
      "                precision    recall  f1-score   support\n",
      "\n",
      "           0       0.96      0.96      0.96      1725\n",
      "           1       0.96      0.96      0.96      1725\n",
      "\n",
      "    accuracy                           0.96      3450\n",
      "   macro avg       0.96      0.96      0.96      3450\n",
      "weighted avg       0.96      0.96      0.96      3450\n",
      "\n"
     ]
    }
   ],
   "source": [
    "print(\"Bagging Ensemble Method Accuracy = \",metrics.accuracy_score(y_test, y_pred_bag_s_fs))\n",
    "print(\"Bagging Ensemble Method F-Score = \",metrics.f1_score(y_test, y_pred_bag_s_fs))\n",
    "print(\"Bagging Classification Report = \\n \",  metrics.classification_report(y_test,y_pred_bag_s_fs))"
   ]
  },
  {
   "cell_type": "code",
   "execution_count": 88,
   "id": "7e553ac7",
   "metadata": {},
   "outputs": [
    {
     "data": {
      "image/png": "[encoded data removed]",
      "text/plain": [
       "<Figure size 432x288 with 1 Axes>"
      ]
     },
     "metadata": {
      "needs_background": "light"
     },
     "output_type": "display_data"
    }
   ],
   "source": [
    "RocCurveDisplay.from_estimator(bag_clf_fs, x_test, y_test)\n",
    "plt.show()"
   ]
  },
  {
   "cell_type": "code",
   "execution_count": 89,
   "id": "6d4e58d1",
   "metadata": {
    "scrolled": false
   },
   "outputs": [
    {
     "data": {
      "text/plain": [
       "<sklearn.metrics._plot.confusion_matrix.ConfusionMatrixDisplay at 0x23f73835d90>"
      ]
     },
     "execution_count": 89,
     "metadata": {},
     "output_type": "execute_result"
    },
    {
     "data": {
      "image/png": "[encoded data removed]",
      "text/plain": [
       "<Figure size 432x288 with 2 Axes>"
      ]
     },
     "metadata": {
      "needs_background": "light"
     },
     "output_type": "display_data"
    }
   ],
   "source": [
    "ConfusionMatrixDisplay.from_estimator(bag_clf_fs, x_test, y_test)"
   ]
  },
  {
   "cell_type": "markdown",
   "id": "da7ebe93",
   "metadata": {},
   "source": [
    "#### Same Confusion Matrix results as before"
   ]
  },
  {
   "cell_type": "markdown",
   "id": "4bbb7fe8",
   "metadata": {},
   "source": [
    "### Learning Curve"
   ]
  },
  {
   "cell_type": "code",
   "execution_count": 90,
   "id": "49299a27",
   "metadata": {
    "scrolled": false
   },
   "outputs": [
    {
     "data": {
      "image/png": "[encoded data removed]",
      "text/plain": [
       "<Figure size 432x288 with 1 Axes>"
      ]
     },
     "metadata": {
      "needs_background": "light"
     },
     "output_type": "display_data"
    }
   ],
   "source": [
    "train_sizes_model, train_scores_model, valid_scores_model, *_ =learning_curve(bag_clf_fs, overX, overY,cv=6,\n",
    "                    scoring='accuracy',n_jobs=-1)\n",
    "fig=plt.figure()\n",
    "ax=fig.add_axes([0,0,1,1])\n",
    "ax.scatter(x=train_sizes_model,y= train_scores_model.mean(axis=1), color='b')\n",
    "ax.scatter(x=train_sizes_model,y=valid_scores_model.mean(axis=1), color='r')\n",
    "ax.plot(train_sizes_model,train_scores_model.mean(axis=1), color='b')\n",
    "ax.plot(train_sizes_model,valid_scores_model.mean(axis=1), color='r')\n",
    "ax.set_xlabel('Training in blue, Testing in red')\n",
    "ax.set_ylabel('Accuracy')\n",
    "ax.set_title('Learning Curve')\n",
    "plt.show()"
   ]
  },
  {
   "cell_type": "markdown",
   "id": "b8010d37",
   "metadata": {},
   "source": [
    "#### Bagging Model with DT Classifier, with SMOTE, and Feature Selection learning curve"
   ]
  },
  {
   "cell_type": "code",
   "execution_count": 91,
   "id": "df71ffb0",
   "metadata": {},
   "outputs": [
    {
     "name": "stdout",
     "output_type": "stream",
     "text": [
      "MSE: 0.043\n",
      "Bias: 0.035\n",
      "Variance: 0.008\n"
     ]
    }
   ],
   "source": [
    "from mlxtend.evaluate import bias_variance_decomp\n",
    "#turning pandas df and pandas series into numpy arrays\n",
    "x_train_new,x_test_new,y_train_new,y_test_new = turnto(x_train,x_test,y_train,y_test)\n",
    "#bias/variance\n",
    "mse, bias, var = bias_variance_decomp\\\n",
    "(bag_clf_fs, x_train_new, y_train_new, x_test_new, y_test_new, loss='mse', num_rounds=20, random_seed=42)\n",
    "\n",
    "#values\n",
    "\n",
    "print('MSE: %.3f' % mse)\n",
    "print('Bias: %.3f' % bias)\n",
    "print('Variance: %.3f' % var)"
   ]
  },
  {
   "cell_type": "markdown",
   "id": "ea19f154",
   "metadata": {},
   "source": [
    "#### Converges at over 95%, no overfitting. Variance is still lower than bias, and bias is still at very low values"
   ]
  },
  {
   "cell_type": "markdown",
   "id": "9836b98f",
   "metadata": {},
   "source": [
    "#### Same as the previous model without FS. However, Bagging with DT is consistently being outperformed by RF."
   ]
  },
  {
   "cell_type": "markdown",
   "id": "76315c36",
   "metadata": {},
   "source": [
    "### Bagging (Random Forest)"
   ]
  },
  {
   "cell_type": "markdown",
   "id": "55c66b25",
   "metadata": {},
   "source": [
    "#### 4.3 Model Training"
   ]
  },
  {
   "cell_type": "markdown",
   "id": "184e561a",
   "metadata": {},
   "source": [
    "#### This model keeps running out of memory when I run it with RF's optimal parameters"
   ]
  },
  {
   "cell_type": "markdown",
   "id": "7ab1a5c7",
   "metadata": {},
   "source": [
    "RF_clf_fs = RandomForestClassifier(random_state=42)\n",
    "\n",
    "bag_rf_clf_fs = BaggingClassifier(\n",
    "    base_estimator= RF_clf_fs, n_estimators=bag_opt_est_rf,\n",
    "    max_samples=bag_opt_sam_rf, bootstrap=True, n_jobs=-1, random_state=42)\n",
    "bag_rf_clf_fs.fit(x_train, y_train)\n",
    "y_pred_bag_rf_s_fs = bag_clf_fs.predict(x_test)"
   ]
  },
  {
   "cell_type": "markdown",
   "id": "2d4a7308",
   "metadata": {},
   "source": [
    "#### this crashed so many times, it will not be counted in the comparison"
   ]
  },
  {
   "cell_type": "markdown",
   "id": "bc487648",
   "metadata": {},
   "source": [
    "#### 4.4 Model Testing"
   ]
  },
  {
   "cell_type": "markdown",
   "id": "f2b770e7",
   "metadata": {},
   "source": [
    "print(\"Bagging Ensemble Method Accuracy = \",metrics.accuracy_score(y_test, y_pred_bag_rf_s_fs))\n",
    "print(\"Bagging Ensemble Method F-Score = \",metrics.f1_score(y_test, y_pred_bag_rf_s_fs))\n",
    "print(\"Bagging Classification Report = \\n \",  metrics.classification_report(y_test,y_pred_bag_rf_s_fs))"
   ]
  },
  {
   "cell_type": "markdown",
   "id": "c280d8f0",
   "metadata": {},
   "source": [
    "RocCurveDisplay.from_estimator(bag_rf_clf_fs, x_test, y_test)\n",
    "plt.show()"
   ]
  },
  {
   "cell_type": "markdown",
   "id": "79713eb5",
   "metadata": {},
   "source": [
    "ConfusionMatrixDisplay.from_estimator(bag_rf_clf_fs, x_test, y_test)"
   ]
  },
  {
   "cell_type": "markdown",
   "id": "62fbd3db",
   "metadata": {},
   "source": [
    "### Bias/Variance, and learning curves for this particular model freeze up and do not work properly."
   ]
  },
  {
   "cell_type": "markdown",
   "id": "8b8e4f55",
   "metadata": {},
   "source": [
    "### Conclusion"
   ]
  },
  {
   "cell_type": "markdown",
   "id": "5344a81b",
   "metadata": {},
   "source": [
    "#### RF with no sampling and no FS : 97.3%\n",
    "\n",
    "#### RF with Oversampling =  97.3%\n",
    "\n",
    "#### RF with Undersampling =  97.3%\n",
    "\n",
    "#### RF with SMOTE and no FS : 97.3% (Best Individual Model)\n",
    "\n",
    "#### RF with SMOTE and FS : 97.1%\n",
    "\n",
    "#### Bagging with SMOTE and no FS (Decision Trees) : 96% (best Ensemble Model)\n",
    "\n",
    "#### Bagging with SMOTE and FS (Decision Trees) : 95.9%"
   ]
  },
  {
   "cell_type": "markdown",
   "id": "518fc501",
   "metadata": {},
   "source": [
    "#### Random Forest outperformed Bagging Methods in accuracy, and F1-Score. However, both were able to keep a higher FP:TP ratio, which is a good sign.\n",
    "\n",
    "#### One thing that was unexpected, was that a test was done outside of this notebook using the bagging method without SMOTE, and the model achieved the exact same accuracy as with SMOTE (95.9%). Based on this, a conclusion can be reached that SMOTE does not affect ensemble models like bagging.\n",
    "\n",
    "#### Another thing that was unexpected however, is that the best performing models are the Random Forest Classifier with no SMOTE resampling, and the three Random Forest Classifiers with all three tested resampling techniques. Feature Selection actually reduced the performance of the model slightly. So, in the case of random forest, it performs either similiarly or even better regardless of the steps taken to optimize it on a dataset. Also, this can be an indicator that the feature selection method used (correlation) was not suitable for this dataset.\n",
    "\n",
    "#### The Bagging with Random Forest without Feature Selection Model was the best ensemble model, reaching an accuracy of 96%. The Model with feature selection performed just about the same, further building a case that the feature selection method was unsuitable for this dataset."
   ]
  },
  {
   "cell_type": "markdown",
   "id": "9a46df2c",
   "metadata": {},
   "source": [
    "### Pipelining"
   ]
  },
  {
   "cell_type": "markdown",
   "id": "8411fd99",
   "metadata": {},
   "source": [
    "### Two models will be pipelined:\n",
    "\n",
    "#### 1. The best RF model\n",
    "\n",
    "#### 2. The best Bagging Model"
   ]
  },
  {
   "cell_type": "code",
   "execution_count": 92,
   "id": "ee69fe7f",
   "metadata": {},
   "outputs": [],
   "source": [
    "from imblearn.pipeline import Pipeline as imbPipeline"
   ]
  },
  {
   "cell_type": "markdown",
   "id": "845d5c74",
   "metadata": {},
   "source": [
    "### RF "
   ]
  },
  {
   "cell_type": "code",
   "execution_count": 93,
   "id": "9d084b2c",
   "metadata": {
    "scrolled": true
   },
   "outputs": [
    {
     "name": "stdout",
     "output_type": "stream",
     "text": [
      "ACC of model: 0.9719 with IMPipeLine \n"
     ]
    }
   ],
   "source": [
    "RF_PL=imbPipeline(steps=[('overSample',SMOTE(random_state=42)),\\\n",
    "                ('model', RandomForestClassifier(n_estimators=800,max_leaf_nodes=400, random_state=42))])\n",
    "RF_PL.fit(x_train,y_train)\n",
    "\n",
    "y_pred=RF_PL.predict(x_test)\n",
    "print(\"ACC of model: %.4f with IMPipeLine \"%metrics.accuracy_score(y_pred,y_test))"
   ]
  },
  {
   "cell_type": "markdown",
   "id": "de479d3b",
   "metadata": {},
   "source": [
    "### Bagging"
   ]
  },
  {
   "cell_type": "code",
   "execution_count": 94,
   "id": "c18c1a7e",
   "metadata": {},
   "outputs": [
    {
     "name": "stdout",
     "output_type": "stream",
     "text": [
      "ACC of model: 0.9597 with IMPipeLine \n"
     ]
    }
   ],
   "source": [
    "Bag_PL=imbPipeline(steps=[('overSample',SMOTE(random_state=42)),\\\n",
    "                ('model', BaggingClassifier(base_estimator = DecisionTreeClassifier(max_depth = 12,random_state=42),n_estimators=300,max_samples=800,random_state=42))])\n",
    "\n",
    "Bag_PL.fit(x_train,y_train)\n",
    "\n",
    "y_pred=Bag_PL.predict(x_test)\n",
    "print(\"ACC of model: %.4f with IMPipeLine \"%metrics.accuracy_score(y_pred,y_test))"
   ]
  },
  {
   "cell_type": "markdown",
   "id": "5a25cf21",
   "metadata": {},
   "source": [
    "#### 1. RF Model when optimized, will perform at 97.3% accuracy (it is written 97.1% because of the feature selection).\n",
    "\n",
    "#### 2. Bagging with DT Model when optimized, will perform at 95.9% accuracy"
   ]
  }
 ],
 "metadata": {
  "kernelspec": {
   "display_name": "Python 3 (ipykernel)",
   "language": "python",
   "name": "python3"
  },
  "language_info": {
   "codemirror_mode": {
    "name": "ipython",
    "version": 3
   },
   "file_extension": ".py",
   "mimetype": "text/x-python",
   "name": "python",
   "nbconvert_exporter": "python",
   "pygments_lexer": "ipython3",
   "version": "3.9.7"
  }
 },
 "nbformat": 4,
 "nbformat_minor": 5
}
